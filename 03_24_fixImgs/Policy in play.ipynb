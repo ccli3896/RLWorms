{
 "cells": [
  {
   "cell_type": "code",
   "execution_count": 1,
   "metadata": {},
   "outputs": [],
   "source": [
    "import numpy as np\n",
    "import pandas as pd\n",
    "import pickle\n",
    "import matplotlib.pyplot as plt\n",
    "import os\n",
    "from datetime import datetime\n",
    "from scipy.stats import norm\n",
    "\n",
    "import utils as ut\n",
    "from improc import *\n",
    "import worm_env as we\n",
    "import policy_time as pt\n",
    "import run_pol"
   ]
  },
  {
   "cell_type": "markdown",
   "metadata": {},
   "source": [
    "# R file: get_posterior_bart.R should be running simultaneously."
   ]
  },
  {
   "cell_type": "markdown",
   "metadata": {},
   "source": [
    "### First worm"
   ]
  },
  {
   "cell_type": "code",
   "execution_count": 2,
   "metadata": {},
   "outputs": [
    {
     "name": "stdout",
     "output_type": "stream",
     "text": [
      "Ep0\n",
      "\n",
      "Warning: when changing pixelclock at runtime, you may need to update the fps and exposure parameters\n",
      "Done resetting\t\n",
      "Saved as numpy for R\n",
      "Ep1\n",
      "\n",
      "Warning: when changing pixelclock at runtime, you may need to update the fps and exposure parameters\n",
      "Done resetting\t\n",
      "Saved as numpy for R\n",
      "Ep2\n",
      "\n",
      "Warning: when changing pixelclock at runtime, you may need to update the fps and exposure parameters\n",
      "Done resetting\t\n",
      "Saved as numpy for R\n",
      "Ep3\n",
      "\n",
      "Warning: when changing pixelclock at runtime, you may need to update the fps and exposure parameters\n",
      "Done resetting\t\n",
      "Saved as numpy for R\n",
      "Ep4\n",
      "\n",
      "Warning: when changing pixelclock at runtime, you may need to update the fps and exposure parameters\n",
      "Done resetting\t\n",
      "Saved as numpy for R\n",
      "Ep5\n",
      "\n",
      "Warning: when changing pixelclock at runtime, you may need to update the fps and exposure parameters\n",
      "Done resetting\t\n",
      "Saved as numpy for R\n",
      "Ep6\n",
      "\n",
      "Warning: when changing pixelclock at runtime, you may need to update the fps and exposure parameters\n",
      "Done resetting\t\n",
      "Saved as numpy for R\n",
      "Ep7\n",
      "\n",
      "Warning: when changing pixelclock at runtime, you may need to update the fps and exposure parameters\n",
      "Done resetting\t\n",
      "Saved as numpy for R\n",
      "Ep8\n",
      "\n",
      "Warning: when changing pixelclock at runtime, you may need to update the fps and exposure parameters\n",
      "Done resetting\t\n",
      "Saved as numpy for R\n",
      "Ep9\n",
      "\n",
      "Warning: when changing pixelclock at runtime, you may need to update the fps and exposure parameters\n",
      "Done resetting\t\n",
      "Saved as numpy for R\n"
     ]
    }
   ],
   "source": [
    "folder = './Data/03_24_2/'\n",
    "run_pol.gen_pol_collection(0,folder,episodes=10,ep_len=3*60,light_limit=.2) "
   ]
  },
  {
   "cell_type": "code",
   "execution_count": null,
   "metadata": {},
   "outputs": [],
   "source": []
  }
 ],
 "metadata": {
  "kernelspec": {
   "display_name": "rlkit",
   "language": "python",
   "name": "rlkit"
  },
  "language_info": {
   "codemirror_mode": {
    "name": "ipython",
    "version": 3
   },
   "file_extension": ".py",
   "mimetype": "text/x-python",
   "name": "python",
   "nbconvert_exporter": "python",
   "pygments_lexer": "ipython3",
   "version": "3.8.5"
  }
 },
 "nbformat": 4,
 "nbformat_minor": 4
}
