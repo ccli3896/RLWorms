{
 "cells": [
  {
   "cell_type": "code",
   "execution_count": 1,
   "id": "sonic-relations",
   "metadata": {},
   "outputs": [],
   "source": [
    "import numpy as np\n",
    "import pandas as pd\n",
    "import pickle\n",
    "import matplotlib.pyplot as plt\n",
    "import os\n",
    "from datetime import datetime\n",
    "from scipy.stats import norm\n",
    "\n",
    "import utils as ut\n",
    "from improc import *\n",
    "import worm_env as we\n",
    "import policy_time as pt"
   ]
  },
  {
   "cell_type": "code",
   "execution_count": 198,
   "id": "joint-healing",
   "metadata": {},
   "outputs": [],
   "source": [
    "# Goal: write a function that takes a dataframe and rotates all the coordinates.\n",
    "def get_ring_inds(shape):\n",
    "    # Takes a matrix shape and returns a list of indices for the outer perimeter.\n",
    "    indmap = []\n",
    "    shape = np.array(shape)\n",
    "    \n",
    "    indmap.append([0,0])\n",
    "    for i in np.arange(shape[1]-2)+1:\n",
    "        indmap.append([0,i])\n",
    "        \n",
    "    indmap.append([0,shape[1]-1])\n",
    "    for i in np.arange(shape[0]-2)+1:\n",
    "        indmap.append([i,shape[1]-1])\n",
    "        \n",
    "    indmap.append([shape[0]-1,shape[1]-1])\n",
    "    for i in np.arange(shape[1]-2)+1:\n",
    "        indmap.append([shape[0]-1,shape[1]-1-i])\n",
    "        \n",
    "    indmap.append([shape[0]-1,0])\n",
    "    for i in np.arange(shape[0]-2)+1:\n",
    "        indmap.append([shape[0]-1-i,0])\n",
    "    return np.array(indmap)\n",
    "\n",
    "def make_dict(radius):\n",
    "    # Makes a dict that rotates an index by about 45 degrees.\n",
    "    inddict = {}\n",
    "    shift = 0\n",
    "    while radius > 0:\n",
    "        indmap = get_ring_inds((radius*2,radius*2)) + shift\n",
    "        for i,ind in enumerate(indmap):\n",
    "            inddict[tuple(ind)] = tuple(indmap[i-radius])\n",
    "        radius -= 1\n",
    "        shift += 1\n",
    "    return {v:k for k,v in inddict.items()}"
   ]
  },
  {
   "cell_type": "code",
   "execution_count": 199,
   "id": "turned-zoning",
   "metadata": {},
   "outputs": [],
   "source": [
    "indmap = make_dict(6)"
   ]
  },
  {
   "cell_type": "code",
   "execution_count": 200,
   "id": "selected-treat",
   "metadata": {},
   "outputs": [
    {
     "data": {
      "text/plain": [
       "<matplotlib.image.AxesImage at 0x2a73920c760>"
      ]
     },
     "execution_count": 200,
     "metadata": {},
     "output_type": "execute_result"
    },
    {
     "data": {
      "image/png": "[encoded data removed]",
      "text/plain": [
       "<Figure size 432x288 with 1 Axes>"
      ]
     },
     "metadata": {
      "needs_background": "light"
     },
     "output_type": "display_data"
    }
   ],
   "source": [
    "# Make the old deterministic policy with a marker\n",
    "detpol = np.zeros((12,12))\n",
    "detpol[6:,:6]+=1\n",
    "detpol[:6,6:]+=1\n",
    "detpol[8,8]+=1\n",
    "plt.imshow(detpol)"
   ]
  },
  {
   "cell_type": "code",
   "execution_count": 201,
   "id": "broadband-creativity",
   "metadata": {},
   "outputs": [],
   "source": [
    "# Turn it into a BART-friendly indexed matrix\n",
    "detwind = np.zeros((144,3))\n",
    "for i in range(12):\n",
    "    for j in range(12):\n",
    "        ind = i*12+j\n",
    "        detwind[ind,:] = i,j,detpol[i,j]"
   ]
  },
  {
   "cell_type": "code",
   "execution_count": 202,
   "id": "desirable-settle",
   "metadata": {},
   "outputs": [],
   "source": [
    "# Use the rotation dictionary to rotate the policy\n",
    "new_detwind = np.zeros((144,3))\n",
    "for i,d in enumerate(detwind):\n",
    "    new_detwind[i,:] = *indmap[tuple(d[:2])],d[2]"
   ]
  },
  {
   "cell_type": "code",
   "execution_count": 203,
   "id": "civic-madness",
   "metadata": {},
   "outputs": [
    {
     "data": {
      "text/plain": [
       "(-0.55, 11.55, -11.55, 0.5500000000000007)"
      ]
     },
     "execution_count": 203,
     "metadata": {},
     "output_type": "execute_result"
    },
    {
     "data": {
      "image/png": "[encoded data removed]",
      "text/plain": [
       "<Figure size 432x288 with 1 Axes>"
      ]
     },
     "metadata": {
      "needs_background": "light"
     },
     "output_type": "display_data"
    }
   ],
   "source": [
    "# Show rotated matrix\n",
    "plt.scatter(new_detwind[:,0],-new_detwind[:,1],c=new_detwind[:,2],marker='s',s=300)\n",
    "plt.axis('square')"
   ]
  },
  {
   "cell_type": "code",
   "execution_count": 204,
   "id": "piano-flesh",
   "metadata": {},
   "outputs": [],
   "source": [
    "fname = './Data/03_29_0/traj9.npy'\n",
    "traj = np.load(fname)"
   ]
  },
  {
   "cell_type": "code",
   "execution_count": 205,
   "id": "floppy-black",
   "metadata": {},
   "outputs": [],
   "source": [
    "traj_rot = traj.copy()\n",
    "for i,t in enumerate(traj):\n",
    "    traj_rot[i,:2] = indmap[tuple(t[:2]-1)]"
   ]
  },
  {
   "cell_type": "code",
   "execution_count": 206,
   "id": "decimal-joining",
   "metadata": {},
   "outputs": [],
   "source": [
    "np.save('./Data/03_29_0/traj9rot.npy',traj_rot)"
   ]
  },
  {
   "cell_type": "code",
   "execution_count": 212,
   "id": "initial-amazon",
   "metadata": {},
   "outputs": [
    {
     "data": {
      "image/png": "[encoded data removed]",
      "text/plain": [
       "<Figure size 432x288 with 2 Axes>"
      ]
     },
     "metadata": {
      "needs_background": "light"
     },
     "output_type": "display_data"
    }
   ],
   "source": [
    "# Show original\n",
    "plt.scatter(traj[:50,1],-traj[:50,0],c=traj[:50,2],marker='s',s=300)\n",
    "plt.axis('square');\n",
    "plt.xlim([0,12])\n",
    "plt.ylim([0,-12])\n",
    "plt.colorbar();"
   ]
  },
  {
   "cell_type": "code",
   "execution_count": 213,
   "id": "adjustable-concrete",
   "metadata": {},
   "outputs": [
    {
     "data": {
      "image/png": "[encoded data removed]",
      "text/plain": [
       "<Figure size 432x288 with 2 Axes>"
      ]
     },
     "metadata": {
      "needs_background": "light"
     },
     "output_type": "display_data"
    }
   ],
   "source": [
    "# Show rotated matrix\n",
    "plt.scatter(traj_rot[:50,1],-traj_rot[:50,0],c=traj_rot[:50,2],marker='s',s=300)\n",
    "plt.axis('square')\n",
    "plt.xlim([0,12])\n",
    "plt.ylim([0,-12])\n",
    "plt.colorbar();"
   ]
  },
  {
   "cell_type": "markdown",
   "id": "binary-interaction",
   "metadata": {},
   "source": [
    "# Bart results:"
   ]
  },
  {
   "cell_type": "markdown",
   "id": "dressed-contact",
   "metadata": {},
   "source": [
    "varprobs: \n",
    "\n",
    "| which | pos_1 | pos_2 |\n",
    "|---|---|---|\n",
    "| 0.1157183 | 0.4793551 | 0.4049266 "
   ]
  },
  {
   "cell_type": "code",
   "execution_count": 134,
   "id": "rotary-convertible",
   "metadata": {},
   "outputs": [],
   "source": [
    "def get_bart_stats(bart):\n",
    "    # Takes output of bart or sbart from R.\n",
    "    b_diff = bart[:,1::2] - bart[:,::2]\n",
    "    b_mu = np.mean(b_diff,axis=0).reshape(12,12)\n",
    "    b_std = np.std(b_diff,axis=0).reshape(12,12)\n",
    "    return b_diff,b_mu,b_std"
   ]
  },
  {
   "cell_type": "code",
   "execution_count": 398,
   "id": "suffering-driving",
   "metadata": {},
   "outputs": [],
   "source": [
    "bart = np.load('./Data/03_29_0/bartrot9.npy')"
   ]
  },
  {
   "cell_type": "code",
   "execution_count": 399,
   "id": "contemporary-yield",
   "metadata": {},
   "outputs": [],
   "source": [
    "bd,bmu,bsig = get_bart_stats(bart)"
   ]
  },
  {
   "cell_type": "code",
   "execution_count": 400,
   "id": "handmade-munich",
   "metadata": {},
   "outputs": [
    {
     "data": {
      "image/png": "[encoded data removed]",
      "text/plain": [
       "<Figure size 720x288 with 4 Axes>"
      ]
     },
     "metadata": {
      "needs_background": "light"
     },
     "output_type": "display_data"
    }
   ],
   "source": [
    "fig,ax = plt.subplots(1,2)\n",
    "fig.set_size_inches((10,4))\n",
    "b_st = [bmu,bsig]\n",
    "for i in range(2):\n",
    "    img = ax[i].imshow(b_st[i])\n",
    "    plt.colorbar(img,ax=ax[i])\n",
    "    ax[i].set_xticks([])\n",
    "    ax[i].set_yticks([]);\n",
    "    ax[i].set_xlabel('Head angle')\n",
    "    ax[i].set_ylabel('Body angle');"
   ]
  },
  {
   "cell_type": "code",
   "execution_count": 402,
   "id": "uniform-december",
   "metadata": {},
   "outputs": [
    {
     "data": {
      "image/png": "[encoded data removed]",
      "text/plain": [
       "<Figure size 432x288 with 1 Axes>"
      ]
     },
     "metadata": {},
     "output_type": "display_data"
    }
   ],
   "source": [
    "plt.imshow(np.sign(bmu))\n",
    "plt.xticks([])\n",
    "plt.yticks([]);\n",
    "plt.xlabel('Head angle')\n",
    "plt.ylabel('Body angle');"
   ]
  },
  {
   "cell_type": "code",
   "execution_count": 392,
   "id": "removed-anchor",
   "metadata": {},
   "outputs": [],
   "source": [
    "rotdf = pd.DataFrame(traj_rot)\n",
    "roton = rotdf[rotdf[3]==1]\n",
    "rotoff = rotdf[rotdf[3]==0]"
   ]
  },
  {
   "cell_type": "code",
   "execution_count": 393,
   "id": "unauthorized-violation",
   "metadata": {},
   "outputs": [],
   "source": [
    "groupedon = roton.groupby([0,1]).agg('mean').reset_index()\n",
    "groupedoff = rotoff.groupby([0,1]).agg('mean').reset_index()"
   ]
  },
  {
   "cell_type": "code",
   "execution_count": 394,
   "id": "continuous-debut",
   "metadata": {},
   "outputs": [
    {
     "data": {
      "image/png": "[encoded data removed]",
      "text/plain": [
       "<Figure size 432x288 with 2 Axes>"
      ]
     },
     "metadata": {
      "needs_background": "light"
     },
     "output_type": "display_data"
    }
   ],
   "source": [
    "grouped = groupedon\n",
    "on_arr = np.zeros((12,12))\n",
    "col = plt.cm.viridis((grouped[2]+20)/40)   \n",
    "for i in range(len(grouped)):\n",
    "    plt.scatter(grouped.iloc[i][1],-grouped.iloc[i][0],color=col[i],s=200,marker='s')\n",
    "    on_arr[int(grouped.iloc[i][0]),int(grouped.iloc[i][1])] = grouped.iloc[i][2]\n",
    "plt.colorbar();\n",
    "plt.axis('square');\n",
    "plt.xticks([])\n",
    "plt.yticks([]);\n",
    "plt.xlabel('Head angle')\n",
    "plt.ylabel('Body angle');"
   ]
  },
  {
   "cell_type": "code",
   "execution_count": 342,
   "id": "expressed-bargain",
   "metadata": {},
   "outputs": [
    {
     "data": {
      "text/plain": [
       "([], [])"
      ]
     },
     "execution_count": 342,
     "metadata": {},
     "output_type": "execute_result"
    },
    {
     "data": {
      "image/png": "[encoded data removed]",
      "text/plain": [
       "<Figure size 432x288 with 1 Axes>"
      ]
     },
     "metadata": {},
     "output_type": "display_data"
    }
   ],
   "source": [
    "plt.imshow(on_arr)\n",
    "plt.xticks([])\n",
    "plt.yticks([])"
   ]
  },
  {
   "cell_type": "code",
   "execution_count": 395,
   "id": "blocked-coverage",
   "metadata": {},
   "outputs": [
    {
     "data": {
      "image/png": "[encoded data removed]",
      "text/plain": [
       "<Figure size 432x288 with 2 Axes>"
      ]
     },
     "metadata": {
      "needs_background": "light"
     },
     "output_type": "display_data"
    }
   ],
   "source": [
    "grouped = groupedoff\n",
    "off_arr = np.zeros((12,12))\n",
    "col = plt.cm.viridis((grouped[2]+20)/40)   \n",
    "for i in range(len(grouped)):\n",
    "    plt.scatter(grouped.iloc[i][1],-grouped.iloc[i][0],color=col[i],s=200,marker='s')\n",
    "    off_arr[int(grouped.iloc[i][0]),int(grouped.iloc[i][1])] = grouped.iloc[i][2]\n",
    "plt.colorbar();\n",
    "plt.axis('square');\n",
    "plt.xticks([]);\n",
    "plt.yticks([]);\n",
    "plt.xlabel('Head angle')\n",
    "plt.ylabel('Body angle');"
   ]
  },
  {
   "cell_type": "code",
   "execution_count": 396,
   "id": "speaking-charlotte",
   "metadata": {},
   "outputs": [
    {
     "data": {
      "image/png": "[encoded data removed]",
      "text/plain": [
       "<Figure size 432x288 with 2 Axes>"
      ]
     },
     "metadata": {
      "needs_background": "light"
     },
     "output_type": "display_data"
    }
   ],
   "source": [
    "img = np.sign(on_arr-off_arr)\n",
    "img[img==0] = np.nan\n",
    "plt.imshow(img)\n",
    "plt.colorbar();\n",
    "plt.xticks([])\n",
    "plt.yticks([]);\n",
    "plt.xlabel('Head angle')\n",
    "plt.ylabel('Body angle');"
   ]
  },
  {
   "cell_type": "markdown",
   "id": "historical-sharing",
   "metadata": {},
   "source": [
    "### Unrotated"
   ]
  },
  {
   "cell_type": "code",
   "execution_count": 368,
   "id": "smooth-vaccine",
   "metadata": {},
   "outputs": [],
   "source": [
    "rotdf = pd.DataFrame(traj)\n",
    "roton = rotdf[rotdf[3]==1]\n",
    "rotoff = rotdf[rotdf[3]==0]"
   ]
  },
  {
   "cell_type": "code",
   "execution_count": 369,
   "id": "excessive-roulette",
   "metadata": {},
   "outputs": [],
   "source": [
    "groupedon = roton.groupby([0,1]).agg('mean').reset_index()\n",
    "groupedoff = rotoff.groupby([0,1]).agg('mean').reset_index()"
   ]
  },
  {
   "cell_type": "code",
   "execution_count": 370,
   "id": "collective-meditation",
   "metadata": {},
   "outputs": [
    {
     "name": "stdout",
     "output_type": "stream",
     "text": [
      "17.607917163017845 -22.441816373679853\n",
      "20.115991467191407 -21.426775632345052\n"
     ]
    }
   ],
   "source": [
    "print(np.max(groupedon[2]),np.min(groupedon[2]))\n",
    "print(np.max(groupedoff[2]),np.min(groupedoff[2]))"
   ]
  },
  {
   "cell_type": "code",
   "execution_count": 389,
   "id": "polish-aquatic",
   "metadata": {},
   "outputs": [
    {
     "data": {
      "text/plain": [
       "Text(0.5, 1.0, 'Light on')"
      ]
     },
     "execution_count": 389,
     "metadata": {},
     "output_type": "execute_result"
    },
    {
     "data": {
      "image/png": "[encoded data removed]",
      "text/plain": [
       "<Figure size 432x288 with 2 Axes>"
      ]
     },
     "metadata": {
      "needs_background": "light"
     },
     "output_type": "display_data"
    }
   ],
   "source": [
    "grouped = groupedon\n",
    "on_arr = np.zeros((12,12))\n",
    "col = plt.cm.viridis((grouped[2]+20)/40)   \n",
    "for i in range(len(grouped)):\n",
    "    plt.scatter(grouped.iloc[i][1]-1,-(grouped.iloc[i][0]-1),color=col[i],s=200,marker='s')\n",
    "    on_arr[int(grouped.iloc[i][0])-1,int(grouped.iloc[i][1])-1] = grouped.iloc[i][2]\n",
    "plt.colorbar();\n",
    "plt.axis('square');\n",
    "plt.xticks([])\n",
    "plt.yticks([]);\n",
    "plt.xlabel('Head angle')\n",
    "plt.ylabel('Body angle');\n",
    "plt.title('Light on')"
   ]
  },
  {
   "cell_type": "code",
   "execution_count": 322,
   "id": "worthy-sitting",
   "metadata": {},
   "outputs": [
    {
     "data": {
      "text/plain": [
       "<matplotlib.image.AxesImage at 0x2a737aba910>"
      ]
     },
     "execution_count": 322,
     "metadata": {},
     "output_type": "execute_result"
    },
    {
     "data": {
      "image/png": "[encoded data removed]",
      "text/plain": [
       "<Figure size 432x288 with 1 Axes>"
      ]
     },
     "metadata": {
      "needs_background": "light"
     },
     "output_type": "display_data"
    }
   ],
   "source": [
    "plt.imshow(on_arr)"
   ]
  },
  {
   "cell_type": "code",
   "execution_count": 388,
   "id": "acute-pension",
   "metadata": {},
   "outputs": [
    {
     "data": {
      "text/plain": [
       "Text(0.5, 1.0, 'Light off')"
      ]
     },
     "execution_count": 388,
     "metadata": {},
     "output_type": "execute_result"
    },
    {
     "data": {
      "image/png": "[encoded data removed]",
      "text/plain": [
       "<Figure size 432x288 with 2 Axes>"
      ]
     },
     "metadata": {
      "needs_background": "light"
     },
     "output_type": "display_data"
    }
   ],
   "source": [
    "grouped = groupedoff\n",
    "off_arr = np.zeros((12,12))\n",
    "col = plt.cm.viridis((grouped[2]+20)/40)   \n",
    "for i in range(len(grouped)):\n",
    "    plt.scatter(grouped.iloc[i][1]-1,-(grouped.iloc[i][0]-1),color=col[i],s=200,marker='s')\n",
    "    off_arr[int(grouped.iloc[i][0])-1,int(grouped.iloc[i][1])-1] = grouped.iloc[i][2]\n",
    "plt.colorbar();\n",
    "plt.axis('square');\n",
    "plt.xticks([])\n",
    "plt.yticks([]);\n",
    "plt.xlabel('Head angle')\n",
    "plt.ylabel('Body angle');\n",
    "plt.title('Light off')"
   ]
  },
  {
   "cell_type": "code",
   "execution_count": 328,
   "id": "moral-basement",
   "metadata": {},
   "outputs": [
    {
     "data": {
      "text/plain": [
       "<matplotlib.image.AxesImage at 0x2a73ae6b7c0>"
      ]
     },
     "execution_count": 328,
     "metadata": {},
     "output_type": "execute_result"
    },
    {
     "data": {
      "image/png": "[encoded data removed]",
      "text/plain": [
       "<Figure size 432x288 with 1 Axes>"
      ]
     },
     "metadata": {
      "needs_background": "light"
     },
     "output_type": "display_data"
    }
   ],
   "source": [
    "plt.imshow(off_arr)"
   ]
  },
  {
   "cell_type": "code",
   "execution_count": 387,
   "id": "vulnerable-protein",
   "metadata": {},
   "outputs": [
    {
     "data": {
      "image/png": "[encoded data removed]",
      "text/plain": [
       "<Figure size 432x288 with 2 Axes>"
      ]
     },
     "metadata": {
      "needs_background": "light"
     },
     "output_type": "display_data"
    }
   ],
   "source": [
    "img = np.sign(on_arr-off_arr)\n",
    "img[img==0] = np.nan\n",
    "plt.imshow(img)\n",
    "plt.colorbar();\n",
    "plt.xticks([])\n",
    "plt.yticks([]);\n",
    "plt.xlabel('Head angle')\n",
    "plt.ylabel('Body angle');"
   ]
  },
  {
   "cell_type": "markdown",
   "id": "alleged-intervention",
   "metadata": {},
   "source": [
    "varprobs: \n",
    "\n",
    "| which | pos_1 | pos_2 |\n",
    "|---|---|---|\n",
    "| 0.1039080 | 0.5403849 | 0.3557071 |"
   ]
  },
  {
   "cell_type": "code",
   "execution_count": 377,
   "id": "electronic-firmware",
   "metadata": {},
   "outputs": [],
   "source": [
    "bart = np.load('./Data/03_29_0/barttest9.npy')"
   ]
  },
  {
   "cell_type": "code",
   "execution_count": 378,
   "id": "environmental-robert",
   "metadata": {},
   "outputs": [],
   "source": [
    "bd,bmu,bsig = get_bart_stats(bart)"
   ]
  },
  {
   "cell_type": "code",
   "execution_count": 386,
   "id": "aerial-malaysia",
   "metadata": {},
   "outputs": [
    {
     "data": {
      "image/png": "[encoded data removed]",
      "text/plain": [
       "<Figure size 576x288 with 4 Axes>"
      ]
     },
     "metadata": {
      "needs_background": "light"
     },
     "output_type": "display_data"
    }
   ],
   "source": [
    "fig,ax = plt.subplots(1,2)\n",
    "fig.set_size_inches((8,4))\n",
    "b_st = [bmu,bsig]\n",
    "for i in range(2):\n",
    "    img = ax[i].imshow(b_st[i])\n",
    "    plt.colorbar(img,ax=ax[i])\n",
    "    ax[i].set_xticks([])\n",
    "    ax[i].set_yticks([]);\n",
    "    ax[i].set_xlabel('Head angle')\n",
    "    ax[i].set_ylabel('Body angle');"
   ]
  },
  {
   "cell_type": "code",
   "execution_count": 390,
   "id": "chicken-administrator",
   "metadata": {
    "scrolled": true
   },
   "outputs": [
    {
     "data": {
      "image/png": "[encoded data removed]",
      "text/plain": [
       "<Figure size 432x288 with 1 Axes>"
      ]
     },
     "metadata": {},
     "output_type": "display_data"
    }
   ],
   "source": [
    "#plt.figure(figsize=(2,2))\n",
    "plt.imshow(np.sign(bmu))\n",
    "plt.xticks([])\n",
    "plt.yticks([])\n",
    "plt.xlabel('Head angle')\n",
    "plt.ylabel('Body angle');"
   ]
  },
  {
   "cell_type": "markdown",
   "id": "changing-institution",
   "metadata": {},
   "source": [
    "# Features"
   ]
  },
  {
   "cell_type": "code",
   "execution_count": 360,
   "id": "paperback-tamil",
   "metadata": {},
   "outputs": [],
   "source": [
    "darts = np.array([\n",
    "    0.0760626, 0.8007254, 0.1232120, \n",
    "    0.03950637, 0.73403097, 0.22646266, \n",
    "    0.02794029, 0.70856799, 0.26349173 ,\n",
    "    0.06681464, 0.67959950, 0.25358586,\n",
    "    0.09408135 ,0.59970736 ,0.30621129 ,\n",
    "    0.1185039 ,0.6052768 ,0.2762193 ,\n",
    "    0.1040186 ,0.6103571 ,0.2856243,\n",
    "    0.1098154 ,0.5597758 ,0.3304088 ,\n",
    "    0.1115956 ,0.5215856 ,0.3668188 ,\n",
    "    0.1006999 ,0.5887375 ,0.3105626 ,\n",
    "])\n",
    "darts_ = np.array([\n",
    "    0,0.9840543,0.0159457,\n",
    "    0,0.91349733,0.08650267,\n",
    "    0,0.93896705, 0.06103295 ,\n",
    "    0,0.8250622, 0.1749378 ,\n",
    "    0,0.7575651, 0.2424349 ,\n",
    "])"
   ]
  },
  {
   "cell_type": "code",
   "execution_count": 366,
   "id": "outstanding-clause",
   "metadata": {},
   "outputs": [
    {
     "data": {
      "image/png": "[encoded data removed]",
      "text/plain": [
       "<Figure size 432x288 with 1 Axes>"
      ]
     },
     "metadata": {
      "needs_background": "light"
     },
     "output_type": "display_data"
    }
   ],
   "source": [
    "darts = darts.reshape(-1,3)\n",
    "[plt.scatter(range(10),darts[:,i]) for i in range(3)]\n",
    "plt.legend(['Light','Body angle','Head angle']);\n",
    "plt.xlabel('Time (min)')\n",
    "plt.xticks(range(10),np.arange(0,30,3));\n",
    "plt.ylabel('Proportion of tree splits');\n",
    "plt.grid();\n",
    "plt.ylim([0,1]);"
   ]
  },
  {
   "cell_type": "code",
   "execution_count": 367,
   "id": "subsequent-daisy",
   "metadata": {},
   "outputs": [
    {
     "data": {
      "image/png": "[encoded data removed]",
      "text/plain": [
       "<Figure size 432x288 with 1 Axes>"
      ]
     },
     "metadata": {
      "needs_background": "light"
     },
     "output_type": "display_data"
    }
   ],
   "source": [
    "darts_ = darts_.reshape(-1,3)\n",
    "[plt.scatter(range(5),darts_[:,i]) for i in range(3)]\n",
    "plt.legend(['Light','Body angle','Head angle']);\n",
    "plt.xlabel('Time (min)')\n",
    "plt.xticks(range(5),np.arange(0,15,3));\n",
    "plt.ylabel('Proportion of tree splits');\n",
    "plt.grid();\n",
    "plt.ylim([0,1]);"
   ]
  },
  {
   "cell_type": "code",
   "execution_count": null,
   "id": "democratic-stuff",
   "metadata": {},
   "outputs": [],
   "source": []
  }
 ],
 "metadata": {
  "kernelspec": {
   "display_name": "r919",
   "language": "python",
   "name": "r919"
  },
  "language_info": {
   "codemirror_mode": {
    "name": "ipython",
    "version": 3
   },
   "file_extension": ".py",
   "mimetype": "text/x-python",
   "name": "python",
   "nbconvert_exporter": "python",
   "pygments_lexer": "ipython3",
   "version": "3.8.8"
  }
 },
 "nbformat": 4,
 "nbformat_minor": 5
}
