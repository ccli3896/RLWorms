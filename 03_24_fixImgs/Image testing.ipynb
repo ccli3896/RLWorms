{
 "cells": [
  {
   "cell_type": "code",
   "execution_count": 103,
   "id": "rotary-happiness",
   "metadata": {},
   "outputs": [],
   "source": [
    "import numpy as np\n",
    "import cv2\n",
    "import matplotlib.pyplot as plt\n",
    "\n",
    "from improc import *"
   ]
  },
  {
   "cell_type": "code",
   "execution_count": 104,
   "id": "hairy-estate",
   "metadata": {},
   "outputs": [],
   "source": [
    "ims = []\n",
    "for i in range(7):\n",
    "    ims.append(cv2.imread(f'im{i}.jpg',0))\n",
    "bg = np.mean(np.array(ims),axis=0)"
   ]
  },
  {
   "cell_type": "code",
   "execution_count": 105,
   "id": "linear-ready",
   "metadata": {},
   "outputs": [],
   "source": [
    "bg = cv2.imread('background.jpg',0)"
   ]
  },
  {
   "cell_type": "code",
   "execution_count": 106,
   "id": "eight-questionnaire",
   "metadata": {},
   "outputs": [
    {
     "data": {
      "text/plain": [
       "(1024, 1280)"
      ]
     },
     "execution_count": 106,
     "metadata": {},
     "output_type": "execute_result"
    }
   ],
   "source": [
    "bg.shape"
   ]
  },
  {
   "cell_type": "code",
   "execution_count": 132,
   "id": "designed-adobe",
   "metadata": {},
   "outputs": [],
   "source": [
    "for i in range(7):\n",
    "    img = cv2.subtract(ims[i],bg)\n",
    "    cv2.imwrite(f'im{i}sub.jpg',img)"
   ]
  },
  {
   "cell_type": "code",
   "execution_count": 155,
   "id": "cognitive-suicide",
   "metadata": {},
   "outputs": [],
   "source": [
    "img = cv2.imread('im0sub.jpg',0)\n",
    "_,thresh = cv2.threshold(img, 20, 255, cv2.THRESH_BINARY)\n",
    "worm = find_worm_boxes(thresh,buffer=30,brightness=2000)[1][0]"
   ]
  },
  {
   "cell_type": "code",
   "execution_count": 186,
   "id": "ethical-instrument",
   "metadata": {},
   "outputs": [],
   "source": [
    "def find_peaks(sum_vec,max_worms=3):\n",
    "    # Finds local maxima that are high enough to probably be a worm/bright spot\n",
    "    mu = np.mean(sum_vec)\n",
    "    sig = np.std(sum_vec)\n",
    "\n",
    "    peaks = []\n",
    "    num_worms = 0\n",
    "    while np.max(sum_vec) > mu+sig and num_worms<max_worms:\n",
    "        peaks.append(np.argmax(sum_vec))\n",
    "        low_ind = np.max([0,peaks[-1]-buffer])\n",
    "        high_ind = np.min([peaks[-1]+buffer,len(sum_vec)])\n",
    "        sum_vec[low_ind:high_ind] = np.zeros(high_ind-low_ind)\n",
    "        num_worms+=1\n",
    "    return peaks\n",
    "\n",
    "brightness = 2000\n",
    "buffer = 20\n",
    "im = img\n",
    "if len(im.shape)>2:\n",
    "    im = im[:,:,0]\n",
    "threshold = 20\n",
    "ret,thresh = cv2.threshold(im,threshold,255,0)\n",
    "\n",
    "# First finds proposal spots\n",
    "peaks_x = find_peaks(np.sum(thresh,axis=0))\n",
    "peaks_y = find_peaks(np.sum(thresh,axis=1))\n",
    "p_worms = []\n",
    "t_worms = []\n",
    "for i in peaks_x:\n",
    "    for j in peaks_y:\n",
    "        p_worms.append(im[int(j-buffer):int(j+buffer+1),int(i-buffer):int(i+buffer+1)])\n",
    "        # Makes worm box centered on peak brightness with [buffer] pixels on either side.\n",
    "        t_worms.append(thresh[int(j-buffer):int(j+buffer+1),int(i-buffer):int(i+buffer+1)])\n",
    "        # Makes thresholded worm box for loc\n",
    "\n",
    "# Checks proposal boxes and throws out ones that probably don't have worms\n",
    "worms = []\n",
    "centers = []\n",
    "peak_centers = []\n",
    "for i,worm in enumerate(p_worms):\n",
    "    if sum(worm.flatten())>brightness: \n",
    "        # Saves centers as COM in found box\n",
    "        sumx,sumy = np.sum(t_worms[i],axis=0)+1e-6,np.sum(t_worms[i],axis=1)+1e-6\n",
    "        im_sz = buffer*2+1\n",
    "        centers.append(np.array([np.sum(np.arange(im_sz)*sumx) / np.sum(sumx), np.sum(np.arange(im_sz)*sumy) / np.sum(sumy)]))\n",
    "        peak_centers.append(np.array([peaks_x[i//len(peaks_y)],peaks_y[i%len(peaks_y)]]))\n",
    "        centers[-1] = centers[-1]+peak_centers[-1]-buffer\n",
    "        worms.append(worm)\n",
    "# Sort by loc on x axis\n",
    "if len(centers)>1:\n",
    "    c_ind = np.argsort(np.array(centers)[:,0]).tolist()\n",
    "    centers = [x for _,x in sorted(zip(c_ind,centers))]\n",
    "    peak_centers = [x for _,x in sorted(zip(c_ind,peak_centers))]\n",
    "    worms = [x for _,x in sorted(zip(c_ind,worms))]\n"
   ]
  },
  {
   "cell_type": "code",
   "execution_count": 187,
   "id": "persistent-entry",
   "metadata": {},
   "outputs": [
    {
     "data": {
      "text/plain": [
       "3"
      ]
     },
     "execution_count": 187,
     "metadata": {},
     "output_type": "execute_result"
    }
   ],
   "source": [
    "len(worms)"
   ]
  },
  {
   "cell_type": "code",
   "execution_count": 190,
   "id": "dried-brief",
   "metadata": {},
   "outputs": [
    {
     "data": {
      "text/plain": [
       "<matplotlib.image.AxesImage at 0x1cf352b1820>"
      ]
     },
     "execution_count": 190,
     "metadata": {},
     "output_type": "execute_result"
    },
    {
     "data": {
      "image/png": "[encoded data removed]",
      "text/plain": [
       "<Figure size 432x288 with 1 Axes>"
      ]
     },
     "metadata": {
      "needs_background": "light"
     },
     "output_type": "display_data"
    }
   ],
   "source": [
    "plt.imshow(worms[0])"
   ]
  },
  {
   "cell_type": "code",
   "execution_count": 285,
   "id": "combined-reporter",
   "metadata": {},
   "outputs": [
    {
     "data": {
      "text/plain": [
       "<matplotlib.image.AxesImage at 0x1cf37abddf0>"
      ]
     },
     "execution_count": 285,
     "metadata": {},
     "output_type": "execute_result"
    },
    {
     "data": {
      "image/png": "[encoded data removed]",
      "text/plain": [
       "<Figure size 432x288 with 1 Axes>"
      ]
     },
     "metadata": {
      "needs_background": "light"
     },
     "output_type": "display_data"
    }
   ],
   "source": [
    "plt.imshow(thresh)"
   ]
  },
  {
   "cell_type": "code",
   "execution_count": 287,
   "id": "steady-stranger",
   "metadata": {},
   "outputs": [
    {
     "data": {
      "text/plain": [
       "(14.7, 24.599999999999998, -22.45, -12.55)"
      ]
     },
     "execution_count": 287,
     "metadata": {},
     "output_type": "execute_result"
    },
    {
     "data": {
      "image/png": "[encoded data removed]",
      "text/plain": [
       "<Figure size 432x288 with 1 Axes>"
      ]
     },
     "metadata": {
      "needs_background": "light"
     },
     "output_type": "display_data"
    }
   ],
   "source": [
    "plt.scatter(con[:,0],-con[:,1])\n",
    "plt.axis('square')"
   ]
  },
  {
   "cell_type": "code",
   "execution_count": 304,
   "id": "brilliant-squad",
   "metadata": {},
   "outputs": [
    {
     "data": {
      "image/png": "[encoded data removed]",
      "text/plain": [
       "<Figure size 864x288 with 3 Axes>"
      ]
     },
     "metadata": {},
     "output_type": "display_data"
    }
   ],
   "source": [
    "fig,ax = plt.subplots(1,3)\n",
    "fig.set_size_inches((12,4))\n",
    "for i in range(3):\n",
    "    _,thresh = cv2.threshold(worms[i],20,255,cv2.THRESH_BINARY)\n",
    "    img = thresh\n",
    "    rows,cols = img.shape\n",
    "    con, hierarchy = cv2.findContours(thresh,  \n",
    "        cv2.RETR_EXTERNAL, cv2.CHAIN_APPROX_NONE)\n",
    "    con = np.array(con[0]).reshape(-1,2)\n",
    "\n",
    "    vx,vy,x,y = cv2.fitLine(con, cv2.DIST_L2,0,0.01,0.01)\n",
    "    lefty = int((-x*vy/vx) + y)\n",
    "    righty = int(((cols-x)*vy/vx)+y)\n",
    "    img = cv2.line(img,(cols-1,righty),(0,lefty),(100,0,0),1)\n",
    "    ax[i].imshow(img)\n",
    "    ax[i].set_xticks([])\n",
    "    ax[i].set_yticks([])"
   ]
  },
  {
   "cell_type": "code",
   "execution_count": 319,
   "id": "thousand-economics",
   "metadata": {},
   "outputs": [
    {
     "data": {
      "text/plain": [
       "array([82.55654], dtype=float32)"
      ]
     },
     "execution_count": 319,
     "metadata": {},
     "output_type": "execute_result"
    }
   ],
   "source": [
    "np.arctan2(-vy,vx)*180/np.pi"
   ]
  },
  {
   "cell_type": "markdown",
   "id": "adverse-klein",
   "metadata": {},
   "source": [
    "### Evidence I should have done this a long time ago"
   ]
  },
  {
   "cell_type": "markdown",
   "id": "instant-definition",
   "metadata": {},
   "source": [
    "And Sean is good"
   ]
  },
  {
   "cell_type": "markdown",
   "id": "celtic-discussion",
   "metadata": {},
   "source": [
    "#### Fitting a line to contour"
   ]
  },
  {
   "cell_type": "code",
   "execution_count": 318,
   "id": "wound-ideal",
   "metadata": {},
   "outputs": [],
   "source": [
    "#%%timeit\n",
    "for i in range(3):\n",
    "    _,thresh = cv2.threshold(worms[i],20,255,cv2.THRESH_BINARY)\n",
    "    img = thresh\n",
    "    rows,cols = img.shape\n",
    "    con, hierarchy = cv2.findContours(thresh,  \n",
    "        cv2.RETR_EXTERNAL, cv2.CHAIN_APPROX_NONE)\n",
    "    con = np.array(con[0]).reshape(-1,2)\n",
    "\n",
    "    vx,vy,x,y = cv2.fitLine(con, cv2.DIST_L2,0,0.01,0.01)\n",
    "    lefty = int((-x*vy/vx) + y)\n",
    "    righty = int(((cols-x)*vy/vx)+y)\n",
    "    img = cv2.line(img,(cols-1,righty),(0,lefty),(100,0,0),1)"
   ]
  },
  {
   "cell_type": "markdown",
   "id": "introductory-revelation",
   "metadata": {},
   "source": [
    "#### Template matching"
   ]
  },
  {
   "cell_type": "code",
   "execution_count": 292,
   "id": "touched-jewelry",
   "metadata": {},
   "outputs": [],
   "source": [
    "head,bodies = load_templates()"
   ]
  },
  {
   "cell_type": "code",
   "execution_count": 300,
   "id": "female-spyware",
   "metadata": {},
   "outputs": [
    {
     "name": "stdout",
     "output_type": "stream",
     "text": [
      "720 µs ± 16.8 µs per loop (mean ± std. dev. of 7 runs, 1000 loops each)\n"
     ]
    }
   ],
   "source": [
    "%%timeit\n",
    "for i in range(1):\n",
    "    _,thresh = cv2.threshold(worms[i],20,255,cv2.THRESH_BINARY)\n",
    "    img = thresh\n",
    "    res = [min(cv2.matchTemplate(img,body,cv2.TM_SQDIFF).flatten()) for body in bodies]\n",
    "    deg = np.argmin(res) * DEG_INCR *pi/180 # to radians"
   ]
  },
  {
   "cell_type": "code",
   "execution_count": null,
   "id": "parallel-breed",
   "metadata": {},
   "outputs": [],
   "source": []
  }
 ],
 "metadata": {
  "kernelspec": {
   "display_name": "r919",
   "language": "python",
   "name": "r919"
  },
  "language_info": {
   "codemirror_mode": {
    "name": "ipython",
    "version": 3
   },
   "file_extension": ".py",
   "mimetype": "text/x-python",
   "name": "python",
   "nbconvert_exporter": "python",
   "pygments_lexer": "ipython3",
   "version": "3.8.8"
  }
 },
 "nbformat": 4,
 "nbformat_minor": 5
}
