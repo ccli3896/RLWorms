{
 "cells": [
  {
   "cell_type": "code",
   "execution_count": 1,
   "metadata": {},
   "outputs": [],
   "source": [
    "import numpy as np\n",
    "import os\n",
    "import pandas as pd\n",
    "import matplotlib.pyplot as plt\n",
    "\n",
    "import model_based_agent as mba \n",
    "import worm_env as we \n",
    "import worm_env_old as weo\n",
    "import ensemble_mod_env as eme\n",
    "\n",
    "from improc import *\n",
    "import utils as ut\n",
    "import tab_agents as tab\n",
    "from datetime import datetime "
   ]
  },
  {
   "cell_type": "code",
   "execution_count": 9,
   "metadata": {},
   "outputs": [],
   "source": [
    "def make_dist_dict2(df, sm_pars=None,\n",
    "    prev_act_window=3,\n",
    "    lp_frac=None):\n",
    "    # This version doesn't smooth reward matrices. First subtracts them and then smooths the resulting matrix.\n",
    "    # Stores difference in r_on and adds variances; sets r_off to 0's. \n",
    "    # Makes a dictionary of distributions using trajectory statistics.\n",
    "    # sm_pars is a dict of form {'lambda': .05, 'iters': 30}\n",
    "    #     If None, then no smoothing.\n",
    "    # Lp_frac: [0,1]. Models find a number to subtract from light-on matrices, in order for\n",
    "    #  this fraction of observations to remain above their corresponding light-off spots.\n",
    "\n",
    "    traj_on = df.query('prev_actions=='+str(prev_act_window))\n",
    "    traj_off = df.query('prev_actions==0')\n",
    "\n",
    "    r_on, b_on, h_on, count_on = ut.make_stat_mats(traj_on)\n",
    "    r_off, b_off, h_off, count_off = ut.make_stat_mats(traj_off)\n",
    "\n",
    "    all_mats = [r_on,b_on,h_on,r_off,b_off,h_off]\n",
    "    counts = [count_on,count_off]\n",
    "    counts_lp = counts[0]+counts[1]\n",
    "\n",
    "    for i in [1,2,4,5]:\n",
    "        for j in range(2):\n",
    "            if j==1:\n",
    "                ang_par = False \n",
    "            else:\n",
    "                ang_par = True\n",
    "            all_mats[i][:,:,j] = ut.lin_interp_mat(all_mats[i][:,:,j], ang_par)\n",
    "            \n",
    "            if sm_pars is not None:\n",
    "                all_mats[i][:,:,j] = ut.smoothen(all_mats[i][:,:,j], \n",
    "                                                counts[i//3], ang_par, \n",
    "                                                smooth_par=sm_pars['lambda'], iters=sm_pars['iters'])\n",
    "                \n",
    "    # Turns r_on and r_off matrices into their differences stored in r_on. (r_off is now set to 0)\n",
    "    r_on[:,:,0] = r_on[:,:,0]-r_off[:,:,0]\n",
    "    r_on[:,:,1] = r_on[:,:,1]+r_off[:,:,1]\n",
    "    for i in range(2):\n",
    "        r_on[:,:,i] = ut.lin_interp_mat(r_on[:,:,i], False)\n",
    "    r_on[:,:,0] = ut.smoothen(r_on[:,:,0], counts_lp, False, smooth_par=sm_pars['lambda']*5, iters=sm_pars['iters'])\n",
    "    r_off = np.zeros(r_off.shape)\n",
    "    \n",
    "    # This block is for light penalty implementation. Only applied to r_on.\n",
    "    if lp_frac is None:\n",
    "        light_penalty = 0\n",
    "    else:\n",
    "        r_diffs = r_on[:,:,0]-r_off[:,:,0]\n",
    "        r_diffs_sorti = np.unravel_index(np.argsort(-r_diffs,axis=None), r_on[:,:,0].shape) # Subtract means and gets sorted indices.\n",
    "        r_diffs_sorted = r_diffs[r_diffs_sorti]\n",
    "        #counts_lp = np.ones((12,12)) ############\n",
    "        count_lim = np.sum(counts_lp)*lp_frac\n",
    "        cs = np.cumsum(counts_lp[r_diffs_sorti]) < count_lim\n",
    "        cutoff_ind = [i for i,x in enumerate(cs) if not x][0]\n",
    "        light_penalty = r_diffs_sorted[cutoff_ind]\n",
    "        print(f'Penalty {light_penalty}')\n",
    "\n",
    "    dist_dict = {\n",
    "        'body_on': b_on,\n",
    "        'body_off': b_off,\n",
    "        'head_on': h_on,\n",
    "        'head_off': h_off,\n",
    "        'reward_on': r_on - light_penalty,\n",
    "        'reward_off': r_off,\n",
    "    }    \n",
    "    return dist_dict"
   ]
  },
  {
   "cell_type": "code",
   "execution_count": 43,
   "metadata": {},
   "outputs": [],
   "source": [
    "folders = ['./Data/HTFix19-01-18-47/',\n",
    "           './Data/HTFix19-01-20-29/',\n",
    "           './Data/HTFix19-01-21-18/',\n",
    "           './Data/HTFix20-01-09-04/',\n",
    "           './Data/HTFix20-01-09-42/',\n",
    "           './Data/HTFix20-01-10-41/',\n",
    "          ]\n",
    "\n",
    "dh = mba.DataHandler()\n",
    "dh.load_df(folders[0]+'alls.pkl')\n",
    "for f in folders[1:]:\n",
    "    dh.add_df_to_df([f+'alls.pkl'])"
   ]
  },
  {
   "cell_type": "code",
   "execution_count": 44,
   "metadata": {},
   "outputs": [
    {
     "data": {
      "text/html": [
       "<div>\n",
       "<style scoped>\n",
       "    .dataframe tbody tr th:only-of-type {\n",
       "        vertical-align: middle;\n",
       "    }\n",
       "\n",
       "    .dataframe tbody tr th {\n",
       "        vertical-align: top;\n",
       "    }\n",
       "\n",
       "    .dataframe thead th {\n",
       "        text-align: right;\n",
       "    }\n",
       "</style>\n",
       "<table border=\"1\" class=\"dataframe\">\n",
       "  <thead>\n",
       "    <tr style=\"text-align: right;\">\n",
       "      <th></th>\n",
       "      <th>t</th>\n",
       "      <th>obs_b</th>\n",
       "      <th>angs</th>\n",
       "      <th>prev_actions</th>\n",
       "      <th>reward</th>\n",
       "      <th>loc</th>\n",
       "      <th>target</th>\n",
       "      <th>obs_h</th>\n",
       "      <th>next_obs_b</th>\n",
       "      <th>next_obs_h</th>\n",
       "    </tr>\n",
       "  </thead>\n",
       "  <tbody>\n",
       "    <tr>\n",
       "      <th>0</th>\n",
       "      <td>0.984</td>\n",
       "      <td>-30</td>\n",
       "      <td>[90, 270]</td>\n",
       "      <td>3</td>\n",
       "      <td>6.421441</td>\n",
       "      <td>[1007.8554216867469, 1002.0602409638554]</td>\n",
       "      <td>90</td>\n",
       "      <td>30.0</td>\n",
       "      <td>-30.0</td>\n",
       "      <td>30.0</td>\n",
       "    </tr>\n",
       "    <tr>\n",
       "      <th>1</th>\n",
       "      <td>1.172</td>\n",
       "      <td>-30</td>\n",
       "      <td>[90, 270]</td>\n",
       "      <td>2</td>\n",
       "      <td>6.134315</td>\n",
       "      <td>[1008.2528735632184, 1000.9195402298851]</td>\n",
       "      <td>90</td>\n",
       "      <td>30.0</td>\n",
       "      <td>-30.0</td>\n",
       "      <td>30.0</td>\n",
       "    </tr>\n",
       "    <tr>\n",
       "      <th>2</th>\n",
       "      <td>1.375</td>\n",
       "      <td>-30</td>\n",
       "      <td>[90, 270]</td>\n",
       "      <td>1</td>\n",
       "      <td>6.425035</td>\n",
       "      <td>[1008.3827160493827, 1000.469135802469]</td>\n",
       "      <td>90</td>\n",
       "      <td>30.0</td>\n",
       "      <td>-30.0</td>\n",
       "      <td>30.0</td>\n",
       "    </tr>\n",
       "    <tr>\n",
       "      <th>3</th>\n",
       "      <td>1.562</td>\n",
       "      <td>-30</td>\n",
       "      <td>[90, 240]</td>\n",
       "      <td>0</td>\n",
       "      <td>6.587415</td>\n",
       "      <td>[1008.6585365853659, 999.7317073170732]</td>\n",
       "      <td>90</td>\n",
       "      <td>30.0</td>\n",
       "      <td>-30.0</td>\n",
       "      <td>30.0</td>\n",
       "    </tr>\n",
       "    <tr>\n",
       "      <th>4</th>\n",
       "      <td>1.765</td>\n",
       "      <td>-30</td>\n",
       "      <td>[90, 240]</td>\n",
       "      <td>0</td>\n",
       "      <td>6.356707</td>\n",
       "      <td>[1008.6470588235295, 999.3764705882354]</td>\n",
       "      <td>90</td>\n",
       "      <td>30.0</td>\n",
       "      <td>-30.0</td>\n",
       "      <td>60.0</td>\n",
       "    </tr>\n",
       "    <tr>\n",
       "      <th>...</th>\n",
       "      <td>...</td>\n",
       "      <td>...</td>\n",
       "      <td>...</td>\n",
       "      <td>...</td>\n",
       "      <td>...</td>\n",
       "      <td>...</td>\n",
       "      <td>...</td>\n",
       "      <td>...</td>\n",
       "      <td>...</td>\n",
       "      <td>...</td>\n",
       "    </tr>\n",
       "    <tr>\n",
       "      <th>47319</th>\n",
       "      <td>235.000</td>\n",
       "      <td>30</td>\n",
       "      <td>[240, 120]</td>\n",
       "      <td>0</td>\n",
       "      <td>0.400000</td>\n",
       "      <td>[101.6, 845.2]</td>\n",
       "      <td>180</td>\n",
       "      <td>30.0</td>\n",
       "      <td>120.0</td>\n",
       "      <td>-90.0</td>\n",
       "    </tr>\n",
       "    <tr>\n",
       "      <th>47320</th>\n",
       "      <td>297.797</td>\n",
       "      <td>120</td>\n",
       "      <td>[210, 90]</td>\n",
       "      <td>2</td>\n",
       "      <td>0.666667</td>\n",
       "      <td>[89.0, 888.0]</td>\n",
       "      <td>180</td>\n",
       "      <td>-90.0</td>\n",
       "      <td>120.0</td>\n",
       "      <td>-30.0</td>\n",
       "    </tr>\n",
       "    <tr>\n",
       "      <th>47321</th>\n",
       "      <td>297.984</td>\n",
       "      <td>120</td>\n",
       "      <td>[270, 90]</td>\n",
       "      <td>3</td>\n",
       "      <td>0.666667</td>\n",
       "      <td>[88.57142857142857, 886.2857142857143]</td>\n",
       "      <td>180</td>\n",
       "      <td>-30.0</td>\n",
       "      <td>120.0</td>\n",
       "      <td>-30.0</td>\n",
       "    </tr>\n",
       "    <tr>\n",
       "      <th>47322</th>\n",
       "      <td>298.156</td>\n",
       "      <td>120</td>\n",
       "      <td>[270, 90]</td>\n",
       "      <td>2</td>\n",
       "      <td>0.071429</td>\n",
       "      <td>[88.42857142857143, 887.2857142857143]</td>\n",
       "      <td>180</td>\n",
       "      <td>-30.0</td>\n",
       "      <td>120.0</td>\n",
       "      <td>-30.0</td>\n",
       "    </tr>\n",
       "    <tr>\n",
       "      <th>47323</th>\n",
       "      <td>298.328</td>\n",
       "      <td>120</td>\n",
       "      <td>[270, 90]</td>\n",
       "      <td>1</td>\n",
       "      <td>-0.571429</td>\n",
       "      <td>[88.42857142857143, 886.7142857142857]</td>\n",
       "      <td>180</td>\n",
       "      <td>-30.0</td>\n",
       "      <td>120.0</td>\n",
       "      <td>-30.0</td>\n",
       "    </tr>\n",
       "  </tbody>\n",
       "</table>\n",
       "<p>47324 rows × 10 columns</p>\n",
       "</div>"
      ],
      "text/plain": [
       "             t  obs_b        angs prev_actions    reward  \\\n",
       "0        0.984    -30   [90, 270]            3  6.421441   \n",
       "1        1.172    -30   [90, 270]            2  6.134315   \n",
       "2        1.375    -30   [90, 270]            1  6.425035   \n",
       "3        1.562    -30   [90, 240]            0  6.587415   \n",
       "4        1.765    -30   [90, 240]            0  6.356707   \n",
       "...        ...    ...         ...          ...       ...   \n",
       "47319  235.000     30  [240, 120]            0  0.400000   \n",
       "47320  297.797    120   [210, 90]            2  0.666667   \n",
       "47321  297.984    120   [270, 90]            3  0.666667   \n",
       "47322  298.156    120   [270, 90]            2  0.071429   \n",
       "47323  298.328    120   [270, 90]            1 -0.571429   \n",
       "\n",
       "                                            loc target  obs_h  next_obs_b  \\\n",
       "0      [1007.8554216867469, 1002.0602409638554]     90   30.0       -30.0   \n",
       "1      [1008.2528735632184, 1000.9195402298851]     90   30.0       -30.0   \n",
       "2       [1008.3827160493827, 1000.469135802469]     90   30.0       -30.0   \n",
       "3       [1008.6585365853659, 999.7317073170732]     90   30.0       -30.0   \n",
       "4       [1008.6470588235295, 999.3764705882354]     90   30.0       -30.0   \n",
       "...                                         ...    ...    ...         ...   \n",
       "47319                            [101.6, 845.2]    180   30.0       120.0   \n",
       "47320                             [89.0, 888.0]    180  -90.0       120.0   \n",
       "47321    [88.57142857142857, 886.2857142857143]    180  -30.0       120.0   \n",
       "47322    [88.42857142857143, 887.2857142857143]    180  -30.0       120.0   \n",
       "47323    [88.42857142857143, 886.7142857142857]    180  -30.0       120.0   \n",
       "\n",
       "       next_obs_h  \n",
       "0            30.0  \n",
       "1            30.0  \n",
       "2            30.0  \n",
       "3            30.0  \n",
       "4            60.0  \n",
       "...           ...  \n",
       "47319       -90.0  \n",
       "47320       -30.0  \n",
       "47321       -30.0  \n",
       "47322       -30.0  \n",
       "47323       -30.0  \n",
       "\n",
       "[47324 rows x 10 columns]"
      ]
     },
     "execution_count": 44,
     "metadata": {},
     "output_type": "execute_result"
    }
   ],
   "source": [
    "dh.df"
   ]
  },
  {
   "cell_type": "code",
   "execution_count": 45,
   "metadata": {},
   "outputs": [
    {
     "name": "stdout",
     "output_type": "stream",
     "text": [
      "Penalty 0.15468397485578136\n"
     ]
    }
   ],
   "source": [
    "mod = make_dist_dict2(dh.df,sm_pars={'lambda':.1,'iters':10},prev_act_window=3,lp_frac=.45)"
   ]
  },
  {
   "cell_type": "code",
   "execution_count": 28,
   "metadata": {},
   "outputs": [
    {
     "data": {
      "image/png": "[encoded data removed]",
      "text/plain": [
       "<Figure size 1080x288 with 26 Axes>"
      ]
     },
     "metadata": {
      "needs_background": "light"
     },
     "output_type": "display_data"
    }
   ],
   "source": [
    "mods_plt = [mod,mod]\n",
    "plot_mods(mods_plt)"
   ]
  },
  {
   "cell_type": "code",
   "execution_count": 42,
   "metadata": {},
   "outputs": [
    {
     "data": {
      "image/png": "[encoded data removed]",
      "text/plain": [
       "<Figure size 1080x288 with 26 Axes>"
      ]
     },
     "metadata": {
      "needs_background": "light"
     },
     "output_type": "display_data"
    }
   ],
   "source": [
    "mods_plt = [mod,mod]\n",
    "plot_mods(mods_plt)"
   ]
  },
  {
   "cell_type": "code",
   "execution_count": 46,
   "metadata": {},
   "outputs": [
    {
     "data": {
      "image/png": "[encoded data removed]",
      "text/plain": [
       "<Figure size 1080x288 with 26 Axes>"
      ]
     },
     "metadata": {
      "needs_background": "light"
     },
     "output_type": "display_data"
    }
   ],
   "source": [
    "mods_plt = [mod,mod]\n",
    "plot_mods(mods_plt)"
   ]
  },
  {
   "cell_type": "code",
   "execution_count": 29,
   "metadata": {},
   "outputs": [
    {
     "data": {
      "text/plain": [
       "<matplotlib.image.AxesImage at 0x20fe5f05af0>"
      ]
     },
     "execution_count": 29,
     "metadata": {},
     "output_type": "execute_result"
    },
    {
     "data": {
      "image/png": "[encoded data removed]",
      "text/plain": [
       "<Figure size 432x288 with 1 Axes>"
      ]
     },
     "metadata": {
      "needs_background": "light"
     },
     "output_type": "display_data"
    }
   ],
   "source": [
    "plt.imshow(mod['reward_on'][:,:,0])"
   ]
  },
  {
   "cell_type": "markdown",
   "metadata": {},
   "source": [
    "# Evaluating smoothed policy on animal"
   ]
  },
  {
   "cell_type": "code",
   "execution_count": 2,
   "metadata": {},
   "outputs": [],
   "source": [
    "detpol = np.zeros((12,12))+1\n",
    "detpol[:6,:6] = -1\n",
    "detpol[6:,6:] = -1\n",
    "\n",
    "def pol_test(mod,folder,sets,\n",
    "            rand_ep_time = 120,\n",
    "            eval_ep_time = 120,\n",
    "            worm_ep_len = 120):\n",
    "    # Takes a model with reward_on as the policy (>0 light on; <0 light off) and \n",
    "    # reward_off as zeros. Runs a random episode followed by an evaluation episode {sets} times.\n",
    "    # Saves every episode trajectory as rand{i}.pkl or eval{i}.pkl (dicts).\n",
    "    # Returns rands (list) and evals (list) of reward vectors.\n",
    "    \n",
    "    if os.path.isdir(folder):\n",
    "        raise ValueError('Folder already exists.')\n",
    "    os.mkdir(folder)\n",
    "    \n",
    "    rands,evals = [],[]\n",
    "    worm = weo.ProcessedWorm(0,ep_len=worm_ep_len)\n",
    "    cam,task = init_instruments()\n",
    "    \n",
    "    # Random policy\n",
    "    cp = mod['reward_on'][:,:,0].copy().flatten() #detpol.copy().flatten()\n",
    "    np.random.shuffle(cp)\n",
    "    ant_rand = tab.Q_Alpha_Agent() \n",
    "    ant_rand.Qtab = np.zeros(ant_rand.Qtab.shape)\n",
    "    ant_rand.Qtab[:,1] = cp\n",
    "    runner_rand = mba.WormRunner(ant_rand, worm, act_spacing=1)\n",
    "    \n",
    "    # Test policy\n",
    "    ant_test = tab.Q_Alpha_Agent() # Test policy\n",
    "    ant_test.Qtab = np.zeros(ant_test.Qtab.shape)\n",
    "    ant_test.Qtab[:,1] = mod['reward_on'][:,:,0].flatten() #detpol.flatten()\n",
    "    runner_test = mba.WormRunner(ant_test, worm, act_spacing=1)\n",
    "    \n",
    "    \n",
    "    for s in range(sets):\n",
    "        fname_r = folder+f'rand{s}.pkl'\n",
    "        fname_e = folder+f'eval{s}.pkl'\n",
    "        print(f'Running set {s}')\n",
    "        \n",
    "        evals.append(runner_test.eval_ep(cam,task,fname_e,eval_eps=eval_ep_time//worm_ep_len))\n",
    "        task.write(0)\n",
    "        rands.append(runner_rand.eval_ep(cam,task,fname_r,eval_eps=rand_ep_time//worm_ep_len))\n",
    "        task.write(0)\n",
    "    \n",
    "    cam.exit()\n",
    "    task.write(0)\n",
    "    task.close()\n",
    "    \n",
    "    return rands,evals,ant_rand,ant_test\n",
    "\n",
    "def get_model_from_files(files,lp_frac):\n",
    "    dh = mba.DataHandler()\n",
    "    dh.load_df(files[0]+'alls.pkl')\n",
    "    for f in files[1:]:\n",
    "        dh.add_df_to_df([f+'alls.pkl'])\n",
    "    mset = eme.ModelSet(1,frac=1,lp_frac=lp_frac)\n",
    "    mset.make_models(dh,sm_pars={'lambda':.1,'iters':10})\n",
    "    return mset.models[0]\n",
    "\n",
    "def plot_mods(models,vmin=None,vmax=None):\n",
    "    fig,ax = plt.subplots(len(models),7)\n",
    "    fig.set_size_inches((15,2*len(models)))\n",
    "    for m,mod in enumerate(models):\n",
    "        for i,(key,item) in enumerate(mod.items()):\n",
    "            if i<4:\n",
    "                img = ax[m,i].imshow(item[:,:,0],vmin=-180,vmax=180)\n",
    "            else:\n",
    "                img = ax[m,i].imshow(item[:,:,0],vmin=vmin,vmax=vmax)\n",
    "            fig.colorbar(img,ax=ax[m,i])\n",
    "            ax[m,i].axis('off')\n",
    "            if m==0:\n",
    "                ax[m,i].set_title(f'{len(models)} models: {key}')\n",
    "        ax[m,6].imshow(np.sign(mod['reward_on'][:,:,0]-mod['reward_off'][:,:,0]),vmin=-1,vmax=1)"
   ]
  },
  {
   "cell_type": "code",
   "execution_count": 8,
   "metadata": {},
   "outputs": [
    {
     "name": "stdout",
     "output_type": "stream",
     "text": [
      "On model 0\n",
      "Penalty 0.17816879028072646\n"
     ]
    }
   ],
   "source": [
    "folder = './Data/HTTest'+datetime.now().strftime('%d-%m-%H-%M')+'/'\n",
    "files = ['./Data/HTFix19-01-18-47/',\n",
    "           './Data/HTFix19-01-20-29/',\n",
    "           './Data/HTFix19-01-21-18/',\n",
    "           './Data/HTFix20-01-09-04/',\n",
    "           './Data/HTFix20-01-09-42/',\n",
    "           './Data/HTFix20-01-10-41/',\n",
    "          ]\n",
    "\n",
    "mod = get_model_from_files(files,.4)"
   ]
  },
  {
   "cell_type": "code",
   "execution_count": 4,
   "metadata": {
    "scrolled": true
   },
   "outputs": [
    {
     "data": {
      "image/png": "[encoded data removed]",
      "text/plain": [
       "<Figure size 1080x288 with 26 Axes>"
      ]
     },
     "metadata": {
      "needs_background": "light"
     },
     "output_type": "display_data"
    }
   ],
   "source": [
    "plot_mods([mod,mod])"
   ]
  },
  {
   "cell_type": "code",
   "execution_count": 9,
   "metadata": {
    "scrolled": true
   },
   "outputs": [
    {
     "name": "stdout",
     "output_type": "stream",
     "text": [
      "Warning: when changing pixelclock at runtime, you may need to update the fps and exposure parameters\n",
      "Warning: Specified fps (20.00) not in possible range: [7.40, 14.92]. fps has been set to 14.92.\n",
      "Running set 0\n",
      "19 sec \t\t\r"
     ]
    },
    {
     "name": "stderr",
     "output_type": "stream",
     "text": [
      "C:\\Users\\ccli3\\Documents\\Research\\20_09_07_NewPC\\RLWorms\\01_13_reals\\improc.py:196: RuntimeWarning: invalid value encountered in longlong_scalars\n",
      "  centers.append(np.array([np.sum(np.arange(im_sz)*sumx) / np.sum(sumx), np.sum(np.arange(im_sz)*sumy) / np.sum(sumy)]))\n"
     ]
    },
    {
     "name": "stdout",
     "output_type": "stream",
     "text": [
      "No worm \t\t\r"
     ]
    }
   ],
   "source": [
    "rands,evals,ant_rand,ant_test = pol_test(mod,folder,1,            \n",
    "            rand_ep_time = 120,\n",
    "            eval_ep_time = 120,\n",
    "            worm_ep_len = 120)"
   ]
  },
  {
   "cell_type": "markdown",
   "metadata": {},
   "source": [
    "# Two test runs with deterministic policy and random policy (shuffled det)"
   ]
  },
  {
   "cell_type": "code",
   "execution_count": 6,
   "metadata": {},
   "outputs": [
    {
     "name": "stdout",
     "output_type": "stream",
     "text": [
      "-0.3485151440531889\n",
      "0.19443009201073713\n"
     ]
    },
    {
     "data": {
      "text/plain": [
       "[None]"
      ]
     },
     "execution_count": 6,
     "metadata": {},
     "output_type": "execute_result"
    }
   ],
   "source": [
    "[print(np.mean(rands[i])) for i in range(1)]\n",
    "[print(np.mean(evals[i])) for i in range(1)]"
   ]
  },
  {
   "cell_type": "code",
   "execution_count": 11,
   "metadata": {},
   "outputs": [
    {
     "name": "stdout",
     "output_type": "stream",
     "text": [
      "-0.4307155171583498\n",
      "0.6852167238967668\n"
     ]
    },
    {
     "data": {
      "text/plain": [
       "[None]"
      ]
     },
     "execution_count": 11,
     "metadata": {},
     "output_type": "execute_result"
    }
   ],
   "source": [
    "[print(np.mean(rands[i])) for i in range(1)]\n",
    "[print(np.mean(evals[i])) for i in range(1)]"
   ]
  },
  {
   "cell_type": "markdown",
   "metadata": {},
   "source": [
    "# Runs with found policy and random policy (shuffled found)"
   ]
  },
  {
   "cell_type": "code",
   "execution_count": 5,
   "metadata": {},
   "outputs": [
    {
     "name": "stdout",
     "output_type": "stream",
     "text": [
      "0.16994080798075242\n",
      "-0.3035586081156972\n"
     ]
    },
    {
     "data": {
      "text/plain": [
       "[None]"
      ]
     },
     "execution_count": 5,
     "metadata": {},
     "output_type": "execute_result"
    }
   ],
   "source": [
    "# HTTest20-01-17-08\n",
    "[print(np.mean(rands[i])) for i in range(1)]\n",
    "[print(np.mean(evals[i])) for i in range(1)]"
   ]
  },
  {
   "cell_type": "code",
   "execution_count": 8,
   "metadata": {},
   "outputs": [
    {
     "name": "stdout",
     "output_type": "stream",
     "text": [
      "0.06279451788491452\n",
      "0.5847019313506728\n"
     ]
    },
    {
     "data": {
      "text/plain": [
       "[None]"
      ]
     },
     "execution_count": 8,
     "metadata": {},
     "output_type": "execute_result"
    }
   ],
   "source": [
    "# HTTest20-01-17-14\n",
    "[print(np.mean(rands[i])) for i in range(1)]\n",
    "[print(np.mean(evals[i])) for i in range(1)]"
   ]
  },
  {
   "cell_type": "code",
   "execution_count": 5,
   "metadata": {},
   "outputs": [
    {
     "name": "stdout",
     "output_type": "stream",
     "text": [
      "0.12297582812403397\n",
      "0.49921642185884474\n"
     ]
    },
    {
     "data": {
      "text/plain": [
       "[None]"
      ]
     },
     "execution_count": 5,
     "metadata": {},
     "output_type": "execute_result"
    }
   ],
   "source": [
    "# HTTest20-01-17-20\n",
    "[print(np.mean(rands[i])) for i in range(1)]\n",
    "[print(np.mean(evals[i])) for i in range(1)]"
   ]
  },
  {
   "cell_type": "code",
   "execution_count": 10,
   "metadata": {},
   "outputs": [
    {
     "name": "stdout",
     "output_type": "stream",
     "text": [
      "-0.3152529498151617\n",
      "0.10234044608060362\n"
     ]
    },
    {
     "data": {
      "text/plain": [
       "[None]"
      ]
     },
     "execution_count": 10,
     "metadata": {},
     "output_type": "execute_result"
    }
   ],
   "source": [
    "# HTTest20-01-17-27\n",
    "[print(np.mean(rands[i])) for i in range(1)]\n",
    "[print(np.mean(evals[i])) for i in range(1)]"
   ]
  },
  {
   "cell_type": "code",
   "execution_count": 11,
   "metadata": {},
   "outputs": [
    {
     "data": {
      "text/plain": [
       "<matplotlib.image.AxesImage at 0x2a1793fd070>"
      ]
     },
     "execution_count": 11,
     "metadata": {},
     "output_type": "execute_result"
    },
    {
     "data": {
      "image/png": "[encoded data removed]",
      "text/plain": [
       "<Figure size 432x288 with 1 Axes>"
      ]
     },
     "metadata": {
      "needs_background": "light"
     },
     "output_type": "display_data"
    }
   ],
   "source": [
    "plt.imshow(np.sign(ant_rand.Qtab[:,1].reshape(12,12)))"
   ]
  },
  {
   "cell_type": "code",
   "execution_count": 12,
   "metadata": {},
   "outputs": [
    {
     "data": {
      "text/plain": [
       "<matplotlib.image.AxesImage at 0x2a1793bd7f0>"
      ]
     },
     "execution_count": 12,
     "metadata": {},
     "output_type": "execute_result"
    },
    {
     "data": {
      "image/png": "[encoded data removed]",
      "text/plain": [
       "<Figure size 432x288 with 1 Axes>"
      ]
     },
     "metadata": {
      "needs_background": "light"
     },
     "output_type": "display_data"
    }
   ],
   "source": [
    "plt.imshow(np.sign(ant_test.Qtab[:,1].reshape(12,12)))"
   ]
  },
  {
   "cell_type": "code",
   "execution_count": null,
   "metadata": {},
   "outputs": [],
   "source": []
  }
 ],
 "metadata": {
  "kernelspec": {
   "display_name": "rlkit",
   "language": "python",
   "name": "rlkit"
  },
  "language_info": {
   "codemirror_mode": {
    "name": "ipython",
    "version": 3
   },
   "file_extension": ".py",
   "mimetype": "text/x-python",
   "name": "python",
   "nbconvert_exporter": "python",
   "pygments_lexer": "ipython3",
   "version": "3.8.5"
  }
 },
 "nbformat": 4,
 "nbformat_minor": 4
}
