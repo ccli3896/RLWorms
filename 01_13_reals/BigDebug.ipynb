{
 "cells": [
  {
   "cell_type": "code",
   "execution_count": 1,
   "metadata": {},
   "outputs": [],
   "source": [
    "import numpy as np\n",
    "import os\n",
    "import pandas as pd\n",
    "import matplotlib.pyplot as plt\n",
    "\n",
    "import model_based_agent as mba \n",
    "import worm_env as we \n",
    "import ensemble_mod_env as eme\n",
    "\n",
    "from improc import *\n",
    "import utils as ut\n",
    "import tab_agents as tab\n",
    "from datetime import datetime "
   ]
  },
  {
   "cell_type": "code",
   "execution_count": 2,
   "metadata": {},
   "outputs": [
    {
     "name": "stdout",
     "output_type": "stream",
     "text": [
      "Warning: when changing pixelclock at runtime, you may need to update the fps and exposure parameters\n",
      "Warning: Specified fps (20.00) not in possible range: [7.40, 14.92]. fps has been set to 14.92.\n",
      " No worm\t\t\r"
     ]
    },
    {
     "data": {
      "text/plain": [
       "array([0., 0.])"
      ]
     },
     "execution_count": 2,
     "metadata": {},
     "output_type": "execute_result"
    }
   ],
   "source": [
    "cam,task = init_instruments()\n",
    "worm = we.ProcessedWorm(0,ep_len=10,ht_time=1e6)\n",
    "worm.reset(cam,task)"
   ]
  },
  {
   "cell_type": "code",
   "execution_count": 30,
   "metadata": {},
   "outputs": [
    {
     "name": "stdout",
     "output_type": "stream",
     "text": [
      "No worm \t\t\r"
     ]
    }
   ],
   "source": [
    "obss,rews,dones,infos = [],[],[],[]\n",
    "for i in range(10):\n",
    "    obs,rew,done,info = worm.step(0,cam,task)\n",
    "    obss.append(obs)\n",
    "    rews.append(rew)\n",
    "    dones.append(done)\n",
    "    infos.append(info)"
   ]
  },
  {
   "cell_type": "code",
   "execution_count": 31,
   "metadata": {},
   "outputs": [
    {
     "data": {
      "text/plain": [
       "[{'loc': array([0., 0.]),\n",
       "  't': 5.844000000040978,\n",
       "  'endpts': array([[-1., -1.],\n",
       "         [-1., -1.]]),\n",
       "  'obs': array([0., 0.]),\n",
       "  'reward': 0,\n",
       "  'target': 90,\n",
       "  'action': 0,\n",
       "  'angs': array([0., 0.])},\n",
       " {'loc': array([0., 0.]),\n",
       "  't': 6.032000000006519,\n",
       "  'endpts': array([[-1., -1.],\n",
       "         [-1., -1.]]),\n",
       "  'obs': array([0., 0.]),\n",
       "  'reward': 0,\n",
       "  'target': 90,\n",
       "  'action': 0,\n",
       "  'angs': array([0., 0.])},\n",
       " {'loc': array([0., 0.]),\n",
       "  't': 6.204000000027008,\n",
       "  'endpts': array([[-1., -1.],\n",
       "         [-1., -1.]]),\n",
       "  'obs': array([0., 0.]),\n",
       "  'reward': 0,\n",
       "  'target': 90,\n",
       "  'action': 0,\n",
       "  'angs': array([0., 0.])},\n",
       " {'loc': array([0., 0.]),\n",
       "  't': 6.39100000000326,\n",
       "  'endpts': array([[-1., -1.],\n",
       "         [-1., -1.]]),\n",
       "  'obs': array([0., 0.]),\n",
       "  'reward': 0,\n",
       "  'target': 90,\n",
       "  'action': 0,\n",
       "  'angs': array([0., 0.])},\n",
       " {'loc': array([0., 0.]),\n",
       "  't': 6.579000000027008,\n",
       "  'endpts': array([[-1., -1.],\n",
       "         [-1., -1.]]),\n",
       "  'obs': array([0., 0.]),\n",
       "  'reward': 0,\n",
       "  'target': 90,\n",
       "  'action': 0,\n",
       "  'angs': array([0., 0.])},\n",
       " {'loc': array([0., 0.]),\n",
       "  't': 6.76600000000326,\n",
       "  'endpts': array([[-1., -1.],\n",
       "         [-1., -1.]]),\n",
       "  'obs': array([0., 0.]),\n",
       "  'reward': 0,\n",
       "  'target': 90,\n",
       "  'action': 0,\n",
       "  'angs': array([0., 0.])},\n",
       " {'img': array([[0, 0, 1, ..., 0, 0, 0],\n",
       "         [1, 0, 1, ..., 0, 1, 0],\n",
       "         [0, 0, 2, ..., 0, 0, 0],\n",
       "         ...,\n",
       "         [0, 0, 0, ..., 0, 0, 0],\n",
       "         [0, 2, 0, ..., 3, 0, 0],\n",
       "         [2, 0, 0, ..., 1, 3, 0]], dtype=uint8),\n",
       "  'loc': array([1056.,  998.]),\n",
       "  't': 6.954000000027008,\n",
       "  'endpts': array([[1055, 1069],\n",
       "         [ 992,  994]]),\n",
       "  'obs': array([ 0.16666667, -0.16666667]),\n",
       "  'reward': -4.7999999999999545,\n",
       "  'target': 90,\n",
       "  'action': 0,\n",
       "  'angs': array([-0.16666667, -0.83333333])},\n",
       " {'img': array([[0, 1, 0, ..., 0, 1, 1],\n",
       "         [1, 1, 0, ..., 0, 1, 2],\n",
       "         [2, 0, 1, ..., 0, 0, 0],\n",
       "         ...,\n",
       "         [0, 0, 0, ..., 2, 1, 0],\n",
       "         [1, 0, 0, ..., 0, 0, 0],\n",
       "         [2, 2, 1, ..., 2, 1, 0]], dtype=uint8),\n",
       "  'loc': array([1054.6,  994.2]),\n",
       "  't': 7.14100000000326,\n",
       "  'endpts': array([[1054, 1056],\n",
       "         [ 990, 1000]]),\n",
       "  'obs': array([ 0.16666667, -0.16666667]),\n",
       "  'reward': 3.7999999999999545,\n",
       "  'target': 90,\n",
       "  'action': 0,\n",
       "  'angs': array([-0.16666667,  0.83333333])},\n",
       " {'img': array([[3, 0, 0, ..., 0, 0, 3],\n",
       "         [1, 2, 2, ..., 1, 0, 0],\n",
       "         [0, 2, 2, ..., 0, 0, 3],\n",
       "         ...,\n",
       "         [1, 1, 0, ..., 0, 1, 1],\n",
       "         [2, 1, 0, ..., 2, 1, 3],\n",
       "         [0, 0, 1, ..., 0, 1, 0]], dtype=uint8),\n",
       "  'loc': array([1054.4,  993.2]),\n",
       "  't': 7.329000000027008,\n",
       "  'endpts': array([[1053, 1056],\n",
       "         [ 990,  998]]),\n",
       "  'obs': array([0.16666667, 0.        ]),\n",
       "  'reward': 1.0,\n",
       "  'target': 90,\n",
       "  'action': 0,\n",
       "  'angs': array([0.        , 0.83333333])},\n",
       " {'img': array([[0, 0, 1, ..., 1, 0, 0],\n",
       "         [0, 2, 2, ..., 3, 1, 0],\n",
       "         [0, 0, 0, ..., 0, 0, 0],\n",
       "         ...,\n",
       "         [0, 1, 2, ..., 3, 0, 0],\n",
       "         [0, 3, 0, ..., 3, 1, 0],\n",
       "         [0, 1, 0, ..., 0, 0, 0]], dtype=uint8),\n",
       "  'loc': array([1054.375,  993.25 ]),\n",
       "  't': 7.51600000000326,\n",
       "  'endpts': array([[1053, 1056],\n",
       "         [ 990,  998]]),\n",
       "  'obs': array([0.16666667, 0.        ]),\n",
       "  'reward': -0.049999999999954525,\n",
       "  'target': 90,\n",
       "  'action': 0,\n",
       "  'angs': array([0.        , 0.83333333])}]"
      ]
     },
     "execution_count": 31,
     "metadata": {},
     "output_type": "execute_result"
    }
   ],
   "source": [
    "infos"
   ]
  },
  {
   "cell_type": "code",
   "execution_count": 32,
   "metadata": {},
   "outputs": [
    {
     "data": {
      "text/plain": [
       "<matplotlib.image.AxesImage at 0x27d05ccdc40>"
      ]
     },
     "execution_count": 32,
     "metadata": {},
     "output_type": "execute_result"
    },
    {
     "data": {
      "image/png": "[encoded data removed]",
      "text/plain": [
       "<Figure size 432x288 with 1 Axes>"
      ]
     },
     "metadata": {
      "needs_background": "light"
     },
     "output_type": "display_data"
    }
   ],
   "source": [
    "plt.imshow(infos[9]['img'])"
   ]
  },
  {
   "cell_type": "code",
   "execution_count": 33,
   "metadata": {},
   "outputs": [
    {
     "data": {
      "text/plain": [
       "array([  0., 150.])"
      ]
     },
     "execution_count": 33,
     "metadata": {},
     "output_type": "execute_result"
    }
   ],
   "source": [
    "infos[9]['angs']*180"
   ]
  },
  {
   "cell_type": "code",
   "execution_count": 35,
   "metadata": {},
   "outputs": [
    {
     "data": {
      "text/plain": [
       "array([30.,  0.])"
      ]
     },
     "execution_count": 35,
     "metadata": {},
     "output_type": "execute_result"
    }
   ],
   "source": [
    "infos[9]['obs']*180"
   ]
  },
  {
   "cell_type": "code",
   "execution_count": 34,
   "metadata": {},
   "outputs": [
    {
     "data": {
      "text/plain": [
       "{'img': array([[0, 0, 1, ..., 1, 0, 0],\n",
       "        [0, 2, 2, ..., 3, 1, 0],\n",
       "        [0, 0, 0, ..., 0, 0, 0],\n",
       "        ...,\n",
       "        [0, 1, 2, ..., 3, 0, 0],\n",
       "        [0, 3, 0, ..., 3, 1, 0],\n",
       "        [0, 1, 0, ..., 0, 0, 0]], dtype=uint8),\n",
       " 'loc': array([1054.375,  993.25 ]),\n",
       " 't': 7.51600000000326,\n",
       " 'endpts': array([[1053, 1056],\n",
       "        [ 990,  998]]),\n",
       " 'obs': array([0.16666667, 0.        ]),\n",
       " 'reward': -0.049999999999954525,\n",
       " 'target': 90,\n",
       " 'action': 0,\n",
       " 'angs': array([0.        , 0.83333333])}"
      ]
     },
     "execution_count": 34,
     "metadata": {},
     "output_type": "execute_result"
    }
   ],
   "source": [
    "infos[9]"
   ]
  },
  {
   "cell_type": "code",
   "execution_count": 34,
   "metadata": {},
   "outputs": [
    {
     "data": {
      "text/plain": [
       "{'img': array([[0, 0, 0, ..., 1, 0, 0],\n",
       "        [1, 2, 2, ..., 0, 2, 2],\n",
       "        [1, 3, 1, ..., 1, 0, 1],\n",
       "        ...,\n",
       "        [1, 0, 0, ..., 0, 0, 0],\n",
       "        [1, 0, 2, ..., 1, 0, 0],\n",
       "        [0, 1, 1, ..., 0, 0, 0]], dtype=uint8),\n",
       " 'loc': array([885.66, 868.46]),\n",
       " 't': 0.75,\n",
       " 'endpts': array([[884, 883],\n",
       "        [864, 881]]),\n",
       " 'obs': array([ 30., -30.]),\n",
       " 'reward': 0.2899999999999636,\n",
       " 'target': 90,\n",
       " 'action': 0,\n",
       " 'angs': array([ 90, 240]),\n",
       " 'scores': array([128103, 154175]),\n",
       " 'body': 120}"
      ]
     },
     "execution_count": 34,
     "metadata": {},
     "output_type": "execute_result"
    }
   ],
   "source": [
    "info"
   ]
  },
  {
   "cell_type": "code",
   "execution_count": 25,
   "metadata": {},
   "outputs": [],
   "source": [
    "templates,bodies = load_templates()"
   ]
  },
  {
   "cell_type": "code",
   "execution_count": 35,
   "metadata": {},
   "outputs": [],
   "source": [
    "best_matches = find_angs(info['img'],[885,868],[885,860],templates)\n",
    "info['scores'] = best_matches[0,:]\n",
    "info['angs'] = best_matches[1,:]\n",
    "info['endpts'] = best_matches[2:,:]\n",
    "info['body'] = find_body(info,bodies)"
   ]
  },
  {
   "cell_type": "code",
   "execution_count": 36,
   "metadata": {},
   "outputs": [
    {
     "data": {
      "text/plain": [
       "120"
      ]
     },
     "execution_count": 36,
     "metadata": {},
     "output_type": "execute_result"
    }
   ],
   "source": [
    "info['body']"
   ]
  },
  {
   "cell_type": "code",
   "execution_count": 38,
   "metadata": {},
   "outputs": [
    {
     "data": {
      "text/plain": [
       "120"
      ]
     },
     "execution_count": 38,
     "metadata": {},
     "output_type": "execute_result"
    }
   ],
   "source": [
    "def get_vec(deg):\n",
    "    return [np.cos(deg),np.sin(deg)]\n",
    "\n",
    "res = [min(cv2.matchTemplate(info['img'],body,cv2.TM_SQDIFF).flatten()) for body in bodies]\n",
    "deg = np.argmin(res) * DEG_INCR *pi/180 # to radians\n",
    "end_ang = np.arctan2(-(info['endpts'][1,0] - info['endpts'][1,1]), info['endpts'][0,0] - info['endpts'][0,1])\n",
    "                        # y1 - y0, x1 - x0\n",
    "end_vec = get_vec(end_ang)\n",
    "deg_vec0 = get_vec(deg)\n",
    "deg_vec1 = get_vec(deg+pi)\n",
    "\n",
    "# Returns 0 if original template is best. Returns 1 if need to add 180 deg\n",
    "better_deg = np.argmax([proj(end_vec,deg_vec0),proj(end_vec,deg_vec1)])\n",
    "round(deg*180/pi + 180*better_deg)"
   ]
  },
  {
   "cell_type": "code",
   "execution_count": 39,
   "metadata": {},
   "outputs": [
    {
     "data": {
      "text/plain": [
       "[2691739.0, 2257419.0, 2126811.0, 2193435.0, 2024926.0, 2238768.0]"
      ]
     },
     "execution_count": 39,
     "metadata": {},
     "output_type": "execute_result"
    }
   ],
   "source": [
    "res"
   ]
  },
  {
   "cell_type": "code",
   "execution_count": null,
   "metadata": {},
   "outputs": [],
   "source": []
  }
 ],
 "metadata": {
  "kernelspec": {
   "display_name": "rlkit",
   "language": "python",
   "name": "rlkit"
  },
  "language_info": {
   "codemirror_mode": {
    "name": "ipython",
    "version": 3
   },
   "file_extension": ".py",
   "mimetype": "text/x-python",
   "name": "python",
   "nbconvert_exporter": "python",
   "pygments_lexer": "ipython3",
   "version": "3.8.5"
  }
 },
 "nbformat": 4,
 "nbformat_minor": 4
}
