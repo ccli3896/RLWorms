{
 "cells": [
  {
   "cell_type": "code",
   "execution_count": 1,
   "metadata": {},
   "outputs": [],
   "source": [
    "from datetime import datetime\n",
    "import pickle"
   ]
  },
  {
   "cell_type": "code",
   "execution_count": 7,
   "metadata": {},
   "outputs": [
    {
     "data": {
      "text/plain": [
       "'30-10-2020_17-21-30'"
      ]
     },
     "execution_count": 7,
     "metadata": {},
     "output_type": "execute_result"
    }
   ],
   "source": [
    "datetime.now().strftime(\"%d-%m-%Y_%H-%M-%S\")"
   ]
  },
  {
   "cell_type": "code",
   "execution_count": 2,
   "metadata": {},
   "outputs": [],
   "source": [
    "with open('Data/traj30-10-2020_17-26-15.pkl','rb') as f:\n",
    "    traj = pickle.load(f)"
   ]
  },
  {
   "cell_type": "code",
   "execution_count": 3,
   "metadata": {},
   "outputs": [
    {
     "data": {
      "text/plain": [
       "{'loc': [array([0., 0.]),\n",
       "  array([0., 0.]),\n",
       "  array([0., 0.]),\n",
       "  array([0., 0.]),\n",
       "  array([1658.,  205.]),\n",
       "  array([0., 0.]),\n",
       "  array([0., 0.]),\n",
       "  array([0., 0.]),\n",
       "  array([0., 0.]),\n",
       "  array([0., 0.])],\n",
       " 't': [0.39099999982863665,\n",
       "  0.5779999997466803,\n",
       "  0.7659999998286366,\n",
       "  0.9529999997466803,\n",
       "  1.1409999998286366,\n",
       "  1.3279999997466803,\n",
       "  1.5159999998286366,\n",
       "  1.6880000000819564,\n",
       "  1.875,\n",
       "  2.0469999997876585],\n",
       " 'endpts': [array([[-1., -1.],\n",
       "         [-1., -1.]]),\n",
       "  array([[-1., -1.],\n",
       "         [-1., -1.]]),\n",
       "  array([[-1., -1.],\n",
       "         [-1., -1.]]),\n",
       "  array([[-1., -1.],\n",
       "         [-1., -1.]]),\n",
       "  array([[1641, 1651],\n",
       "         [ 193,  209]]),\n",
       "  array([[-1., -1.],\n",
       "         [-1., -1.]]),\n",
       "  array([[-1., -1.],\n",
       "         [-1., -1.]]),\n",
       "  array([[-1., -1.],\n",
       "         [-1., -1.]]),\n",
       "  array([[-1., -1.],\n",
       "         [-1., -1.]]),\n",
       "  array([[-1., -1.],\n",
       "         [-1., -1.]])],\n",
       " 'obs': [array([0., 0.]),\n",
       "  array([0., 0.]),\n",
       "  array([0., 0.]),\n",
       "  array([0., 0.]),\n",
       "  array([0.16666667, 0.83333333]),\n",
       "  array([0., 0.]),\n",
       "  array([0., 0.]),\n",
       "  array([0., 0.]),\n",
       "  array([0., 0.]),\n",
       "  array([0., 0.])],\n",
       " 'reward': [0, 0, 0, 0, 0.0, 0, 0, 0, 0, 0],\n",
       " 'target': [90, 90, 90, 90, 90, 90, 90, 90, 90, 90],\n",
       " 'action': [1, 0, 0, 1, 0, 0, 0, 1, 0, 0]}"
      ]
     },
     "execution_count": 3,
     "metadata": {},
     "output_type": "execute_result"
    }
   ],
   "source": [
    "traj"
   ]
  },
  {
   "cell_type": "code",
   "execution_count": null,
   "metadata": {},
   "outputs": [],
   "source": []
  }
 ],
 "metadata": {
  "kernelspec": {
   "display_name": "rlkit",
   "language": "python",
   "name": "rlkit"
  },
  "language_info": {
   "codemirror_mode": {
    "name": "ipython",
    "version": 3
   },
   "file_extension": ".py",
   "mimetype": "text/x-python",
   "name": "python",
   "nbconvert_exporter": "python",
   "pygments_lexer": "ipython3",
   "version": "3.8.5"
  }
 },
 "nbformat": 4,
 "nbformat_minor": 4
}
