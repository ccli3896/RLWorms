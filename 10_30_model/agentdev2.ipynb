{
 "cells": [
  {
   "cell_type": "code",
   "execution_count": 3,
   "metadata": {},
   "outputs": [],
   "source": [
    "import numpy as np\n",
    "import pandas as pd\n",
    "import matplotlib.pyplot as plt\n",
    "import pickle\n",
    "import bin_utils as ut\n",
    "import bin_model_env as me"
   ]
  },
  {
   "cell_type": "code",
   "execution_count": 4,
   "metadata": {},
   "outputs": [],
   "source": [
    "fnames=[\n",
    "    # First worm\n",
    "    'Data/traj12-11-2020_19-04-41.pkl', #none\n",
    "    'Data/traj12-11-2020_19-14-38.pkl', #none\n",
    "    'Data/traj12-11-2020_19-24-30.pkl', #xlim 800\n",
    "    # 'Data/traj12-11-2020_19-35-31.pkl', #none # Seems like an especially bad dataset. Actually ruined all the others\n",
    "    # Second worm\n",
    "    'Data/traj12-11-2020_19-55-19.pkl', #none\n",
    "    'Data/traj12-11-2020_20-05-11.pkl', #none\n",
    "    'Data/traj12-11-2020_20-15-17.pkl', #none\n",
    "    'Data/traj12-11-2020_20-25-06.pkl', #xlim 1430\n",
    "]\n",
    "\n",
    "xlims = [1e6,1e6,800,1e6,1e6,1e6,1430]\n",
    "\n",
    "traj_df = ut.make_df(fnames,xlimit=xlims,time_steps=10)\n",
    "dist_dict = ut.make_dist_dict(traj_df)"
   ]
  },
  {
   "cell_type": "code",
   "execution_count": 5,
   "metadata": {},
   "outputs": [],
   "source": [
    "class Q_Agent_Base():\n",
    "    # Following pseudocode from pp131. \n",
    "    # Assumes epsilon greedy.\n",
    "    def __init__(self,\n",
    "                env,\n",
    "                gamma=0.98,\n",
    "                epsilon=0.05,\n",
    "                q_checkpoint = None,\n",
    "                ):\n",
    "        \n",
    "        # Set hyperparameters and env\n",
    "        self.gamma = gamma\n",
    "        self.epsilon = epsilon\n",
    "        self.obs_n = env.observation_space.n\n",
    "        self.act_n = env.action_space.n\n",
    "        \n",
    "        # Initialize Q table with optimistic starts\n",
    "        if q_checkpoint is None:\n",
    "            self.Qtab = np.random.normal(2,.5,size=(self.obs_n, self.act_n))\n",
    "        else:\n",
    "            self.Qtab = q_checkpoint\n",
    "        \n",
    "        # Initialize other things\n",
    "        self.eps = 0\n",
    "        self.steps = 0 # For current episode, not sure if this will be useful\n",
    "        self.tot_steps = 0\n",
    "    \n",
    "    def update(self, obs, action, next_obs, reward):\n",
    "        raise NotImplementedError\n",
    "        \n",
    "    def act(self, obs=None):        \n",
    "        if obs is None or np.random.random() < self.epsilon:\n",
    "            # Chooses random action if no observation (first step) OR if epsilon condition passes\n",
    "            return np.random.choice(self.act_n)\n",
    "        else:\n",
    "            # Choose a greedy action\n",
    "            return np.argmax(self.Qtab[obs,:])          \n",
    "        \n",
    "    def eval_act(self, obs):\n",
    "        if obs is None:\n",
    "            return np.random.choice(self.act_n)\n",
    "        else:\n",
    "            # Choose a greedy action\n",
    "            return np.argmax(self.Qtab[obs,:])    "
   ]
  },
  {
   "cell_type": "code",
   "execution_count": 6,
   "metadata": {},
   "outputs": [],
   "source": [
    "class Q_Av_Agent(Q_Agent_Base):\n",
    "    # Following pseudocode from pp131. \n",
    "    # Except using averaging instead of steps, because all these data should be the same.\n",
    "    def __init__(self,\n",
    "                env,\n",
    "                gamma=0.98,\n",
    "                epsilon=0.05,\n",
    "                q_checkpoint = None,\n",
    "                q_counts_checkpoint = None,\n",
    "                ):\n",
    "        \n",
    "        super().__init__(env,\n",
    "                         gamma=gamma,\n",
    "                         epsilon=epsilon,\n",
    "                         q_checkpoint=q_checkpoint)\n",
    "        \n",
    "        # Initialize counts matrix\n",
    "        if q_counts_checkpoint is not None:\n",
    "            self.Qtab_counts = q_counts_checkpoint\n",
    "        else:\n",
    "            self.Qtab_counts = np.zeros((self.obs_n, self.act_n))\n",
    "    \n",
    "    def update(self, obs, action, next_obs, reward):\n",
    "        self.Qtab_counts[obs,action] += 1\n",
    "        self.Qtab[obs,action] = self.Qtab[obs,action] + \\\n",
    "            (1/self.Qtab_counts[obs,action])*(reward + self.gamma*np.max(self.Qtab[next_obs,:]) - self.Qtab[obs,action])\n",
    "\n",
    "class Q_Alpha_Agent(Q_Agent_Base):\n",
    "    # Following pseudocode from pp131. \n",
    "    def __init__(self,\n",
    "                env,\n",
    "                gamma=0.98,\n",
    "                epsilon=0.05,\n",
    "                alpha=0.005,\n",
    "                q_checkpoint = None,\n",
    "                q_counts_checkpoint = None,\n",
    "                ):\n",
    "        \n",
    "        super().__init__(env,\n",
    "                         gamma=gamma,\n",
    "                         epsilon=epsilon,\n",
    "                         q_checkpoint=q_checkpoint)\n",
    "        \n",
    "        self.alpha = alpha\n",
    "    \n",
    "    def update(self, obs, action, next_obs, reward):\n",
    "        self.Qtab[obs,action] = self.Qtab[obs,action] + \\\n",
    "            self.alpha*(reward + self.gamma*np.max(self.Qtab[next_obs,:]) - self.Qtab[obs,action])"
   ]
  },
  {
   "cell_type": "code",
   "execution_count": 7,
   "metadata": {},
   "outputs": [],
   "source": [
    "def learner(agent, env,\n",
    "            episodes = 50000,\n",
    "            steps_per_ep = 1000,\n",
    "            eps_per_eval = 1000,\n",
    "           ):\n",
    "    # Runs an evaluation episode every so often. Returns average rewards per step for these.\n",
    "    # Returns average rewards for each episode.\n",
    "    # Also returns agent.\n",
    "    \n",
    "    rewards = np.zeros(episodes)\n",
    "    eval_rewards = np.zeros((episodes//eps_per_eval)+1)\n",
    "    \n",
    "    for ep in range(episodes):\n",
    "        obs = env.reset()\n",
    "        reward_vec = np.zeros(steps_per_ep)\n",
    "        \n",
    "        for step in range(steps_per_ep):\n",
    "            action = agent.act(obs)\n",
    "            next_obs, reward_vec[step], done, info = env.step(action)\n",
    "            agent.update(obs, action, next_obs, reward_vec[step])\n",
    "            obs = next_obs\n",
    "        \n",
    "        rewards[ep] = np.mean(reward_vec)\n",
    "        \n",
    "        # Evaluation episodes\n",
    "        if ep%eps_per_eval==0 or ep==episodes-1:\n",
    "            if ep%eps_per_eval==0:\n",
    "                eval_reward_ind = ep//eps_per_eval\n",
    "            else:\n",
    "                eval_reward_ind = -1\n",
    "            obs = env.reset()\n",
    "            eval_reward_vec = np.zeros(steps_per_ep)\n",
    "            \n",
    "            for step in range(steps_per_ep):\n",
    "                action = agent.eval_act(obs)\n",
    "                obs, eval_reward_vec[step], done, info = env.step(action)\n",
    "                \n",
    "            eval_rewards[eval_reward_ind] = np.mean(eval_reward_vec)\n",
    "            print(f'Eval {eval_reward_ind}: average {eval_rewards[eval_reward_ind]}')\n",
    "    \n",
    "    return agent, rewards, eval_rewards"
   ]
  },
  {
   "cell_type": "code",
   "execution_count": 8,
   "metadata": {},
   "outputs": [],
   "source": [
    "toy_worm = me.FakeWorm(dist_dict)\n",
    "alph_mouse = Q_Alpha_Agent(toy_worm)"
   ]
  },
  {
   "cell_type": "code",
   "execution_count": null,
   "metadata": {},
   "outputs": [
    {
     "name": "stdout",
     "output_type": "stream",
     "text": [
      "Eval 0: average 7.473295884121925\n",
      "Eval 1: average 8.680504727087982\n",
      "Eval 2: average 9.902857021681001\n",
      "Eval 3: average 9.117078330027534\n",
      "Eval 4: average 9.239175012512518\n",
      "Eval 5: average 9.112388277393254\n",
      "Eval 6: average 9.562869235043227\n",
      "Eval 7: average 10.087192463456365\n",
      "Eval 8: average 9.430832609993747\n",
      "Eval 9: average 9.073488318935732\n"
     ]
    }
   ],
   "source": [
    "alph_mouse_learned, rewards, eval_rewards = learner(alph_mouse, toy_worm,\n",
    "                                                   episodes=20000,\n",
    "                                                   steps_per_ep=1000,\n",
    "                                                   eps_per_eval=1000,)"
   ]
  },
  {
   "cell_type": "markdown",
   "metadata": {},
   "source": [
    "# Hparams"
   ]
  },
  {
   "cell_type": "markdown",
   "metadata": {},
   "source": [
    "gamma=0.98,\n",
    "epsilon=0.05,\n",
    "alpha=0.005,\n",
    "\n",
    "episodes = 50000,\n",
    "steps_per_ep = 1000,\n",
    "eps_per_eval = 1000,"
   ]
  },
  {
   "cell_type": "code",
   "execution_count": 16,
   "metadata": {},
   "outputs": [
    {
     "data": {
      "image/png": "[encoded data removed]",
      "text/plain": [
       "<Figure size 576x360 with 4 Axes>"
      ]
     },
     "metadata": {
      "needs_background": "light"
     },
     "output_type": "display_data"
    }
   ],
   "source": [
    "fig, ax = plt.subplots(1,2)\n",
    "fig.set_size_inches((8,5))\n",
    "for i in range(2):\n",
    "    im = ax[i].imshow(alph_mouse_learned.Qtab[:,i].reshape(12,12))\n",
    "    fig.colorbar(im,ax=ax[i])"
   ]
  },
  {
   "cell_type": "code",
   "execution_count": 17,
   "metadata": {},
   "outputs": [
    {
     "data": {
      "text/plain": [
       "<matplotlib.colorbar.Colorbar at 0x139d5183820>"
      ]
     },
     "execution_count": 17,
     "metadata": {},
     "output_type": "execute_result"
    },
    {
     "data": {
      "image/png": "[encoded data removed]",
      "text/plain": [
       "<Figure size 432x288 with 2 Axes>"
      ]
     },
     "metadata": {
      "needs_background": "light"
     },
     "output_type": "display_data"
    }
   ],
   "source": [
    "plt.imshow(np.sign(alph_mouse_learned.Qtab[:,1].reshape(12,12)-alph_mouse_learned.Qtab[:,0].reshape(12,12)))\n",
    "plt.colorbar()"
   ]
  },
  {
   "cell_type": "markdown",
   "metadata": {},
   "source": [
    "# Testing binned obs version (rewards unchanged)"
   ]
  },
  {
   "cell_type": "code",
   "execution_count": null,
   "metadata": {},
   "outputs": [],
   "source": []
  }
 ],
 "metadata": {
  "kernelspec": {
   "display_name": "r919",
   "language": "python",
   "name": "r919"
  },
  "language_info": {
   "codemirror_mode": {
    "name": "ipython",
    "version": 3
   },
   "file_extension": ".py",
   "mimetype": "text/x-python",
   "name": "python",
   "nbconvert_exporter": "python",
   "pygments_lexer": "ipython3",
   "version": "3.8.5"
  }
 },
 "nbformat": 4,
 "nbformat_minor": 4
}
