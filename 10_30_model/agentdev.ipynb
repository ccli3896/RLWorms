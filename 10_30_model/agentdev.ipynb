{
 "cells": [
  {
   "cell_type": "code",
   "execution_count": 1,
   "metadata": {},
   "outputs": [],
   "source": [
    "import numpy as np\n",
    "import pandas as pd\n",
    "import matplotlib.pyplot as plt\n",
    "import pickle"
   ]
  },
  {
   "cell_type": "code",
   "execution_count": 2,
   "metadata": {},
   "outputs": [],
   "source": [
    "import utils as ut\n",
    "import model_env as me"
   ]
  },
  {
   "cell_type": "code",
   "execution_count": 3,
   "metadata": {},
   "outputs": [],
   "source": [
    "fnames=[\n",
    "    # First worm\n",
    "    'Data/traj12-11-2020_19-04-41.pkl', #none\n",
    "    'Data/traj12-11-2020_19-14-38.pkl', #none\n",
    "    'Data/traj12-11-2020_19-24-30.pkl', #xlim 800\n",
    "    # 'Data/traj12-11-2020_19-35-31.pkl', #none # Seems like an especially bad dataset. Actually ruined all the others\n",
    "    # Second worm\n",
    "    'Data/traj12-11-2020_19-55-19.pkl', #none\n",
    "    'Data/traj12-11-2020_20-05-11.pkl', #none\n",
    "    'Data/traj12-11-2020_20-15-17.pkl', #none\n",
    "    'Data/traj12-11-2020_20-25-06.pkl', #xlim 1430\n",
    "]\n",
    "\n",
    "xlims = [1e6,1e6,800,1e6,1e6,1e6,1430]\n",
    "\n",
    "traj_df = ut.make_df(fnames,xlimit=xlims,time_steps=10)\n",
    "dist_dict = ut.make_dist_dict(traj_df)"
   ]
  },
  {
   "cell_type": "markdown",
   "metadata": {},
   "source": [
    "# Q learning implementation (box pp131)"
   ]
  },
  {
   "cell_type": "code",
   "execution_count": 4,
   "metadata": {},
   "outputs": [],
   "source": [
    "class Q_Agent_Base():\n",
    "    # Following pseudocode from pp131. \n",
    "    # Assumes epsilon greedy.\n",
    "    def __init__(self,\n",
    "                env,\n",
    "                gamma=0.98,\n",
    "                epsilon=0.05,\n",
    "                q_checkpoint = None,\n",
    "                ):\n",
    "        \n",
    "        # Set hyperparameters and env\n",
    "        self.gamma = gamma\n",
    "        self.epsilon = epsilon\n",
    "        self.obs_n = env.observation_space.n\n",
    "        self.act_n = env.action_space.n\n",
    "        \n",
    "        # Initialize Q table with optimistic starts\n",
    "        if q_checkpoint is None:\n",
    "            self.Qtab = np.random.normal(2,.5,size=(self.obs_n, self.act_n))\n",
    "        else:\n",
    "            self.Qtab = q_checkpoint\n",
    "        \n",
    "        # Initialize other things\n",
    "        self.eps = 0\n",
    "        self.steps = 0 # For current episode, not sure if this will be useful\n",
    "        self.tot_steps = 0\n",
    "    \n",
    "    def update(self, obs, action, next_obs, reward):\n",
    "        raise NotImplementedError\n",
    "        \n",
    "    def act(self, obs=None):        \n",
    "        if obs is None or np.random.random() < self.epsilon:\n",
    "            # Chooses random action if no observation (first step) OR if epsilon condition passes\n",
    "            return np.random.choice(self.act_n)\n",
    "        else:\n",
    "            # Choose a greedy action\n",
    "            return np.argmax(self.Qtab[obs,:])          \n",
    "        \n",
    "    def eval_act(self, obs):\n",
    "        if obs is None:\n",
    "            return np.random.choice(self.act_n)\n",
    "        else:\n",
    "            # Choose a greedy action\n",
    "            return np.argmax(self.Qtab[obs,:])    "
   ]
  },
  {
   "cell_type": "code",
   "execution_count": 5,
   "metadata": {},
   "outputs": [],
   "source": [
    "class Q_Av_Agent(Q_Agent_Base):\n",
    "    # Following pseudocode from pp131. \n",
    "    # Except using averaging instead of steps, because all these data should be the same.\n",
    "    def __init__(self,\n",
    "                env,\n",
    "                gamma=0.98,\n",
    "                epsilon=0.05,\n",
    "                q_checkpoint = None,\n",
    "                q_counts_checkpoint = None,\n",
    "                ):\n",
    "        \n",
    "        super().__init__(env,\n",
    "                         gamma=gamma,\n",
    "                         epsilon=epsilon,\n",
    "                         q_checkpoint=q_checkpoint)\n",
    "        \n",
    "        # Initialize counts matrix\n",
    "        if q_counts_checkpoint is not None:\n",
    "            self.Qtab_counts = q_counts_checkpoint\n",
    "        else:\n",
    "            self.Qtab_counts = np.zeros((self.obs_n, self.act_n))\n",
    "    \n",
    "    def update(self, obs, action, next_obs, reward):\n",
    "        self.Qtab_counts[obs,action] += 1\n",
    "        self.Qtab[obs,action] = self.Qtab[obs,action] + \\\n",
    "            (1/self.Qtab_counts[obs,action])*(reward + self.gamma*np.max(self.Qtab[next_obs,:]) - self.Qtab[obs,action])\n",
    "\n",
    "class Q_Alpha_Agent(Q_Agent_Base):\n",
    "    # Following pseudocode from pp131. \n",
    "    def __init__(self,\n",
    "                env,\n",
    "                gamma=0.98,\n",
    "                epsilon=0.05,\n",
    "                alpha=0.005,\n",
    "                q_checkpoint = None,\n",
    "                q_counts_checkpoint = None,\n",
    "                ):\n",
    "        \n",
    "        super().__init__(env,\n",
    "                         gamma=gamma,\n",
    "                         epsilon=epsilon,\n",
    "                         q_checkpoint=q_checkpoint)\n",
    "        \n",
    "        self.alpha = alpha\n",
    "    \n",
    "    def update(self, obs, action, next_obs, reward):\n",
    "        self.Qtab[obs,action] = self.Qtab[obs,action] + \\\n",
    "            self.alpha*(reward + self.gamma*np.max(self.Qtab[next_obs,:]) - self.Qtab[obs,action])"
   ]
  },
  {
   "cell_type": "code",
   "execution_count": 8,
   "metadata": {},
   "outputs": [],
   "source": [
    "def learner(agent, env,\n",
    "            episodes = 10000,\n",
    "            steps_per_ep = 1000,\n",
    "            eps_per_eval = 1000,\n",
    "           ):\n",
    "    # Runs an evaluation episode every so often. Returns average rewards per step for these.\n",
    "    # Returns average rewards for each episode.\n",
    "    # Also returns agent.\n",
    "    \n",
    "    rewards = np.zeros(episodes)\n",
    "    eval_rewards = np.zeros((episodes//eps_per_eval)+1)\n",
    "    \n",
    "    for ep in range(episodes):\n",
    "        obs = env.reset()\n",
    "        reward_vec = np.zeros(steps_per_ep)\n",
    "        \n",
    "        for step in range(steps_per_ep):\n",
    "            action = agent.act(obs)\n",
    "            next_obs, reward_vec[step], done, info = env.step(action)\n",
    "            agent.update(obs, action, next_obs, reward_vec[step])\n",
    "            obs = next_obs\n",
    "        \n",
    "        rewards[ep] = np.mean(reward_vec)\n",
    "        \n",
    "        # Evaluation episodes\n",
    "        if ep%eps_per_eval==0 or ep==episodes-1:\n",
    "            if ep%eps_per_eval==0:\n",
    "                eval_reward_ind = ep//eps_per_eval\n",
    "            else:\n",
    "                eval_reward_ind = -1\n",
    "            obs = env.reset()\n",
    "            eval_reward_vec = np.zeros(steps_per_ep)\n",
    "            \n",
    "            for step in range(steps_per_ep):\n",
    "                action = agent.eval_act(obs)\n",
    "                obs, eval_reward_vec[step], done, info = env.step(action)\n",
    "                \n",
    "            eval_rewards[eval_reward_ind] = np.mean(eval_reward_vec)\n",
    "            print(f'Eval {eval_reward_ind}: average {eval_rewards[eval_reward_ind]}')\n",
    "    \n",
    "    return agent, rewards, eval_rewards"
   ]
  },
  {
   "cell_type": "code",
   "execution_count": 35,
   "metadata": {},
   "outputs": [],
   "source": [
    "toy_worm = me.FakeWorm(dist_dict)\n",
    "av_mouse = Q_Av_Agent(toy_worm)"
   ]
  },
  {
   "cell_type": "code",
   "execution_count": 36,
   "metadata": {},
   "outputs": [
    {
     "name": "stdout",
     "output_type": "stream",
     "text": [
      "Eval 0: average 2.956870561804162\n",
      "Eval 1: average 6.498934071391775\n",
      "Eval 2: average 4.861017951943124\n",
      "Eval 3: average 5.858963402893907\n",
      "Eval 4: average 4.958491793580945\n",
      "Eval 5: average 5.925222909935621\n",
      "Eval 6: average 5.701240287709988\n",
      "Eval 7: average 6.23423687777399\n",
      "Eval 8: average 5.717286415237293\n",
      "Eval 9: average 4.923309638641622\n",
      "Eval -1: average 5.296834744705466\n"
     ]
    }
   ],
   "source": [
    "av_mouse_learned, rewards, eval_rewards = learner(av_mouse, toy_worm)"
   ]
  },
  {
   "cell_type": "code",
   "execution_count": 37,
   "metadata": {},
   "outputs": [
    {
     "data": {
      "text/plain": [
       "[<matplotlib.lines.Line2D at 0x1ed816fddc0>]"
      ]
     },
     "execution_count": 37,
     "metadata": {},
     "output_type": "execute_result"
    },
    {
     "data": {
      "image/png": "[encoded data removed]",
      "text/plain": [
       "<Figure size 432x288 with 1 Axes>"
      ]
     },
     "metadata": {
      "needs_background": "light"
     },
     "output_type": "display_data"
    }
   ],
   "source": [
    "plt.plot(rewards)"
   ]
  },
  {
   "cell_type": "code",
   "execution_count": 46,
   "metadata": {},
   "outputs": [
    {
     "data": {
      "image/png": "[encoded data removed]",
      "text/plain": [
       "<Figure size 576x360 with 4 Axes>"
      ]
     },
     "metadata": {
      "needs_background": "light"
     },
     "output_type": "display_data"
    }
   ],
   "source": [
    "fig, ax = plt.subplots(1,2)\n",
    "fig.set_size_inches((8,5))\n",
    "for i in range(2):\n",
    "    im = ax[i].imshow(av_mouse_learned.Qtab[:,i].reshape(12,12))\n",
    "    fig.colorbar(im,ax=ax[i])"
   ]
  },
  {
   "cell_type": "code",
   "execution_count": 49,
   "metadata": {},
   "outputs": [
    {
     "data": {
      "text/plain": [
       "<matplotlib.colorbar.Colorbar at 0x1ed86150790>"
      ]
     },
     "execution_count": 49,
     "metadata": {},
     "output_type": "execute_result"
    },
    {
     "data": {
      "image/png": "[encoded data removed]",
      "text/plain": [
       "<Figure size 432x288 with 2 Axes>"
      ]
     },
     "metadata": {
      "needs_background": "light"
     },
     "output_type": "display_data"
    }
   ],
   "source": [
    "plt.imshow(np.sign(av_mouse_learned.Qtab[:,1].reshape(12,12)-av_mouse_learned.Qtab[:,0].reshape(12,12)))\n",
    "plt.colorbar()"
   ]
  },
  {
   "cell_type": "markdown",
   "metadata": {},
   "source": [
    "# Binned obs tests"
   ]
  },
  {
   "cell_type": "code",
   "execution_count": 12,
   "metadata": {},
   "outputs": [],
   "source": [
    "toy_worm = me.FakeWorm(dist_dict)\n",
    "av_mouse = Q_Av_Agent(toy_worm)"
   ]
  },
  {
   "cell_type": "code",
   "execution_count": 13,
   "metadata": {},
   "outputs": [
    {
     "name": "stdout",
     "output_type": "stream",
     "text": [
      "Eval 0: average 2.6018065042902045\n",
      "Eval 1: average 6.137917632332284\n",
      "Eval 2: average 6.205340705513722\n",
      "Eval 3: average 6.0416112396871915\n",
      "Eval 4: average 5.19415541649165\n",
      "Eval 5: average 5.087906057999943\n",
      "Eval 6: average 6.613088005645984\n",
      "Eval 7: average 4.829969060973515\n",
      "Eval 8: average 6.388922849499982\n",
      "Eval 9: average 6.113531443438951\n",
      "Eval 10: average 6.153506048828566\n",
      "Eval 11: average 6.452047063938682\n",
      "Eval 12: average 5.602597352527556\n",
      "Eval 13: average 5.681120843068352\n",
      "Eval 14: average 5.062257330447437\n",
      "Eval 15: average 5.301242390078838\n",
      "Eval 16: average 5.91851353881945\n",
      "Eval 17: average 6.088936222586368\n",
      "Eval 18: average 5.531824309637892\n",
      "Eval 19: average 5.860975386418641\n",
      "Eval -1: average 5.770225794506234\n"
     ]
    }
   ],
   "source": [
    "av_mouse_learned, rewards, eval_rewards = learner(av_mouse, toy_worm, \n",
    "                                                  episodes=20000,\n",
    "                                                  steps_per_ep = 1000,\n",
    "                                                  eps_per_eval = 1000,)"
   ]
  },
  {
   "cell_type": "code",
   "execution_count": null,
   "metadata": {},
   "outputs": [],
   "source": []
  }
 ],
 "metadata": {
  "kernelspec": {
   "display_name": "r919",
   "language": "python",
   "name": "r919"
  },
  "language_info": {
   "codemirror_mode": {
    "name": "ipython",
    "version": 3
   },
   "file_extension": ".py",
   "mimetype": "text/x-python",
   "name": "python",
   "nbconvert_exporter": "python",
   "pygments_lexer": "ipython3",
   "version": "3.8.5"
  }
 },
 "nbformat": 4,
 "nbformat_minor": 4
}
