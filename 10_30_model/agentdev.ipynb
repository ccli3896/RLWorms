{
 "cells": [
  {
   "cell_type": "code",
   "execution_count": 1,
   "metadata": {},
   "outputs": [],
   "source": [
    "import numpy as np\n",
    "import pandas as pd\n",
    "import matplotlib.pyplot as plt\n",
    "import pickle"
   ]
  },
  {
   "cell_type": "code",
   "execution_count": 2,
   "metadata": {},
   "outputs": [],
   "source": [
    "import utils\n",
    "import model_env as me"
   ]
  },
  {
   "cell_type": "code",
   "execution_count": 3,
   "metadata": {},
   "outputs": [],
   "source": [
    "fnames=[\n",
    "    # First worm\n",
    "    'Data/traj12-11-2020_19-04-41.pkl', #none\n",
    "    'Data/traj12-11-2020_19-14-38.pkl', #none\n",
    "    'Data/traj12-11-2020_19-24-30.pkl', #xlim 800\n",
    "    # 'Data/traj12-11-2020_19-35-31.pkl', #none # Seems like an especially bad dataset. Actually ruined all the others\n",
    "    # Second worm\n",
    "    'Data/traj12-11-2020_19-55-19.pkl', #none\n",
    "    'Data/traj12-11-2020_20-05-11.pkl', #none\n",
    "    'Data/traj12-11-2020_20-15-17.pkl', #none\n",
    "    'Data/traj12-11-2020_20-25-06.pkl', #xlim 1430\n",
    "]\n",
    "\n",
    "xlims = [1e6,1e6,800,1e6,1e6,1e6,1430]\n",
    "\n",
    "traj_df = utils.make_df(fnames,xlimit=xlims,time_steps=10)"
   ]
  },
  {
   "cell_type": "code",
   "execution_count": 4,
   "metadata": {},
   "outputs": [],
   "source": [
    "dist_dict = utils.make_dist_dict(traj_df)"
   ]
  },
  {
   "cell_type": "markdown",
   "metadata": {},
   "source": [
    "# Q learning implementation (box pp131)"
   ]
  },
  {
   "cell_type": "code",
   "execution_count": 7,
   "metadata": {},
   "outputs": [],
   "source": [
    "class Q_Agent_Base():\n",
    "    # Following pseudocode from pp131. \n",
    "    # Assumes epsilon greedy.\n",
    "    def __init__(self,\n",
    "                env,\n",
    "                gamma=0.98,\n",
    "                epsilon=0.05,\n",
    "                q_checkpoint = None,\n",
    "                ):\n",
    "        \n",
    "        # Set hyperparameters and env\n",
    "        self.gamma = gamma\n",
    "        self.epsilon = epsilon\n",
    "        self.obs_n = env.observation_space.n\n",
    "        self.act_n = env.action_space.n\n",
    "        \n",
    "        # Initialize Q table with optimistic starts\n",
    "        if q_checkpoint is None:\n",
    "            self.Qtab = np.random.normal(2,.5,size=(self.obs_n, self.act_n))\n",
    "        else:\n",
    "            self.Qtab = q_checkpoint\n",
    "        \n",
    "        # Initialize other things\n",
    "        self.eps = 0\n",
    "        self.steps = 0 # For current episode, not sure if this will be useful\n",
    "        self.tot_steps = 0\n",
    "    \n",
    "    def update(self, obs, action, next_obs, reward):\n",
    "        raise NotImplementedError\n",
    "        \n",
    "    def act(self, obs=None):        \n",
    "        if obs is None or np.random.random() < self.epsilon:\n",
    "            # Chooses random action if no observation (first step) OR if epsilon condition passes\n",
    "            return np.random.choice(self.act_n)\n",
    "        else:\n",
    "            # Choose a greedy action\n",
    "            return np.argmax(self.Qtab[obs,:])          \n",
    "        \n",
    "    def eval_act(self, obs):\n",
    "        if obs is None:\n",
    "            return np.random.choice(self.act_n)\n",
    "        else:\n",
    "            # Choose a greedy action\n",
    "            return np.argmax(self.Qtab[obs,:])    "
   ]
  },
  {
   "cell_type": "code",
   "execution_count": 8,
   "metadata": {},
   "outputs": [],
   "source": [
    "class Q_Av_Agent(Q_Agent_Base):\n",
    "    # Following pseudocode from pp131. \n",
    "    # Except using averaging instead of steps, because all these data should be the same.\n",
    "    def __init__(self,\n",
    "                env,\n",
    "                gamma=0.98,\n",
    "                epsilon=0.05,\n",
    "                q_checkpoint = None,\n",
    "                q_counts_checkpoint = None,\n",
    "                ):\n",
    "        \n",
    "        super().__init__(self,\n",
    "                         env,\n",
    "                         gamma=gamma,\n",
    "                         epsilon=epsilon,\n",
    "                         q_checkpoint=q_checkpoint)\n",
    "        \n",
    "        # Initialize counts matrix\n",
    "        if q_counts_checkpoint is not None:\n",
    "            self.Qtab_counts = q_counts_checkpoint\n",
    "    \n",
    "    def update(self, obs, action, next_obs, reward):\n",
    "        self.Qtab_counts[obs,action] += 1\n",
    "        self.Qtab[obs,action] = self.Qtab[obs,action] + \\\n",
    "            (1/self.Qtab_counts[obs,action])*(reward + self.gamma*np.max(self.Qtab[next_obs,:]) - self.Qtab[obs,action])\n",
    "\n",
    "class Q_Alpha_Agent(Q_Agent_Base):\n",
    "    # Following pseudocode from pp131. \n",
    "    def __init__(self,\n",
    "                env,\n",
    "                gamma=0.98,\n",
    "                epsilon=0.05,\n",
    "                alpha=0.005,\n",
    "                q_checkpoint = None,\n",
    "                q_counts_checkpoint = None,\n",
    "                ):\n",
    "        \n",
    "        super().__init__(self,\n",
    "                         env,\n",
    "                         gamma=gamma,\n",
    "                         epsilon=epsilon,\n",
    "                         q_checkpoint=q_checkpoint)\n",
    "        \n",
    "        self.alpha = alpha\n",
    "    \n",
    "    def update(self, obs, action, next_obs, reward):\n",
    "        self.Qtab[obs,action] = self.Qtab[obs,action] + \\\n",
    "            self.alpha*(reward + self.gamma*np.max(self.Qtab[next_obs,:]) - self.Qtab[obs,action])"
   ]
  },
  {
   "cell_type": "code",
   "execution_count": 9,
   "metadata": {},
   "outputs": [],
   "source": [
    "def learner(agent, env,\n",
    "            episodes = 1000,\n",
    "            steps_per_ep = 1000,\n",
    "            eps_per_eval = 100,\n",
    "           ):\n",
    "    # Runs an evaluation episode every so often. Returns average rewards per step for these.\n",
    "    # Returns average rewards for each episode.\n",
    "    # Also returns agent.\n",
    "    \n",
    "    rewards = np.zeros(episodes)\n",
    "    eval_rewards = np.zeros(episodes//eps_per_eval)\n",
    "    \n",
    "    for ep in range(episodes):\n",
    "        obs = env.reset()\n",
    "        reward_vec = np.zeros(steps_per_ep)\n",
    "        \n",
    "        for step in range(steps_per_ep):\n",
    "            action = agent.act(obs)\n",
    "            next_obs, reward_vec[step], done, info = env.step(action)\n",
    "            agent.update(obs, action, next_obs, reward_vec[step])\n",
    "            obs = next_obs\n",
    "        \n",
    "        rewards[ep] = np.mean(reward_vec)\n",
    "        \n",
    "        # Evaluation episode\n",
    "        if ep%eps_per_eval==0:\n",
    "            obs = env.reset()\n",
    "            eval_reward_vec = np.zeros(steps_per_ep)\n",
    "            \n",
    "            for step in range(steps_per_ep):\n",
    "                action = agent.eval_act(obs)\n",
    "                obs, action, next_obs, eval_reward_vec[step] = env.step(action)\n",
    "                \n",
    "            eval_rewards[ep//eps_per_eval] = np.mean(eval_reward_vec)\n",
    "                \n",
    "    return agent, rewards, eval_rewards"
   ]
  },
  {
   "cell_type": "code",
   "execution_count": 10,
   "metadata": {},
   "outputs": [
    {
     "ename": "TypeError",
     "evalue": "__init__() got multiple values for argument 'gamma'",
     "output_type": "error",
     "traceback": [
      "\u001b[1;31m---------------------------------------------------------------------------\u001b[0m",
      "\u001b[1;31mTypeError\u001b[0m                                 Traceback (most recent call last)",
      "\u001b[1;32m<ipython-input-10-2115f130a3b8>\u001b[0m in \u001b[0;36m<module>\u001b[1;34m\u001b[0m\n\u001b[0;32m      1\u001b[0m \u001b[0mtoy_worm\u001b[0m \u001b[1;33m=\u001b[0m \u001b[0mme\u001b[0m\u001b[1;33m.\u001b[0m\u001b[0mFakeWorm\u001b[0m\u001b[1;33m(\u001b[0m\u001b[0mdist_dict\u001b[0m\u001b[1;33m)\u001b[0m\u001b[1;33m\u001b[0m\u001b[1;33m\u001b[0m\u001b[0m\n\u001b[1;32m----> 2\u001b[1;33m \u001b[0mav_mouse\u001b[0m \u001b[1;33m=\u001b[0m \u001b[0mQ_Av_Agent\u001b[0m\u001b[1;33m(\u001b[0m\u001b[0mtoy_worm\u001b[0m\u001b[1;33m)\u001b[0m\u001b[1;33m\u001b[0m\u001b[1;33m\u001b[0m\u001b[0m\n\u001b[0m",
      "\u001b[1;32m<ipython-input-8-5756a1c65c90>\u001b[0m in \u001b[0;36m__init__\u001b[1;34m(self, env, gamma, epsilon, q_checkpoint, q_counts_checkpoint)\u001b[0m\n\u001b[0;32m     10\u001b[0m                 ):\n\u001b[0;32m     11\u001b[0m \u001b[1;33m\u001b[0m\u001b[0m\n\u001b[1;32m---> 12\u001b[1;33m         super().__init__(self,\n\u001b[0m\u001b[0;32m     13\u001b[0m                          \u001b[0menv\u001b[0m\u001b[1;33m,\u001b[0m\u001b[1;33m\u001b[0m\u001b[1;33m\u001b[0m\u001b[0m\n\u001b[0;32m     14\u001b[0m                          \u001b[0mgamma\u001b[0m\u001b[1;33m=\u001b[0m\u001b[0mgamma\u001b[0m\u001b[1;33m,\u001b[0m\u001b[1;33m\u001b[0m\u001b[1;33m\u001b[0m\u001b[0m\n",
      "\u001b[1;31mTypeError\u001b[0m: __init__() got multiple values for argument 'gamma'"
     ]
    }
   ],
   "source": [
    "toy_worm = me.FakeWorm(dist_dict)\n",
    "av_mouse = Q_Av_Agent(toy_worm)"
   ]
  },
  {
   "cell_type": "code",
   "execution_count": null,
   "metadata": {},
   "outputs": [],
   "source": []
  }
 ],
 "metadata": {
  "kernelspec": {
   "display_name": "r919",
   "language": "python",
   "name": "r919"
  },
  "language_info": {
   "codemirror_mode": {
    "name": "ipython",
    "version": 3
   },
   "file_extension": ".py",
   "mimetype": "text/x-python",
   "name": "python",
   "nbconvert_exporter": "python",
   "pygments_lexer": "ipython3",
   "version": "3.8.5"
  }
 },
 "nbformat": 4,
 "nbformat_minor": 4
}
