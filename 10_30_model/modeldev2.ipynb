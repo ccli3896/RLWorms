{
 "cells": [
  {
   "cell_type": "code",
   "execution_count": 6,
   "metadata": {},
   "outputs": [],
   "source": [
    "import numpy as np\n",
    "import pandas as pd\n",
    "import matplotlib.pyplot as plt\n",
    "import pickle"
   ]
  },
  {
   "cell_type": "code",
   "execution_count": 7,
   "metadata": {},
   "outputs": [],
   "source": [
    "def make_df(fnames, time_ahead=30, \n",
    "            xlimit=None,ylimit=None, \n",
    "            time_steps=10):\n",
    "    # time_steps is how many steps ahead each sample is taken. E.g. 1 would mean a continuous sliding window\n",
    "    # Makes a dataframe where each row is a data point containing \n",
    "    # - time\n",
    "    # - current observation\n",
    "    # - action\n",
    "    # - next observation\n",
    "    # - sum of rewards from current : current + time_ahead\n",
    "\n",
    "    def filter_by_loc(traj,xlimit=1e6,ylimit=0):\n",
    "        # Quick script to remove wrong points\n",
    "        locs = np.array(traj['loc'])\n",
    "        loc = []\n",
    "        rew = []\n",
    "        obs = []\n",
    "        act = []\n",
    "        t = []\n",
    "        for i in range(locs.shape[0]):\n",
    "            if locs[i,0]!=0 and locs[i,1]!=0:\n",
    "                if locs[i,0]<xlimit and locs[i,1]>ylimit:\n",
    "                    loc.append(locs[i,:])\n",
    "                    rew.append(traj['reward'][i])\n",
    "                    obs.append(traj['obs'][i])\n",
    "                    t.append(traj['t'][i])\n",
    "                    act.append(traj['action'][i])\n",
    "        return np.array(loc),np.array(rew),(np.array(obs)*180).astype(int),np.array(act),np.array(t)\n",
    "    \n",
    "    nfiles = len(fnames)\n",
    "    if xlimit is None:\n",
    "        xlimit = np.zeros(nfiles) + 1e6\n",
    "    if ylimit is None:\n",
    "        ylimit = np.zeros(nfiles)\n",
    "    \n",
    "    df = pd.DataFrame(columns=['obs_b','obs_h','action','next_obs_b','next_obs_h','reward','loc'])\n",
    "    \n",
    "    # Loops through all points and adds to dataframe\n",
    "    for f_i,fname in enumerate(fnames):\n",
    "        with open(fname,'rb') as f:\n",
    "            traj = pickle.load(f)\n",
    "        loc,rew,obs,act,t_all = filter_by_loc(traj,xlimit=xlimit[f_i],ylimit=ylimit[f_i])\n",
    "\n",
    "        for i in np.arange(0, len(t_all)-time_ahead, time_steps):\n",
    "            df = df.append({\n",
    "                't':t_all[i],\n",
    "                'obs_b':obs[i][0],\n",
    "                'obs_h':obs[i][1],\n",
    "                'action':act[i],\n",
    "                'next_obs_b':obs[i+1][0],\n",
    "                'next_obs_h':obs[i+1][1],\n",
    "                'reward':sum(rew[i+1:i+1+time_ahead]),\n",
    "                'loc':loc[i]\n",
    "                }, ignore_index=True)\n",
    "\n",
    "    return df"
   ]
  },
  {
   "cell_type": "code",
   "execution_count": 48,
   "metadata": {},
   "outputs": [],
   "source": [
    "fnames=[\n",
    "    # First worm\n",
    "    'Data/traj12-11-2020_19-04-41.pkl', #none\n",
    "    'Data/traj12-11-2020_19-14-38.pkl', #none\n",
    "    'Data/traj12-11-2020_19-24-30.pkl', #xlim 800\n",
    "    # 'Data/traj12-11-2020_19-35-31.pkl', #none # Seems like an especially bad dataset. Actually ruined all the others\n",
    "    # Second worm\n",
    "    'Data/traj12-11-2020_19-55-19.pkl', #none\n",
    "    'Data/traj12-11-2020_20-05-11.pkl', #none\n",
    "    'Data/traj12-11-2020_20-15-17.pkl', #none\n",
    "    'Data/traj12-11-2020_20-25-06.pkl', #xlim 1430\n",
    "]\n",
    "\n",
    "xlims = [1e6,1e6,800,1e6,1e6,1e6,1430]\n",
    "\n",
    "traj = make_df(fnames,xlimit=xlims,time_steps=10)"
   ]
  },
  {
   "cell_type": "code",
   "execution_count": 43,
   "metadata": {},
   "outputs": [],
   "source": [
    "def lin_interp_mat(mat, wraparound=False):\n",
    "    # Fills in NaNs in matrix by linear interpolation. \n",
    "    # Only considers nearest neighbors (no diagonals).\n",
    "    # Fills in NaNs from most neighbors to least neighbors.\n",
    "    # wraparound extends matrix in all four directions. Haven't really gotten this to work with edge cases yet.\n",
    "\n",
    "    def set_range(mat):\n",
    "        mat[mat<-180] += 360\n",
    "        mat[mat>=180] -= 360\n",
    "        return mat\n",
    "\n",
    "    def get_neighbors(mat,i):\n",
    "        # Makes array of four neighbors around mat[index]\n",
    "        # index is a pair\n",
    "        return np.array([mat[i[0],i[1]-1], mat[i[0],i[1]+1], mat[i[0]-1,i[1]], mat[i[0]+1,i[1]]])\n",
    "\n",
    "    def make_wraparound(mat,wraparound=False):\n",
    "        # Expands matrix for wraparound interpolation\n",
    "        \n",
    "        mat_new = np.zeros((np.array(mat.shape)+2)) + np.nan\n",
    "        mat_new[1:-1,1:-1] = mat\n",
    "\n",
    "        if wraparound:\n",
    "            mat_new[0,1:-1] = mat[-1,:] \n",
    "            mat_new[-1,1:-1] = mat[0,:] \n",
    "            mat_new[1:-1,0] = mat[:,-1] \n",
    "            mat_new[1:-1,-1] = mat[:,0] \n",
    "        return mat_new\n",
    "\n",
    "    mat = make_wraparound(mat, wraparound=wraparound)\n",
    "\n",
    "    # Find nans in relevant matrix section\n",
    "    nan_inds = np.argwhere(np.isnan(mat[1:-1,1:-1])) + 1\n",
    "        # add 1 because need index for extended matrix\n",
    "    \n",
    "    neighbor_lim = 3\n",
    "    while nan_inds.size>0:\n",
    "        candidates = 0\n",
    "        for ind in nan_inds:\n",
    "            neighbors = get_neighbors(mat,ind)\n",
    "            if sum(~np.isnan(neighbors)) >= neighbor_lim:\n",
    "                mat[ind[0],ind[1]] = np.mean(neighbors[~np.isnan(neighbors)])\n",
    "                candidates+=1\n",
    "        if candidates==0:\n",
    "            neighbor_lim-=1\n",
    "        nan_inds = np.argwhere(np.isnan(mat[1:-1,1:-1])) + 1\n",
    "\n",
    "    return mat[1:-1,1:-1]\n",
    "\n",
    "def make_stat_mats(traj,newkey):\n",
    "\n",
    "    def get_stats_angs(df,obs,newkey):\n",
    "        # gets mean and std for the newkey df values that match obs in oldkey, centered on obs.\n",
    "        # As in, series will first be translated to [obs-180,obs+180].\n",
    "        # Keeping the convention of keep the floor, remove the ceiling when rounding.\n",
    "        \n",
    "        # Remove points where HT orientation switched\n",
    "        backwards = obs[0]-180\n",
    "        if backwards < -180:\n",
    "            backwards += 360\n",
    "        \n",
    "        series = df.query('obs_b=='+str(obs[0])+'& obs_h=='+str(obs[1])+\n",
    "                        '& next_obs_b!='+str(backwards))[newkey].to_numpy()\n",
    "        \n",
    "        if newkey=='next_obs_h':\n",
    "            series[series<obs[1]-180] += 360\n",
    "            series[series>=obs[1]+180] -= 360\n",
    "        elif newkey=='next_obs_b':\n",
    "            series[series<obs[0]-180] += 360\n",
    "            series[series>=obs[0]+180] -= 360     \n",
    "        \n",
    "        # if there was only one sample, make up a distribution anyway.\n",
    "        if series.size == 0:\n",
    "            sermean,stderr = np.nan,np.nan\n",
    "        else:\n",
    "            if np.std(series)==0:\n",
    "                stderr = np.nan # Leaving it up to interpolation\n",
    "            else:\n",
    "                stderr = np.std(series) #/ np.sqrt(series.size)\n",
    "\n",
    "            sermean = np.mean(series)\n",
    "            if sermean<-180:\n",
    "                sermean += 360\n",
    "            elif sermean>=180:\n",
    "                sermean -= 360\n",
    "                \n",
    "        return sermean,stderr\n",
    "\n",
    "    stat_mats = np.zeros((12,12,2)) + np.nan \n",
    "    for i,theta_b in enumerate(np.arange(-180,180,30)):\n",
    "        for j,theta_h in enumerate(np.arange(-180,180,30)):\n",
    "            stat_mats[i,j,:] = get_stats_angs(traj,[theta_b,theta_h],newkey)\n",
    "    return stat_mats"
   ]
  },
  {
   "cell_type": "code",
   "execution_count": 44,
   "metadata": {},
   "outputs": [],
   "source": [
    "def wrap_correct(arr,ref=0):\n",
    "    # Takes an array of angles and translates to +/-180 around ref.\n",
    "    # ref should stay zero for del(body angle). It should be the previous angle otherwise.\n",
    "    arr[arr<ref-180] += 360\n",
    "    arr[arr>ref+180] -= 360\n",
    "    return arr\n",
    "\n",
    "def make_obs_b_mat(traj, bin_z=3):\n",
    "    # Makes an array [theta_h,2] where second axis is mu/sig. Standard deviation.\n",
    "    # Result is mean for CHANGE in body angle, which is why it's not an axis in the output array.\n",
    "    \n",
    "    # BINNING: keeps one vector of indices and one vector of values. \n",
    "    # Index vector will be as long as original no. of bins. \n",
    "    \n",
    "    def get_stats_obs_b(traj, theta_h):\n",
    "        # Returns mean and std for a given previous head angle. \n",
    "        # Returns array[mean, std], # of points\n",
    "        # Bins all past body angles together.\n",
    "        \n",
    "        # Make change in body angle array\n",
    "        # Remove points where HT orientation switched\n",
    "        series = traj.query('obs_h=='+str(theta_h))\n",
    "        series_del = series['obs_b'].to_numpy() - series['next_obs_b'].to_numpy()\n",
    "        series_del = wrap_correct(series_del[np.abs(series_del)!=180])\n",
    "        \n",
    "        return np.array([np.mean(series_del), np.std(series_del)]), len(series_del)\n",
    "    \n",
    "    stat_mat = np.zeros((12,2)) + np.nan\n",
    "    count = np.zeros(12)\n",
    "    for i, theta_h in enumerate(np.arange(-180,180,30)):\n",
    "        stat_mat[i,:], count[i] = get_stats_obs_b(traj, theta_h)\n",
    "        \n",
    "    # Binning process. Joins if one bin is more than bin_z standard deviations below average.\n",
    "    num_angs = 12\n",
    "    bin_inds = np.arange(12)\n",
    "    stat_mat_binned = stat_mat\n",
    "    z_counts = (count-np.mean(count))/np.std(count)\n",
    "    \n",
    "    while len(z_counts[z_counts<-bin_z])>0:\n",
    "        neighs = [b-1,b+1]\n",
    "        \n",
    "        z_counts = (count-np.mean(count))/np.std(count)\n",
    "    \n",
    "    \n",
    "    return stat_mat, count"
   ]
  },
  {
   "cell_type": "code",
   "execution_count": 49,
   "metadata": {},
   "outputs": [],
   "source": [
    "x,counts = make_obs_b_mat(traj)"
   ]
  },
  {
   "cell_type": "code",
   "execution_count": 50,
   "metadata": {},
   "outputs": [
    {
     "data": {
      "text/plain": [
       "<ErrorbarContainer object of 3 artists>"
      ]
     },
     "execution_count": 50,
     "metadata": {},
     "output_type": "execute_result"
    },
    {
     "data": {
      "image/png": "[encoded data removed]",
      "text/plain": [
       "<Figure size 432x288 with 1 Axes>"
      ]
     },
     "metadata": {
      "needs_background": "light"
     },
     "output_type": "display_data"
    }
   ],
   "source": [
    "plt.errorbar(range(12),x[:,0],yerr=x[:,1])"
   ]
  },
  {
   "cell_type": "code",
   "execution_count": 51,
   "metadata": {},
   "outputs": [
    {
     "data": {
      "text/plain": [
       "[<matplotlib.lines.Line2D at 0x1f4ce96ad90>]"
      ]
     },
     "execution_count": 51,
     "metadata": {},
     "output_type": "execute_result"
    },
    {
     "data": {
      "image/png": "[encoded data removed]",
      "text/plain": [
       "<Figure size 432x288 with 1 Axes>"
      ]
     },
     "metadata": {
      "needs_background": "light"
     },
     "output_type": "display_data"
    }
   ],
   "source": [
    "plt.plot(counts)"
   ]
  },
  {
   "cell_type": "code",
   "execution_count": 52,
   "metadata": {},
   "outputs": [
    {
     "data": {
      "text/plain": [
       "array([  4.,  16.,  60.,  74., 186., 371., 189., 286., 219.,  54.,  46.,\n",
       "        11.])"
      ]
     },
     "execution_count": 52,
     "metadata": {},
     "output_type": "execute_result"
    }
   ],
   "source": [
    "counts"
   ]
  },
  {
   "cell_type": "code",
   "execution_count": 53,
   "metadata": {},
   "outputs": [
    {
     "data": {
      "text/plain": [
       "115.72044859151829"
      ]
     },
     "execution_count": 53,
     "metadata": {},
     "output_type": "execute_result"
    }
   ],
   "source": [
    "np.std(counts)"
   ]
  },
  {
   "cell_type": "code",
   "execution_count": 54,
   "metadata": {},
   "outputs": [
    {
     "data": {
      "text/plain": [
       "126.33333333333333"
      ]
     },
     "execution_count": 54,
     "metadata": {},
     "output_type": "execute_result"
    }
   ],
   "source": [
    "np.mean(counts)"
   ]
  },
  {
   "cell_type": "code",
   "execution_count": 55,
   "metadata": {},
   "outputs": [
    {
     "data": {
      "text/plain": [
       "array([-1.05714534, -0.95344716, -0.5732205 , -0.45223929,  0.5156104 ,\n",
       "        2.11429069,  0.54153494,  1.37976191,  0.8007804 , -0.62506959,\n",
       "       -0.69420171, -0.99665474])"
      ]
     },
     "execution_count": 55,
     "metadata": {},
     "output_type": "execute_result"
    }
   ],
   "source": [
    "(counts - np.mean(counts))/np.std(counts)"
   ]
  },
  {
   "cell_type": "code",
   "execution_count": null,
   "metadata": {},
   "outputs": [],
   "source": []
  }
 ],
 "metadata": {
  "kernelspec": {
   "display_name": "rlkit",
   "language": "python",
   "name": "rlkit"
  },
  "language_info": {
   "codemirror_mode": {
    "name": "ipython",
    "version": 3
   },
   "file_extension": ".py",
   "mimetype": "text/x-python",
   "name": "python",
   "nbconvert_exporter": "python",
   "pygments_lexer": "ipython3",
   "version": "3.8.5"
  }
 },
 "nbformat": 4,
 "nbformat_minor": 4
}
