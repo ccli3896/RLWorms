{
 "cells": [
  {
   "cell_type": "code",
   "execution_count": 18,
   "metadata": {},
   "outputs": [],
   "source": [
    "import numpy as np\n",
    "import matplotlib.pyplot as plt\n",
    "import pandas as pd\n",
    "import pickle\n",
    "\n",
    "import bin_utils as ut\n",
    "import bin_model_env as me\n",
    "import tab_agents as tab"
   ]
  },
  {
   "cell_type": "code",
   "execution_count": 19,
   "metadata": {},
   "outputs": [],
   "source": [
    "fnames=[\n",
    "    # First worm\n",
    "    'Data/traj12-11-2020_19-04-41.pkl', #none\n",
    "    'Data/traj12-11-2020_19-14-38.pkl', #none\n",
    "    'Data/traj12-11-2020_19-24-30.pkl', #xlim 800\n",
    "    'Data/traj12-11-2020_19-35-31.pkl', #none # Seems like an especially bad dataset. Actually ruined all the others\n",
    "\n",
    "    # Second worm\n",
    "    'Data/traj12-11-2020_19-55-19.pkl', #none\n",
    "    'Data/traj12-11-2020_20-05-11.pkl', #none\n",
    "    'Data/traj12-11-2020_20-15-17.pkl', #none\n",
    "    'Data/traj12-11-2020_20-25-06.pkl', #xlim 1430\n",
    "\n",
    "    # Third worm\n",
    "    'Data/traj30-10-2020_18-14-00.pkl', #none\n",
    "    'Data/traj30-10-2020_18-34-10.pkl', #none\n",
    "\n",
    "    # Fourth worm\n",
    "    'Data/traj02-11-2020_15-53-56.pkl', #none \n",
    "    'Data/traj02-11-2020_16-14-45.pkl', #none \n",
    "\n",
    "    # Fifth worm\n",
    "    'Data/traj03-11-2020_14-46-45.pkl', #none\n",
    "    'Data/traj03-11-2020_15-08-07.pkl', #none\n",
    "]\n",
    "\n",
    "xlims = [1e6, 1e6, 800, 1e6, 1e6, 1e6, 1e6, 1430, 1e6, 1e6, 1e6, 1e6, 1e6, 1e6]\n",
    "\n",
    "traj_df = ut.make_df(fnames,xlimit=xlims,time_steps=10)"
   ]
  },
  {
   "cell_type": "code",
   "execution_count": 20,
   "metadata": {},
   "outputs": [],
   "source": [
    "dist_dict = ut.make_dist_dict(traj_df,bin_z=3)\n",
    "worm = me.FakeWorm(dist_dict)"
   ]
  },
  {
   "cell_type": "code",
   "execution_count": 28,
   "metadata": {
    "collapsed": true
   },
   "outputs": [
    {
     "name": "stdout",
     "output_type": "stream",
     "text": [
      "Eval 0: average 8.059383198783149\n",
      "Eval 1: average 7.244784865886464\n",
      "Eval 2: average 7.7263308125439325\n",
      "Eval 3: average 8.606616345719926\n",
      "Eval 4: average 8.16131889856264\n",
      "Eval 5: average 8.149923030742885\n",
      "Eval 6: average 8.2340394057376\n",
      "Eval 7: average 7.600028632495977\n",
      "Eval 8: average 8.392544998379968\n",
      "Eval 9: average 7.730763937988557\n",
      "Eval -1: average 7.674411337874496\n",
      "Eval 0: average 7.184438151376944\n",
      "Eval 1: average 7.73559091996154\n",
      "Eval 2: average 8.388505286987654\n",
      "Eval 3: average 7.258503901248809\n",
      "Eval 4: average 7.843204357494511\n",
      "Eval 5: average 8.874412760936455\n",
      "Eval 6: average 7.211909232562367\n",
      "Eval 7: average 8.544718860031418\n",
      "Eval 8: average 8.184258086716987\n",
      "Eval 9: average 8.012640528931398\n",
      "Eval -1: average 8.25825633760641\n",
      "Eval 0: average 8.403072120460637\n",
      "Eval 1: average 8.290708821728701\n",
      "Eval 2: average 8.736769557330259\n",
      "Eval 3: average 7.716956413501267\n",
      "Eval 4: average 8.417566233218267\n",
      "Eval 5: average 7.69460291172038\n",
      "Eval 6: average 7.340720540468659\n",
      "Eval 7: average 8.332571521468692\n",
      "Eval 8: average 8.77083319653224\n",
      "Eval 9: average 8.645925914644032\n",
      "Eval -1: average 8.11090205865229\n",
      "Eval 0: average 6.362910077715547\n",
      "Eval 1: average 8.246899289592289\n",
      "Eval 2: average 6.592299635361578\n",
      "Eval 3: average 7.91164353518046\n",
      "Eval 4: average 8.518772571775138\n",
      "Eval 5: average 9.243165527470724\n",
      "Eval 6: average 8.171107496238605\n",
      "Eval 7: average 7.693665906670983\n",
      "Eval 8: average 7.804623341868463\n",
      "Eval 9: average 8.327134718611225\n",
      "Eval -1: average 8.023704282784566\n",
      "Eval 0: average 7.7915673348273025\n",
      "Eval 1: average 7.622732377876121\n",
      "Eval 2: average 8.234938115959574\n",
      "Eval 3: average 8.213157306173487\n",
      "Eval 4: average 7.619000551806612\n",
      "Eval 5: average 8.06564596411966\n",
      "Eval 6: average 8.888798129723018\n",
      "Eval 7: average 8.720514333462557\n",
      "Eval 8: average 8.535403800103207\n",
      "Eval 9: average 8.149695635136089\n",
      "Eval -1: average 8.274417546983226\n"
     ]
    }
   ],
   "source": [
    "# Setting hparams\n",
    "alpha = .1\n",
    "gamma = 0.25\n",
    "eps = .01\n",
    "runtime = 10000\n",
    "\n",
    "agents = []\n",
    "evals = []\n",
    "for i in range(5):\n",
    "    mouse = tab.Q_Alpha_Agent(worm,gamma=gamma,epsilon=eps,alpha=alpha)\n",
    "    mouse_learned, rewards, eval_rewards = tab.learner(mouse,worm,episodes=runtime)\n",
    "    agents.append(mouse_learned)\n",
    "    evals.append(eval_rewards)"
   ]
  },
  {
   "cell_type": "code",
   "execution_count": 4,
   "metadata": {},
   "outputs": [],
   "source": [
    "def true_policy(prod):\n",
    "    if prod<0:\n",
    "        action = 1\n",
    "    else:\n",
    "        action = 0\n",
    "    return action\n",
    "def on_policy(prod):\n",
    "    return 1\n",
    "def worst_policy(prod):\n",
    "    if prod<0:\n",
    "        action = 0\n",
    "    else:\n",
    "        action = 1\n",
    "    return action\n",
    "def off_policy(prod):\n",
    "    return 0\n",
    "\n",
    "def test_policy(policy,dist_dict):\n",
    "    toy_worm = me.FakeWorm(dist_dict)\n",
    "    steps = 1000000 # 1 mil steps\n",
    "    eps = 1\n",
    "\n",
    "    rews = []\n",
    "    for ep in range(eps):\n",
    "        obs = np.zeros((steps,2))\n",
    "        rew = np.zeros(steps)\n",
    "        action = 0\n",
    "        for i in range(steps):\n",
    "            ob,rew[i],done,info = toy_worm.step(action)\n",
    "            obs[i,:] = toy_worm.obs2grid(ob)\n",
    "            prod = np.sign(obs[i,0]*obs[i,1])\n",
    "            action = policy(prod)\n",
    "        rews.append(np.mean(rew))\n",
    "    return np.array(rews)"
   ]
  },
  {
   "cell_type": "code",
   "execution_count": 13,
   "metadata": {},
   "outputs": [
    {
     "name": "stdout",
     "output_type": "stream",
     "text": [
      "True done\n",
      "Worst done\n",
      "On done\n"
     ]
    }
   ],
   "source": [
    "true_pol = test_policy(true_policy,dist_dict)\n",
    "print('True done')\n",
    "worst_pol = test_policy(worst_policy,dist_dict)\n",
    "print('Worst done')\n",
    "on_pol = test_policy(on_policy,dist_dict)\n",
    "print('On done')\n",
    "off_pol = test_policy(off_policy,dist_dict)"
   ]
  },
  {
   "cell_type": "markdown",
   "metadata": {},
   "source": [
    "# With z=3 bins"
   ]
  },
  {
   "cell_type": "markdown",
   "metadata": {},
   "source": [
    "Only good data from worms 1-2"
   ]
  },
  {
   "cell_type": "code",
   "execution_count": 144,
   "metadata": {
    "scrolled": false
   },
   "outputs": [
    {
     "name": "stdout",
     "output_type": "stream",
     "text": [
      "True: [9.05402475]\n",
      "Worst: [2.2494562]\n",
      "On: [2.24388789]\n",
      "Off: [8.0863307]\n"
     ]
    }
   ],
   "source": [
    "print(f'True: {true_pol}\\nWorst: {worst_pol}\\nOn: {on_pol}\\nOff: {off_pol}')"
   ]
  },
  {
   "cell_type": "code",
   "execution_count": 191,
   "metadata": {},
   "outputs": [
    {
     "name": "stdout",
     "output_type": "stream",
     "text": [
      "True: [7.15853003]\n",
      "Worst: [1.46532732]\n",
      "On: [1.45501005]\n",
      "Off: [6.8316682]\n"
     ]
    }
   ],
   "source": [
    "# all worm except 5\n",
    "print(f'True: {true_pol}\\nWorst: {worst_pol}\\nOn: {on_pol}\\nOff: {off_pol}')"
   ]
  },
  {
   "cell_type": "code",
   "execution_count": 186,
   "metadata": {},
   "outputs": [
    {
     "name": "stdout",
     "output_type": "stream",
     "text": [
      "True: [7.26688117]\n",
      "Worst: [0.95417851]\n",
      "On: [0.93702286]\n",
      "Off: [6.73377225]\n"
     ]
    }
   ],
   "source": [
    "# all worms\n",
    "print(f'True: {true_pol}\\nWorst: {worst_pol}\\nOn: {on_pol}\\nOff: {off_pol}')"
   ]
  },
  {
   "cell_type": "code",
   "execution_count": 6,
   "metadata": {},
   "outputs": [
    {
     "name": "stdout",
     "output_type": "stream",
     "text": [
      "True: [6.96048364]\n",
      "Worst: [-0.80655311]\n",
      "On: [-0.82955243]\n",
      "Off: [6.35505917]\n"
     ]
    }
   ],
   "source": [
    "# all worms including trash dataset\n",
    "print(f'True: {true_pol}\\nWorst: {worst_pol}\\nOn: {on_pol}\\nOff: {off_pol}')"
   ]
  },
  {
   "cell_type": "markdown",
   "metadata": {},
   "source": [
    "# With z=1 bins"
   ]
  },
  {
   "cell_type": "markdown",
   "metadata": {},
   "source": [
    "Only good data from worms 1-2"
   ]
  },
  {
   "cell_type": "code",
   "execution_count": 147,
   "metadata": {
    "scrolled": true
   },
   "outputs": [
    {
     "name": "stdout",
     "output_type": "stream",
     "text": [
      "True: [9.0652164]\n",
      "Worst: [5.61732913]\n",
      "On: [6.16864188]\n",
      "Off: [8.08255256]\n"
     ]
    }
   ],
   "source": [
    "print(f'True: {true_pol}\\nWorst: {worst_pol}\\nOn: {on_pol}\\nOff: {off_pol}')"
   ]
  },
  {
   "cell_type": "code",
   "execution_count": 192,
   "metadata": {},
   "outputs": [],
   "source": [
    "# All worms\n",
    "\n",
    "# True: [7.24330271]\n",
    "# Worst: [4.65548039]\n",
    "# On: [4.83219013]\n",
    "# Off: [6.7544734]"
   ]
  },
  {
   "cell_type": "code",
   "execution_count": null,
   "metadata": {},
   "outputs": [],
   "source": [
    "# All worms except 5\n",
    "\n",
    "# True: [7.13589293]\n",
    "# Worst: [4.46747535]\n",
    "# On: [4.54751136]\n",
    "# Off: [6.80885612]"
   ]
  },
  {
   "cell_type": "code",
   "execution_count": 9,
   "metadata": {},
   "outputs": [
    {
     "name": "stdout",
     "output_type": "stream",
     "text": [
      "True: [6.94277041]\n",
      "Worst: [4.28330524]\n",
      "On: [4.54150448]\n",
      "Off: [6.35686491]\n"
     ]
    }
   ],
   "source": [
    "# all worms including trash dataset\n",
    "print(f'True: {true_pol}\\nWorst: {worst_pol}\\nOn: {on_pol}\\nOff: {off_pol}')"
   ]
  },
  {
   "cell_type": "markdown",
   "metadata": {},
   "source": [
    "# With no bins"
   ]
  },
  {
   "cell_type": "markdown",
   "metadata": {},
   "source": [
    "Only good data from worms 1-2"
   ]
  },
  {
   "cell_type": "code",
   "execution_count": 138,
   "metadata": {},
   "outputs": [
    {
     "name": "stdout",
     "output_type": "stream",
     "text": [
      "True: [3.03356785]\n",
      "Worst: [1.38634594]\n",
      "On: [2.39552487]\n",
      "Off: [1.76627118]\n"
     ]
    }
   ],
   "source": [
    "print(f'True: {true_pol}\\nWorst: {worst_pol}\\nOn: {on_pol}\\nOff: {off_pol}')"
   ]
  },
  {
   "cell_type": "markdown",
   "metadata": {},
   "source": [
    "Worm 3"
   ]
  },
  {
   "cell_type": "code",
   "execution_count": 154,
   "metadata": {},
   "outputs": [
    {
     "name": "stdout",
     "output_type": "stream",
     "text": [
      "True: [10.27205653]\n",
      "Worst: [0.50273463]\n",
      "On: [2.60095887]\n",
      "Off: [10.32568582]\n"
     ]
    }
   ],
   "source": [
    "print(f'True: {true_pol}\\nWorst: {worst_pol}\\nOn: {on_pol}\\nOff: {off_pol}')"
   ]
  },
  {
   "cell_type": "markdown",
   "metadata": {},
   "source": [
    "Worm 4"
   ]
  },
  {
   "cell_type": "code",
   "execution_count": 159,
   "metadata": {
    "scrolled": true
   },
   "outputs": [
    {
     "name": "stdout",
     "output_type": "stream",
     "text": [
      "True: [-3.19705714]\n",
      "Worst: [0.60875541]\n",
      "On: [-1.67442187]\n",
      "Off: [-1.78354276]\n"
     ]
    }
   ],
   "source": [
    "print(f'True: {true_pol}\\nWorst: {worst_pol}\\nOn: {on_pol}\\nOff: {off_pol}')"
   ]
  },
  {
   "cell_type": "code",
   "execution_count": 167,
   "metadata": {},
   "outputs": [
    {
     "name": "stdout",
     "output_type": "stream",
     "text": [
      "True: [3.3547781]\n",
      "Worst: [1.19887201]\n",
      "On: [1.85735921]\n",
      "Off: [2.23000062]\n"
     ]
    }
   ],
   "source": [
    "# Worm2 plus first of worm4\n",
    "print(f'True: {true_pol}\\nWorst: {worst_pol}\\nOn: {on_pol}\\nOff: {off_pol}')"
   ]
  },
  {
   "cell_type": "code",
   "execution_count": 171,
   "metadata": {
    "scrolled": false
   },
   "outputs": [
    {
     "name": "stdout",
     "output_type": "stream",
     "text": [
      "True: [2.04377062]\n",
      "Worst: [0.14640855]\n",
      "On: [0.93816734]\n",
      "Off: [1.07694557]\n"
     ]
    }
   ],
   "source": [
    "# Worm2 plus second of worm4\n",
    "print(f'True: {true_pol}\\nWorst: {worst_pol}\\nOn: {on_pol}\\nOff: {off_pol}')"
   ]
  },
  {
   "cell_type": "code",
   "execution_count": 181,
   "metadata": {
    "scrolled": false
   },
   "outputs": [
    {
     "name": "stdout",
     "output_type": "stream",
     "text": [
      "True: [2.14049393]\n",
      "Worst: [1.30133592]\n",
      "On: [2.30530855]\n",
      "Off: [1.01190604]\n"
     ]
    }
   ],
   "source": [
    "# Worm2 plus worm4\n",
    "print(f'True: {true_pol}\\nWorst: {worst_pol}\\nOn: {on_pol}\\nOff: {off_pol}')"
   ]
  },
  {
   "cell_type": "markdown",
   "metadata": {},
   "source": [
    "Worm 5"
   ]
  },
  {
   "cell_type": "code",
   "execution_count": 163,
   "metadata": {},
   "outputs": [
    {
     "name": "stdout",
     "output_type": "stream",
     "text": [
      "True: [0.82487104]\n",
      "Worst: [-0.89550885]\n",
      "On: [1.94982146]\n",
      "Off: [-1.62807547]\n"
     ]
    }
   ],
   "source": [
    "print(f'True: {true_pol}\\nWorst: {worst_pol}\\nOn: {on_pol}\\nOff: {off_pol}')"
   ]
  },
  {
   "cell_type": "code",
   "execution_count": 177,
   "metadata": {},
   "outputs": [
    {
     "name": "stdout",
     "output_type": "stream",
     "text": [
      "True: [0.68028061]\n",
      "Worst: [0.98512843]\n",
      "On: [2.24454905]\n",
      "Off: [-0.18661986]\n"
     ]
    }
   ],
   "source": [
    "# All worms\n",
    "print(f'True: {true_pol}\\nWorst: {worst_pol}\\nOn: {on_pol}\\nOff: {off_pol}')"
   ]
  },
  {
   "cell_type": "code",
   "execution_count": 14,
   "metadata": {},
   "outputs": [
    {
     "name": "stdout",
     "output_type": "stream",
     "text": [
      "True: [0.79046925]\n",
      "Worst: [0.67312569]\n",
      "On: [2.05114197]\n",
      "Off: [-0.38360921]\n"
     ]
    }
   ],
   "source": [
    "# all worms including trash dataset\n",
    "print(f'True: {true_pol}\\nWorst: {worst_pol}\\nOn: {on_pol}\\nOff: {off_pol}')"
   ]
  },
  {
   "cell_type": "markdown",
   "metadata": {},
   "source": [
    "# All data policies "
   ]
  },
  {
   "cell_type": "markdown",
   "metadata": {},
   "source": [
    "## Bin 3, best from grid search"
   ]
  },
  {
   "cell_type": "code",
   "execution_count": 22,
   "metadata": {},
   "outputs": [],
   "source": [
    "def make_detpol():\n",
    "    detpol = np.zeros((13,13))\n",
    "    for i_ind,i in enumerate(np.linspace(-1,1,13)):\n",
    "        for j_ind,j in enumerate(np.linspace(-1,1,13)):\n",
    "            detpol[i_ind,j_ind] = -np.sign(i*j)\n",
    "    detpol = detpol[:-1,:-1]\n",
    "    return detpol\n",
    "\n",
    "def pol_diff(agent, detpol):\n",
    "    # Compares the greedy policy given by Qtab ([12,12,2]) and the deterministic policy.\n",
    "    # Returns MSE.\n",
    "    Qpol = np.sign(agent.Qtab[:,1].reshape(12,12) - agent.Qtab[:,0].reshape(12,12))\n",
    "    return np.mean(np.square(Qpol-detpol))\n",
    "\n",
    "def make_fname(label,alpha,gamma,eps,runtime,it):\n",
    "    return './Outputs_11_30/'+label+'_a'+str(alpha)+'g'+str(gamma)+'e'+str(eps)+'r'+str(runtime)+'_iter'+str(it)+'.json'\n",
    "\n",
    "def get_avs(label,alpha,gamma,eps,runtime):\n",
    "    # Return average eval \n",
    "    if runtime==2:\n",
    "        eval_vecs = np.zeros((5,11))\n",
    "        rew_vecs = np.zeros((5,10000))\n",
    "    elif runtime==0:\n",
    "        eval_vecs = np.zeros((5,21))\n",
    "        rew_vecs = np.zeros((5,20000))\n",
    "    else:\n",
    "        raise ValueError('Invalid runtime')\n",
    "    \n",
    "    detpol = make_detpol()    \n",
    "    Qmse = np.zeros(5)\n",
    "    for it in range(5):\n",
    "        with open(make_fname(label,alpha,gamma,eps,runtime,it),'rb') as f: \n",
    "            agent = pickle.load(f)\n",
    "        eval_vecs[it,:] = agent.eval_rewards\n",
    "        #rew_vecs[it,:] = agent.rewards\n",
    "        Qmse[it] = pol_diff(agent, detpol)\n",
    "    return np.mean(eval_vecs,axis=0),np.mean(Qmse) #,np.mean(rew_vecs,axis=0)"
   ]
  },
  {
   "cell_type": "code",
   "execution_count": 29,
   "metadata": {},
   "outputs": [],
   "source": [
    "detpol = make_detpol()\n",
    "Qpols = []\n",
    "for i in range(5):\n",
    "    Qpols.append(np.sign(agents[i].Qtab[:,1].reshape(12,12) - agents[i].Qtab[:,0].reshape(12,12)))"
   ]
  },
  {
   "cell_type": "code",
   "execution_count": 25,
   "metadata": {},
   "outputs": [
    {
     "data": {
      "text/plain": [
       "<matplotlib.image.AxesImage at 0x13e2a678850>"
      ]
     },
     "execution_count": 25,
     "metadata": {},
     "output_type": "execute_result"
    },
    {
     "data": {
      "image/png": "[encoded data removed]",
      "text/plain": [
       "<Figure size 432x288 with 1 Axes>"
      ]
     },
     "metadata": {
      "needs_background": "light"
     },
     "output_type": "display_data"
    }
   ],
   "source": [
    "Qpols = np.array(Qpols)\n",
    "plt.imshow(np.mean(Qpols,axis=0))"
   ]
  },
  {
   "cell_type": "code",
   "execution_count": 26,
   "metadata": {},
   "outputs": [
    {
     "data": {
      "text/plain": [
       "<matplotlib.colorbar.Colorbar at 0x13e2b799b80>"
      ]
     },
     "execution_count": 26,
     "metadata": {},
     "output_type": "execute_result"
    },
    {
     "data": {
      "image/png": "[encoded data removed]",
      "text/plain": [
       "<Figure size 432x288 with 2 Axes>"
      ]
     },
     "metadata": {
      "needs_background": "light"
     },
     "output_type": "display_data"
    }
   ],
   "source": [
    "plt.imshow(np.sign(np.mean(Qpols,axis=0)))\n",
    "plt.colorbar()"
   ]
  },
  {
   "cell_type": "code",
   "execution_count": 27,
   "metadata": {},
   "outputs": [
    {
     "data": {
      "text/plain": [
       "1.3541666666666667"
      ]
     },
     "execution_count": 27,
     "metadata": {},
     "output_type": "execute_result"
    }
   ],
   "source": [
    "detpol = make_detpol()\n",
    "np.mean(np.square(detpol-np.sign(np.mean(Qpols,axis=0))))"
   ]
  },
  {
   "cell_type": "code",
   "execution_count": 30,
   "metadata": {},
   "outputs": [
    {
     "data": {
      "text/plain": [
       "<matplotlib.image.AxesImage at 0x13e2a454130>"
      ]
     },
     "execution_count": 30,
     "metadata": {},
     "output_type": "execute_result"
    },
    {
     "data": {
      "image/png": "[encoded data removed]",
      "text/plain": [
       "<Figure size 432x288 with 1 Axes>"
      ]
     },
     "metadata": {
      "needs_background": "light"
     },
     "output_type": "display_data"
    }
   ],
   "source": [
    "Qpols = np.array(Qpols)\n",
    "plt.imshow(np.mean(Qpols,axis=0))"
   ]
  },
  {
   "cell_type": "code",
   "execution_count": 31,
   "metadata": {},
   "outputs": [
    {
     "data": {
      "text/plain": [
       "<matplotlib.colorbar.Colorbar at 0x13e2a680640>"
      ]
     },
     "execution_count": 31,
     "metadata": {},
     "output_type": "execute_result"
    },
    {
     "data": {
      "image/png": "[encoded data removed]",
      "text/plain": [
       "<Figure size 432x288 with 2 Axes>"
      ]
     },
     "metadata": {
      "needs_background": "light"
     },
     "output_type": "display_data"
    }
   ],
   "source": [
    "plt.imshow(np.sign(np.mean(Qpols,axis=0)))\n",
    "plt.colorbar()"
   ]
  },
  {
   "cell_type": "code",
   "execution_count": 32,
   "metadata": {},
   "outputs": [
    {
     "data": {
      "text/plain": [
       "1.3263888888888888"
      ]
     },
     "execution_count": 32,
     "metadata": {},
     "output_type": "execute_result"
    }
   ],
   "source": [
    "detpol = make_detpol()\n",
    "np.mean(np.square(detpol-np.sign(np.mean(Qpols,axis=0))))"
   ]
  },
  {
   "cell_type": "code",
   "execution_count": null,
   "metadata": {},
   "outputs": [],
   "source": []
  }
 ],
 "metadata": {
  "kernelspec": {
   "display_name": "r919",
   "language": "python",
   "name": "r919"
  },
  "language_info": {
   "codemirror_mode": {
    "name": "ipython",
    "version": 3
   },
   "file_extension": ".py",
   "mimetype": "text/x-python",
   "name": "python",
   "nbconvert_exporter": "python",
   "pygments_lexer": "ipython3",
   "version": "3.8.5"
  }
 },
 "nbformat": 4,
 "nbformat_minor": 4
}
