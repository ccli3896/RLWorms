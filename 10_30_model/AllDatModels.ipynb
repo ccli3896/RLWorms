{
 "cells": [
  {
   "cell_type": "code",
   "execution_count": 182,
   "metadata": {},
   "outputs": [],
   "source": [
    "import numpy as np\n",
    "import matplotlib.pyplot as plt\n",
    "import pandas as pd\n",
    "import pickle\n",
    "\n",
    "import bin_utils as ut\n",
    "import bin_model_env as me\n",
    "import tab_agents as tab"
   ]
  },
  {
   "cell_type": "code",
   "execution_count": 187,
   "metadata": {},
   "outputs": [],
   "source": [
    "fnames=[\n",
    "    # First worm\n",
    "    'Data/traj12-11-2020_19-04-41.pkl', #none\n",
    "    'Data/traj12-11-2020_19-14-38.pkl', #none\n",
    "    'Data/traj12-11-2020_19-24-30.pkl', #xlim 800\n",
    "    #'Data/traj12-11-2020_19-35-31.pkl', #none # Seems like an especially bad dataset. Actually ruined all the others\n",
    "\n",
    "    # Second worm\n",
    "    'Data/traj12-11-2020_19-55-19.pkl', #none\n",
    "    'Data/traj12-11-2020_20-05-11.pkl', #none\n",
    "    'Data/traj12-11-2020_20-15-17.pkl', #none\n",
    "    'Data/traj12-11-2020_20-25-06.pkl', #xlim 1430\n",
    "\n",
    "    # Third worm\n",
    "    'Data/traj30-10-2020_18-14-00.pkl', #none\n",
    "    'Data/traj30-10-2020_18-34-10.pkl', #none\n",
    "\n",
    "    # Fourth worm\n",
    "    'Data/traj02-11-2020_15-53-56.pkl', #none \n",
    "    'Data/traj02-11-2020_16-14-45.pkl', #none \n",
    "\n",
    "#     # Fifth worm\n",
    "#     'Data/traj03-11-2020_14-46-45.pkl', #none\n",
    "#     'Data/traj03-11-2020_15-08-07.pkl', #none\n",
    "]\n",
    "\n",
    "xlims = [1e6, 1e6, 800, 1e6, 1e6, 1e6, 1430, 1e6, 1e6, 1e6, 1e6]\n",
    "\n",
    "traj_df = ut.make_df(fnames,xlimit=xlims,time_steps=10)"
   ]
  },
  {
   "cell_type": "code",
   "execution_count": 188,
   "metadata": {},
   "outputs": [],
   "source": [
    "dist_dict = ut.make_dist_dict(traj_df,bin_z=3)\n",
    "worm = me.FakeWorm(dist_dict)"
   ]
  },
  {
   "cell_type": "code",
   "execution_count": 19,
   "metadata": {
    "collapsed": true
   },
   "outputs": [
    {
     "name": "stdout",
     "output_type": "stream",
     "text": [
      "Eval 0: average 2.1877709832314967\n",
      "Eval 1: average 3.2231165696454265\n",
      "Eval 2: average 3.646357452077458\n",
      "Eval 3: average 3.6385020637285064\n",
      "Eval 4: average 2.1647926445094545\n",
      "Eval 5: average 2.150280339033256\n",
      "Eval 6: average 4.6763978778611435\n",
      "Eval 7: average 3.8292770374256184\n",
      "Eval 8: average 4.647515609335375\n",
      "Eval 9: average 2.9970421671061045\n",
      "Eval -1: average 2.539813419333782\n",
      "Eval 0: average 2.5929596706472395\n",
      "Eval 1: average 3.7825607274337307\n",
      "Eval 2: average 2.7302439583944063\n",
      "Eval 3: average 3.262678365322635\n"
     ]
    },
    {
     "ename": "KeyboardInterrupt",
     "evalue": "",
     "output_type": "error",
     "traceback": [
      "\u001b[1;31m---------------------------------------------------------------------\u001b[0m",
      "\u001b[1;31mKeyboardInterrupt\u001b[0m                   Traceback (most recent call last)",
      "\u001b[1;32m<ipython-input-19-dc849e9a184f>\u001b[0m in \u001b[0;36m<module>\u001b[1;34m\u001b[0m\n\u001b[0;32m      9\u001b[0m \u001b[1;32mfor\u001b[0m \u001b[0mi\u001b[0m \u001b[1;32min\u001b[0m \u001b[0mrange\u001b[0m\u001b[1;33m(\u001b[0m\u001b[1;36m5\u001b[0m\u001b[1;33m)\u001b[0m\u001b[1;33m:\u001b[0m\u001b[1;33m\u001b[0m\u001b[1;33m\u001b[0m\u001b[0m\n\u001b[0;32m     10\u001b[0m     \u001b[0mmouse\u001b[0m \u001b[1;33m=\u001b[0m \u001b[0mtab\u001b[0m\u001b[1;33m.\u001b[0m\u001b[0mQ_Alpha_Agent\u001b[0m\u001b[1;33m(\u001b[0m\u001b[0mworm\u001b[0m\u001b[1;33m,\u001b[0m\u001b[0mgamma\u001b[0m\u001b[1;33m=\u001b[0m\u001b[0mgamma\u001b[0m\u001b[1;33m,\u001b[0m\u001b[0mepsilon\u001b[0m\u001b[1;33m=\u001b[0m\u001b[0meps\u001b[0m\u001b[1;33m,\u001b[0m\u001b[0malpha\u001b[0m\u001b[1;33m=\u001b[0m\u001b[0malpha\u001b[0m\u001b[1;33m)\u001b[0m\u001b[1;33m\u001b[0m\u001b[1;33m\u001b[0m\u001b[0m\n\u001b[1;32m---> 11\u001b[1;33m     \u001b[0mmouse_learned\u001b[0m\u001b[1;33m,\u001b[0m \u001b[0mrewards\u001b[0m\u001b[1;33m,\u001b[0m \u001b[0meval_rewards\u001b[0m \u001b[1;33m=\u001b[0m \u001b[0mtab\u001b[0m\u001b[1;33m.\u001b[0m\u001b[0mlearner\u001b[0m\u001b[1;33m(\u001b[0m\u001b[0mmouse\u001b[0m\u001b[1;33m,\u001b[0m\u001b[0mworm\u001b[0m\u001b[1;33m,\u001b[0m\u001b[0mepisodes\u001b[0m\u001b[1;33m=\u001b[0m\u001b[0mruntime\u001b[0m\u001b[1;33m)\u001b[0m\u001b[1;33m\u001b[0m\u001b[1;33m\u001b[0m\u001b[0m\n\u001b[0m\u001b[0;32m     12\u001b[0m     \u001b[0magents\u001b[0m\u001b[1;33m.\u001b[0m\u001b[0mappend\u001b[0m\u001b[1;33m(\u001b[0m\u001b[0mmouse_learned\u001b[0m\u001b[1;33m)\u001b[0m\u001b[1;33m\u001b[0m\u001b[1;33m\u001b[0m\u001b[0m\n\u001b[0;32m     13\u001b[0m     \u001b[0mevals\u001b[0m\u001b[1;33m.\u001b[0m\u001b[0mappend\u001b[0m\u001b[1;33m(\u001b[0m\u001b[0meval_rewards\u001b[0m\u001b[1;33m)\u001b[0m\u001b[1;33m\u001b[0m\u001b[1;33m\u001b[0m\u001b[0m\n",
      "\u001b[1;32m~\\Documents\\Research\\20_09_07_NewPC\\RLWorms\\10_30_model\\tab_agents.py\u001b[0m in \u001b[0;36mlearner\u001b[1;34m(agent, env, episodes, steps_per_ep, eps_per_eval)\u001b[0m\n\u001b[0;32m    114\u001b[0m         \u001b[1;32mfor\u001b[0m \u001b[0mstep\u001b[0m \u001b[1;32min\u001b[0m \u001b[0mrange\u001b[0m\u001b[1;33m(\u001b[0m\u001b[0msteps_per_ep\u001b[0m\u001b[1;33m)\u001b[0m\u001b[1;33m:\u001b[0m\u001b[1;33m\u001b[0m\u001b[1;33m\u001b[0m\u001b[0m\n\u001b[0;32m    115\u001b[0m             \u001b[0maction\u001b[0m \u001b[1;33m=\u001b[0m \u001b[0magent\u001b[0m\u001b[1;33m.\u001b[0m\u001b[0mact\u001b[0m\u001b[1;33m(\u001b[0m\u001b[0mobs\u001b[0m\u001b[1;33m)\u001b[0m\u001b[1;33m\u001b[0m\u001b[1;33m\u001b[0m\u001b[0m\n\u001b[1;32m--> 116\u001b[1;33m             \u001b[0mnext_obs\u001b[0m\u001b[1;33m,\u001b[0m \u001b[0mreward_vec\u001b[0m\u001b[1;33m[\u001b[0m\u001b[0mstep\u001b[0m\u001b[1;33m]\u001b[0m\u001b[1;33m,\u001b[0m \u001b[0mdone\u001b[0m\u001b[1;33m,\u001b[0m \u001b[0minfo\u001b[0m \u001b[1;33m=\u001b[0m \u001b[0menv\u001b[0m\u001b[1;33m.\u001b[0m\u001b[0mstep\u001b[0m\u001b[1;33m(\u001b[0m\u001b[0maction\u001b[0m\u001b[1;33m)\u001b[0m\u001b[1;33m\u001b[0m\u001b[1;33m\u001b[0m\u001b[0m\n\u001b[0m\u001b[0;32m    117\u001b[0m             \u001b[0magent\u001b[0m\u001b[1;33m.\u001b[0m\u001b[0mupdate\u001b[0m\u001b[1;33m(\u001b[0m\u001b[0mobs\u001b[0m\u001b[1;33m,\u001b[0m \u001b[0maction\u001b[0m\u001b[1;33m,\u001b[0m \u001b[0mnext_obs\u001b[0m\u001b[1;33m,\u001b[0m \u001b[0mreward_vec\u001b[0m\u001b[1;33m[\u001b[0m\u001b[0mstep\u001b[0m\u001b[1;33m]\u001b[0m\u001b[1;33m)\u001b[0m\u001b[1;33m\u001b[0m\u001b[1;33m\u001b[0m\u001b[0m\n\u001b[0;32m    118\u001b[0m             \u001b[0mobs\u001b[0m \u001b[1;33m=\u001b[0m \u001b[0mnext_obs\u001b[0m\u001b[1;33m\u001b[0m\u001b[1;33m\u001b[0m\u001b[0m\n",
      "\u001b[1;32m~\\Documents\\Research\\20_09_07_NewPC\\RLWorms\\10_30_model\\model_env.py\u001b[0m in \u001b[0;36mstep\u001b[1;34m(self, action)\u001b[0m\n\u001b[0;32m     46\u001b[0m \u001b[1;33m\u001b[0m\u001b[0m\n\u001b[0;32m     47\u001b[0m         \u001b[1;31m# Draws new reward and state from previous state\u001b[0m\u001b[1;33m\u001b[0m\u001b[1;33m\u001b[0m\u001b[1;33m\u001b[0m\u001b[0m\n\u001b[1;32m---> 48\u001b[1;33m         \u001b[0molds\u001b[0m \u001b[1;33m=\u001b[0m \u001b[0mself\u001b[0m\u001b[1;33m.\u001b[0m\u001b[0mgrid2coords\u001b[0m\u001b[1;33m(\u001b[0m\u001b[0mself\u001b[0m\u001b[1;33m.\u001b[0m\u001b[0mstate\u001b[0m\u001b[1;33m)\u001b[0m\u001b[1;33m\u001b[0m\u001b[1;33m\u001b[0m\u001b[0m\n\u001b[0m\u001b[0;32m     49\u001b[0m         \u001b[1;32mif\u001b[0m \u001b[0maction\u001b[0m\u001b[1;33m==\u001b[0m\u001b[1;36m0\u001b[0m\u001b[1;33m:\u001b[0m\u001b[1;33m\u001b[0m\u001b[1;33m\u001b[0m\u001b[0m\n\u001b[0;32m     50\u001b[0m             \u001b[0mself\u001b[0m\u001b[1;33m.\u001b[0m\u001b[0mstate\u001b[0m\u001b[1;33m[\u001b[0m\u001b[1;36m0\u001b[0m\u001b[1;33m]\u001b[0m \u001b[1;33m=\u001b[0m \u001b[0mself\u001b[0m\u001b[1;33m.\u001b[0m\u001b[0mget_sample\u001b[0m\u001b[1;33m(\u001b[0m\u001b[1;34m'body_off'\u001b[0m\u001b[1;33m,\u001b[0m \u001b[0molds\u001b[0m\u001b[1;33m)\u001b[0m\u001b[1;33m\u001b[0m\u001b[1;33m\u001b[0m\u001b[0m\n",
      "\u001b[1;32m~\\Documents\\Research\\20_09_07_NewPC\\RLWorms\\10_30_model\\model_env.py\u001b[0m in \u001b[0;36mgrid2coords\u001b[1;34m(self, gridcoords)\u001b[0m\n\u001b[0;32m    114\u001b[0m         \u001b[1;32mreturn\u001b[0m \u001b[0mself\u001b[0m\u001b[1;33m.\u001b[0m\u001b[0mgrid_width\u001b[0m\u001b[1;33m*\u001b[0m\u001b[0mgridcoords\u001b[0m\u001b[1;33m[\u001b[0m\u001b[1;36m0\u001b[0m\u001b[1;33m]\u001b[0m \u001b[1;33m+\u001b[0m \u001b[0mgridcoords\u001b[0m\u001b[1;33m[\u001b[0m\u001b[1;36m1\u001b[0m\u001b[1;33m]\u001b[0m\u001b[1;33m\u001b[0m\u001b[1;33m\u001b[0m\u001b[0m\n\u001b[0;32m    115\u001b[0m     \u001b[1;32mdef\u001b[0m \u001b[0mgrid2coords\u001b[0m\u001b[1;33m(\u001b[0m\u001b[0mself\u001b[0m\u001b[1;33m,\u001b[0m\u001b[0mgridcoords\u001b[0m\u001b[1;33m)\u001b[0m\u001b[1;33m:\u001b[0m\u001b[1;33m\u001b[0m\u001b[1;33m\u001b[0m\u001b[0m\n\u001b[1;32m--> 116\u001b[1;33m         \u001b[1;32mreturn\u001b[0m \u001b[1;33m(\u001b[0m\u001b[0mnp\u001b[0m\u001b[1;33m.\u001b[0m\u001b[0marray\u001b[0m\u001b[1;33m(\u001b[0m\u001b[0mgridcoords\u001b[0m\u001b[1;33m)\u001b[0m\u001b[1;33m+\u001b[0m\u001b[1;36m180\u001b[0m\u001b[1;33m)\u001b[0m\u001b[1;33m//\u001b[0m\u001b[1;36m30\u001b[0m\u001b[1;33m\u001b[0m\u001b[1;33m\u001b[0m\u001b[0m\n\u001b[0m\u001b[0;32m    117\u001b[0m     \u001b[1;32mdef\u001b[0m \u001b[0mcoords2grid\u001b[0m\u001b[1;33m(\u001b[0m\u001b[0mself\u001b[0m\u001b[1;33m,\u001b[0m\u001b[0mcoords\u001b[0m\u001b[1;33m)\u001b[0m\u001b[1;33m:\u001b[0m\u001b[1;33m\u001b[0m\u001b[1;33m\u001b[0m\u001b[0m\n\u001b[0;32m    118\u001b[0m         \u001b[1;32mreturn\u001b[0m \u001b[1;33m(\u001b[0m\u001b[0mnp\u001b[0m\u001b[1;33m.\u001b[0m\u001b[0marray\u001b[0m\u001b[1;33m(\u001b[0m\u001b[0mcoords\u001b[0m\u001b[1;33m)\u001b[0m\u001b[1;33m*\u001b[0m\u001b[1;36m30\u001b[0m\u001b[1;33m)\u001b[0m\u001b[1;33m-\u001b[0m\u001b[1;36m180\u001b[0m\u001b[1;33m\u001b[0m\u001b[1;33m\u001b[0m\u001b[0m\n",
      "\u001b[1;31mKeyboardInterrupt\u001b[0m: "
     ]
    }
   ],
   "source": [
    "# Setting hparams\n",
    "alpha = .1\n",
    "gamma = .7\n",
    "eps = .01\n",
    "runtime = 10000\n",
    "\n",
    "agents = []\n",
    "evals = []\n",
    "for i in range(5):\n",
    "    mouse = tab.Q_Alpha_Agent(worm,gamma=gamma,epsilon=eps,alpha=alpha)\n",
    "    mouse_learned, rewards, eval_rewards = tab.learner(mouse,worm,episodes=runtime)\n",
    "    agents.append(mouse_learned)\n",
    "    evals.append(eval_rewards)"
   ]
  },
  {
   "cell_type": "code",
   "execution_count": 189,
   "metadata": {},
   "outputs": [],
   "source": [
    "def true_policy(prod):\n",
    "    if prod<0:\n",
    "        action = 1\n",
    "    else:\n",
    "        action = 0\n",
    "    return action\n",
    "def on_policy(prod):\n",
    "    return 1\n",
    "def worst_policy(prod):\n",
    "    if prod<0:\n",
    "        action = 0\n",
    "    else:\n",
    "        action = 1\n",
    "    return action\n",
    "def off_policy(prod):\n",
    "    return 0\n",
    "\n",
    "def test_policy(policy,dist_dict):\n",
    "    toy_worm = me.FakeWorm(dist_dict)\n",
    "    steps = 1000000 # 1 mil steps\n",
    "    eps = 1\n",
    "\n",
    "    rews = []\n",
    "    for ep in range(eps):\n",
    "        obs = np.zeros((steps,2))\n",
    "        rew = np.zeros(steps)\n",
    "        action = 0\n",
    "        for i in range(steps):\n",
    "            ob,rew[i],done,info = toy_worm.step(action)\n",
    "            obs[i,:] = toy_worm.obs2grid(ob)\n",
    "            prod = np.sign(obs[i,0]*obs[i,1])\n",
    "            action = policy(prod)\n",
    "        rews.append(np.mean(rew))\n",
    "    return np.array(rews)"
   ]
  },
  {
   "cell_type": "code",
   "execution_count": 190,
   "metadata": {},
   "outputs": [
    {
     "name": "stdout",
     "output_type": "stream",
     "text": [
      "True done\n",
      "Worst done\n",
      "On done\n"
     ]
    }
   ],
   "source": [
    "true_pol = test_policy(true_policy,dist_dict)\n",
    "print('True done')\n",
    "worst_pol = test_policy(worst_policy,dist_dict)\n",
    "print('Worst done')\n",
    "on_pol = test_policy(on_policy,dist_dict)\n",
    "print('On done')\n",
    "off_pol = test_policy(off_policy,dist_dict)"
   ]
  },
  {
   "cell_type": "markdown",
   "metadata": {},
   "source": [
    "# With z=3 bins"
   ]
  },
  {
   "cell_type": "markdown",
   "metadata": {},
   "source": [
    "Only good data from worms 1-2"
   ]
  },
  {
   "cell_type": "code",
   "execution_count": 144,
   "metadata": {
    "scrolled": false
   },
   "outputs": [
    {
     "name": "stdout",
     "output_type": "stream",
     "text": [
      "True: [9.05402475]\n",
      "Worst: [2.2494562]\n",
      "On: [2.24388789]\n",
      "Off: [8.0863307]\n"
     ]
    }
   ],
   "source": [
    "print(f'True: {true_pol}\\nWorst: {worst_pol}\\nOn: {on_pol}\\nOff: {off_pol}')"
   ]
  },
  {
   "cell_type": "code",
   "execution_count": 191,
   "metadata": {},
   "outputs": [
    {
     "name": "stdout",
     "output_type": "stream",
     "text": [
      "True: [7.15853003]\n",
      "Worst: [1.46532732]\n",
      "On: [1.45501005]\n",
      "Off: [6.8316682]\n"
     ]
    }
   ],
   "source": [
    "# all worm except 5\n",
    "print(f'True: {true_pol}\\nWorst: {worst_pol}\\nOn: {on_pol}\\nOff: {off_pol}')"
   ]
  },
  {
   "cell_type": "code",
   "execution_count": 186,
   "metadata": {},
   "outputs": [
    {
     "name": "stdout",
     "output_type": "stream",
     "text": [
      "True: [7.26688117]\n",
      "Worst: [0.95417851]\n",
      "On: [0.93702286]\n",
      "Off: [6.73377225]\n"
     ]
    }
   ],
   "source": [
    "# all worms\n",
    "print(f'True: {true_pol}\\nWorst: {worst_pol}\\nOn: {on_pol}\\nOff: {off_pol}')"
   ]
  },
  {
   "cell_type": "markdown",
   "metadata": {},
   "source": [
    "# With z=1 bins"
   ]
  },
  {
   "cell_type": "markdown",
   "metadata": {},
   "source": [
    "Only good data from worms 1-2"
   ]
  },
  {
   "cell_type": "code",
   "execution_count": 147,
   "metadata": {
    "scrolled": true
   },
   "outputs": [
    {
     "name": "stdout",
     "output_type": "stream",
     "text": [
      "True: [9.0652164]\n",
      "Worst: [5.61732913]\n",
      "On: [6.16864188]\n",
      "Off: [8.08255256]\n"
     ]
    }
   ],
   "source": [
    "print(f'True: {true_pol}\\nWorst: {worst_pol}\\nOn: {on_pol}\\nOff: {off_pol}')"
   ]
  },
  {
   "cell_type": "code",
   "execution_count": 192,
   "metadata": {},
   "outputs": [],
   "source": [
    "# All worms\n",
    "\n",
    "# True: [7.24330271]\n",
    "# Worst: [4.65548039]\n",
    "# On: [4.83219013]\n",
    "# Off: [6.7544734]"
   ]
  },
  {
   "cell_type": "code",
   "execution_count": null,
   "metadata": {},
   "outputs": [],
   "source": [
    "# All worms except 5\n",
    "\n",
    "# True: [7.13589293]\n",
    "# Worst: [4.46747535]\n",
    "# On: [4.54751136]\n",
    "# Off: [6.80885612]"
   ]
  },
  {
   "cell_type": "markdown",
   "metadata": {},
   "source": [
    "# With no bins"
   ]
  },
  {
   "cell_type": "markdown",
   "metadata": {},
   "source": [
    "Only good data from worms 1-2"
   ]
  },
  {
   "cell_type": "code",
   "execution_count": 138,
   "metadata": {},
   "outputs": [
    {
     "name": "stdout",
     "output_type": "stream",
     "text": [
      "True: [3.03356785]\n",
      "Worst: [1.38634594]\n",
      "On: [2.39552487]\n",
      "Off: [1.76627118]\n"
     ]
    }
   ],
   "source": [
    "print(f'True: {true_pol}\\nWorst: {worst_pol}\\nOn: {on_pol}\\nOff: {off_pol}')"
   ]
  },
  {
   "cell_type": "markdown",
   "metadata": {},
   "source": [
    "Worm 3"
   ]
  },
  {
   "cell_type": "code",
   "execution_count": 154,
   "metadata": {},
   "outputs": [
    {
     "name": "stdout",
     "output_type": "stream",
     "text": [
      "True: [10.27205653]\n",
      "Worst: [0.50273463]\n",
      "On: [2.60095887]\n",
      "Off: [10.32568582]\n"
     ]
    }
   ],
   "source": [
    "print(f'True: {true_pol}\\nWorst: {worst_pol}\\nOn: {on_pol}\\nOff: {off_pol}')"
   ]
  },
  {
   "cell_type": "markdown",
   "metadata": {},
   "source": [
    "Worm 4"
   ]
  },
  {
   "cell_type": "code",
   "execution_count": 159,
   "metadata": {
    "scrolled": true
   },
   "outputs": [
    {
     "name": "stdout",
     "output_type": "stream",
     "text": [
      "True: [-3.19705714]\n",
      "Worst: [0.60875541]\n",
      "On: [-1.67442187]\n",
      "Off: [-1.78354276]\n"
     ]
    }
   ],
   "source": [
    "print(f'True: {true_pol}\\nWorst: {worst_pol}\\nOn: {on_pol}\\nOff: {off_pol}')"
   ]
  },
  {
   "cell_type": "code",
   "execution_count": 167,
   "metadata": {},
   "outputs": [
    {
     "name": "stdout",
     "output_type": "stream",
     "text": [
      "True: [3.3547781]\n",
      "Worst: [1.19887201]\n",
      "On: [1.85735921]\n",
      "Off: [2.23000062]\n"
     ]
    }
   ],
   "source": [
    "# Worm2 plus first of worm4\n",
    "print(f'True: {true_pol}\\nWorst: {worst_pol}\\nOn: {on_pol}\\nOff: {off_pol}')"
   ]
  },
  {
   "cell_type": "code",
   "execution_count": 171,
   "metadata": {
    "scrolled": false
   },
   "outputs": [
    {
     "name": "stdout",
     "output_type": "stream",
     "text": [
      "True: [2.04377062]\n",
      "Worst: [0.14640855]\n",
      "On: [0.93816734]\n",
      "Off: [1.07694557]\n"
     ]
    }
   ],
   "source": [
    "# Worm2 plus second of worm4\n",
    "print(f'True: {true_pol}\\nWorst: {worst_pol}\\nOn: {on_pol}\\nOff: {off_pol}')"
   ]
  },
  {
   "cell_type": "code",
   "execution_count": 181,
   "metadata": {
    "scrolled": false
   },
   "outputs": [
    {
     "name": "stdout",
     "output_type": "stream",
     "text": [
      "True: [2.14049393]\n",
      "Worst: [1.30133592]\n",
      "On: [2.30530855]\n",
      "Off: [1.01190604]\n"
     ]
    }
   ],
   "source": [
    "# Worm2 plus worm4\n",
    "print(f'True: {true_pol}\\nWorst: {worst_pol}\\nOn: {on_pol}\\nOff: {off_pol}')"
   ]
  },
  {
   "cell_type": "markdown",
   "metadata": {},
   "source": [
    "Worm 5"
   ]
  },
  {
   "cell_type": "code",
   "execution_count": 163,
   "metadata": {},
   "outputs": [
    {
     "name": "stdout",
     "output_type": "stream",
     "text": [
      "True: [0.82487104]\n",
      "Worst: [-0.89550885]\n",
      "On: [1.94982146]\n",
      "Off: [-1.62807547]\n"
     ]
    }
   ],
   "source": [
    "print(f'True: {true_pol}\\nWorst: {worst_pol}\\nOn: {on_pol}\\nOff: {off_pol}')"
   ]
  },
  {
   "cell_type": "code",
   "execution_count": 177,
   "metadata": {},
   "outputs": [
    {
     "name": "stdout",
     "output_type": "stream",
     "text": [
      "True: [0.68028061]\n",
      "Worst: [0.98512843]\n",
      "On: [2.24454905]\n",
      "Off: [-0.18661986]\n"
     ]
    }
   ],
   "source": [
    "# All worms\n",
    "print(f'True: {true_pol}\\nWorst: {worst_pol}\\nOn: {on_pol}\\nOff: {off_pol}')"
   ]
  },
  {
   "cell_type": "code",
   "execution_count": null,
   "metadata": {},
   "outputs": [],
   "source": []
  }
 ],
 "metadata": {
  "kernelspec": {
   "display_name": "rlkit",
   "language": "python",
   "name": "rlkit"
  },
  "language_info": {
   "codemirror_mode": {
    "name": "ipython",
    "version": 3
   },
   "file_extension": ".py",
   "mimetype": "text/x-python",
   "name": "python",
   "nbconvert_exporter": "python",
   "pygments_lexer": "ipython3",
   "version": "3.8.5"
  }
 },
 "nbformat": 4,
 "nbformat_minor": 4
}
