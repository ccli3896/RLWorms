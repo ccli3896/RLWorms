{
 "cells": [
  {
   "cell_type": "code",
   "execution_count": 1,
   "metadata": {},
   "outputs": [],
   "source": [
    "import numpy as np\n",
    "import matplotlib.pyplot as plt\n",
    "import pandas as pd\n",
    "import pickle\n",
    "\n",
    "import utils as utils\n",
    "import model_env as me"
   ]
  },
  {
   "cell_type": "code",
   "execution_count": 2,
   "metadata": {},
   "outputs": [],
   "source": [
    "fnames=[\n",
    "    # First worm\n",
    "    'Data/traj12-11-2020_19-04-41.pkl', #none\n",
    "    'Data/traj12-11-2020_19-14-38.pkl', #none\n",
    "    'Data/traj12-11-2020_19-24-30.pkl', #xlim 800\n",
    "    # 'Data/traj12-11-2020_19-35-31.pkl', #none # Seems like an especially bad dataset. Actually ruined all the others\n",
    "    # Second worm\n",
    "    'Data/traj12-11-2020_19-55-19.pkl', #none\n",
    "    'Data/traj12-11-2020_20-05-11.pkl', #none\n",
    "    'Data/traj12-11-2020_20-15-17.pkl', #none\n",
    "    'Data/traj12-11-2020_20-25-06.pkl', #xlim 1430\n",
    "]\n",
    "\n",
    "xlims = [1e6,1e6,800,1e6,1e6,1e6,1430]\n",
    "\n",
    "traj_df = utils.make_df(fnames,xlimit=xlims,time_steps=10)"
   ]
  },
  {
   "cell_type": "code",
   "execution_count": 8,
   "metadata": {},
   "outputs": [
    {
     "data": {
      "text/plain": [
       "[<matplotlib.lines.Line2D at 0x21c78e06d60>]"
      ]
     },
     "execution_count": 8,
     "metadata": {},
     "output_type": "execute_result"
    },
    {
     "data": {
      "image/png": "[encoded data removed]",
      "text/plain": [
       "<Figure size 432x288 with 1 Axes>"
      ]
     },
     "metadata": {
      "needs_background": "light"
     },
     "output_type": "display_data"
    }
   ],
   "source": [
    "locs = np.zeros((traj_df['loc'].size,2))\n",
    "for i,loc in enumerate(traj_df['loc']):\n",
    "    locs[i,:] = loc\n",
    "plt.plot(locs[:,0],locs[:,1])"
   ]
  },
  {
   "cell_type": "code",
   "execution_count": 3,
   "metadata": {},
   "outputs": [],
   "source": [
    "dist_dict = utils.make_dist_dict(traj_df)"
   ]
  },
  {
   "cell_type": "code",
   "execution_count": 7,
   "metadata": {},
   "outputs": [
    {
     "data": {
      "text/html": [
       "<div>\n",
       "<style scoped>\n",
       "    .dataframe tbody tr th:only-of-type {\n",
       "        vertical-align: middle;\n",
       "    }\n",
       "\n",
       "    .dataframe tbody tr th {\n",
       "        vertical-align: top;\n",
       "    }\n",
       "\n",
       "    .dataframe thead th {\n",
       "        text-align: right;\n",
       "    }\n",
       "</style>\n",
       "<table border=\"1\" class=\"dataframe\">\n",
       "  <thead>\n",
       "    <tr style=\"text-align: right;\">\n",
       "      <th></th>\n",
       "      <th>obs_b</th>\n",
       "      <th>obs_h</th>\n",
       "      <th>action</th>\n",
       "      <th>next_obs_b</th>\n",
       "      <th>next_obs_h</th>\n",
       "      <th>reward</th>\n",
       "      <th>loc</th>\n",
       "      <th>t</th>\n",
       "    </tr>\n",
       "  </thead>\n",
       "  <tbody>\n",
       "    <tr>\n",
       "      <th>0</th>\n",
       "      <td>-150</td>\n",
       "      <td>-120</td>\n",
       "      <td>1</td>\n",
       "      <td>-150</td>\n",
       "      <td>-120</td>\n",
       "      <td>-2.666667</td>\n",
       "      <td>[849.1111111111111, 1067.6666666666667]</td>\n",
       "      <td>0.390</td>\n",
       "    </tr>\n",
       "    <tr>\n",
       "      <th>1</th>\n",
       "      <td>-30</td>\n",
       "      <td>90</td>\n",
       "      <td>0</td>\n",
       "      <td>-30</td>\n",
       "      <td>-30</td>\n",
       "      <td>-1.878788</td>\n",
       "      <td>[846.3636363636364, 1069.4545454545455]</td>\n",
       "      <td>2.234</td>\n",
       "    </tr>\n",
       "    <tr>\n",
       "      <th>2</th>\n",
       "      <td>150</td>\n",
       "      <td>30</td>\n",
       "      <td>0</td>\n",
       "      <td>-30</td>\n",
       "      <td>-30</td>\n",
       "      <td>-3.687179</td>\n",
       "      <td>[847.5384615384615, 1068.8461538461538]</td>\n",
       "      <td>4.109</td>\n",
       "    </tr>\n",
       "    <tr>\n",
       "      <th>3</th>\n",
       "      <td>-30</td>\n",
       "      <td>-150</td>\n",
       "      <td>1</td>\n",
       "      <td>-30</td>\n",
       "      <td>-150</td>\n",
       "      <td>-2.820513</td>\n",
       "      <td>[845.6666666666666, 1070.3333333333333]</td>\n",
       "      <td>5.984</td>\n",
       "    </tr>\n",
       "    <tr>\n",
       "      <th>4</th>\n",
       "      <td>150</td>\n",
       "      <td>120</td>\n",
       "      <td>1</td>\n",
       "      <td>150</td>\n",
       "      <td>-60</td>\n",
       "      <td>-2.523810</td>\n",
       "      <td>[844.2222222222222, 1071.3333333333333]</td>\n",
       "      <td>7.828</td>\n",
       "    </tr>\n",
       "    <tr>\n",
       "      <th>...</th>\n",
       "      <td>...</td>\n",
       "      <td>...</td>\n",
       "      <td>...</td>\n",
       "      <td>...</td>\n",
       "      <td>...</td>\n",
       "      <td>...</td>\n",
       "      <td>...</td>\n",
       "      <td>...</td>\n",
       "    </tr>\n",
       "    <tr>\n",
       "      <th>1651</th>\n",
       "      <td>30</td>\n",
       "      <td>60</td>\n",
       "      <td>1</td>\n",
       "      <td>30</td>\n",
       "      <td>90</td>\n",
       "      <td>-10.750000</td>\n",
       "      <td>[889.5, 70.75]</td>\n",
       "      <td>55.140</td>\n",
       "    </tr>\n",
       "    <tr>\n",
       "      <th>1652</th>\n",
       "      <td>-150</td>\n",
       "      <td>-30</td>\n",
       "      <td>1</td>\n",
       "      <td>-150</td>\n",
       "      <td>-60</td>\n",
       "      <td>-10.500000</td>\n",
       "      <td>[893.0, 72.0]</td>\n",
       "      <td>60.156</td>\n",
       "    </tr>\n",
       "    <tr>\n",
       "      <th>1653</th>\n",
       "      <td>60</td>\n",
       "      <td>30</td>\n",
       "      <td>0</td>\n",
       "      <td>60</td>\n",
       "      <td>-30</td>\n",
       "      <td>-8.000000</td>\n",
       "      <td>[889.0, 73.0]</td>\n",
       "      <td>64.984</td>\n",
       "    </tr>\n",
       "    <tr>\n",
       "      <th>1654</th>\n",
       "      <td>150</td>\n",
       "      <td>-90</td>\n",
       "      <td>0</td>\n",
       "      <td>150</td>\n",
       "      <td>-30</td>\n",
       "      <td>-9.000000</td>\n",
       "      <td>[862.0, 81.5]</td>\n",
       "      <td>72.718</td>\n",
       "    </tr>\n",
       "    <tr>\n",
       "      <th>1655</th>\n",
       "      <td>120</td>\n",
       "      <td>30</td>\n",
       "      <td>0</td>\n",
       "      <td>-30</td>\n",
       "      <td>-30</td>\n",
       "      <td>-9.214286</td>\n",
       "      <td>[852.5, 82.5]</td>\n",
       "      <td>77.406</td>\n",
       "    </tr>\n",
       "  </tbody>\n",
       "</table>\n",
       "<p>1656 rows × 8 columns</p>\n",
       "</div>"
      ],
      "text/plain": [
       "     obs_b obs_h action next_obs_b next_obs_h     reward  \\\n",
       "0     -150  -120      1       -150       -120  -2.666667   \n",
       "1      -30    90      0        -30        -30  -1.878788   \n",
       "2      150    30      0        -30        -30  -3.687179   \n",
       "3      -30  -150      1        -30       -150  -2.820513   \n",
       "4      150   120      1        150        -60  -2.523810   \n",
       "...    ...   ...    ...        ...        ...        ...   \n",
       "1651    30    60      1         30         90 -10.750000   \n",
       "1652  -150   -30      1       -150        -60 -10.500000   \n",
       "1653    60    30      0         60        -30  -8.000000   \n",
       "1654   150   -90      0        150        -30  -9.000000   \n",
       "1655   120    30      0        -30        -30  -9.214286   \n",
       "\n",
       "                                          loc       t  \n",
       "0     [849.1111111111111, 1067.6666666666667]   0.390  \n",
       "1     [846.3636363636364, 1069.4545454545455]   2.234  \n",
       "2     [847.5384615384615, 1068.8461538461538]   4.109  \n",
       "3     [845.6666666666666, 1070.3333333333333]   5.984  \n",
       "4     [844.2222222222222, 1071.3333333333333]   7.828  \n",
       "...                                       ...     ...  \n",
       "1651                           [889.5, 70.75]  55.140  \n",
       "1652                            [893.0, 72.0]  60.156  \n",
       "1653                            [889.0, 73.0]  64.984  \n",
       "1654                            [862.0, 81.5]  72.718  \n",
       "1655                            [852.5, 82.5]  77.406  \n",
       "\n",
       "[1656 rows x 8 columns]"
      ]
     },
     "execution_count": 7,
     "metadata": {},
     "output_type": "execute_result"
    }
   ],
   "source": [
    "traj_df"
   ]
  },
  {
   "cell_type": "code",
   "execution_count": 4,
   "metadata": {},
   "outputs": [],
   "source": [
    "def true_policy(prod):\n",
    "    if prod<0:\n",
    "        action = 1\n",
    "    else:\n",
    "        action = 0\n",
    "    return action\n",
    "\n",
    "def on_policy(prod):\n",
    "    return 1\n",
    "\n",
    "def worst_policy(prod):\n",
    "    if prod<0:\n",
    "        action = 0\n",
    "    else:\n",
    "        action = 1\n",
    "    return action\n",
    "\n",
    "def off_policy(prod):\n",
    "    return 0"
   ]
  },
  {
   "cell_type": "code",
   "execution_count": 5,
   "metadata": {},
   "outputs": [],
   "source": [
    "def test_policy(policy,dist_dict):\n",
    "    toy_worm = me.FakeWorm(dist_dict)\n",
    "    steps = 1000000 # 1 mil steps\n",
    "    eps = 1\n",
    "\n",
    "    rews = []\n",
    "    for ep in range(eps):\n",
    "        obs = np.zeros((steps,2))\n",
    "        rew = np.zeros(steps)\n",
    "        action = 0\n",
    "        for i in range(steps):\n",
    "            obs[i,:],rew[i],done,info = toy_worm.step(action)\n",
    "            prod = np.sign(obs[i,0]*obs[i,1])\n",
    "            action = policy(prod)\n",
    "        rews.append(np.mean(rew))\n",
    "    return np.array(rews)"
   ]
  },
  {
   "cell_type": "code",
   "execution_count": 6,
   "metadata": {},
   "outputs": [
    {
     "name": "stdout",
     "output_type": "stream",
     "text": [
      "True done\n",
      "Worst done\n",
      "On done\n"
     ]
    }
   ],
   "source": [
    "true_pol = test_policy(true_policy,dist_dict)\n",
    "print('True done')\n",
    "worst_pol = test_policy(worst_policy,dist_dict)\n",
    "print('Worst done')\n",
    "on_pol = test_policy(on_policy,dist_dict)\n",
    "print('On done')\n",
    "off_pol = test_policy(off_policy,dist_dict)"
   ]
  },
  {
   "cell_type": "markdown",
   "metadata": {},
   "source": [
    "# Testing policies we'd use on actual worms"
   ]
  },
  {
   "cell_type": "markdown",
   "metadata": {},
   "source": [
    "### Second worm all data"
   ]
  },
  {
   "cell_type": "markdown",
   "metadata": {},
   "source": [
    "True: 3.897350249438305\n",
    "\n",
    "Worst: -0.4533528468463348\n",
    "\n",
    "On: 0.9267479848525118\n",
    "\n",
    "Off: 2.2718444524218326"
   ]
  },
  {
   "cell_type": "markdown",
   "metadata": {},
   "source": [
    "### Second worm first 20 min of data"
   ]
  },
  {
   "cell_type": "markdown",
   "metadata": {},
   "source": [
    "True: 2.99614831\n",
    "\n",
    "Worst: -0.00609434\n",
    "\n",
    "On: 1.35991373\n",
    "\n",
    "Off: 1.20012008"
   ]
  },
  {
   "cell_type": "markdown",
   "metadata": {},
   "source": [
    "### Second worm last 20 min of data"
   ]
  },
  {
   "cell_type": "code",
   "execution_count": 31,
   "metadata": {},
   "outputs": [
    {
     "name": "stdout",
     "output_type": "stream",
     "text": [
      "True: [4.14491307]\n",
      "Worst: [1.65462017]\n",
      "On: [2.21595829]\n",
      "Off: [3.8124937]\n"
     ]
    }
   ],
   "source": [
    "print(f'True: {true_pol}\\nWorst: {worst_pol}\\nOn: {on_pol}\\nOff: {off_pol}')"
   ]
  },
  {
   "cell_type": "markdown",
   "metadata": {},
   "source": [
    "### First worm all data, 5 (or 10?) timestep separation"
   ]
  },
  {
   "cell_type": "code",
   "execution_count": 58,
   "metadata": {},
   "outputs": [
    {
     "name": "stdout",
     "output_type": "stream",
     "text": [
      "True: [1.07413698]\n",
      "Worst: [1.35553076]\n",
      "On: [1.16124348]\n",
      "Off: [0.79271937]\n"
     ]
    }
   ],
   "source": [
    "print(f'True: {true_pol}\\nWorst: {worst_pol}\\nOn: {on_pol}\\nOff: {off_pol}')"
   ]
  },
  {
   "cell_type": "markdown",
   "metadata": {},
   "source": [
    "### First worm all data, 30 timestep separation between data"
   ]
  },
  {
   "cell_type": "code",
   "execution_count": 75,
   "metadata": {},
   "outputs": [
    {
     "name": "stdout",
     "output_type": "stream",
     "text": [
      "True: [1.04696484]\n",
      "Worst: [2.50641925]\n",
      "On: [2.78337636]\n",
      "Off: [1.40645443]\n"
     ]
    }
   ],
   "source": [
    "print(f'True: {true_pol}\\nWorst: {worst_pol}\\nOn: {on_pol}\\nOff: {off_pol}')"
   ]
  },
  {
   "cell_type": "markdown",
   "metadata": {},
   "source": [
    "### First worm first 20 min"
   ]
  },
  {
   "cell_type": "code",
   "execution_count": 63,
   "metadata": {},
   "outputs": [
    {
     "name": "stdout",
     "output_type": "stream",
     "text": [
      "True: [1.95027078]\n",
      "Worst: [-0.34270528]\n",
      "On: [1.06486023]\n",
      "Off: [0.51383332]\n"
     ]
    }
   ],
   "source": [
    "print(f'True: {true_pol}\\nWorst: {worst_pol}\\nOn: {on_pol}\\nOff: {off_pol}')"
   ]
  },
  {
   "cell_type": "markdown",
   "metadata": {},
   "source": [
    "### First worm last 20 min"
   ]
  },
  {
   "cell_type": "code",
   "execution_count": 71,
   "metadata": {},
   "outputs": [
    {
     "name": "stdout",
     "output_type": "stream",
     "text": [
      "True: [-0.58155272]\n",
      "Worst: [-0.00672653]\n",
      "On: [0.32458791]\n",
      "Off: [-0.40177312]\n"
     ]
    }
   ],
   "source": [
    "print(f'True: {true_pol}\\nWorst: {worst_pol}\\nOn: {on_pol}\\nOff: {off_pol}')"
   ]
  },
  {
   "cell_type": "markdown",
   "metadata": {},
   "source": [
    "### First worm third dataset, no separation between data"
   ]
  },
  {
   "cell_type": "code",
   "execution_count": 79,
   "metadata": {},
   "outputs": [
    {
     "name": "stdout",
     "output_type": "stream",
     "text": [
      "True: [0.57828637]\n",
      "Worst: [0.22905601]\n",
      "On: [0.89952426]\n",
      "Off: [0.3453727]\n"
     ]
    }
   ],
   "source": [
    "print(f'True: {true_pol}\\nWorst: {worst_pol}\\nOn: {on_pol}\\nOff: {off_pol}')"
   ]
  },
  {
   "cell_type": "markdown",
   "metadata": {},
   "source": [
    "### First worm fourth dataset, no separation between data"
   ]
  },
  {
   "cell_type": "code",
   "execution_count": 83,
   "metadata": {},
   "outputs": [
    {
     "name": "stdout",
     "output_type": "stream",
     "text": [
      "True: [0.5950837]\n",
      "Worst: [-0.88287438]\n",
      "On: [-0.22462305]\n",
      "Off: [0.08393605]\n"
     ]
    }
   ],
   "source": [
    "print(f'True: {true_pol}\\nWorst: {worst_pol}\\nOn: {on_pol}\\nOff: {off_pol}')"
   ]
  },
  {
   "cell_type": "markdown",
   "metadata": {},
   "source": [
    "### First worm fourth dataset, 5 timesteps separation"
   ]
  },
  {
   "cell_type": "code",
   "execution_count": 87,
   "metadata": {},
   "outputs": [
    {
     "name": "stdout",
     "output_type": "stream",
     "text": [
      "True: [-0.91666978]\n",
      "Worst: [-1.26083376]\n",
      "On: [-0.2124561]\n",
      "Off: [0.24202964]\n"
     ]
    }
   ],
   "source": [
    "print(f'True: {true_pol}\\nWorst: {worst_pol}\\nOn: {on_pol}\\nOff: {off_pol}')"
   ]
  },
  {
   "cell_type": "markdown",
   "metadata": {},
   "source": [
    "### First worm first three datasets, 5 timesteps separation"
   ]
  },
  {
   "cell_type": "code",
   "execution_count": 91,
   "metadata": {},
   "outputs": [
    {
     "name": "stdout",
     "output_type": "stream",
     "text": [
      "True: [2.06990779]\n",
      "Worst: [1.45573054]\n",
      "On: [1.77455079]\n",
      "Off: [1.49777748]\n"
     ]
    }
   ],
   "source": [
    "print(f'True: {true_pol}\\nWorst: {worst_pol}\\nOn: {on_pol}\\nOff: {off_pol}')"
   ]
  },
  {
   "cell_type": "markdown",
   "metadata": {},
   "source": [
    "### All data except bad dataset, 10 timestep separation"
   ]
  },
  {
   "cell_type": "code",
   "execution_count": 117,
   "metadata": {},
   "outputs": [
    {
     "name": "stdout",
     "output_type": "stream",
     "text": [
      "True: [3.05553426]\n",
      "Worst: [1.38745691]\n",
      "On: [2.41449813]\n",
      "Off: [1.78432192]\n"
     ]
    }
   ],
   "source": [
    "print(f'True: {true_pol}\\nWorst: {worst_pol}\\nOn: {on_pol}\\nOff: {off_pol}')"
   ]
  },
  {
   "cell_type": "code",
   "execution_count": 120,
   "metadata": {},
   "outputs": [
    {
     "name": "stdout",
     "output_type": "stream",
     "text": [
      "True done\n",
      "Worst done\n",
      "On done\n",
      "Off done\n",
      "True done\n",
      "Worst done\n",
      "On done\n",
      "Off done\n",
      "True done\n",
      "Worst done\n",
      "On done\n",
      "Off done\n"
     ]
    }
   ],
   "source": [
    "fnames=[\n",
    "    # First worm\n",
    "    'Data/traj12-11-2020_19-04-41.pkl', #none\n",
    "    'Data/traj12-11-2020_19-14-38.pkl', #none\n",
    "    'Data/traj12-11-2020_19-24-30.pkl', #xlim 800\n",
    "    # 'Data/traj12-11-2020_19-35-31.pkl', #none # Seems like an especially bad dataset. Actually ruined all the others\n",
    "    # Second worm\n",
    "    'Data/traj12-11-2020_19-55-19.pkl', #none\n",
    "    'Data/traj12-11-2020_20-05-11.pkl', #none\n",
    "    'Data/traj12-11-2020_20-15-17.pkl', #none\n",
    "    'Data/traj12-11-2020_20-25-06.pkl', #xlim 1430\n",
    "]\n",
    "\n",
    "\n",
    "xlims = [1e6,1e6,800,1e6,1e6,1e6,1430]\n",
    "true_pol, worst_pol, on_pol, off_pol = np.zeros(3),np.zeros(3),np.zeros(3),np.zeros(3)\n",
    "for i,ts in enumerate([5,10,30]):\n",
    "    traj_df = utils.make_df(fnames,xlimit=xlims,time_steps=ts)\n",
    "    dist_dict = utils.make_dist_dict(traj_df)\n",
    "    \n",
    "    true_pol[i] = test_policy(true_policy,dist_dict)\n",
    "    print('True done')\n",
    "    worst_pol[i] = test_policy(worst_policy,dist_dict)\n",
    "    print('Worst done')\n",
    "    on_pol[i] = test_policy(on_policy,dist_dict)\n",
    "    print('On done')\n",
    "    off_pol[i] = test_policy(off_policy,dist_dict)\n",
    "    print('Off done')"
   ]
  },
  {
   "cell_type": "code",
   "execution_count": 112,
   "metadata": {},
   "outputs": [
    {
     "data": {
      "image/png": "[encoded data removed]",
      "text/plain": [
       "<Figure size 432x288 with 1 Axes>"
      ]
     },
     "metadata": {
      "needs_background": "light"
     },
     "output_type": "display_data"
    }
   ],
   "source": [
    "# First worm\n",
    "xvals = [5,10,30]\n",
    "plt.plot(xvals,true_pol)\n",
    "plt.plot(xvals,worst_pol)\n",
    "plt.plot(xvals,on_pol)\n",
    "plt.plot(xvals,off_pol)\n",
    "plt.legend(['true','worst','on','off'])\n",
    "plt.xlabel('Timestep separation between data points')\n",
    "plt.ylabel('Average reward over 1mil timesteps')\n",
    "plt.grid();"
   ]
  },
  {
   "cell_type": "code",
   "execution_count": 119,
   "metadata": {},
   "outputs": [
    {
     "data": {
      "image/png": "[encoded data removed]",
      "text/plain": [
       "<Figure size 432x288 with 1 Axes>"
      ]
     },
     "metadata": {
      "needs_background": "light"
     },
     "output_type": "display_data"
    }
   ],
   "source": [
    "# Second worm\n",
    "xvals = [5,10,30]\n",
    "plt.plot(xvals,true_pol)\n",
    "plt.plot(xvals,worst_pol)\n",
    "plt.plot(xvals,on_pol)\n",
    "plt.plot(xvals,off_pol)\n",
    "plt.legend(['true','worst','on','off'])\n",
    "plt.xlabel('Timestep separation between data points')\n",
    "plt.ylabel('Average reward over 1mil timesteps')\n",
    "plt.grid();"
   ]
  },
  {
   "cell_type": "code",
   "execution_count": 121,
   "metadata": {},
   "outputs": [
    {
     "data": {
      "image/png": "[encoded data removed]",
      "text/plain": [
       "<Figure size 432x288 with 1 Axes>"
      ]
     },
     "metadata": {
      "needs_background": "light"
     },
     "output_type": "display_data"
    }
   ],
   "source": [
    "# Both worms\n",
    "xvals = [5,10,30]\n",
    "plt.plot(xvals,true_pol)\n",
    "plt.plot(xvals,worst_pol)\n",
    "plt.plot(xvals,on_pol)\n",
    "plt.plot(xvals,off_pol)\n",
    "plt.legend(['true','worst','on','off'])\n",
    "plt.xlabel('Timestep separation between data points')\n",
    "plt.ylabel('Average reward over 1mil timesteps')\n",
    "plt.grid();"
   ]
  },
  {
   "cell_type": "code",
   "execution_count": 11,
   "metadata": {},
   "outputs": [
    {
     "name": "stdout",
     "output_type": "stream",
     "text": [
      "True: [4.18502862]\n",
      "Worst: [2.20781507]\n",
      "On: [3.65434162]\n",
      "Off: [2.57485504]\n"
     ]
    }
   ],
   "source": [
    "print(f'True: {true_pol}\\nWorst: {worst_pol}\\nOn: {on_pol}\\nOff: {off_pol}')\n",
    "#With wraparound"
   ]
  },
  {
   "cell_type": "code",
   "execution_count": 7,
   "metadata": {},
   "outputs": [
    {
     "name": "stdout",
     "output_type": "stream",
     "text": [
      "True: [3.05932617]\n",
      "Worst: [1.41980904]\n",
      "On: [2.4240927]\n",
      "Off: [1.74666021]\n"
     ]
    }
   ],
   "source": [
    "print(f'True: {true_pol}\\nWorst: {worst_pol}\\nOn: {on_pol}\\nOff: {off_pol}')\n",
    "#Without wraparound"
   ]
  },
  {
   "cell_type": "code",
   "execution_count": null,
   "metadata": {},
   "outputs": [],
   "source": []
  }
 ],
 "metadata": {
  "kernelspec": {
   "display_name": "r919",
   "language": "python",
   "name": "r919"
  },
  "language_info": {
   "codemirror_mode": {
    "name": "ipython",
    "version": 3
   },
   "file_extension": ".py",
   "mimetype": "text/x-python",
   "name": "python",
   "nbconvert_exporter": "python",
   "pygments_lexer": "ipython3",
   "version": "3.8.5"
  }
 },
 "nbformat": 4,
 "nbformat_minor": 4
}
