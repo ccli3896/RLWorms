{
 "cells": [
  {
   "cell_type": "code",
   "execution_count": 1,
   "metadata": {},
   "outputs": [],
   "source": [
    "import numpy as np\n",
    "import os\n",
    "import pandas as pd\n",
    "import matplotlib.pyplot as plt\n",
    "from datetime import datetime \n",
    "\n",
    "import model_based_agent as mba \n",
    "import worm_env as we \n",
    "import ensemble_mod_env as eme\n",
    "\n",
    "from improc import *\n",
    "import utils as ut\n",
    "import tab_agents as tab"
   ]
  },
  {
   "cell_type": "code",
   "execution_count": 2,
   "metadata": {},
   "outputs": [],
   "source": [
    "folder = './Data/Rand'+datetime.now().strftime('%d-%m-%H-%M')+'/'\n",
    "if os.path.isdir(folder):\n",
    "    raise ValueError('Folder already exists.')\n",
    "os.mkdir(folder)\n",
    "\n",
    "worm_num = 0\n",
    "worm = we.ProcessedWorm(0,ep_len=300)"
   ]
  },
  {
   "cell_type": "code",
   "execution_count": 30,
   "metadata": {},
   "outputs": [
    {
     "name": "stdout",
     "output_type": "stream",
     "text": [
      "Warning: when changing pixelclock at runtime, you may need to update the fps and exposure parameters\n",
      "Warning: Specified fps (20.00) not in possible range: [7.40, 14.92]. fps has been set to 14.92.\n",
      "Done resetting\t\n",
      "Done resetting\t\n",
      "Done resetting\t\n",
      "Done resetting\t\n",
      "Done resetting\t\n",
      "Done resetting\t\n"
     ]
    }
   ],
   "source": [
    "fname = f'{folder}Rand{worm_num}.pkl'\n",
    "mba.get_init_traj(fname, worm, 6)\n",
    "worm_num += 1"
   ]
  },
  {
   "cell_type": "code",
   "execution_count": null,
   "metadata": {},
   "outputs": [],
   "source": []
  }
 ],
 "metadata": {
  "kernelspec": {
   "display_name": "rlkit",
   "language": "python",
   "name": "rlkit"
  },
  "language_info": {
   "codemirror_mode": {
    "name": "ipython",
    "version": 3
   },
   "file_extension": ".py",
   "mimetype": "text/x-python",
   "name": "python",
   "nbconvert_exporter": "python",
   "pygments_lexer": "ipython3",
   "version": "3.8.5"
  }
 },
 "nbformat": 4,
 "nbformat_minor": 4
}
