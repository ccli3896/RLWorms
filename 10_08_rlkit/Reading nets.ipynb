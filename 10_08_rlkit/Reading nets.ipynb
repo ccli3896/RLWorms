{
 "cells": [
  {
   "cell_type": "code",
   "execution_count": 1,
   "metadata": {},
   "outputs": [],
   "source": [
    "import torch\n",
    "import pickle\n",
    "import numpy as np"
   ]
  },
  {
   "cell_type": "code",
   "execution_count": 3,
   "metadata": {},
   "outputs": [],
   "source": [
    "net = torch.load('./data/test/test/_2020_09_28_17_12_29_0000--s-0/params.pkl')"
   ]
  },
  {
   "cell_type": "code",
   "execution_count": 4,
   "metadata": {},
   "outputs": [
    {
     "data": {
      "text/plain": [
       "{'trainer/policy': TanhGaussianPolicy(\n",
       "   (fc0): Linear(in_features=2, out_features=64, bias=True)\n",
       "   (fc1): Linear(in_features=64, out_features=64, bias=True)\n",
       "   (last_fc): Linear(in_features=64, out_features=1, bias=True)\n",
       "   (last_fc_log_std): Linear(in_features=64, out_features=1, bias=True)\n",
       " ),\n",
       " 'trainer/qf1': ConcatMlp(\n",
       "   (fc0): Linear(in_features=3, out_features=64, bias=True)\n",
       "   (fc1): Linear(in_features=64, out_features=64, bias=True)\n",
       "   (last_fc): Linear(in_features=64, out_features=1, bias=True)\n",
       " ),\n",
       " 'trainer/qf2': ConcatMlp(\n",
       "   (fc0): Linear(in_features=3, out_features=64, bias=True)\n",
       "   (fc1): Linear(in_features=64, out_features=64, bias=True)\n",
       "   (last_fc): Linear(in_features=64, out_features=1, bias=True)\n",
       " ),\n",
       " 'trainer/target_qf1': ConcatMlp(\n",
       "   (fc0): Linear(in_features=3, out_features=64, bias=True)\n",
       "   (fc1): Linear(in_features=64, out_features=64, bias=True)\n",
       "   (last_fc): Linear(in_features=64, out_features=1, bias=True)\n",
       " ),\n",
       " 'trainer/target_qf2': ConcatMlp(\n",
       "   (fc0): Linear(in_features=3, out_features=64, bias=True)\n",
       "   (fc1): Linear(in_features=64, out_features=64, bias=True)\n",
       "   (last_fc): Linear(in_features=64, out_features=1, bias=True)\n",
       " )}"
      ]
     },
     "execution_count": 4,
     "metadata": {},
     "output_type": "execute_result"
    }
   ],
   "source": [
    "net"
   ]
  },
  {
   "cell_type": "code",
   "execution_count": 6,
   "metadata": {},
   "outputs": [
    {
     "data": {
      "text/plain": [
       "ConcatMlp(\n",
       "  (fc0): Linear(in_features=3, out_features=64, bias=True)\n",
       "  (fc1): Linear(in_features=64, out_features=64, bias=True)\n",
       "  (last_fc): Linear(in_features=64, out_features=1, bias=True)\n",
       ")"
      ]
     },
     "execution_count": 6,
     "metadata": {},
     "output_type": "execute_result"
    }
   ],
   "source": [
    "net['trainer/qf1']"
   ]
  },
  {
   "cell_type": "code",
   "execution_count": 7,
   "metadata": {},
   "outputs": [
    {
     "data": {
      "text/plain": [
       "['T_destination',\n",
       " '__abstractmethods__',\n",
       " '__annotations__',\n",
       " '__call__',\n",
       " '__class__',\n",
       " '__delattr__',\n",
       " '__dict__',\n",
       " '__dir__',\n",
       " '__doc__',\n",
       " '__eq__',\n",
       " '__format__',\n",
       " '__ge__',\n",
       " '__getattr__',\n",
       " '__getattribute__',\n",
       " '__gt__',\n",
       " '__hash__',\n",
       " '__init__',\n",
       " '__init_subclass__',\n",
       " '__le__',\n",
       " '__lt__',\n",
       " '__module__',\n",
       " '__ne__',\n",
       " '__new__',\n",
       " '__reduce__',\n",
       " '__reduce_ex__',\n",
       " '__repr__',\n",
       " '__setattr__',\n",
       " '__setstate__',\n",
       " '__sizeof__',\n",
       " '__str__',\n",
       " '__subclasshook__',\n",
       " '__weakref__',\n",
       " '_abc_impl',\n",
       " '_apply',\n",
       " '_backward_hooks',\n",
       " '_buffers',\n",
       " '_call_impl',\n",
       " '_forward_hooks',\n",
       " '_forward_pre_hooks',\n",
       " '_forward_unimplemented',\n",
       " '_get_name',\n",
       " '_load_from_state_dict',\n",
       " '_load_state_dict_pre_hooks',\n",
       " '_modules',\n",
       " '_named_members',\n",
       " '_non_persistent_buffers_set',\n",
       " '_parameters',\n",
       " '_register_load_state_dict_pre_hook',\n",
       " '_register_state_dict_hook',\n",
       " '_replicate_for_data_parallel',\n",
       " '_save_to_state_dict',\n",
       " '_slow_forward',\n",
       " '_state_dict_hooks',\n",
       " '_version',\n",
       " 'add_module',\n",
       " 'apply',\n",
       " 'bfloat16',\n",
       " 'buffers',\n",
       " 'children',\n",
       " 'cpu',\n",
       " 'cuda',\n",
       " 'dim',\n",
       " 'double',\n",
       " 'dump_patches',\n",
       " 'eval',\n",
       " 'extra_repr',\n",
       " 'fc0',\n",
       " 'fc1',\n",
       " 'fcs',\n",
       " 'float',\n",
       " 'forward',\n",
       " 'half',\n",
       " 'hidden_activation',\n",
       " 'input_size',\n",
       " 'last_fc',\n",
       " 'layer_norm',\n",
       " 'layer_norms',\n",
       " 'load_state_dict',\n",
       " 'modules',\n",
       " 'named_buffers',\n",
       " 'named_children',\n",
       " 'named_modules',\n",
       " 'named_parameters',\n",
       " 'output_activation',\n",
       " 'output_size',\n",
       " 'parameters',\n",
       " 'register_backward_hook',\n",
       " 'register_buffer',\n",
       " 'register_forward_hook',\n",
       " 'register_forward_pre_hook',\n",
       " 'register_parameter',\n",
       " 'requires_grad_',\n",
       " 'share_memory',\n",
       " 'state_dict',\n",
       " 'to',\n",
       " 'train',\n",
       " 'training',\n",
       " 'type',\n",
       " 'zero_grad']"
      ]
     },
     "execution_count": 7,
     "metadata": {},
     "output_type": "execute_result"
    }
   ],
   "source": [
    "dir(net['trainer/qf1'])"
   ]
  },
  {
   "cell_type": "code",
   "execution_count": null,
   "metadata": {},
   "outputs": [],
   "source": []
  }
 ],
 "metadata": {
  "kernelspec": {
   "display_name": "rlkit",
   "language": "python",
   "name": "rlkit"
  },
  "language_info": {
   "codemirror_mode": {
    "name": "ipython",
    "version": 3
   },
   "file_extension": ".py",
   "mimetype": "text/x-python",
   "name": "python",
   "nbconvert_exporter": "python",
   "pygments_lexer": "ipython3",
   "version": "3.8.5"
  }
 },
 "nbformat": 4,
 "nbformat_minor": 4
}
