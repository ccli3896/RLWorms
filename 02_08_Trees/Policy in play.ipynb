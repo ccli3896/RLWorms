{
 "cells": [
  {
   "cell_type": "code",
   "execution_count": 1,
   "metadata": {},
   "outputs": [],
   "source": [
    "import numpy as np\n",
    "import pandas as pd\n",
    "import pickle\n",
    "import matplotlib.pyplot as plt\n",
    "import os\n",
    "from datetime import datetime\n",
    "from scipy.stats import norm\n",
    "\n",
    "import utils as ut\n",
    "from improc import *\n",
    "import policy_time as pt"
   ]
  },
  {
   "cell_type": "code",
   "execution_count": null,
   "metadata": {},
   "outputs": [],
   "source": [
    "def bart2pols(posterior):\n",
    "    # Takes posterior sampling from BART in R (size [n_samples,288]) where\n",
    "    # actions alternate every entry. Then second variable ascends fastest.\n",
    "    # Returns \n",
    "    #    1. the array of P(Q_delta(state)>0) for each state\n",
    "    #    2. the array of H(state), entropies of P(Q_delta(state)>0)\n",
    "    \n",
    "    def POver0(mu,sig):\n",
    "        # Returns the probability that the RV is above 0\n",
    "         return 1-norm.cdf(-mu/sig)\n",
    "    def entropy(probs):\n",
    "        return -probs*np.log(probs+1e-6)-(1-probs)*np.log(1-probs+1e-6)\n",
    "    \n",
    "    post_diff = posterior[:,1::2] - posterior[:,::2]\n",
    "    mu = np.mean(post_diff,axis=0)\n",
    "    sig = np.std(post_diff,axis=0)\n",
    "    probs = POver0(mu,sig).reshape(12,12)\n",
    "    ent = entropy(probs).reshape(12,12)\n",
    "    return probs, ent\n",
    "\n",
    "def make_sprobs_cutoff(ents,alpha,baseline,counts):\n",
    "    # TODO\n",
    "    pass"
   ]
  },
  {
   "cell_type": "code",
   "execution_count": null,
   "metadata": {},
   "outputs": [],
   "source": [
    "# R file: get_posterior.R should be running simultaneously."
   ]
  },
  {
   "cell_type": "code",
   "execution_count": 5,
   "metadata": {},
   "outputs": [
    {
     "name": "stdout",
     "output_type": "stream",
     "text": [
      "Penalty -0.3642956292503186\n"
     ]
    }
   ],
   "source": [
    "# Parameters\n",
    "init_episodes = 1\n",
    "tot_eps = 5 # Total episodes using efficient exploration policy\n",
    "folder = './Data/Pol03_02_0/'\n",
    "fbase = 'traj' # Must match between rstudio and this\n",
    "\n",
    "# Policy parameters\n",
    "base_sampling = .1 \n",
    "    # All states will have a base sampling rate of 10% (5% light on)\n",
    "samp_states_decay = 10 \n",
    "    # tau such that perc light will be on is 1/2*[(1-base)e^(-ep/tau)+base]\n",
    "\n",
    "\n",
    "# Fixed parameters\n",
    "params = {\n",
    "    'reward_ahead': 30,\n",
    "    'timestep_gap': 1,\n",
    "    'prev_act_window': 3,\n",
    "    'jump_limit': 100,\n",
    "}\n",
    "\n",
    "# Collect initial random trajectory\n",
    "worm = we.ProcessedWorm(0,ep_len=300) # Each worm episode will be several minutes long\n",
    "fnames=[]\n",
    "fnames.append(f'{folder}{fbase}0.pkl')\n",
    "pt.get_init_traj(fname, worm, init_episodes, act_rate=3)\n",
    "\n",
    "# Load trajectory in a data handler object as a df. Save for R.\n",
    "dh = pt.DataHandler(params=params)\n",
    "dh.add_dict_to_df(fnames)\n",
    "dh.df = change_reward_ahead(dh.df,params['reward_ahead'],jump_limit=params['jump_limit'])\n",
    "save_for_R(dh.df, f'{folder}{fbase}0.npy')\n",
    "\n",
    "ep=0\n",
    "# Now R script will run and create a file that we will sit and wait for.\n",
    "bart_f = f'{folder}sbart{ep}.npy'\n",
    "while not os.path.exists(bart_f):\n",
    "    time.sleep(1)\n",
    "# Now that the file exists, we get the highest entropy states and decide to explore them more\n",
    "# in the future.\n",
    "post = np.load(bart_f,allow_pickle=True)\n",
    "probs, ents = bart2pols(post)\n",
    "np.save(f'{folder}probs{ep}.npy',probs,allow_pickle=True)\n",
    "np.save(f'{folder}ents{ep}.npy',ents,allow_pickle=True)\n",
    "\n",
    "for ep in np.arange(tot_eps)+1:\n",
    "    # Create a list of states to search based on entropy and cutoff.\n",
    "    # alpha is the proportion of time light is on.\n",
    "    alpha = 1/2*((1-base_sampling)*np.exp(-ep/samp_states_decay)+base_sampling)\n",
    "    sampling_probs = make_sprobs_cutoff(ents,alpha)"
   ]
  },
  {
   "cell_type": "code",
   "execution_count": null,
   "metadata": {},
   "outputs": [],
   "source": []
  }
 ],
 "metadata": {
  "kernelspec": {
   "display_name": "rlkit",
   "language": "python",
   "name": "rlkit"
  },
  "language_info": {
   "codemirror_mode": {
    "name": "ipython",
    "version": 3
   },
   "file_extension": ".py",
   "mimetype": "text/x-python",
   "name": "python",
   "nbconvert_exporter": "python",
   "pygments_lexer": "ipython3",
   "version": "3.8.5"
  }
 },
 "nbformat": 4,
 "nbformat_minor": 4
}
