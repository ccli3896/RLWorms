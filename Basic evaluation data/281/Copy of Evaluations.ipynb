{
 "cells": [
  {
   "cell_type": "code",
   "execution_count": 1,
   "id": "2faf97b6",
   "metadata": {
    "executionInfo": {
     "elapsed": 146,
     "status": "ok",
     "timestamp": 1677865370858,
     "user": {
      "displayName": "Chenguang Li",
      "userId": "03739418199529982054"
     },
     "user_tz": 300
    },
    "id": "2faf97b6"
   },
   "outputs": [],
   "source": [
    "import numpy as np\n",
    "import pickle\n",
    "import os\n",
    "import matplotlib.pyplot as plt"
   ]
  },
  {
   "cell_type": "markdown",
   "id": "1ce29425",
   "metadata": {},
   "source": [
    "# Known"
   ]
  },
  {
   "cell_type": "code",
   "execution_count": 57,
   "id": "1ac8a3ed",
   "metadata": {
    "colab": {
     "base_uri": "https://localhost:8080/"
    },
    "executionInfo": {
     "elapsed": 145,
     "status": "ok",
     "timestamp": 1677865375488,
     "user": {
      "displayName": "Chenguang Li",
      "userId": "03739418199529982054"
     },
     "user_tz": 300
    },
    "id": "1ac8a3ed",
    "outputId": "c50bcdc3-0b8d-487c-efdc-e1cd1a8e94be"
   },
   "outputs": [
    {
     "name": "stdout",
     "output_type": "stream",
     "text": [
      "2023-03-02_16-12-30.pkl\n",
      "2023-03-02_18-39-19.pkl\n",
      "2023-03-02_19-10-28.pkl\n",
      "2023-03-02_16-18-29.pkl\n",
      "2023-03-02_19-24-31.pkl\n",
      "2023-03-02_19-26-52.pkl\n",
      "2023-03-02_19-40-49.pkl\n",
      "2023-03-02_19-12-50.pkl\n",
      "2023-03-02_16-05-21.pkl\n",
      "2023-03-02_19-57-41.pkl\n"
     ]
    }
   ],
   "source": [
    "fnames = []\n",
    "for fname in os.listdir('./Known/'):\n",
    "    if '.pkl' in fname:\n",
    "        print(fname)\n",
    "        fnames.append(fname)"
   ]
  },
  {
   "cell_type": "code",
   "execution_count": 58,
   "id": "f6985dbc",
   "metadata": {
    "executionInfo": {
     "elapsed": 174,
     "status": "ok",
     "timestamp": 1677866098891,
     "user": {
      "displayName": "Chenguang Li",
      "userId": "03739418199529982054"
     },
     "user_tz": 300
    },
    "id": "f6985dbc"
   },
   "outputs": [],
   "source": [
    "tdict = {\n",
    "    'up1':   [1080,-50],\n",
    "    'down1': [1080,-1850],\n",
    "    'left1': [250,-960],\n",
    "    'right1':[1980,-960],\n",
    "    \n",
    "    'up2':   [1080,-170],\n",
    "    'down2': [1080,-1550],\n",
    "    'left2': [360,-860],\n",
    "    'right2':[1740,-860]\n",
    "}\n",
    "\n",
    "targets = [\n",
    "  'left2',\n",
    "  'left2',\n",
    "  'left2',\n",
    "  'left1',\n",
    "  'left2',\n",
    "  \n",
    "  'left1',\n",
    "  'left1',\n",
    "  'up1',\n",
    "  'left1',\n",
    "  'left2'\n",
    "]"
   ]
  },
  {
   "cell_type": "code",
   "execution_count": 59,
   "id": "daf189ac",
   "metadata": {
    "executionInfo": {
     "elapsed": 410,
     "status": "ok",
     "timestamp": 1677866111888,
     "user": {
      "displayName": "Chenguang Li",
      "userId": "03739418199529982054"
     },
     "user_tz": 300
    },
    "id": "daf189ac"
   },
   "outputs": [],
   "source": [
    "all_closests = []\n",
    "for track_ind in range(10):\n",
    "    with open(f'./Known/{fnames[track_ind]}','rb') as f:\n",
    "        track = pickle.load(f)\n",
    "    closest = 1e6\n",
    "    target = tdict[targets[track_ind]]\n",
    "    for pt in range(len(track['x'])):\n",
    "        dist = np.linalg.norm(np.array([track['x'][pt], track['y'][pt]]) - np.array(target))\n",
    "        if dist/540 < 0.5:\n",
    "            closest = pt\n",
    "            break\n",
    "    if closest < 1e6:\n",
    "      all_closests.append(closest)"
   ]
  },
  {
   "cell_type": "code",
   "execution_count": 60,
   "id": "475ce146",
   "metadata": {
    "colab": {
     "base_uri": "https://localhost:8080/"
    },
    "executionInfo": {
     "elapsed": 189,
     "status": "ok",
     "timestamp": 1677866112395,
     "user": {
      "displayName": "Chenguang Li",
      "userId": "03739418199529982054"
     },
     "user_tz": 300
    },
    "id": "475ce146",
    "outputId": "67cacf63-8b01-4a51-c2ab-24e017dc98dd"
   },
   "outputs": [],
   "source": [
    "# Time to 0.5 cm for known policy\n",
    "known = np.array(all_closests) / 3"
   ]
  },
  {
   "cell_type": "markdown",
   "id": "27176b65",
   "metadata": {},
   "source": [
    "# Learned"
   ]
  },
  {
   "cell_type": "code",
   "execution_count": 61,
   "id": "c719c9c4",
   "metadata": {
    "colab": {
     "base_uri": "https://localhost:8080/"
    },
    "executionInfo": {
     "elapsed": 145,
     "status": "ok",
     "timestamp": 1677865375488,
     "user": {
      "displayName": "Chenguang Li",
      "userId": "03739418199529982054"
     },
     "user_tz": 300
    },
    "id": "1ac8a3ed",
    "outputId": "c50bcdc3-0b8d-487c-efdc-e1cd1a8e94be"
   },
   "outputs": [
    {
     "name": "stdout",
     "output_type": "stream",
     "text": [
      "2021-10-27_09-52-07.pkl\n",
      "2021-10-27_09-18-52.pkl\n",
      "2021-10-27_11-53-30.pkl\n",
      "2021-10-27_11-01-02.pkl\n",
      "2021-10-27_10-35-06.pkl\n",
      "2021-10-27_15-07-49.pkl\n",
      "2021-10-27_16-09-51.pkl\n",
      "2021-10-27_16-21-35.pkl\n",
      "2021-10-27_15-45-08.pkl\n",
      "2021-10-27_11-28-49.pkl\n",
      "2021-10-27_14-44-17.pkl\n"
     ]
    }
   ],
   "source": [
    "fnames = []\n",
    "for fname in os.listdir('./Expts/'):\n",
    "    if '.pkl' in fname and 'actions' not in fname:\n",
    "        print(fname)\n",
    "        fnames.append(fname)"
   ]
  },
  {
   "cell_type": "code",
   "execution_count": 73,
   "id": "449d3d2f",
   "metadata": {
    "executionInfo": {
     "elapsed": 174,
     "status": "ok",
     "timestamp": 1677866098891,
     "user": {
      "displayName": "Chenguang Li",
      "userId": "03739418199529982054"
     },
     "user_tz": 300
    },
    "id": "f6985dbc"
   },
   "outputs": [],
   "source": [
    "tdict = {\n",
    "    'up':   [1080,-360],\n",
    "    'down': [1080,-1560],\n",
    "    'left': [380,-960],\n",
    "    'right':[1780,-960],\n",
    "    'center': [1080,-960]\n",
    "}\n",
    "\n",
    "targets = [\n",
    "  'right',\n",
    "  'center',\n",
    "  'right',\n",
    "  'left',\n",
    "  'up',\n",
    "  \n",
    "  'up',\n",
    "  'left',\n",
    "  'left',\n",
    "  'down',\n",
    "  'down',\n",
    "  'center'\n",
    "]"
   ]
  },
  {
   "cell_type": "code",
   "execution_count": 85,
   "id": "f77a941b",
   "metadata": {
    "executionInfo": {
     "elapsed": 410,
     "status": "ok",
     "timestamp": 1677866111888,
     "user": {
      "displayName": "Chenguang Li",
      "userId": "03739418199529982054"
     },
     "user_tz": 300
    },
    "id": "daf189ac"
   },
   "outputs": [],
   "source": [
    "all_closests = []\n",
    "for track_ind in range(10):\n",
    "    with open(f'./Expts/{fnames[track_ind]}','rb') as f:\n",
    "        track = pickle.load(f)\n",
    "    closest = 1e6\n",
    "    target = tdict[targets[track_ind]]\n",
    "    for pt in range(len(track['x'])):\n",
    "        dist = np.linalg.norm(np.array([track['x'][pt], track['y'][pt]]) - np.array(target))\n",
    "        if dist/480 < 0.5:\n",
    "            closest = pt\n",
    "            break\n",
    "    if closest < 1e6:\n",
    "      all_closests.append(closest)"
   ]
  },
  {
   "cell_type": "code",
   "execution_count": 86,
   "id": "df5325ba",
   "metadata": {
    "colab": {
     "base_uri": "https://localhost:8080/"
    },
    "executionInfo": {
     "elapsed": 189,
     "status": "ok",
     "timestamp": 1677866112395,
     "user": {
      "displayName": "Chenguang Li",
      "userId": "03739418199529982054"
     },
     "user_tz": 300
    },
    "id": "475ce146",
    "outputId": "67cacf63-8b01-4a51-c2ab-24e017dc98dd"
   },
   "outputs": [],
   "source": [
    "# Time to 0.5 cm for expt policy\n",
    "expt = np.array(all_closests) / 3"
   ]
  },
  {
   "cell_type": "code",
   "execution_count": 90,
   "id": "ee5c042c",
   "metadata": {},
   "outputs": [],
   "source": [
    "known = known[1:]"
   ]
  },
  {
   "cell_type": "code",
   "execution_count": 92,
   "id": "b96ff05e",
   "metadata": {},
   "outputs": [
    {
     "data": {
      "text/plain": [
       "(0.0, 500.0)"
      ]
     },
     "execution_count": 92,
     "metadata": {},
     "output_type": "execute_result"
    },
    {
     "data": {
      "image/png": "[encoded data removed]",
      "text/plain": [
       "<Figure size 640x480 with 1 Axes>"
      ]
     },
     "metadata": {},
     "output_type": "display_data"
    }
   ],
   "source": [
    "plt.scatter(range(len(known)), known)\n",
    "plt.scatter(range(len(expt)), expt)\n",
    "plt.grid();\n",
    "plt.ylim([0,500])"
   ]
  },
  {
   "cell_type": "code",
   "execution_count": 104,
   "id": "94cb9905",
   "metadata": {},
   "outputs": [
    {
     "data": {
      "image/png": "[encoded data removed]",
      "text/plain": [
       "<Figure size 640x480 with 1 Axes>"
      ]
     },
     "metadata": {},
     "output_type": "display_data"
    }
   ],
   "source": [
    "plt.errorbar(range(2), [np.mean(known), np.mean(expt)], yerr=[np.std(known)/np.sqrt(8), np.std(expt)/3.])\n",
    "plt.ylim(0,400)\n",
    "plt.scatter(np.zeros(8), known)\n",
    "plt.scatter(np.ones(9), expt)\n",
    "plt.ylabel('Seconds to hit 0.5 cm')\n",
    "plt.xticks(range(2), ['known, n=8', 'expt, n=9'])\n",
    "\n",
    "plt.savefig('Known vs expt times.svg')"
   ]
  },
  {
   "cell_type": "code",
   "execution_count": 94,
   "id": "fd744ffd",
   "metadata": {},
   "outputs": [
    {
     "data": {
      "text/plain": [
       "(136.7332916869756, 121.9226632028235)"
      ]
     },
     "execution_count": 94,
     "metadata": {},
     "output_type": "execute_result"
    }
   ],
   "source": [
    "np.std(known), np.std(expt)"
   ]
  },
  {
   "cell_type": "code",
   "execution_count": null,
   "id": "6e64e798",
   "metadata": {},
   "outputs": [],
   "source": [
    "For target distance of roughly 1.5 cm. "
   ]
  }
 ],
 "metadata": {
  "colab": {
   "provenance": []
  },
  "kernelspec": {
   "display_name": "worms",
   "language": "python",
   "name": "worms"
  },
  "language_info": {
   "codemirror_mode": {
    "name": "ipython",
    "version": 3
   },
   "file_extension": ".py",
   "mimetype": "text/x-python",
   "name": "python",
   "nbconvert_exporter": "python",
   "pygments_lexer": "ipython3",
   "version": "3.8.16"
  }
 },
 "nbformat": 4,
 "nbformat_minor": 5
}
