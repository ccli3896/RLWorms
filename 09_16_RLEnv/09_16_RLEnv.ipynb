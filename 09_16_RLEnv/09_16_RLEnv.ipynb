{
 "cells": [
  {
   "cell_type": "code",
   "execution_count": null,
   "metadata": {},
   "outputs": [],
   "source": [
    "import numpy as np\n",
    "import cv2\n",
    "import matplotlib.pyplot as plt\n",
    "import time # delay within program\n",
    "from math import *\n",
    "import random\n",
    "import pickle\n",
    "import os\n",
    "\n",
    "import nidaqmx # laser output\n",
    "from pyueye import ueye\n",
    "from pypyueye import Camera\n",
    "\n",
    "from improc import *"
   ]
  }
 ],
 "metadata": {
  "kernelspec": {
   "display_name": "r908",
   "language": "python",
   "name": "r908"
  },
  "language_info": {
   "codemirror_mode": {
    "name": "ipython",
    "version": 3
   },
   "file_extension": ".py",
   "mimetype": "text/x-python",
   "name": "python",
   "nbconvert_exporter": "python",
   "pygments_lexer": "ipython3",
   "version": "3.7.9"
  }
 },
 "nbformat": 4,
 "nbformat_minor": 4
}
