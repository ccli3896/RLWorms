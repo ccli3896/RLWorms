{
 "cells": [
  {
   "cell_type": "code",
   "execution_count": 1,
   "metadata": {},
   "outputs": [],
   "source": [
    "import numpy as np\n",
    "import cv2\n",
    "import matplotlib.pyplot as plt\n",
    "import time # delay within program\n",
    "from math import *\n",
    "import random\n",
    "import pickle\n",
    "import os\n",
    "\n",
    "import nidaqmx # laser output\n",
    "from pyueye import ueye\n",
    "from pypyueye import Camera\n",
    "\n",
    "from improc import *\n",
    "from worm_env import *"
   ]
  },
  {
   "cell_type": "markdown",
   "metadata": {},
   "source": [
    "# Benchmarking. \n",
    "This includes deterministic policy and simple averaging."
   ]
  },
  {
   "cell_type": "markdown",
   "metadata": {},
   "source": [
    "### Random actions"
   ]
  },
  {
   "cell_type": "code",
   "execution_count": 2,
   "metadata": {},
   "outputs": [
    {
     "name": "stdout",
     "output_type": "stream",
     "text": [
      "Warning: when changing pixelclock at runtime, you may need to update the fps and exposure parameters\n",
      "Warning: Specified fps (20.00) not in possible range: [7.40, 14.92]. fps has been set to 14.92.\n",
      "Episode finished after 201 timesteps\n",
      "Episode finished after 201 timesteps\n",
      "No worm \t\t\r"
     ]
    }
   ],
   "source": [
    "# Save track, total reward history\n",
    "# fnames ''\n",
    "\n",
    "env = ProcessedWorm(0,ep_len=600)\n",
    "track_timer = Timer(10)\n",
    "\n",
    "for i_episode in range(3):\n",
    "    all_rewards\n",
    "    done = False\n",
    "    t=0\n",
    "    while not done:\n",
    "        t += 1\n",
    "        action = env.action_space.sample()\n",
    "        observation, reward, done, info = env.step(action)\n",
    "        print(f'Body and head: {observation} \\t\\t\\r',end='')\n",
    "        \n",
    "        if track_timer.check():\n",
    "            \n",
    "        \n",
    "    print(\"Episode finished after {} timesteps\".format(t+1))\n",
    "    observation = env.reset(target=(i_episode*90)%360)\n",
    "env.close()"
   ]
  },
  {
   "cell_type": "code",
   "execution_count": null,
   "metadata": {},
   "outputs": [],
   "source": []
  }
 ],
 "metadata": {
  "kernelspec": {
   "display_name": "r911",
   "language": "python",
   "name": "r911"
  },
  "language_info": {
   "codemirror_mode": {
    "name": "ipython",
    "version": 3
   },
   "file_extension": ".py",
   "mimetype": "text/x-python",
   "name": "python",
   "nbconvert_exporter": "python",
   "pygments_lexer": "ipython3",
   "version": "3.8.5"
  }
 },
 "nbformat": 4,
 "nbformat_minor": 4
}
