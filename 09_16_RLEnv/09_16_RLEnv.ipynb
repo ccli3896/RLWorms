{
 "cells": [
  {
   "cell_type": "code",
   "execution_count": 1,
   "metadata": {},
   "outputs": [],
   "source": [
    "import numpy as np\n",
    "import cv2\n",
    "import matplotlib.pyplot as plt\n",
    "import time # delay within program\n",
    "from math import *\n",
    "import random\n",
    "import pickle\n",
    "import os\n",
    "\n",
    "import nidaqmx # laser output\n",
    "from pyueye import ueye\n",
    "from pypyueye import Camera\n",
    "\n",
    "from improc import *\n",
    "from worm_env import *"
   ]
  },
  {
   "cell_type": "code",
   "execution_count": 2,
   "metadata": {},
   "outputs": [
    {
     "name": "stdout",
     "output_type": "stream",
     "text": [
      "Warning: when changing pixelclock at runtime, you may need to update the fps and exposure parameters\n",
      "Warning: Specified fps (20.00) not in possible range: [7.40, 14.92]. fps has been set to 14.92.\n",
      "19 sec \r"
     ]
    }
   ],
   "source": [
    "env = ProcessedWorm(0,ep_len=1e6) # Input is target angle"
   ]
  },
  {
   "cell_type": "code",
   "execution_count": 12,
   "metadata": {},
   "outputs": [],
   "source": [
    "obs,rew,done,info = env.step(env.action_space.sample())"
   ]
  },
  {
   "cell_type": "code",
   "execution_count": 17,
   "metadata": {},
   "outputs": [
    {
     "data": {
      "text/plain": [
       "1"
      ]
     },
     "execution_count": 17,
     "metadata": {},
     "output_type": "execute_result"
    }
   ],
   "source": [
    "env.action_space.sample()"
   ]
  },
  {
   "cell_type": "code",
   "execution_count": 13,
   "metadata": {},
   "outputs": [
    {
     "name": "stdout",
     "output_type": "stream",
     "text": [
      "{'loc': array([ 938.54285714, 1138.9       ]), 'img': array([[3, 0, 1, ..., 1, 5, 0],\n",
      "       [1, 0, 0, ..., 0, 0, 0],\n",
      "       [0, 2, 2, ..., 0, 0, 0],\n",
      "       ...,\n",
      "       [4, 0, 0, ..., 0, 1, 1],\n",
      "       [1, 3, 0, ..., 0, 0, 2],\n",
      "       [1, 2, 0, ..., 0, 0, 0]], dtype=uint8), 'scores': array([114300, 128025]), 'angs': array([ 60, 270]), 'endpts': array([[ 940,  937],\n",
      "       [1130, 1149]]), 'body': 60}\n"
     ]
    },
    {
     "data": {
      "image/png": "[encoded data removed]",
      "text/plain": [
       "<Figure size 432x288 with 1 Axes>"
      ]
     },
     "metadata": {
      "needs_background": "light"
     },
     "output_type": "display_data"
    }
   ],
   "source": [
    "env.render()"
   ]
  },
  {
   "cell_type": "code",
   "execution_count": 3,
   "metadata": {},
   "outputs": [],
   "source": [
    "env.close()"
   ]
  },
  {
   "cell_type": "code",
   "execution_count": 2,
   "metadata": {},
   "outputs": [
    {
     "name": "stdout",
     "output_type": "stream",
     "text": [
      "Warning: when changing pixelclock at runtime, you may need to update the fps and exposure parameters\n",
      "Warning: Specified fps (20.00) not in possible range: [7.40, 14.92]. fps has been set to 14.92.\n",
      "Episode finished after 201 timesteps\n",
      "Episode finished after 201 timesteps\n",
      "No worm \t\t\r"
     ]
    }
   ],
   "source": [
    "env = ProcessedWorm(0,ep_len=60)\n",
    "for i_episode in range(2):\n",
    "    done = False\n",
    "    t=0\n",
    "    while not done:\n",
    "        t += 1\n",
    "        action = env.action_space.sample()\n",
    "        observation, reward, done, info = env.step(action)\n",
    "        print(f'Body and head: {observation} \\t\\t\\r',end='')\n",
    "    print(\"Episode finished after {} timesteps\".format(t+1))\n",
    "    observation = env.reset(target=(1+i_episode)*180)\n",
    "env.close()"
   ]
  },
  {
   "cell_type": "code",
   "execution_count": null,
   "metadata": {},
   "outputs": [],
   "source": []
  }
 ],
 "metadata": {
  "kernelspec": {
   "display_name": "r911",
   "language": "python",
   "name": "r911"
  },
  "language_info": {
   "codemirror_mode": {
    "name": "ipython",
    "version": 3
   },
   "file_extension": ".py",
   "mimetype": "text/x-python",
   "name": "python",
   "nbconvert_exporter": "python",
   "pygments_lexer": "ipython3",
   "version": "3.8.5"
  }
 },
 "nbformat": 4,
 "nbformat_minor": 4
}
