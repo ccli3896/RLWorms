{
 "cells": [
  {
   "cell_type": "code",
   "execution_count": 1,
   "metadata": {},
   "outputs": [],
   "source": [
    "import numpy as np\n",
    "import cv2\n",
    "import matplotlib.pyplot as plt\n",
    "import time # delay within program\n",
    "from math import *\n",
    "import random\n",
    "import pickle\n",
    "import os\n",
    "import json\n",
    "\n",
    "import nidaqmx # laser output\n",
    "from pyueye import ueye\n",
    "from pypyueye import Camera\n",
    "\n",
    "from improc import *\n",
    "from worm_env import *"
   ]
  },
  {
   "cell_type": "markdown",
   "metadata": {},
   "source": [
    "# Benchmarking. \n",
    "This includes deterministic policy and simple averaging."
   ]
  },
  {
   "cell_type": "markdown",
   "metadata": {},
   "source": [
    "## Random actions\n",
    "#### Program flow:\n",
    "* Initializes environment.\n",
    "* Collects background and sets target angle\n",
    "* Runs 4 episodes for 10 minutes (600 s) each:\n",
    "    * While episode is going:\n",
    "        * Randomly picks action\n",
    "        * Takes one step\n",
    "        * Adds results to a trajectory dictionary\n",
    "    * Prints number of steps taken during episode\n",
    "    * Saves entire trajectory to .json file as dictionary\n",
    "* Closes environment."
   ]
  },
  {
   "cell_type": "code",
   "execution_count": 2,
   "metadata": {
    "collapsed": true
   },
   "outputs": [
    {
     "name": "stdout",
     "output_type": "stream",
     "text": [
      "Warning: when changing pixelclock at runtime, you may need to update the fps and exposure parameters\n",
      "Warning: Specified fps (20.00) not in possible range: [7.40, 14.92]. fps has been set to 14.92.\n",
      "Episode finished after 201 timesteps\n",
      "Episode finished after 201 timesteps\n",
      "No worm \t\t\r"
     ]
    }
   ],
   "source": [
    "# Save track, total reward history, observations, endpoints, images\n",
    "fbase = 'Random_'\n",
    "env = ProcessedWorm(0,ep_len=600)\n",
    "eps_per_worm = 4\n",
    "\n",
    "WORM_NUMBER = 0\n",
    "\n",
    "\n",
    "for i_episode in np.arange(eps_per_worm)+WORM_NUMBER*eps_per_worm:\n",
    "    done = False\n",
    "    fname = fbase+str(i_episode)+'.json'\n",
    "    trajectory = {}\n",
    "    \n",
    "    obs = env.reset(target=(i_episode*90)%360)\n",
    "    \n",
    "    while not done:\n",
    "        action = env.action_space.sample()\n",
    "        obs, r, done, info = env.step(action)\n",
    "        print(f'Body and head: {observation} \\t\\t\\r',end='')\n",
    "        \n",
    "        # Combining trajectory data in info with previous steps\n",
    "        add_to_traj(trajectory,info)\n",
    "        \n",
    "    print(\"Episode finished after {} timesteps\".format(info['t']))\n",
    "    \n",
    "    with open(fname,'wb') as f:\n",
    "        json.dump(trajectory,f)\n",
    "    \n",
    "env.close()"
   ]
  },
  {
   "cell_type": "code",
   "execution_count": null,
   "metadata": {},
   "outputs": [],
   "source": []
  }
 ],
 "metadata": {
  "kernelspec": {
   "display_name": "r919",
   "language": "python",
   "name": "r919"
  },
  "language_info": {
   "codemirror_mode": {
    "name": "ipython",
    "version": 3
   },
   "file_extension": ".py",
   "mimetype": "text/x-python",
   "name": "python",
   "nbconvert_exporter": "python",
   "pygments_lexer": "ipython3",
   "version": "3.8.5"
  }
 },
 "nbformat": 4,
 "nbformat_minor": 4
}
