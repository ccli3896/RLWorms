{
 "cells": [
  {
   "cell_type": "code",
   "execution_count": 2,
   "metadata": {},
   "outputs": [],
   "source": [
    "import numpy as np\n",
    "import os\n",
    "import pandas as pd\n",
    "import matplotlib.pyplot as plt\n",
    "\n",
    "import model_based_agent as mba \n",
    "import worm_env as we \n",
    "import fake_worm as fw\n",
    "import ensemble_mod_env as eme\n",
    "\n",
    "from improc import *\n",
    "import utils as ut\n",
    "import tab_agents as tab\n",
    "from datetime import datetime "
   ]
  },
  {
   "cell_type": "code",
   "execution_count": 14,
   "metadata": {},
   "outputs": [],
   "source": [
    "folds = ['./Data/Det02-02-16-45/',\n",
    "        './Data/Learned02-02-13-48/',\n",
    "        './Data/Learned02-02-18-29/',\n",
    "        './Data/Learned02-02-19-43/',\n",
    "        './Data/Random02-02-15-10/',\n",
    "        ]"
   ]
  },
  {
   "cell_type": "code",
   "execution_count": 9,
   "metadata": {},
   "outputs": [],
   "source": [
    "def load_folder(fold,name,n=15):\n",
    "    # Loads trajectories into a dict with lists of arrays. \n",
    "    trajs = []\n",
    "    for i in range(n):\n",
    "        with open(f'{fold}{name}{i}.pkl','rb') as f:\n",
    "            trajs.append(pickle.load(f))\n",
    "    \n",
    "    t_dict = {}\n",
    "    for k in trajs[0].keys():\n",
    "        t_dict[k] = [np.array(trajs[i][k]).flatten() for i in range(n)]\n",
    "        if k=='loc' or k=='obs':\n",
    "            t_dict[k] = [t_dict[k][i].reshape(-1,2) for i in range(n)]\n",
    "    return t_dict"
   ]
  },
  {
   "cell_type": "code",
   "execution_count": 51,
   "metadata": {},
   "outputs": [],
   "source": [
    "dets = load_folder(folds[0],'det')\n",
    "learneds = []\n",
    "for l in np.arange(3)+1:\n",
    "    learneds.append(load_folder(folds[l],name='learned'))\n",
    "rands = load_folder(folds[-1],'random')"
   ]
  },
  {
   "cell_type": "code",
   "execution_count": 52,
   "metadata": {},
   "outputs": [],
   "source": [
    "n=15\n",
    "det_rs = [np.mean(dets['reward'][i]) for i in range(n)]\n",
    "learned_rs = [[np.mean(learneds[j]['reward'][i]) for i in range(n)] for j in range(3)]\n",
    "rand_rs = [np.mean(rands['reward'][i]) for i in range(n)]"
   ]
  },
  {
   "cell_type": "code",
   "execution_count": 53,
   "metadata": {},
   "outputs": [],
   "source": [
    "det_rs = np.delete(det_rs,[8,9,10]) # Deleted episodes where worm was lost. Data in this set are messy; will recollect"
   ]
  },
  {
   "cell_type": "code",
   "execution_count": 56,
   "metadata": {},
   "outputs": [],
   "source": [
    "mean_vec = [np.mean(det_rs),*[np.mean(learned_rs[i]) for i in range(3)],np.mean(rand_rs)]\n",
    "std_vec = [np.std(det_rs),*[np.std(learned_rs[i]) for i in range(3)],np.std(rand_rs)]\n",
    "plot_vec = [0,.95,1,1.05,2]"
   ]
  },
  {
   "cell_type": "code",
   "execution_count": 57,
   "metadata": {},
   "outputs": [
    {
     "data": {
      "image/png": "[encoded data removed]",
      "text/plain": [
       "<Figure size 432x288 with 1 Axes>"
      ]
     },
     "metadata": {
      "needs_background": "light"
     },
     "output_type": "display_data"
    }
   ],
   "source": [
    "plt.errorbar(plot_vec,mean_vec,yerr=std_vec,marker='o',markersize=10,capsize=5,linewidth=0,elinewidth=2)\n",
    "plt.grid();\n",
    "plt.title('Average reward over 30 min for one worm')\n",
    "plt.xticks([0,1,2],['Known','Learned','Random']);\n",
    "plt.ylabel('Average reward per step');"
   ]
  },
  {
   "cell_type": "markdown",
   "metadata": {},
   "source": [
    "# Next for experiments:\n",
    "#### Control: No light\n",
    "#### More known and random worms"
   ]
  },
  {
   "cell_type": "markdown",
   "metadata": {},
   "source": [
    "Online learning: goals are to learn timescale and efficiency. \n",
    "\n",
    "Can I learn the timescale from the current 3 hrs of random data?\n"
   ]
  },
  {
   "cell_type": "code",
   "execution_count": null,
   "metadata": {},
   "outputs": [],
   "source": []
  }
 ],
 "metadata": {
  "kernelspec": {
   "display_name": "r919",
   "language": "python",
   "name": "r919"
  },
  "language_info": {
   "codemirror_mode": {
    "name": "ipython",
    "version": 3
   },
   "file_extension": ".py",
   "mimetype": "text/x-python",
   "name": "python",
   "nbconvert_exporter": "python",
   "pygments_lexer": "ipython3",
   "version": "3.8.5"
  }
 },
 "nbformat": 4,
 "nbformat_minor": 4
}
