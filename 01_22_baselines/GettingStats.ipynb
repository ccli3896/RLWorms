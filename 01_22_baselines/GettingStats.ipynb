{
 "cells": [
  {
   "cell_type": "code",
   "execution_count": 1,
   "metadata": {},
   "outputs": [],
   "source": [
    "import numpy as np\n",
    "import os\n",
    "import pandas as pd\n",
    "import matplotlib.pyplot as plt\n",
    "\n",
    "import model_based_agent as mba \n",
    "import worm_env as we \n",
    "import fake_worm as fw\n",
    "import ensemble_mod_env as eme\n",
    "\n",
    "from improc import *\n",
    "import utils as ut\n",
    "import tab_agents as tab\n",
    "from datetime import datetime "
   ]
  },
  {
   "cell_type": "code",
   "execution_count": 2,
   "metadata": {},
   "outputs": [],
   "source": [
    "folds = ['./Data/Det02-02-16-45/',\n",
    "        './Data/Det03-02-13-16/',\n",
    "        './Data/Det03-02-14-39/',\n",
    "        './Data/Det03-02-15-48/',\n",
    "        './Data/Learned02-02-13-48/',\n",
    "        './Data/Learned02-02-18-29/',\n",
    "        './Data/Learned02-02-19-43/',\n",
    "        './Data/Random02-02-15-10/',\n",
    "        ]"
   ]
  },
  {
   "cell_type": "code",
   "execution_count": 3,
   "metadata": {},
   "outputs": [],
   "source": [
    "def load_folder(fold,name,n=15):\n",
    "    # Loads trajectories into a dict with lists of arrays. \n",
    "    trajs = []\n",
    "    for i in range(n):\n",
    "        with open(f'{fold}{name}{i}.pkl','rb') as f:\n",
    "            trajs.append(pickle.load(f))\n",
    "    \n",
    "    t_dict = {}\n",
    "    for k in trajs[0].keys():\n",
    "        t_dict[k] = [np.array(trajs[i][k]).flatten() for i in range(n)]\n",
    "        if k=='loc' or k=='obs':\n",
    "            t_dict[k] = [t_dict[k][i].reshape(-1,2) for i in range(n)]\n",
    "    return t_dict"
   ]
  },
  {
   "cell_type": "code",
   "execution_count": 5,
   "metadata": {},
   "outputs": [],
   "source": [
    "dets = []\n",
    "for d in np.arange(4):\n",
    "    dets.append(load_folder(folds[d],'det'))\n",
    "learneds = []\n",
    "for l in np.arange(3)+4:\n",
    "    learneds.append(load_folder(folds[l],name='learned'))\n",
    "rands = load_folder(folds[-1],'random')"
   ]
  },
  {
   "cell_type": "code",
   "execution_count": 9,
   "metadata": {},
   "outputs": [],
   "source": [
    "n=15\n",
    "det_rs = [[np.mean(dets[j]['reward'][i]) for i in range(n)] for j in range(4)]\n",
    "learned_rs = [[np.mean(learneds[j]['reward'][i]) for i in range(n)] for j in range(3)]\n",
    "rand_rs = [np.mean(rands['reward'][i]) for i in range(n)]"
   ]
  },
  {
   "cell_type": "code",
   "execution_count": 10,
   "metadata": {},
   "outputs": [],
   "source": [
    "det_rs[0] = np.delete(det_rs[0],[8,9,10]) # Deleted episodes where worm was lost. Data in this set are messy; will recollect"
   ]
  },
  {
   "cell_type": "code",
   "execution_count": 14,
   "metadata": {},
   "outputs": [],
   "source": [
    "mean_vec = [*[np.mean(det_rs[i]) for i in range(4)],*[np.mean(learned_rs[i]) for i in range(3)],np.mean(rand_rs)]\n",
    "std_vec = [*[np.std(det_rs[i]) for i in range(4)],*[np.std(learned_rs[i]) for i in range(3)],np.std(rand_rs)]\n",
    "plot_vec = [-.1,-.05,0,.05,.95,1,1.05,2]"
   ]
  },
  {
   "cell_type": "code",
   "execution_count": 15,
   "metadata": {},
   "outputs": [
    {
     "data": {
      "image/png": "[encoded data removed]",
      "text/plain": [
       "<Figure size 432x288 with 1 Axes>"
      ]
     },
     "metadata": {
      "needs_background": "light"
     },
     "output_type": "display_data"
    }
   ],
   "source": [
    "plt.errorbar(plot_vec,mean_vec,yerr=std_vec,marker='o',markersize=10,capsize=5,linewidth=0,elinewidth=2)\n",
    "plt.grid();\n",
    "plt.title('Average reward over 30 min for one worm')\n",
    "plt.xticks([0,1,2],['Known','Learned','Random']);\n",
    "plt.ylabel('Average reward per step');"
   ]
  },
  {
   "cell_type": "markdown",
   "metadata": {},
   "source": [
    "# Next for experiments:\n",
    "#### Control: No light\n",
    "#### More known and random worms"
   ]
  },
  {
   "cell_type": "markdown",
   "metadata": {},
   "source": [
    "Online learning: goals are to learn timescale and efficiency. \n",
    "\n",
    "Can I learn the timescale from the current 3 hrs of random data?\n"
   ]
  },
  {
   "cell_type": "markdown",
   "metadata": {},
   "source": [
    "# Learning timescale"
   ]
  },
  {
   "cell_type": "code",
   "execution_count": 24,
   "metadata": {},
   "outputs": [],
   "source": [
    "files = ['./Data/HTFix19-01-18-47/',\n",
    "           './Data/HTFix19-01-20-29/',\n",
    "           './Data/HTFix19-01-21-18/',\n",
    "           './Data/HTFix20-01-09-04/',\n",
    "           './Data/HTFix20-01-09-42/',\n",
    "           './Data/HTFix20-01-10-41/',\n",
    "          ]\n",
    "files = ['../01_13_reals/'+f[2:] for f in files]\n",
    "t_files = []\n",
    "for file in files:\n",
    "    if file=='../01_13_reals/Data/HTFix19-01-21-18/':\n",
    "        for i in range(3):\n",
    "            t_files.append(f'{file}collect{i}.pkl')\n",
    "    else:\n",
    "        for i in range(6):\n",
    "            t_files.append(f'{file}collect{i}.pkl')"
   ]
  },
  {
   "cell_type": "code",
   "execution_count": 26,
   "metadata": {},
   "outputs": [
    {
     "name": "stderr",
     "output_type": "stream",
     "text": [
      "C:\\Users\\ccli3\\Documents\\Research\\20_09_07_NewPC\\RLWorms\\01_22_baselines\\utils.py:139: SettingWithCopyWarning: \n",
      "A value is trying to be set on a copy of a slice from a DataFrame\n",
      "\n",
      "See the caveats in the documentation: https://pandas.pydata.org/pandas-docs/stable/user_guide/indexing.html#returning-a-view-versus-a-copy\n",
      "  df['angs'][i] = np.flip(df['angs'][i])\n"
     ]
    },
    {
     "name": "stdout",
     "output_type": "stream",
     "text": [
      "On model 0\n"
     ]
    }
   ],
   "source": [
    "r=17\n",
    "dh = mba.DataHandler()\n",
    "dh.params = {\n",
    "            'reward_ahead': r,\n",
    "            'timestep_gap': 1,\n",
    "            'prev_act_window': 3,\n",
    "            'jump_limit': 100,\n",
    "        }\n",
    "dh.add_dict_to_df(t_files,reward_ahead=r)\n",
    "mset = eme.ModelSet(1,frac=1,lp_frac=None)\n",
    "mset.make_models(dh,sm_pars={'lambda':.1,'iters':10})\n",
    "\n",
    "with open(f'model_ra_{r}.pkl','wb') as f:\n",
    "    pickle.dump(mset,f)"
   ]
  },
  {
   "cell_type": "code",
   "execution_count": null,
   "metadata": {},
   "outputs": [],
   "source": []
  }
 ],
 "metadata": {
  "kernelspec": {
   "display_name": "rlkit",
   "language": "python",
   "name": "rlkit"
  },
  "language_info": {
   "codemirror_mode": {
    "name": "ipython",
    "version": 3
   },
   "file_extension": ".py",
   "mimetype": "text/x-python",
   "name": "python",
   "nbconvert_exporter": "python",
   "pygments_lexer": "ipython3",
   "version": "3.8.5"
  }
 },
 "nbformat": 4,
 "nbformat_minor": 4
}
