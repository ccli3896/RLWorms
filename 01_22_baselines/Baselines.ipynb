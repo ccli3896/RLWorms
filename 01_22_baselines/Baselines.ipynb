{
 "cells": [
  {
   "cell_type": "code",
   "execution_count": 1,
   "metadata": {},
   "outputs": [],
   "source": [
    "import numpy as np\n",
    "import os\n",
    "import pandas as pd\n",
    "import matplotlib.pyplot as plt\n",
    "\n",
    "import model_based_agent as mba \n",
    "import worm_env as we \n",
    "import fake_worm as fw\n",
    "import ensemble_mod_env as eme\n",
    "\n",
    "from improc import *\n",
    "import utils as ut\n",
    "import tab_agents as tab\n",
    "from datetime import datetime "
   ]
  },
  {
   "cell_type": "code",
   "execution_count": 21,
   "metadata": {},
   "outputs": [],
   "source": [
    "def pol_test(mod,folder,sets,\n",
    "            rand_ep_time = 120,\n",
    "            eval_ep_time = 120,\n",
    "            worm_ep_len = 120):\n",
    "    # Takes a model with reward_on as the policy (>0 light on; <0 light off) and \n",
    "    # reward_off as zeros. Runs a random episode followed by an evaluation episode {sets} times.\n",
    "    # Saves every episode trajectory as rand{i}.pkl or eval{i}.pkl (dicts).\n",
    "    # Returns rands (list) and evals (list) of reward vectors.\n",
    "    \n",
    "    if os.path.isdir(folder):\n",
    "        raise ValueError('Folder already exists.')\n",
    "    os.mkdir(folder)\n",
    "    \n",
    "    rands,evals,dets = [],[],[]\n",
    "    worm = fw.FakeWorm(0,ep_len=worm_ep_len)\n",
    "    cam,task = init_instruments()\n",
    "    \n",
    "    # Random policy\n",
    "    cp = mod['reward_on'][:,:,0].copy().flatten() \n",
    "    np.random.shuffle(cp)\n",
    "    ant_rand = tab.Q_Alpha_Agent() \n",
    "    ant_rand.Qtab = np.zeros(ant_rand.Qtab.shape)\n",
    "    ant_rand.Qtab[:,1] = cp\n",
    "    runner_rand = mba.WormRunner(ant_rand, worm, act_spacing=1)\n",
    "    \n",
    "    # Test policy\n",
    "    ant_eval = tab.Q_Alpha_Agent() # Test policy\n",
    "    ant_eval.Qtab = np.zeros(ant_eval.Qtab.shape)\n",
    "    ant_eval.Qtab[:,1] = mod['reward_on'][:,:,0].flatten() \n",
    "    runner_eval = mba.WormRunner(ant_eval, worm, act_spacing=1)\n",
    "    \n",
    "    # Deterministic policy\n",
    "    ant_det = tab.Q_Alpha_Agent()\n",
    "    ant_det.Qtab = np.zeros(ant_det.Qtab.shape)\n",
    "    ant_det.Qtab[:,1] = detpol.flatten()\n",
    "    runner_det = mba.WormRunner(ant_det, worm, act_spacing=1)\n",
    "    \n",
    "    \n",
    "    for s in range(sets):\n",
    "        fname_r = folder+f'rand{s}.pkl'\n",
    "        fname_e = folder+f'eval{s}.pkl'\n",
    "        fname_d = folder+f'det{s}.pkl'\n",
    "        print(f'Running set {s}')\n",
    "        \n",
    "        dets.append(runner_det.eval_ep(cam,task,fname_d,eval_eps=rand_ep_time//worm_ep_len))\n",
    "        print(np.mean(dets[s]))\n",
    "        task.write(0)\n",
    "        evals.append(runner_eval.eval_ep(cam,task,fname_e,eval_eps=eval_ep_time//worm_ep_len))\n",
    "        print(np.mean(evals[s]))\n",
    "        task.write(0)\n",
    "        rands.append(runner_rand.eval_ep(cam,task,fname_r,eval_eps=rand_ep_time//worm_ep_len))\n",
    "        print(np.mean(rands[s]))\n",
    "        task.write(0)\n",
    "\n",
    "    \n",
    "    cam.exit()\n",
    "    task.write(0)\n",
    "    task.close()\n",
    "    \n",
    "    return rands,evals,dets,ant_rand,ant_eval,ant_det\n",
    "\n",
    "def one_pol(mod,folder,name,n,worm_ep_len=120):\n",
    "    # Takes a model with reward_on as the policy (>0 light on; <0 light off) and \n",
    "    # reward_off as zeros. Runs n episodes.\n",
    "    # Saves every episode trajectory as name{i}.pkl (dicts).\n",
    "    # Returns list of reward vectors.\n",
    "    \n",
    "    rews = []\n",
    "    worm = we.ProcessedWorm(0,ep_len=worm_ep_len)\n",
    "    cam,task = init_instruments()\n",
    "    \n",
    "    # Test policy\n",
    "    ant_eval = tab.Q_Alpha_Agent() # Test policy\n",
    "    ant_eval.Qtab = np.zeros(ant_eval.Qtab.shape)\n",
    "    ant_eval.Qtab[:,1] = mod['reward_on'][:,:,0].flatten() \n",
    "    runner_eval = mba.WormRunner(ant_eval, worm, act_spacing=1)\n",
    "    \n",
    "    for s in range(n):\n",
    "        fname = folder+f'{name}{s}.pkl'\n",
    "        print(f'Running set {s}')\n",
    "        \n",
    "        rews.append(runner_eval.eval_ep(cam,task,fname,eval_eps=1))\n",
    "        print(np.mean(rews[s]))\n",
    "        task.write(0)\n",
    "    \n",
    "    cam.exit()\n",
    "    task.write(0)\n",
    "    task.close()\n",
    "    \n",
    "    return rews\n",
    "\n",
    "def get_model_from_files(files,lp_frac):\n",
    "    dh = mba.DataHandler()\n",
    "    dh.load_df(files[0]+'alls.pkl')\n",
    "    for f in files[1:]:\n",
    "        dh.add_df_to_df([f+'alls.pkl'])\n",
    "    mset = eme.ModelSet(1,frac=1,lp_frac=lp_frac)\n",
    "    mset.make_models(dh,sm_pars={'lambda':.1,'iters':10})\n",
    "    return mset.models[0]\n",
    "\n",
    "def plot_mods(models,vmin=None,vmax=None):\n",
    "    fig,ax = plt.subplots(len(models),7)\n",
    "    fig.set_size_inches((15,2*len(models)))\n",
    "    for m,mod in enumerate(models):\n",
    "        for i,(key,item) in enumerate(mod.items()):\n",
    "            if i<4:\n",
    "                img = ax[m,i].imshow(item[:,:,0],vmin=-180,vmax=180)\n",
    "            else:\n",
    "                img = ax[m,i].imshow(item[:,:,0],vmin=vmin,vmax=vmax)\n",
    "            cbar = fig.colorbar(img,ax=ax[m,i])\n",
    "            ax[m,i].axis('off')\n",
    "            cbar.set_ticks([])\n",
    "            if m==0:\n",
    "                ax[m,i].set_title(f'{len(models)} models: {key}')\n",
    "        ax[m,6].imshow(np.sign(mod['reward_on'][:,:,0]-mod['reward_off'][:,:,0]),vmin=-1,vmax=1)\n",
    "        \n",
    "def prepostmanual(folder,prepoststring):\n",
    "    # Prepoststring is 'Pre' or 'Post'\n",
    "    cam,task = init_instruments()\n",
    "    for i in range(2):\n",
    "        worm_ep_len = 120\n",
    "\n",
    "        traj = {}\n",
    "        worm = we.ProcessedWorm(0,ep_len=worm_ep_len)\n",
    "\n",
    "        worm.reset(cam,task)\n",
    "        action=0\n",
    "        done=False\n",
    "\n",
    "        while not done:\n",
    "            obs,rew,done,info = worm.step(action,cam,task)\n",
    "            if np.sign(obs[0]*obs[1])==-1:\n",
    "                action=1\n",
    "            else:\n",
    "                action=0\n",
    "            ut.add_to_traj(traj,info)\n",
    "        print(np.mean(traj['reward']))\n",
    "\n",
    "        with open(f'{folder}{prepoststring}Manual{i}.pkl','wb') as f:\n",
    "            pickle.dump(traj,f)\n",
    "    cam.exit()\n",
    "    task.write(0)\n",
    "    task.close()"
   ]
  },
  {
   "cell_type": "code",
   "execution_count": 13,
   "metadata": {},
   "outputs": [
    {
     "data": {
      "text/plain": [
       "0.3958333333333333"
      ]
     },
     "execution_count": 13,
     "metadata": {},
     "output_type": "execute_result"
    }
   ],
   "source": [
    "# Making random and det policies\n",
    "detpol = np.zeros((12,12))+1\n",
    "detpol[:6,:6] = -1\n",
    "detpol[6:,6:] = -1\n",
    "\n",
    "randpol = np.random.randn(12,12)-.2\n",
    "np.sum((np.sign(randpol)+1)/2)/144"
   ]
  },
  {
   "cell_type": "code",
   "execution_count": 14,
   "metadata": {},
   "outputs": [
    {
     "name": "stdout",
     "output_type": "stream",
     "text": [
      "On model 0\n",
      "Penalty 0.17816879028072666\n"
     ]
    }
   ],
   "source": [
    "files = ['./Data/HTFix19-01-18-47/',\n",
    "           './Data/HTFix19-01-20-29/',\n",
    "           './Data/HTFix19-01-21-18/',\n",
    "           './Data/HTFix20-01-09-04/',\n",
    "           './Data/HTFix20-01-09-42/',\n",
    "           './Data/HTFix20-01-10-41/',\n",
    "          ]\n",
    "files = ['../01_13_reals/'+f[2:] for f in files]\n",
    "mod = get_model_from_files(files,.4)\n",
    "mod['reward_on'][:,:,0] = detpol\n",
    "#mod['reward_on'][:,:,0] = np.zeros((12,12))-1"
   ]
  },
  {
   "cell_type": "code",
   "execution_count": 19,
   "metadata": {},
   "outputs": [
    {
     "data": {
      "image/png": "[encoded data removed]",
      "text/plain": [
       "<Figure size 1080x288 with 26 Axes>"
      ]
     },
     "metadata": {
      "needs_background": "light"
     },
     "output_type": "display_data"
    }
   ],
   "source": [
    "plot_mods([mod,mod])"
   ]
  },
  {
   "cell_type": "markdown",
   "metadata": {},
   "source": [
    "# Baseline data collection"
   ]
  },
  {
   "cell_type": "code",
   "execution_count": 20,
   "metadata": {},
   "outputs": [
    {
     "name": "stdout",
     "output_type": "stream",
     "text": [
      "Warning: when changing pixelclock at runtime, you may need to update the fps and exposure parameters\n",
      "Warning: Specified fps (20.00) not in possible range: [7.40, 14.92]. fps has been set to 14.92.\n",
      "Done resetting\t\n",
      "0.38231914927401117\n",
      "Done resetting\t\n",
      "0.3573748951635448\n",
      "Done resetting\t\n",
      "0.4586925991246979\n",
      "Done resetting\t\n",
      "-0.07692022263450836\n",
      "Warning: when changing pixelclock at runtime, you may need to update the fps and exposure parameters\n",
      "Warning: Specified fps (20.00) not in possible range: [7.40, 14.92]. fps has been set to 14.92.\n",
      "Running set 0\n",
      "Done resetting\t\n",
      "-0.193331656817134\n",
      "Running set 1\n",
      "Done resetting\t\n",
      "0.5112880886426593\n",
      "Running set 2\n",
      "Done resetting\t\n",
      "0.5207781477837483\n",
      "Running set 3\n",
      "Done resetting\t\n",
      "0.3719549769768631\n",
      "Running set 4\n",
      "Done resetting\t\n",
      "0.4563463579747474\n",
      "Running set 5\n",
      "Done resetting\t\n",
      "0.3689399421128799\n",
      "Running set 6\n",
      "Done resetting\t\n",
      "0.545069360794743\n",
      "Running set 7\n",
      "Done resetting\t\n",
      "-0.022602201257861575\n",
      "Running set 8\n",
      "Done resetting\t\n",
      "0.545702833820097\n",
      "Running set 9\n",
      "Done resetting\t\n",
      "0.6128643578643579\n",
      "Running set 10\n",
      "Done resetting\t\n",
      "0.5074500768049155\n",
      "Running set 11\n",
      "Done resetting\t\n",
      "0.1254942866625575\n",
      "Running set 12\n",
      "Done resetting\t\n",
      "0.4014998911149826\n",
      "Running set 13\n",
      "Done resetting\t\n",
      "0.03030093658836177\n",
      "Running set 14\n",
      "Done resetting\t\n",
      "0.6540930448018001\n",
      "Warning: when changing pixelclock at runtime, you may need to update the fps and exposure parameters\n",
      "Warning: Specified fps (20.00) not in possible range: [7.40, 14.92]. fps has been set to 14.92.\n",
      "Done resetting\t\n",
      "0.622437442351751\n",
      "Done resetting\t\n",
      "0.05480631276901007\n",
      "Done resetting\t\n",
      "0.003520881266122858\n",
      "Done resetting\t\n",
      "-0.023359941944847563\n"
     ]
    }
   ],
   "source": [
    "folder = './Data/Det'+datetime.now().strftime('%d-%m-%H-%M')+'/'\n",
    "\n",
    "if os.path.isdir(folder):\n",
    "    raise ValueError('Folder already exists.')\n",
    "os.mkdir(folder)\n",
    "\n",
    "prepostmanual(folder,'Pre')\n",
    "\n",
    "rews = one_pol(mod,folder,'det',15,worm_ep_len=120)\n",
    "\n",
    "prepostmanual(folder,'Post')"
   ]
  },
  {
   "cell_type": "markdown",
   "metadata": {},
   "source": [
    "## Looking: something is going wrong? No, it's just high variance\n",
    "*** yes something is going wrong. Should be fixed now"
   ]
  },
  {
   "cell_type": "code",
   "execution_count": 16,
   "metadata": {},
   "outputs": [],
   "source": [
    "rewards = np.zeros(15)\n",
    "for i in range(15):\n",
    "    with open(f'{folder}det{i}.pkl','rb') as f:\n",
    "        traj = pickle.load(f)\n",
    "    rewards[i] = np.mean(np.array(traj['reward']).flatten())"
   ]
  },
  {
   "cell_type": "code",
   "execution_count": 17,
   "metadata": {},
   "outputs": [
    {
     "name": "stdout",
     "output_type": "stream",
     "text": [
      "0.24510918859674086 0.28698711754210565\n"
     ]
    }
   ],
   "source": [
    "print(np.mean(rewards),np.std(rewards))"
   ]
  },
  {
   "cell_type": "code",
   "execution_count": 65,
   "metadata": {},
   "outputs": [],
   "source": [
    "locs = np.array(traj['loc']).flatten().reshape(-1,2)\n",
    "rewards = np.array(traj['reward']).flatten()"
   ]
  },
  {
   "cell_type": "code",
   "execution_count": 66,
   "metadata": {
    "scrolled": true
   },
   "outputs": [
    {
     "data": {
      "text/plain": [
       "0.14011782924858598"
      ]
     },
     "execution_count": 66,
     "metadata": {},
     "output_type": "execute_result"
    }
   ],
   "source": [
    "np.mean(rewards)"
   ]
  },
  {
   "cell_type": "code",
   "execution_count": 46,
   "metadata": {
    "scrolled": true
   },
   "outputs": [
    {
     "data": {
      "text/plain": [
       "0.16486094083797645"
      ]
     },
     "execution_count": 46,
     "metadata": {},
     "output_type": "execute_result"
    }
   ],
   "source": [
    "np.mean(rewards)"
   ]
  },
  {
   "cell_type": "code",
   "execution_count": 18,
   "metadata": {},
   "outputs": [
    {
     "data": {
      "image/png": "[encoded data removed]",
      "text/plain": [
       "<Figure size 432x288 with 1 Axes>"
      ]
     },
     "metadata": {
      "needs_background": "light"
     },
     "output_type": "display_data"
    }
   ],
   "source": [
    "NPOINTS = len(locs)\n",
    "start = 0\n",
    "fig,ax = plt.subplots(1)\n",
    "\n",
    "ax.set_prop_cycle('color',plt.cm.winter(np.linspace(0,1,NPOINTS)))\n",
    "for i in np.arange(start,start+NPOINTS-1):\n",
    "    img = ax.scatter(locs[i,0],locs[i,1])\n",
    "    ax.set_aspect('equal','box')"
   ]
  },
  {
   "cell_type": "code",
   "execution_count": null,
   "metadata": {},
   "outputs": [],
   "source": []
  }
 ],
 "metadata": {
  "kernelspec": {
   "display_name": "rlkit",
   "language": "python",
   "name": "rlkit"
  },
  "language_info": {
   "codemirror_mode": {
    "name": "ipython",
    "version": 3
   },
   "file_extension": ".py",
   "mimetype": "text/x-python",
   "name": "python",
   "nbconvert_exporter": "python",
   "pygments_lexer": "ipython3",
   "version": "3.8.5"
  }
 },
 "nbformat": 4,
 "nbformat_minor": 4
}
