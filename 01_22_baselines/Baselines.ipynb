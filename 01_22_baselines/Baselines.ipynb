{
 "cells": [
  {
   "cell_type": "code",
   "execution_count": 1,
   "metadata": {},
   "outputs": [],
   "source": [
    "import numpy as np\n",
    "import os\n",
    "import pandas as pd\n",
    "import matplotlib.pyplot as plt\n",
    "\n",
    "import model_based_agent as mba \n",
    "import worm_env as we \n",
    "import fake_worm as fw\n",
    "import ensemble_mod_env as eme\n",
    "\n",
    "from improc import *\n",
    "import utils as ut\n",
    "import tab_agents as tab\n",
    "from datetime import datetime "
   ]
  },
  {
   "cell_type": "code",
   "execution_count": 9,
   "metadata": {},
   "outputs": [],
   "source": [
    "detpol = np.zeros((12,12))+1\n",
    "detpol[:6,:6] = -1\n",
    "detpol[6:,6:] = -1\n",
    "\n",
    "def pol_test(mod,folder,sets,\n",
    "            rand_ep_time = 120,\n",
    "            eval_ep_time = 120,\n",
    "            worm_ep_len = 120):\n",
    "    # Takes a model with reward_on as the policy (>0 light on; <0 light off) and \n",
    "    # reward_off as zeros. Runs a random episode followed by an evaluation episode {sets} times.\n",
    "    # Saves every episode trajectory as rand{i}.pkl or eval{i}.pkl (dicts).\n",
    "    # Returns rands (list) and evals (list) of reward vectors.\n",
    "    \n",
    "    if os.path.isdir(folder):\n",
    "        raise ValueError('Folder already exists.')\n",
    "    os.mkdir(folder)\n",
    "    \n",
    "    rands,evals,dets = [],[],[]\n",
    "    worm = fw.FakeWorm(0,ep_len=worm_ep_len)\n",
    "    cam,task = init_instruments()\n",
    "    \n",
    "    # Random policy\n",
    "    cp = mod['reward_on'][:,:,0].copy().flatten() \n",
    "    np.random.shuffle(cp)\n",
    "    ant_rand = tab.Q_Alpha_Agent() \n",
    "    ant_rand.Qtab = np.zeros(ant_rand.Qtab.shape)\n",
    "    ant_rand.Qtab[:,1] = cp\n",
    "    runner_rand = mba.WormRunner(ant_rand, worm, act_spacing=1)\n",
    "    \n",
    "    # Test policy\n",
    "    ant_eval = tab.Q_Alpha_Agent() # Test policy\n",
    "    ant_eval.Qtab = np.zeros(ant_eval.Qtab.shape)\n",
    "    ant_eval.Qtab[:,1] = mod['reward_on'][:,:,0].flatten() \n",
    "    runner_eval = mba.WormRunner(ant_eval, worm, act_spacing=1)\n",
    "    \n",
    "    # Deterministic policy\n",
    "    ant_det = tab.Q_Alpha_Agent()\n",
    "    ant_det.Qtab = np.zeros(ant_det.Qtab.shape)\n",
    "    ant_det.Qtab[:,1] = detpol.flatten()\n",
    "    runner_det = mba.WormRunner(ant_det, worm, act_spacing=1)\n",
    "    \n",
    "    \n",
    "    for s in range(sets):\n",
    "        fname_r = folder+f'rand{s}.pkl'\n",
    "        fname_e = folder+f'eval{s}.pkl'\n",
    "        fname_d = folder+f'det{s}.pkl'\n",
    "        print(f'Running set {s}')\n",
    "        \n",
    "        dets.append(runner_det.eval_ep(cam,task,fname_d,eval_eps=rand_ep_time//worm_ep_len))\n",
    "        print(np.mean(dets[s]))\n",
    "        task.write(0)\n",
    "        evals.append(runner_eval.eval_ep(cam,task,fname_e,eval_eps=eval_ep_time//worm_ep_len))\n",
    "        print(np.mean(evals[s]))\n",
    "        task.write(0)\n",
    "        rands.append(runner_rand.eval_ep(cam,task,fname_r,eval_eps=rand_ep_time//worm_ep_len))\n",
    "        print(np.mean(rands[s]))\n",
    "        task.write(0)\n",
    "\n",
    "    \n",
    "    cam.exit()\n",
    "    task.write(0)\n",
    "    task.close()\n",
    "    \n",
    "    return rands,evals,dets,ant_rand,ant_eval,ant_det\n",
    "\n",
    "def one_pol(mod,folder,name,n,worm_ep_len=120):\n",
    "    # Takes a model with reward_on as the policy (>0 light on; <0 light off) and \n",
    "    # reward_off as zeros. Runs n episodes.\n",
    "    # Saves every episode trajectory as name{i}.pkl (dicts).\n",
    "    # Returns list of reward vectors.\n",
    "    \n",
    "    if os.path.isdir(folder):\n",
    "        raise ValueError('Folder already exists.')\n",
    "    os.mkdir(folder)\n",
    "    \n",
    "    rews = []\n",
    "    worm = we.ProcessedWorm(0,ep_len=worm_ep_len)\n",
    "    cam,task = init_instruments()\n",
    "    \n",
    "    # Test policy\n",
    "    ant_eval = tab.Q_Alpha_Agent() # Test policy\n",
    "    ant_eval.Qtab = np.zeros(ant_eval.Qtab.shape)\n",
    "    ant_eval.Qtab[:,1] = mod['reward_on'][:,:,0].flatten() \n",
    "    runner_eval = mba.WormRunner(ant_eval, worm, act_spacing=1)\n",
    "    \n",
    "    for s in range(n):\n",
    "        fname = folder+f'{name}{s}.pkl'\n",
    "        print(f'Running set {s}')\n",
    "        \n",
    "        rews.append(runner_eval.eval_ep(cam,task,fname,eval_eps=1))\n",
    "        print(np.mean(rews[s]))\n",
    "        task.write(0)\n",
    "    \n",
    "    cam.exit()\n",
    "    task.write(0)\n",
    "    task.close()\n",
    "    \n",
    "    return rews\n",
    "\n",
    "def get_model_from_files(files,lp_frac):\n",
    "    dh = mba.DataHandler()\n",
    "    dh.load_df(files[0]+'alls.pkl')\n",
    "    for f in files[1:]:\n",
    "        dh.add_df_to_df([f+'alls.pkl'])\n",
    "    mset = eme.ModelSet(1,frac=1,lp_frac=lp_frac)\n",
    "    mset.make_models(dh,sm_pars={'lambda':.1,'iters':10})\n",
    "    return mset.models[0]\n",
    "\n",
    "def plot_mods(models,vmin=None,vmax=None):\n",
    "    fig,ax = plt.subplots(len(models),7)\n",
    "    fig.set_size_inches((15,2*len(models)))\n",
    "    for m,mod in enumerate(models):\n",
    "        for i,(key,item) in enumerate(mod.items()):\n",
    "            if i<4:\n",
    "                img = ax[m,i].imshow(item[:,:,0],vmin=-180,vmax=180)\n",
    "            else:\n",
    "                img = ax[m,i].imshow(item[:,:,0],vmin=vmin,vmax=vmax)\n",
    "            cbar = fig.colorbar(img,ax=ax[m,i])\n",
    "            ax[m,i].axis('off')\n",
    "            cbar.set_ticks([])\n",
    "            if m==0:\n",
    "                ax[m,i].set_title(f'{len(models)} models: {key}')\n",
    "        ax[m,6].imshow(np.sign(mod['reward_on'][:,:,0]-mod['reward_off'][:,:,0]),vmin=-1,vmax=1)"
   ]
  },
  {
   "cell_type": "code",
   "execution_count": 17,
   "metadata": {},
   "outputs": [],
   "source": [
    "# Fake worm policy testing to make sure eval is working as expected\n",
    "\n",
    "detpol = np.zeros((12,12))+1\n",
    "detpol[:6,:6] = -1\n",
    "detpol[6:,6:] = -1\n",
    "\n",
    "def pol_test(mod,folder,sets,\n",
    "            rand_ep_time = 120,\n",
    "            eval_ep_time = 120,\n",
    "            worm_ep_len = 120):\n",
    "    # Takes a model with reward_on as the policy (>0 light on; <0 light off) and \n",
    "    # reward_off as zeros. Runs a random episode followed by an evaluation episode {sets} times.\n",
    "    # Saves every episode trajectory as rand{i}.pkl or eval{i}.pkl (dicts).\n",
    "    # Returns rands (list) and evals (list) of reward vectors.\n",
    "    \n",
    "    if os.path.isdir(folder):\n",
    "        raise ValueError('Folder already exists.')\n",
    "    os.mkdir(folder)\n",
    "    \n",
    "    rands,evals,dets = [],[],[]\n",
    "    worm = fw.FakeWorm(0,ep_len=worm_ep_len)\n",
    "    \n",
    "    # Random policy\n",
    "    cp = mod['reward_on'][:,:,0].copy().flatten() \n",
    "    np.random.shuffle(cp)\n",
    "    ant_rand = tab.Q_Alpha_Agent() \n",
    "    ant_rand.Qtab = np.zeros(ant_rand.Qtab.shape)\n",
    "    ant_rand.Qtab[:,1] = cp\n",
    "    runner_rand = mba.WormRunner(ant_rand, worm, act_spacing=1)\n",
    "    \n",
    "    # Test policy\n",
    "    ant_eval = tab.Q_Alpha_Agent() # Test policy\n",
    "    ant_eval.Qtab = np.zeros(ant_eval.Qtab.shape)\n",
    "    ant_eval.Qtab[:,1] = mod['reward_on'][:,:,0].flatten() \n",
    "    runner_eval = mba.WormRunner(ant_eval, worm, act_spacing=1)\n",
    "    \n",
    "    # Deterministic policy\n",
    "    ant_det = tab.Q_Alpha_Agent()\n",
    "    ant_det.Qtab = np.zeros(ant_det.Qtab.shape)\n",
    "    ant_det.Qtab[:,1] = detpol.flatten()\n",
    "    runner_det = mba.WormRunner(ant_det, worm, act_spacing=1)\n",
    "    \n",
    "    \n",
    "    for s in range(sets):\n",
    "        fname_r = folder+f'rand{s}.pkl'\n",
    "        fname_e = folder+f'eval{s}.pkl'\n",
    "        fname_d = folder+f'det{s}.pkl'\n",
    "        print(f'Running set {s}')\n",
    "        \n",
    "        dets.append(runner_det.eval_ep_fake(fname_d,eval_eps=rand_ep_time//worm_ep_len))\n",
    "        print(np.mean(dets[s]))\n",
    "        evals.append(runner_eval.eval_ep_fake(fname_e,eval_eps=eval_ep_time//worm_ep_len))\n",
    "        print(np.mean(evals[s]))\n",
    "        rands.append(runner_rand.eval_ep_fake(fname_r,eval_eps=rand_ep_time//worm_ep_len))\n",
    "        print(np.mean(rands[s]))\n",
    "\n",
    "    \n",
    "    return rands,evals,dets,ant_rand,ant_eval,ant_det"
   ]
  },
  {
   "cell_type": "code",
   "execution_count": 7,
   "metadata": {},
   "outputs": [
    {
     "name": "stdout",
     "output_type": "stream",
     "text": [
      "On model 0\n",
      "Penalty 0.1781687902807265\n"
     ]
    }
   ],
   "source": [
    "folder = './Data/Det'+datetime.now().strftime('%d-%m-%H-%M')+'/'\n",
    "files = ['./Data/HTFix19-01-18-47/',\n",
    "           './Data/HTFix19-01-20-29/',\n",
    "           './Data/HTFix19-01-21-18/',\n",
    "           './Data/HTFix20-01-09-04/',\n",
    "           './Data/HTFix20-01-09-42/',\n",
    "           './Data/HTFix20-01-10-41/',\n",
    "          ]\n",
    "files = ['../01_13_reals/'+f[2:] for f in files]\n",
    "mod = get_model_from_files(files,.4)\n",
    "mod['reward_on'][:,:,0] = randpol#detpol #################"
   ]
  },
  {
   "cell_type": "code",
   "execution_count": 6,
   "metadata": {},
   "outputs": [
    {
     "data": {
      "text/plain": [
       "0.4097222222222222"
      ]
     },
     "execution_count": 6,
     "metadata": {},
     "output_type": "execute_result"
    }
   ],
   "source": [
    "randpol = np.random.randn(12,12)-.2\n",
    "np.sum((np.sign(randpol)+1)/2)/144"
   ]
  },
  {
   "cell_type": "code",
   "execution_count": 10,
   "metadata": {},
   "outputs": [
    {
     "data": {
      "image/png": "[encoded data removed]",
      "text/plain": [
       "<Figure size 1080x288 with 26 Axes>"
      ]
     },
     "metadata": {
      "needs_background": "light"
     },
     "output_type": "display_data"
    }
   ],
   "source": [
    "plot_mods([mod,mod])"
   ]
  },
  {
   "cell_type": "markdown",
   "metadata": {},
   "source": [
    "# Deterministic policy"
   ]
  },
  {
   "cell_type": "code",
   "execution_count": 5,
   "metadata": {
    "collapsed": true
   },
   "outputs": [
    {
     "ename": "ValueError",
     "evalue": "Folder already exists.",
     "output_type": "error",
     "traceback": [
      "\u001b[1;31m-------------------------------------------------------------------\u001b[0m",
      "\u001b[1;31mValueError\u001b[0m                        Traceback (most recent call last)",
      "\u001b[1;32m<ipython-input-5-b8fb09546800>\u001b[0m in \u001b[0;36m<module>\u001b[1;34m\u001b[0m\n\u001b[1;32m----> 1\u001b[1;33m rands,evals,dets,ant_rand,ant_eval,ant_det = pol_test(mod,folder,2,           \n\u001b[0m\u001b[0;32m      2\u001b[0m             \u001b[0mrand_ep_time\u001b[0m \u001b[1;33m=\u001b[0m \u001b[1;36m1000\u001b[0m\u001b[1;33m,\u001b[0m\u001b[1;33m\u001b[0m\u001b[1;33m\u001b[0m\u001b[0m\n\u001b[0;32m      3\u001b[0m             \u001b[0meval_ep_time\u001b[0m \u001b[1;33m=\u001b[0m \u001b[1;36m1000\u001b[0m\u001b[1;33m,\u001b[0m\u001b[1;33m\u001b[0m\u001b[1;33m\u001b[0m\u001b[0m\n\u001b[0;32m      4\u001b[0m             worm_ep_len = 1000)\n",
      "\u001b[1;32m<ipython-input-2-356d7666209b>\u001b[0m in \u001b[0;36mpol_test\u001b[1;34m(mod, folder, sets, rand_ep_time, eval_ep_time, worm_ep_len)\u001b[0m\n\u001b[0;32m     13\u001b[0m \u001b[1;33m\u001b[0m\u001b[0m\n\u001b[0;32m     14\u001b[0m     \u001b[1;32mif\u001b[0m \u001b[0mos\u001b[0m\u001b[1;33m.\u001b[0m\u001b[0mpath\u001b[0m\u001b[1;33m.\u001b[0m\u001b[0misdir\u001b[0m\u001b[1;33m(\u001b[0m\u001b[0mfolder\u001b[0m\u001b[1;33m)\u001b[0m\u001b[1;33m:\u001b[0m\u001b[1;33m\u001b[0m\u001b[1;33m\u001b[0m\u001b[0m\n\u001b[1;32m---> 15\u001b[1;33m         \u001b[1;32mraise\u001b[0m \u001b[0mValueError\u001b[0m\u001b[1;33m(\u001b[0m\u001b[1;34m'Folder already exists.'\u001b[0m\u001b[1;33m)\u001b[0m\u001b[1;33m\u001b[0m\u001b[1;33m\u001b[0m\u001b[0m\n\u001b[0m\u001b[0;32m     16\u001b[0m     \u001b[0mos\u001b[0m\u001b[1;33m.\u001b[0m\u001b[0mmkdir\u001b[0m\u001b[1;33m(\u001b[0m\u001b[0mfolder\u001b[0m\u001b[1;33m)\u001b[0m\u001b[1;33m\u001b[0m\u001b[1;33m\u001b[0m\u001b[0m\n\u001b[0;32m     17\u001b[0m \u001b[1;33m\u001b[0m\u001b[0m\n",
      "\u001b[1;31mValueError\u001b[0m: Folder already exists."
     ]
    }
   ],
   "source": [
    "rands,evals,dets,ant_rand,ant_eval,ant_det = pol_test(mod,folder,2,           \n",
    "            rand_ep_time = 1000,\n",
    "            eval_ep_time = 1000,\n",
    "            worm_ep_len = 1000)"
   ]
  },
  {
   "cell_type": "code",
   "execution_count": 33,
   "metadata": {},
   "outputs": [
    {
     "name": "stdout",
     "output_type": "stream",
     "text": [
      "Warning: when changing pixelclock at runtime, you may need to update the fps and exposure parameters\n",
      "Warning: Specified fps (20.00) not in possible range: [7.40, 14.92]. fps has been set to 14.92.\n",
      "Done resetting\t\n",
      "0.48702526380314387\n",
      "Done resetting\t\n",
      "0.5480206329777934\n",
      "Done resetting\t\n",
      "0.3793562854504683\n",
      "Done resetting\t\n",
      "-0.08764848345058239\n"
     ]
    }
   ],
   "source": [
    "cam,task = init_instruments()\n",
    "for i in range(4):\n",
    "    worm_ep_len = 120\n",
    "\n",
    "    traj = {}\n",
    "    worm = we.ProcessedWorm(0,ep_len=worm_ep_len)\n",
    "   \n",
    "    worm.reset(cam,task)\n",
    "    action=0\n",
    "    done=False\n",
    "\n",
    "    while not done:\n",
    "        obs,rew,done,info = worm.step(action,cam,task)\n",
    "        if np.sign(obs[0]*obs[1])==-1:\n",
    "            action=1\n",
    "        else:\n",
    "            action=0\n",
    "        ut.add_to_traj(traj,info)\n",
    "    print(np.mean(traj['reward']))\n",
    "\n",
    "    with open(f'PreManual{i}.pkl','wb') as f:\n",
    "        pickle.dump(traj,f)\n",
    "cam.exit()\n",
    "task.write(0)\n",
    "task.close()"
   ]
  },
  {
   "cell_type": "code",
   "execution_count": 34,
   "metadata": {},
   "outputs": [],
   "source": [
    "folder = './Data/Learned'+datetime.now().strftime('%d-%m-%H-%M')+'/'"
   ]
  },
  {
   "cell_type": "code",
   "execution_count": 35,
   "metadata": {},
   "outputs": [
    {
     "name": "stdout",
     "output_type": "stream",
     "text": [
      "Warning: when changing pixelclock at runtime, you may need to update the fps and exposure parameters\n",
      "Warning: Specified fps (20.00) not in possible range: [7.40, 14.92]. fps has been set to 14.92.\n",
      "Running set 0\n",
      "Done resetting\t\n",
      "-0.16136363636363638\n",
      "Running set 1\n",
      "Done resetting\t\n",
      "-0.056435394670688734\n",
      "Running set 2\n",
      "Done resetting\t\n",
      "0.6941190953536632\n",
      "Running set 3\n",
      "Done resetting\t\n",
      "0.7059093130188431\n",
      "Running set 4\n",
      "Done resetting\t\n",
      "0.753950552553037\n",
      "Running set 5\n",
      "Done resetting\t\n",
      "0.22526113249037952\n",
      "Running set 6\n",
      "Done resetting\t\n",
      "0.510548184427628\n",
      "Running set 7\n",
      "Done resetting\t\n",
      "0.14356175397365328\n",
      "Running set 8\n",
      "Done resetting\t\n",
      "0.5775090299277605\n",
      "Running set 9\n",
      "Done resetting\t\n",
      "0.6510797337087149\n",
      "Running set 10\n",
      "Done resetting\t\n",
      "0.005801466125040834\n",
      "Running set 11\n",
      "Done resetting\t\n",
      "0.4561889973380657\n",
      "Running set 12\n",
      "Done resetting\t\n",
      "-0.06673126614987084\n",
      "Running set 13\n",
      "Done resetting\t\n",
      "0.3458984793317626\n",
      "Running set 14\n",
      "Done resetting\t\n",
      "0.45464046822742477\n",
      "Warning: when changing pixelclock at runtime, you may need to update the fps and exposure parameters\n",
      "Warning: Specified fps (20.00) not in possible range: [7.40, 14.92]. fps has been set to 14.92.\n",
      "Done resetting\t\n",
      "0.3747746559380909\n",
      "Done resetting\t\n",
      "0.19031531531531531\n",
      "Done resetting\t\n",
      "0.03212679374598416\n",
      "Done resetting\t\n",
      "-0.007473841554559046\n"
     ]
    }
   ],
   "source": [
    "rews = one_pol(mod,folder,'learned',15,worm_ep_len=120)\n",
    "\n",
    "#### this is ugly; fix tomorrow\n",
    "cam,task = init_instruments()\n",
    "for i in range(4):\n",
    "    worm_ep_len = 120\n",
    "\n",
    "    traj = {}\n",
    "    worm = we.ProcessedWorm(0,ep_len=worm_ep_len)\n",
    "   \n",
    "    worm.reset(cam,task)\n",
    "    action=0\n",
    "    done=False\n",
    "\n",
    "    while not done:\n",
    "        obs,rew,done,info = worm.step(action,cam,task)\n",
    "        if np.sign(obs[0]*obs[1])==-1:\n",
    "            action=1\n",
    "        else:\n",
    "            action=0\n",
    "        ut.add_to_traj(traj,info)\n",
    "    print(np.mean(traj['reward']))\n",
    "\n",
    "    with open(f'{folder}PostManual{i}.pkl','wb') as f:\n",
    "        pickle.dump(traj,f)\n",
    "cam.exit()\n",
    "task.write(0)\n",
    "task.close()"
   ]
  },
  {
   "cell_type": "code",
   "execution_count": 10,
   "metadata": {},
   "outputs": [],
   "source": [
    "cam.exit()"
   ]
  },
  {
   "cell_type": "markdown",
   "metadata": {},
   "source": [
    "## Looking: something is going wrong? No, it's just high variance\n",
    "*** yes something is going wrong. Should be fixed now"
   ]
  },
  {
   "cell_type": "code",
   "execution_count": 16,
   "metadata": {},
   "outputs": [],
   "source": [
    "rewards = np.zeros(15)\n",
    "for i in range(15):\n",
    "    with open(f'{folder}det{i}.pkl','rb') as f:\n",
    "        traj = pickle.load(f)\n",
    "    rewards[i] = np.mean(np.array(traj['reward']).flatten())"
   ]
  },
  {
   "cell_type": "code",
   "execution_count": 17,
   "metadata": {},
   "outputs": [
    {
     "name": "stdout",
     "output_type": "stream",
     "text": [
      "0.24510918859674086 0.28698711754210565\n"
     ]
    }
   ],
   "source": [
    "print(np.mean(rewards),np.std(rewards))"
   ]
  },
  {
   "cell_type": "code",
   "execution_count": 65,
   "metadata": {},
   "outputs": [],
   "source": [
    "locs = np.array(traj['loc']).flatten().reshape(-1,2)\n",
    "rewards = np.array(traj['reward']).flatten()"
   ]
  },
  {
   "cell_type": "code",
   "execution_count": 66,
   "metadata": {
    "scrolled": true
   },
   "outputs": [
    {
     "data": {
      "text/plain": [
       "0.14011782924858598"
      ]
     },
     "execution_count": 66,
     "metadata": {},
     "output_type": "execute_result"
    }
   ],
   "source": [
    "np.mean(rewards)"
   ]
  },
  {
   "cell_type": "code",
   "execution_count": 46,
   "metadata": {
    "scrolled": true
   },
   "outputs": [
    {
     "data": {
      "text/plain": [
       "0.16486094083797645"
      ]
     },
     "execution_count": 46,
     "metadata": {},
     "output_type": "execute_result"
    }
   ],
   "source": [
    "np.mean(rewards)"
   ]
  },
  {
   "cell_type": "code",
   "execution_count": 18,
   "metadata": {},
   "outputs": [
    {
     "data": {
      "image/png": "[encoded data removed]",
      "text/plain": [
       "<Figure size 432x288 with 1 Axes>"
      ]
     },
     "metadata": {
      "needs_background": "light"
     },
     "output_type": "display_data"
    }
   ],
   "source": [
    "NPOINTS = len(locs)\n",
    "start = 0\n",
    "fig,ax = plt.subplots(1)\n",
    "\n",
    "ax.set_prop_cycle('color',plt.cm.winter(np.linspace(0,1,NPOINTS)))\n",
    "for i in np.arange(start,start+NPOINTS-1):\n",
    "    img = ax.scatter(locs[i,0],locs[i,1])\n",
    "    ax.set_aspect('equal','box')"
   ]
  },
  {
   "cell_type": "code",
   "execution_count": null,
   "metadata": {},
   "outputs": [],
   "source": []
  }
 ],
 "metadata": {
  "kernelspec": {
   "display_name": "r919",
   "language": "python",
   "name": "r919"
  },
  "language_info": {
   "codemirror_mode": {
    "name": "ipython",
    "version": 3
   },
   "file_extension": ".py",
   "mimetype": "text/x-python",
   "name": "python",
   "nbconvert_exporter": "python",
   "pygments_lexer": "ipython3",
   "version": "3.8.5"
  }
 },
 "nbformat": 4,
 "nbformat_minor": 4
}
