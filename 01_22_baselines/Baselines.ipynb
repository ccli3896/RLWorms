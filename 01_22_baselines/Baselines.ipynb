{
 "cells": [
  {
   "cell_type": "code",
   "execution_count": 1,
   "metadata": {},
   "outputs": [],
   "source": [
    "import numpy as np\n",
    "import os\n",
    "import pandas as pd\n",
    "import matplotlib.pyplot as plt\n",
    "\n",
    "import model_based_agent as mba \n",
    "import worm_env as we \n",
    "import ensemble_mod_env as eme\n",
    "\n",
    "from improc import *\n",
    "import utils as ut\n",
    "import tab_agents as tab\n",
    "from datetime import datetime "
   ]
  },
  {
   "cell_type": "code",
   "execution_count": 2,
   "metadata": {},
   "outputs": [],
   "source": [
    "detpol = np.zeros((12,12))+1\n",
    "detpol[:6,:6] = -1\n",
    "detpol[6:,6:] = -1\n",
    "\n",
    "def pol_test(mod,folder,sets,\n",
    "            rand_ep_time = 120,\n",
    "            eval_ep_time = 120,\n",
    "            worm_ep_len = 120):\n",
    "    # Takes a model with reward_on as the policy (>0 light on; <0 light off) and \n",
    "    # reward_off as zeros. Runs a random episode followed by an evaluation episode {sets} times.\n",
    "    # Saves every episode trajectory as rand{i}.pkl or eval{i}.pkl (dicts).\n",
    "    # Returns rands (list) and evals (list) of reward vectors.\n",
    "    \n",
    "    if os.path.isdir(folder):\n",
    "        raise ValueError('Folder already exists.')\n",
    "    os.mkdir(folder)\n",
    "    \n",
    "    rands,evals,dets = [],[],[]\n",
    "    worm = we.ProcessedWorm(0,ep_len=worm_ep_len)\n",
    "    cam,task = init_instruments()\n",
    "    \n",
    "    # Random policy\n",
    "    cp = mod['reward_on'][:,:,0].copy().flatten() \n",
    "    np.random.shuffle(cp)\n",
    "    ant_rand = tab.Q_Alpha_Agent() \n",
    "    ant_rand.Qtab = np.zeros(ant_rand.Qtab.shape)\n",
    "    ant_rand.Qtab[:,1] = cp\n",
    "    runner_rand = mba.WormRunner(ant_rand, worm, act_spacing=1)\n",
    "    \n",
    "    # Test policy\n",
    "    ant_eval = tab.Q_Alpha_Agent() # Test policy\n",
    "    ant_eval.Qtab = np.zeros(ant_eval.Qtab.shape)\n",
    "    ant_eval.Qtab[:,1] = mod['reward_on'][:,:,0].flatten() \n",
    "    runner_eval = mba.WormRunner(ant_eval, worm, act_spacing=1)\n",
    "    \n",
    "    # Deterministic policy\n",
    "    ant_det = tab.Q_Alpha_Agent()\n",
    "    ant_det.Qtab = np.zeros(ant_det.Qtab.shape)\n",
    "    ant_det.Qtab[:,1] = detpol.flatten()\n",
    "    runner_det = mba.WormRunner(ant_det, worm, act_spacing=1)\n",
    "    \n",
    "    \n",
    "    for s in range(sets):\n",
    "        fname_r = folder+f'rand{s}.pkl'\n",
    "        fname_e = folder+f'eval{s}.pkl'\n",
    "        fname_d = folder+f'det{s}.pkl'\n",
    "        print(f'Running set {s}')\n",
    "        \n",
    "        evals.append(runner_eval.eval_ep(cam,task,fname_e,eval_eps=eval_ep_time//worm_ep_len))\n",
    "        print(np.mean(evals[s]))\n",
    "        task.write(0)\n",
    "        rands.append(runner_rand.eval_ep(cam,task,fname_r,eval_eps=rand_ep_time//worm_ep_len))\n",
    "        print(np.mean(rands[s]))\n",
    "        task.write(0)\n",
    "        rands.append(runner_rand.eval_ep(cam,task,fname_d,eval_eps=rand_ep_time//worm_ep_len))\n",
    "        print(np.mean(dets[s]))\n",
    "        task.write(0)\n",
    "    \n",
    "    cam.exit()\n",
    "    task.write(0)\n",
    "    task.close()\n",
    "    \n",
    "    return rands,evals,dets,ant_rand,ant_eval,ant_det\n",
    "\n",
    "def get_model_from_files(files,lp_frac):\n",
    "    dh = mba.DataHandler()\n",
    "    dh.load_df(files[0]+'alls.pkl')\n",
    "    for f in files[1:]:\n",
    "        dh.add_df_to_df([f+'alls.pkl'])\n",
    "    mset = eme.ModelSet(1,frac=1,lp_frac=lp_frac)\n",
    "    mset.make_models(dh,sm_pars={'lambda':.1,'iters':10})\n",
    "    return mset.models[0]\n",
    "\n",
    "def plot_mods(models,vmin=None,vmax=None):\n",
    "    fig,ax = plt.subplots(len(models),7)\n",
    "    fig.set_size_inches((15,2*len(models)))\n",
    "    for m,mod in enumerate(models):\n",
    "        for i,(key,item) in enumerate(mod.items()):\n",
    "            if i<4:\n",
    "                img = ax[m,i].imshow(item[:,:,0],vmin=-180,vmax=180)\n",
    "            else:\n",
    "                img = ax[m,i].imshow(item[:,:,0],vmin=vmin,vmax=vmax)\n",
    "            fig.colorbar(img,ax=ax[m,i])\n",
    "            ax[m,i].axis('off')\n",
    "            if m==0:\n",
    "                ax[m,i].set_title(f'{len(models)} models: {key}')\n",
    "        ax[m,6].imshow(np.sign(mod['reward_on'][:,:,0]-mod['reward_off'][:,:,0]),vmin=-1,vmax=1)"
   ]
  },
  {
   "cell_type": "code",
   "execution_count": 7,
   "metadata": {},
   "outputs": [
    {
     "name": "stdout",
     "output_type": "stream",
     "text": [
      "On model 0\n",
      "Penalty 0.17816879028072632\n"
     ]
    }
   ],
   "source": [
    "folder = './Data/Dets'+datetime.now().strftime('%d-%m-%H-%M')+'/'\n",
    "files = ['./Data/HTFix19-01-18-47/',\n",
    "           './Data/HTFix19-01-20-29/',\n",
    "           './Data/HTFix19-01-21-18/',\n",
    "           './Data/HTFix20-01-09-04/',\n",
    "           './Data/HTFix20-01-09-42/',\n",
    "           './Data/HTFix20-01-10-41/',\n",
    "          ]\n",
    "files = ['../01_13_reals/'+f[2:] for f in files]\n",
    "mod = get_model_from_files(files,.4)"
   ]
  },
  {
   "cell_type": "code",
   "execution_count": 8,
   "metadata": {},
   "outputs": [
    {
     "data": {
      "image/png": "[encoded data removed]",
      "text/plain": [
       "<Figure size 1080x288 with 26 Axes>"
      ]
     },
     "metadata": {
      "needs_background": "light"
     },
     "output_type": "display_data"
    }
   ],
   "source": [
    "plot_mods([mod,mod])"
   ]
  },
  {
   "cell_type": "markdown",
   "metadata": {},
   "source": [
    "# Deterministic policy"
   ]
  },
  {
   "cell_type": "code",
   "execution_count": null,
   "metadata": {},
   "outputs": [
    {
     "name": "stdout",
     "output_type": "stream",
     "text": [
      "Warning: when changing pixelclock at runtime, you may need to update the fps and exposure parameters\n",
      "Warning: Specified fps (20.00) not in possible range: [7.40, 14.92]. fps has been set to 14.92.\n",
      "Running set 0\n",
      "Done resetting\t\n"
     ]
    },
    {
     "name": "stderr",
     "output_type": "stream",
     "text": [
      "C:\\Users\\ccli3\\Documents\\Research\\20_09_07_NewPC\\RLWorms\\01_22_baselines\\improc.py:196: RuntimeWarning: invalid value encountered in longlong_scalars\n",
      "  centers.append(np.array([np.sum(np.arange(im_sz)*sumx) / np.sum(sumx), np.sum(np.arange(im_sz)*sumy) / np.sum(sumy)]))\n"
     ]
    },
    {
     "name": "stdout",
     "output_type": "stream",
     "text": [
      "-0.5401155002824198\n",
      "Done resetting\t\n",
      "No worm \t\t\r"
     ]
    }
   ],
   "source": [
    "rands,evals,dets,ant_rand,ant_eval,ant_det = pol_test(mod,folder,5,det=True,            \n",
    "            rand_ep_time = 120,\n",
    "            eval_ep_time = 120,\n",
    "            worm_ep_len = 120)"
   ]
  },
  {
   "cell_type": "code",
   "execution_count": null,
   "metadata": {},
   "outputs": [],
   "source": []
  }
 ],
 "metadata": {
  "kernelspec": {
   "display_name": "rlkit",
   "language": "python",
   "name": "rlkit"
  },
  "language_info": {
   "codemirror_mode": {
    "name": "ipython",
    "version": 3
   },
   "file_extension": ".py",
   "mimetype": "text/x-python",
   "name": "python",
   "nbconvert_exporter": "python",
   "pygments_lexer": "ipython3",
   "version": "3.8.5"
  }
 },
 "nbformat": 4,
 "nbformat_minor": 4
}
