{
 "cells": [
  {
   "cell_type": "code",
   "execution_count": 1,
   "metadata": {},
   "outputs": [],
   "source": [
    "import numpy as np\n",
    "import os\n",
    "import pandas as pd\n",
    "import matplotlib.pyplot as plt\n",
    "\n",
    "import model_based_agent as mba \n",
    "import worm_env as we \n",
    "import fake_worm as fw\n",
    "import ensemble_mod_env as eme\n",
    "\n",
    "from improc import *\n",
    "import utils as ut\n",
    "import tab_agents as tab\n",
    "from datetime import datetime "
   ]
  },
  {
   "cell_type": "code",
   "execution_count": 3,
   "metadata": {},
   "outputs": [],
   "source": [
    "folder = './Data/OnlyDet01-02-13-11/'\n",
    "pres = []\n",
    "trials = []\n",
    "post = []\n",
    "for i in range(15):\n",
    "    with open(folder+'det'+str(i)+'.pkl','rb') as f:\n",
    "        pres.append(pickle.load(f))"
   ]
  },
  {
   "cell_type": "code",
   "execution_count": 4,
   "metadata": {},
   "outputs": [
    {
     "data": {
      "text/plain": [
       "dict_keys(['loc', 't', 'endpts', 'obs', 'reward', 'target', 'action'])"
      ]
     },
     "execution_count": 4,
     "metadata": {},
     "output_type": "execute_result"
    }
   ],
   "source": [
    "pres[0].keys()"
   ]
  },
  {
   "cell_type": "code",
   "execution_count": 5,
   "metadata": {},
   "outputs": [],
   "source": [
    "i=0\n",
    "pres_n = {}\n",
    "for k in pres[i].keys():\n",
    "    pres_n[k] = np.array(pres[i][k]).flatten()\n",
    "for i in np.arange(14)+1:\n",
    "    for k in pres[i].keys():\n",
    "        pres_n[k] = np.append(pres_n[k],pres[i][k])\n",
    "pres_n['loc'] = pres_n['loc'].reshape(-1,2)\n",
    "pres_n['obs'] = pres_n['obs'].reshape(-1,2)*180"
   ]
  },
  {
   "cell_type": "code",
   "execution_count": 6,
   "metadata": {},
   "outputs": [
    {
     "data": {
      "text/plain": [
       "(array([1555.,  618.,  339.,  685., 1432.,  759., 1354.,  686.,  237.,\n",
       "        2013.]),\n",
       " array([-180., -147., -114.,  -81.,  -48.,  -15.,   18.,   51.,   84.,\n",
       "         117.,  150.]),\n",
       " <BarContainer object of 10 artists>)"
      ]
     },
     "execution_count": 6,
     "metadata": {},
     "output_type": "execute_result"
    },
    {
     "data": {
      "image/png": "[encoded data removed]",
      "text/plain": [
       "<Figure size 432x288 with 1 Axes>"
      ]
     },
     "metadata": {
      "needs_background": "light"
     },
     "output_type": "display_data"
    }
   ],
   "source": [
    "plt.hist(pres_n['obs'][:,1])"
   ]
  },
  {
   "cell_type": "code",
   "execution_count": 11,
   "metadata": {},
   "outputs": [
    {
     "data": {
      "text/plain": [
       "90"
      ]
     },
     "execution_count": 11,
     "metadata": {},
     "output_type": "execute_result"
    }
   ],
   "source": [
    "pres[0]['target'][25]"
   ]
  },
  {
   "cell_type": "code",
   "execution_count": 8,
   "metadata": {},
   "outputs": [
    {
     "data": {
      "text/plain": [
       "array([[1059, 1074],\n",
       "       [1189, 1178]])"
      ]
     },
     "execution_count": 8,
     "metadata": {},
     "output_type": "execute_result"
    }
   ],
   "source": [
    "pres[0]['endpts'][25]"
   ]
  },
  {
   "cell_type": "code",
   "execution_count": 10,
   "metadata": {},
   "outputs": [
    {
     "data": {
      "text/plain": [
       "array([150., 120.])"
      ]
     },
     "execution_count": 10,
     "metadata": {},
     "output_type": "execute_result"
    }
   ],
   "source": [
    "pres[0]['obs'][25]*180"
   ]
  },
  {
   "cell_type": "code",
   "execution_count": 67,
   "metadata": {},
   "outputs": [
    {
     "data": {
      "text/plain": [
       "[<matplotlib.lines.Line2D at 0x258a947d160>]"
      ]
     },
     "execution_count": 67,
     "metadata": {},
     "output_type": "execute_result"
    },
    {
     "data": {
      "image/png": "[encoded data removed]",
      "text/plain": [
       "<Figure size 432x288 with 1 Axes>"
      ]
     },
     "metadata": {
      "needs_background": "light"
     },
     "output_type": "display_data"
    }
   ],
   "source": [
    "plt.plot(pres_n['obs'][:,1][9000:9100])"
   ]
  },
  {
   "cell_type": "code",
   "execution_count": 69,
   "metadata": {},
   "outputs": [
    {
     "data": {
      "text/plain": [
       "[<matplotlib.lines.Line2D at 0x258ab3cdc70>]"
      ]
     },
     "execution_count": 69,
     "metadata": {},
     "output_type": "execute_result"
    },
    {
     "data": {
      "image/png": "[encoded data removed]",
      "text/plain": [
       "<Figure size 432x288 with 1 Axes>"
      ]
     },
     "metadata": {
      "needs_background": "light"
     },
     "output_type": "display_data"
    }
   ],
   "source": [
    "plt.plot(pres_n['obs'][:,0][9000:9100])"
   ]
  },
  {
   "cell_type": "code",
   "execution_count": 65,
   "metadata": {},
   "outputs": [
    {
     "data": {
      "text/plain": [
       "270"
      ]
     },
     "execution_count": 65,
     "metadata": {},
     "output_type": "execute_result"
    }
   ],
   "source": [
    "pres_n['target'][9600]"
   ]
  },
  {
   "cell_type": "code",
   "execution_count": 63,
   "metadata": {},
   "outputs": [
    {
     "data": {
      "image/png": "[encoded data removed]",
      "text/plain": [
       "<Figure size 432x288 with 1 Axes>"
      ]
     },
     "metadata": {
      "needs_background": "light"
     },
     "output_type": "display_data"
    }
   ],
   "source": [
    "locs = pres_n['loc'][9000:]\n",
    "NPOINTS = len(locs)\n",
    "start = 0\n",
    "fig,ax = plt.subplots(1)\n",
    "plt.ylim((550,750))\n",
    "plt.xlim((250,700))\n",
    "\n",
    "ax.set_prop_cycle('color',plt.cm.winter(np.linspace(0,1,NPOINTS)))\n",
    "for i in np.arange(start,start+NPOINTS-1):\n",
    "    img = ax.scatter(locs[i,0],locs[i,1])\n",
    "    ax.set_aspect('equal','box')"
   ]
  },
  {
   "cell_type": "code",
   "execution_count": 38,
   "metadata": {},
   "outputs": [
    {
     "data": {
      "image/png": "[encoded data removed]",
      "text/plain": [
       "<Figure size 432x288 with 1 Axes>"
      ]
     },
     "metadata": {
      "needs_background": "light"
     },
     "output_type": "display_data"
    }
   ],
   "source": [
    "plt.hist2d(pres_n['obs'][:,1],pres_n['obs'][:,0],bins=12);"
   ]
  },
  {
   "cell_type": "code",
   "execution_count": 42,
   "metadata": {},
   "outputs": [],
   "source": [
    "def get_model_from_files(files,lp_frac):\n",
    "    dh = mba.DataHandler()\n",
    "    dh.load_df(files[0]+'alls.pkl')\n",
    "    for f in files[1:]:\n",
    "        dh.add_df_to_df([f+'alls.pkl'])\n",
    "#     mset = eme.ModelSet(1,frac=1,lp_frac=lp_frac)\n",
    "#     mset.make_models(dh,sm_pars={'lambda':.1,'iters':10})\n",
    "    return dh\n",
    "\n",
    "\n",
    "files = ['./Data/HTFix19-01-18-47/',\n",
    "           './Data/HTFix19-01-20-29/',\n",
    "           './Data/HTFix19-01-21-18/',\n",
    "           './Data/HTFix20-01-09-04/',\n",
    "           './Data/HTFix20-01-09-42/',\n",
    "           './Data/HTFix20-01-10-41/',\n",
    "          ]\n",
    "files = ['../01_13_reals/'+f[2:] for f in files]\n",
    "\n",
    "dh = get_model_from_files(files,.4)"
   ]
  },
  {
   "cell_type": "code",
   "execution_count": 43,
   "metadata": {},
   "outputs": [
    {
     "data": {
      "text/html": [
       "<div>\n",
       "<style scoped>\n",
       "    .dataframe tbody tr th:only-of-type {\n",
       "        vertical-align: middle;\n",
       "    }\n",
       "\n",
       "    .dataframe tbody tr th {\n",
       "        vertical-align: top;\n",
       "    }\n",
       "\n",
       "    .dataframe thead th {\n",
       "        text-align: right;\n",
       "    }\n",
       "</style>\n",
       "<table border=\"1\" class=\"dataframe\">\n",
       "  <thead>\n",
       "    <tr style=\"text-align: right;\">\n",
       "      <th></th>\n",
       "      <th>t</th>\n",
       "      <th>obs_b</th>\n",
       "      <th>angs</th>\n",
       "      <th>prev_actions</th>\n",
       "      <th>reward</th>\n",
       "      <th>loc</th>\n",
       "      <th>target</th>\n",
       "      <th>obs_h</th>\n",
       "      <th>next_obs_b</th>\n",
       "      <th>next_obs_h</th>\n",
       "    </tr>\n",
       "  </thead>\n",
       "  <tbody>\n",
       "    <tr>\n",
       "      <th>0</th>\n",
       "      <td>0.984</td>\n",
       "      <td>-30</td>\n",
       "      <td>[90, 270]</td>\n",
       "      <td>3</td>\n",
       "      <td>6.421441</td>\n",
       "      <td>[1007.8554216867469, 1002.0602409638554]</td>\n",
       "      <td>90</td>\n",
       "      <td>30.0</td>\n",
       "      <td>-30.0</td>\n",
       "      <td>30.0</td>\n",
       "    </tr>\n",
       "    <tr>\n",
       "      <th>1</th>\n",
       "      <td>1.172</td>\n",
       "      <td>-30</td>\n",
       "      <td>[90, 270]</td>\n",
       "      <td>2</td>\n",
       "      <td>6.134315</td>\n",
       "      <td>[1008.2528735632184, 1000.9195402298851]</td>\n",
       "      <td>90</td>\n",
       "      <td>30.0</td>\n",
       "      <td>-30.0</td>\n",
       "      <td>30.0</td>\n",
       "    </tr>\n",
       "    <tr>\n",
       "      <th>2</th>\n",
       "      <td>1.375</td>\n",
       "      <td>-30</td>\n",
       "      <td>[90, 270]</td>\n",
       "      <td>1</td>\n",
       "      <td>6.425035</td>\n",
       "      <td>[1008.3827160493827, 1000.469135802469]</td>\n",
       "      <td>90</td>\n",
       "      <td>30.0</td>\n",
       "      <td>-30.0</td>\n",
       "      <td>30.0</td>\n",
       "    </tr>\n",
       "    <tr>\n",
       "      <th>3</th>\n",
       "      <td>1.562</td>\n",
       "      <td>-30</td>\n",
       "      <td>[90, 240]</td>\n",
       "      <td>0</td>\n",
       "      <td>6.587415</td>\n",
       "      <td>[1008.6585365853659, 999.7317073170732]</td>\n",
       "      <td>90</td>\n",
       "      <td>30.0</td>\n",
       "      <td>-30.0</td>\n",
       "      <td>30.0</td>\n",
       "    </tr>\n",
       "    <tr>\n",
       "      <th>4</th>\n",
       "      <td>1.765</td>\n",
       "      <td>-30</td>\n",
       "      <td>[90, 240]</td>\n",
       "      <td>0</td>\n",
       "      <td>6.356707</td>\n",
       "      <td>[1008.6470588235295, 999.3764705882354]</td>\n",
       "      <td>90</td>\n",
       "      <td>30.0</td>\n",
       "      <td>-30.0</td>\n",
       "      <td>60.0</td>\n",
       "    </tr>\n",
       "    <tr>\n",
       "      <th>...</th>\n",
       "      <td>...</td>\n",
       "      <td>...</td>\n",
       "      <td>...</td>\n",
       "      <td>...</td>\n",
       "      <td>...</td>\n",
       "      <td>...</td>\n",
       "      <td>...</td>\n",
       "      <td>...</td>\n",
       "      <td>...</td>\n",
       "      <td>...</td>\n",
       "    </tr>\n",
       "    <tr>\n",
       "      <th>47319</th>\n",
       "      <td>235.000</td>\n",
       "      <td>30</td>\n",
       "      <td>[240, 120]</td>\n",
       "      <td>0</td>\n",
       "      <td>0.400000</td>\n",
       "      <td>[101.6, 845.2]</td>\n",
       "      <td>180</td>\n",
       "      <td>30.0</td>\n",
       "      <td>120.0</td>\n",
       "      <td>-90.0</td>\n",
       "    </tr>\n",
       "    <tr>\n",
       "      <th>47320</th>\n",
       "      <td>297.797</td>\n",
       "      <td>120</td>\n",
       "      <td>[210, 90]</td>\n",
       "      <td>2</td>\n",
       "      <td>0.666667</td>\n",
       "      <td>[89.0, 888.0]</td>\n",
       "      <td>180</td>\n",
       "      <td>-90.0</td>\n",
       "      <td>120.0</td>\n",
       "      <td>-30.0</td>\n",
       "    </tr>\n",
       "    <tr>\n",
       "      <th>47321</th>\n",
       "      <td>297.984</td>\n",
       "      <td>120</td>\n",
       "      <td>[270, 90]</td>\n",
       "      <td>3</td>\n",
       "      <td>0.666667</td>\n",
       "      <td>[88.57142857142857, 886.2857142857143]</td>\n",
       "      <td>180</td>\n",
       "      <td>-30.0</td>\n",
       "      <td>120.0</td>\n",
       "      <td>-30.0</td>\n",
       "    </tr>\n",
       "    <tr>\n",
       "      <th>47322</th>\n",
       "      <td>298.156</td>\n",
       "      <td>120</td>\n",
       "      <td>[270, 90]</td>\n",
       "      <td>2</td>\n",
       "      <td>0.071429</td>\n",
       "      <td>[88.42857142857143, 887.2857142857143]</td>\n",
       "      <td>180</td>\n",
       "      <td>-30.0</td>\n",
       "      <td>120.0</td>\n",
       "      <td>-30.0</td>\n",
       "    </tr>\n",
       "    <tr>\n",
       "      <th>47323</th>\n",
       "      <td>298.328</td>\n",
       "      <td>120</td>\n",
       "      <td>[270, 90]</td>\n",
       "      <td>1</td>\n",
       "      <td>-0.571429</td>\n",
       "      <td>[88.42857142857143, 886.7142857142857]</td>\n",
       "      <td>180</td>\n",
       "      <td>-30.0</td>\n",
       "      <td>120.0</td>\n",
       "      <td>-30.0</td>\n",
       "    </tr>\n",
       "  </tbody>\n",
       "</table>\n",
       "<p>47324 rows × 10 columns</p>\n",
       "</div>"
      ],
      "text/plain": [
       "             t  obs_b        angs prev_actions    reward  \\\n",
       "0        0.984    -30   [90, 270]            3  6.421441   \n",
       "1        1.172    -30   [90, 270]            2  6.134315   \n",
       "2        1.375    -30   [90, 270]            1  6.425035   \n",
       "3        1.562    -30   [90, 240]            0  6.587415   \n",
       "4        1.765    -30   [90, 240]            0  6.356707   \n",
       "...        ...    ...         ...          ...       ...   \n",
       "47319  235.000     30  [240, 120]            0  0.400000   \n",
       "47320  297.797    120   [210, 90]            2  0.666667   \n",
       "47321  297.984    120   [270, 90]            3  0.666667   \n",
       "47322  298.156    120   [270, 90]            2  0.071429   \n",
       "47323  298.328    120   [270, 90]            1 -0.571429   \n",
       "\n",
       "                                            loc target  obs_h  next_obs_b  \\\n",
       "0      [1007.8554216867469, 1002.0602409638554]     90   30.0       -30.0   \n",
       "1      [1008.2528735632184, 1000.9195402298851]     90   30.0       -30.0   \n",
       "2       [1008.3827160493827, 1000.469135802469]     90   30.0       -30.0   \n",
       "3       [1008.6585365853659, 999.7317073170732]     90   30.0       -30.0   \n",
       "4       [1008.6470588235295, 999.3764705882354]     90   30.0       -30.0   \n",
       "...                                         ...    ...    ...         ...   \n",
       "47319                            [101.6, 845.2]    180   30.0       120.0   \n",
       "47320                             [89.0, 888.0]    180  -90.0       120.0   \n",
       "47321    [88.57142857142857, 886.2857142857143]    180  -30.0       120.0   \n",
       "47322    [88.42857142857143, 887.2857142857143]    180  -30.0       120.0   \n",
       "47323    [88.42857142857143, 886.7142857142857]    180  -30.0       120.0   \n",
       "\n",
       "       next_obs_h  \n",
       "0            30.0  \n",
       "1            30.0  \n",
       "2            30.0  \n",
       "3            30.0  \n",
       "4            60.0  \n",
       "...           ...  \n",
       "47319       -90.0  \n",
       "47320       -30.0  \n",
       "47321       -30.0  \n",
       "47322       -30.0  \n",
       "47323       -30.0  \n",
       "\n",
       "[47324 rows x 10 columns]"
      ]
     },
     "execution_count": 43,
     "metadata": {},
     "output_type": "execute_result"
    }
   ],
   "source": [
    "dh.df"
   ]
  },
  {
   "cell_type": "code",
   "execution_count": 46,
   "metadata": {},
   "outputs": [
    {
     "data": {
      "text/plain": [
       "(array([  168.,  1124.,  1994.,  5988., 12091.,  5806.,  9830.,  7071.,\n",
       "         1805.,  1447.]),\n",
       " array([-180., -147., -114.,  -81.,  -48.,  -15.,   18.,   51.,   84.,\n",
       "         117.,  150.]),\n",
       " <BarContainer object of 10 artists>)"
      ]
     },
     "execution_count": 46,
     "metadata": {},
     "output_type": "execute_result"
    },
    {
     "data": {
      "image/png": "[encoded data removed]",
      "text/plain": [
       "<Figure size 432x288 with 1 Axes>"
      ]
     },
     "metadata": {
      "needs_background": "light"
     },
     "output_type": "display_data"
    }
   ],
   "source": [
    "plt.hist(dh.df['obs_h'].to_numpy())"
   ]
  },
  {
   "cell_type": "code",
   "execution_count": 53,
   "metadata": {},
   "outputs": [],
   "source": [
    "import cv2\n",
    "from improc import *\n",
    "import utils as ut"
   ]
  },
  {
   "cell_type": "code",
   "execution_count": 48,
   "metadata": {},
   "outputs": [],
   "source": [
    "img = cv2.imread('worm_crop2_1.jpg',0)"
   ]
  },
  {
   "cell_type": "code",
   "execution_count": 49,
   "metadata": {},
   "outputs": [
    {
     "data": {
      "text/plain": [
       "<matplotlib.image.AxesImage at 0x29907eff0a0>"
      ]
     },
     "execution_count": 49,
     "metadata": {},
     "output_type": "execute_result"
    },
    {
     "data": {
      "image/png": "[encoded data removed]",
      "text/plain": [
       "<Figure size 432x288 with 1 Axes>"
      ]
     },
     "metadata": {
      "needs_background": "light"
     },
     "output_type": "display_data"
    }
   ],
   "source": [
    "plt.imshow(img)"
   ]
  },
  {
   "cell_type": "code",
   "execution_count": 41,
   "metadata": {},
   "outputs": [],
   "source": [
    "templates,bodies = load_templates()"
   ]
  },
  {
   "cell_type": "code",
   "execution_count": 56,
   "metadata": {},
   "outputs": [],
   "source": [
    "worms = find_worms(img,templates,bodies)\n",
    "worm = worms[0]"
   ]
  },
  {
   "cell_type": "code",
   "execution_count": 51,
   "metadata": {},
   "outputs": [
    {
     "data": {
      "text/plain": [
       "<matplotlib.collections.PathCollection at 0x29909779340>"
      ]
     },
     "execution_count": 51,
     "metadata": {},
     "output_type": "execute_result"
    },
    {
     "data": {
      "image/png": "[encoded data removed]",
      "text/plain": [
       "<Figure size 432x288 with 1 Axes>"
      ]
     },
     "metadata": {
      "needs_background": "light"
     },
     "output_type": "display_data"
    }
   ],
   "source": [
    "plt.imshow(worms[0]['img'])\n",
    "plt.scatter(worm['endpts'][0]-worm['loc'][0]+35,worm['endpts'][1]-worm['loc'][1]+30)"
   ]
  },
  {
   "cell_type": "code",
   "execution_count": 52,
   "metadata": {},
   "outputs": [
    {
     "data": {
      "text/plain": [
       "{'loc': array([394.12857143, 118.7       ]),\n",
       " 'img': array([[0, 0, 0, ..., 0, 0, 0],\n",
       "        [0, 0, 0, ..., 0, 0, 0],\n",
       "        [0, 0, 0, ..., 0, 0, 0],\n",
       "        ...,\n",
       "        [0, 0, 0, ..., 0, 0, 0],\n",
       "        [0, 0, 0, ..., 0, 0, 0],\n",
       "        [0, 0, 0, ..., 0, 0, 0]], dtype=uint8),\n",
       " 'scores': array([ 64917, 196875]),\n",
       " 'angs': array([180, 270]),\n",
       " 'endpts': array([[385, 402],\n",
       "        [118, 125]]),\n",
       " 'body': 150}"
      ]
     },
     "execution_count": 52,
     "metadata": {},
     "output_type": "execute_result"
    }
   ],
   "source": [
    "worms[0]"
   ]
  },
  {
   "cell_type": "code",
   "execution_count": 68,
   "metadata": {},
   "outputs": [],
   "source": [
    "direction=180\n",
    "target = 0\n",
    "worms = find_worms(img,templates,bodies)\n",
    "worm = worms[0]\n",
    "body_dir = relative_angle(worms[0]['body'], target)\n",
    "if abs(relative_angle(body_dir,direction-target)) > 90:\n",
    "    body_dir = ut.wrap_correct(body_dir+180)\n",
    "    head_body = relative_angle(worms[0]['angs'][1], worms[0]['body']+180)\n",
    "    worms[0]['endpts'] = np.fliplr(worms[0]['endpts'])\n",
    "    print('here')\n",
    "    \n",
    "else:\n",
    "    head_body = relative_angle(worms[0]['angs'][0], worms[0]['body'])\n",
    "\n",
    "obs = np.array([body_dir,head_body])/180."
   ]
  },
  {
   "cell_type": "code",
   "execution_count": 69,
   "metadata": {},
   "outputs": [
    {
     "data": {
      "text/plain": [
       "array([150.,  30.])"
      ]
     },
     "execution_count": 69,
     "metadata": {},
     "output_type": "execute_result"
    }
   ],
   "source": [
    "obs*180"
   ]
  },
  {
   "cell_type": "markdown",
   "metadata": {},
   "source": [
    "# There was something stupid with the image processing I did. \n",
    "If fixed, head angle dist should look Gaussian."
   ]
  },
  {
   "cell_type": "code",
   "execution_count": 2,
   "metadata": {
    "scrolled": true
   },
   "outputs": [
    {
     "name": "stdout",
     "output_type": "stream",
     "text": [
      "Warning: when changing pixelclock at runtime, you may need to update the fps and exposure parameters\n",
      "Warning: Specified fps (20.00) not in possible range: [7.40, 14.92]. fps has been set to 14.92.\n",
      "Done resetting\t\n",
      "0.6965900044228218\n",
      "Done resetting\t\n",
      "0.315820858862219\n"
     ]
    }
   ],
   "source": [
    "cam,task = init_instruments()\n",
    "for i in range(2):\n",
    "    worm_ep_len = 120\n",
    "\n",
    "    traj = {}\n",
    "    worm = we.ProcessedWorm(0,ep_len=worm_ep_len)\n",
    "   \n",
    "    worm.reset(cam,task)\n",
    "    action=0\n",
    "    done=False\n",
    "\n",
    "    while not done:\n",
    "        obs,rew,done,info = worm.step(action,cam,task)\n",
    "        if np.sign(obs[0]*obs[1])==-1:\n",
    "            action=1\n",
    "        else:\n",
    "            action=0\n",
    "        ut.add_to_traj(traj,info)\n",
    "    print(np.mean(traj['reward']))\n",
    "\n",
    "#     with open(f'./Data/Learned01-02-16-30/PostManual{i}.pkl','wb') as f:\n",
    "#         pickle.dump(traj,f)\n",
    "cam.exit()\n",
    "task.write(0)\n",
    "task.close()"
   ]
  },
  {
   "cell_type": "code",
   "execution_count": 3,
   "metadata": {},
   "outputs": [],
   "source": [
    "traj_n = {}\n",
    "for k in traj.keys():\n",
    "    traj_n[k] = np.array(traj[k]).flatten()\n",
    "for i in np.arange(14)+1:\n",
    "    for k in traj.keys():\n",
    "        traj_n[k] = np.append(traj_n[k],traj[k])\n",
    "traj_n['loc'] = traj_n['loc'].reshape(-1,2)\n",
    "traj_n['obs'] = traj_n['obs'].reshape(-1,2)*180"
   ]
  },
  {
   "cell_type": "code",
   "execution_count": 4,
   "metadata": {},
   "outputs": [
    {
     "data": {
      "text/plain": [
       "array([[-120.,   30.],\n",
       "       [-120.,   60.],\n",
       "       [-120.,   30.],\n",
       "       ...,\n",
       "       [  30.,  -30.],\n",
       "       [  30.,  -30.],\n",
       "       [  30.,  -30.]])"
      ]
     },
     "execution_count": 4,
     "metadata": {},
     "output_type": "execute_result"
    }
   ],
   "source": [
    "traj_n['obs']"
   ]
  },
  {
   "cell_type": "code",
   "execution_count": 6,
   "metadata": {},
   "outputs": [
    {
     "data": {
      "text/plain": [
       "(array([ 390.,  525.,    0., 2190., 3930.,    0.,  825.,  450.,    0.,\n",
       "        1665.]),\n",
       " array([-150., -120.,  -90.,  -60.,  -30.,    0.,   30.,   60.,   90.,\n",
       "         120.,  150.]),\n",
       " <BarContainer object of 10 artists>)"
      ]
     },
     "execution_count": 6,
     "metadata": {},
     "output_type": "execute_result"
    },
    {
     "data": {
      "image/png": "[encoded data removed]",
      "text/plain": [
       "<Figure size 432x288 with 1 Axes>"
      ]
     },
     "metadata": {
      "needs_background": "light"
     },
     "output_type": "display_data"
    }
   ],
   "source": [
    "plt.hist(traj_n['obs'][:,0])"
   ]
  },
  {
   "cell_type": "code",
   "execution_count": null,
   "metadata": {},
   "outputs": [],
   "source": []
  }
 ],
 "metadata": {
  "kernelspec": {
   "display_name": "rlkit",
   "language": "python",
   "name": "rlkit"
  },
  "language_info": {
   "codemirror_mode": {
    "name": "ipython",
    "version": 3
   },
   "file_extension": ".py",
   "mimetype": "text/x-python",
   "name": "python",
   "nbconvert_exporter": "python",
   "pygments_lexer": "ipython3",
   "version": "3.8.5"
  }
 },
 "nbformat": 4,
 "nbformat_minor": 4
}
