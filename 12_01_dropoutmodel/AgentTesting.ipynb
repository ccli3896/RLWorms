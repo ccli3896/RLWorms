{
 "cells": [
  {
   "cell_type": "code",
   "execution_count": 1,
   "metadata": {},
   "outputs": [],
   "source": [
    "import numpy as np\n",
    "import matplotlib.pyplot as plt\n",
    "import pickle\n",
    "import pandas as pd\n",
    "\n",
    "import utils as ut\n",
    "import model_env as me\n",
    "import tab_agents as tab"
   ]
  },
  {
   "cell_type": "code",
   "execution_count": 2,
   "metadata": {},
   "outputs": [],
   "source": [
    "traj_df = pd.read_pickle('./traj_df.pkl')"
   ]
  },
  {
   "cell_type": "code",
   "execution_count": 3,
   "metadata": {},
   "outputs": [],
   "source": [
    "gamma = 0.9\n",
    "epsilon = 0.05\n",
    "alpha = .01\n",
    "runtime = 10000"
   ]
  },
  {
   "cell_type": "code",
   "execution_count": 4,
   "metadata": {},
   "outputs": [
    {
     "name": "stdout",
     "output_type": "stream",
     "text": [
      "Eval 0: average 0.9552978122427955\n",
      "Eval 1: average 1.1821037278757474\n"
     ]
    },
    {
     "ename": "IndexError",
     "evalue": "index 12 is out of bounds for axis 1 with size 12",
     "output_type": "error",
     "traceback": [
      "\u001b[1;31m---------------------------------------------------------------------------\u001b[0m",
      "\u001b[1;31mIndexError\u001b[0m                                Traceback (most recent call last)",
      "\u001b[1;32m<ipython-input-4-feeda1c36cfd>\u001b[0m in \u001b[0;36m<module>\u001b[1;34m\u001b[0m\n\u001b[0;32m      8\u001b[0m \u001b[0malph_mouse\u001b[0m \u001b[1;33m=\u001b[0m \u001b[0mtab\u001b[0m\u001b[1;33m.\u001b[0m\u001b[0mQ_Alpha_Agent\u001b[0m\u001b[1;33m(\u001b[0m\u001b[0mworm\u001b[0m\u001b[1;33m,\u001b[0m\u001b[0mgamma\u001b[0m\u001b[1;33m=\u001b[0m\u001b[0mgamma\u001b[0m\u001b[1;33m,\u001b[0m\u001b[0mepsilon\u001b[0m\u001b[1;33m=\u001b[0m\u001b[0mepsilon\u001b[0m\u001b[1;33m,\u001b[0m\u001b[0malpha\u001b[0m\u001b[1;33m=\u001b[0m\u001b[0malpha\u001b[0m\u001b[1;33m)\u001b[0m\u001b[1;33m\u001b[0m\u001b[1;33m\u001b[0m\u001b[0m\n\u001b[0;32m      9\u001b[0m \u001b[1;33m\u001b[0m\u001b[0m\n\u001b[1;32m---> 10\u001b[1;33m \u001b[0malpha_mouse_learned\u001b[0m\u001b[1;33m,\u001b[0m \u001b[0mrewards\u001b[0m\u001b[1;33m,\u001b[0m \u001b[0meval_rewards\u001b[0m \u001b[1;33m=\u001b[0m \u001b[0mtab\u001b[0m\u001b[1;33m.\u001b[0m\u001b[0mlearner\u001b[0m\u001b[1;33m(\u001b[0m\u001b[0malph_mouse\u001b[0m\u001b[1;33m,\u001b[0m\u001b[0mworm\u001b[0m\u001b[1;33m,\u001b[0m\u001b[0mepisodes\u001b[0m\u001b[1;33m=\u001b[0m\u001b[0mruntime\u001b[0m\u001b[1;33m)\u001b[0m\u001b[1;33m\u001b[0m\u001b[1;33m\u001b[0m\u001b[0m\n\u001b[0m",
      "\u001b[1;32m~\\Documents\\Research\\R_RamanathanLab\\20_09_07_Repo\\RLWorms\\12_01_dropoutmodel\\tab_agents.py\u001b[0m in \u001b[0;36mlearner\u001b[1;34m(agent, env, episodes, steps_per_ep, eps_per_eval)\u001b[0m\n\u001b[0;32m    114\u001b[0m         \u001b[1;32mfor\u001b[0m \u001b[0mstep\u001b[0m \u001b[1;32min\u001b[0m \u001b[0mrange\u001b[0m\u001b[1;33m(\u001b[0m\u001b[0msteps_per_ep\u001b[0m\u001b[1;33m)\u001b[0m\u001b[1;33m:\u001b[0m\u001b[1;33m\u001b[0m\u001b[1;33m\u001b[0m\u001b[0m\n\u001b[0;32m    115\u001b[0m             \u001b[0maction\u001b[0m \u001b[1;33m=\u001b[0m \u001b[0magent\u001b[0m\u001b[1;33m.\u001b[0m\u001b[0mact\u001b[0m\u001b[1;33m(\u001b[0m\u001b[0mobs\u001b[0m\u001b[1;33m)\u001b[0m\u001b[1;33m\u001b[0m\u001b[1;33m\u001b[0m\u001b[0m\n\u001b[1;32m--> 116\u001b[1;33m             \u001b[0mnext_obs\u001b[0m\u001b[1;33m,\u001b[0m \u001b[0mreward_vec\u001b[0m\u001b[1;33m[\u001b[0m\u001b[0mstep\u001b[0m\u001b[1;33m]\u001b[0m\u001b[1;33m,\u001b[0m \u001b[0mdone\u001b[0m\u001b[1;33m,\u001b[0m \u001b[0minfo\u001b[0m \u001b[1;33m=\u001b[0m \u001b[0menv\u001b[0m\u001b[1;33m.\u001b[0m\u001b[0mstep\u001b[0m\u001b[1;33m(\u001b[0m\u001b[0maction\u001b[0m\u001b[1;33m)\u001b[0m\u001b[1;33m\u001b[0m\u001b[1;33m\u001b[0m\u001b[0m\n\u001b[0m\u001b[0;32m    117\u001b[0m             \u001b[0magent\u001b[0m\u001b[1;33m.\u001b[0m\u001b[0mupdate\u001b[0m\u001b[1;33m(\u001b[0m\u001b[0mobs\u001b[0m\u001b[1;33m,\u001b[0m \u001b[0maction\u001b[0m\u001b[1;33m,\u001b[0m \u001b[0mnext_obs\u001b[0m\u001b[1;33m,\u001b[0m \u001b[0mreward_vec\u001b[0m\u001b[1;33m[\u001b[0m\u001b[0mstep\u001b[0m\u001b[1;33m]\u001b[0m\u001b[1;33m)\u001b[0m\u001b[1;33m\u001b[0m\u001b[1;33m\u001b[0m\u001b[0m\n\u001b[0;32m    118\u001b[0m             \u001b[0mobs\u001b[0m \u001b[1;33m=\u001b[0m \u001b[0mnext_obs\u001b[0m\u001b[1;33m\u001b[0m\u001b[1;33m\u001b[0m\u001b[0m\n",
      "\u001b[1;32m~\\Documents\\Research\\R_RamanathanLab\\20_09_07_Repo\\RLWorms\\12_01_dropoutmodel\\model_env.py\u001b[0m in \u001b[0;36mstep\u001b[1;34m(self, action)\u001b[0m\n\u001b[0;32m     48\u001b[0m         \u001b[0molds\u001b[0m \u001b[1;33m=\u001b[0m \u001b[0mself\u001b[0m\u001b[1;33m.\u001b[0m\u001b[0mgrid2coords\u001b[0m\u001b[1;33m(\u001b[0m\u001b[0mself\u001b[0m\u001b[1;33m.\u001b[0m\u001b[0mstate\u001b[0m\u001b[1;33m)\u001b[0m\u001b[1;33m\u001b[0m\u001b[1;33m\u001b[0m\u001b[0m\n\u001b[0;32m     49\u001b[0m         \u001b[1;32mif\u001b[0m \u001b[0maction\u001b[0m\u001b[1;33m==\u001b[0m\u001b[1;36m0\u001b[0m\u001b[1;33m:\u001b[0m\u001b[1;33m\u001b[0m\u001b[1;33m\u001b[0m\u001b[0m\n\u001b[1;32m---> 50\u001b[1;33m             \u001b[0mself\u001b[0m\u001b[1;33m.\u001b[0m\u001b[0mstate\u001b[0m\u001b[1;33m[\u001b[0m\u001b[1;36m0\u001b[0m\u001b[1;33m]\u001b[0m \u001b[1;33m=\u001b[0m \u001b[0mself\u001b[0m\u001b[1;33m.\u001b[0m\u001b[0mget_sample\u001b[0m\u001b[1;33m(\u001b[0m\u001b[1;34m'body_off'\u001b[0m\u001b[1;33m,\u001b[0m \u001b[0molds\u001b[0m\u001b[1;33m)\u001b[0m\u001b[1;33m\u001b[0m\u001b[1;33m\u001b[0m\u001b[0m\n\u001b[0m\u001b[0;32m     51\u001b[0m             \u001b[0mself\u001b[0m\u001b[1;33m.\u001b[0m\u001b[0mstate\u001b[0m\u001b[1;33m[\u001b[0m\u001b[1;36m1\u001b[0m\u001b[1;33m]\u001b[0m \u001b[1;33m=\u001b[0m \u001b[0mself\u001b[0m\u001b[1;33m.\u001b[0m\u001b[0mget_sample\u001b[0m\u001b[1;33m(\u001b[0m\u001b[1;34m'head_off'\u001b[0m\u001b[1;33m,\u001b[0m \u001b[0molds\u001b[0m\u001b[1;33m)\u001b[0m\u001b[1;33m\u001b[0m\u001b[1;33m\u001b[0m\u001b[0m\n\u001b[0;32m     52\u001b[0m             \u001b[0mreward\u001b[0m \u001b[1;33m=\u001b[0m \u001b[0mself\u001b[0m\u001b[1;33m.\u001b[0m\u001b[0mget_sample\u001b[0m\u001b[1;33m(\u001b[0m\u001b[1;34m'reward_off'\u001b[0m\u001b[1;33m,\u001b[0m \u001b[0molds\u001b[0m\u001b[1;33m)\u001b[0m\u001b[1;33m\u001b[0m\u001b[1;33m\u001b[0m\u001b[0m\n",
      "\u001b[1;32m~\\Documents\\Research\\R_RamanathanLab\\20_09_07_Repo\\RLWorms\\12_01_dropoutmodel\\model_env.py\u001b[0m in \u001b[0;36mget_sample\u001b[1;34m(self, dkey, olds)\u001b[0m\n\u001b[0;32m     86\u001b[0m         \u001b[1;31m# Returns a single sample from normal distribution given by statistics in dictionary[dkey],\u001b[0m\u001b[1;33m\u001b[0m\u001b[1;33m\u001b[0m\u001b[1;33m\u001b[0m\u001b[0m\n\u001b[0;32m     87\u001b[0m         \u001b[1;31m# at location given by olds (index into matrix in dkey)\u001b[0m\u001b[1;33m\u001b[0m\u001b[1;33m\u001b[0m\u001b[1;33m\u001b[0m\u001b[0m\n\u001b[1;32m---> 88\u001b[1;33m         \u001b[0mmu\u001b[0m\u001b[1;33m,\u001b[0m\u001b[0msig\u001b[0m \u001b[1;33m=\u001b[0m \u001b[0mself\u001b[0m\u001b[1;33m.\u001b[0m\u001b[0mdist_dict\u001b[0m\u001b[1;33m[\u001b[0m\u001b[0mdkey\u001b[0m\u001b[1;33m]\u001b[0m\u001b[1;33m[\u001b[0m\u001b[0molds\u001b[0m\u001b[1;33m[\u001b[0m\u001b[1;36m0\u001b[0m\u001b[1;33m]\u001b[0m\u001b[1;33m,\u001b[0m\u001b[0molds\u001b[0m\u001b[1;33m[\u001b[0m\u001b[1;36m1\u001b[0m\u001b[1;33m]\u001b[0m\u001b[1;33m]\u001b[0m\u001b[1;33m\u001b[0m\u001b[1;33m\u001b[0m\u001b[0m\n\u001b[0m\u001b[0;32m     89\u001b[0m         \u001b[1;32mif\u001b[0m \u001b[1;34m'reward'\u001b[0m \u001b[1;32min\u001b[0m \u001b[0mdkey\u001b[0m\u001b[1;33m:\u001b[0m\u001b[1;33m\u001b[0m\u001b[1;33m\u001b[0m\u001b[0m\n\u001b[0;32m     90\u001b[0m             \u001b[1;32mreturn\u001b[0m \u001b[0mnp\u001b[0m\u001b[1;33m.\u001b[0m\u001b[0mrandom\u001b[0m\u001b[1;33m.\u001b[0m\u001b[0mnormal\u001b[0m\u001b[1;33m(\u001b[0m\u001b[0mmu\u001b[0m\u001b[1;33m,\u001b[0m\u001b[0msig\u001b[0m\u001b[1;33m)\u001b[0m\u001b[1;33m\u001b[0m\u001b[1;33m\u001b[0m\u001b[0m\n",
      "\u001b[1;31mIndexError\u001b[0m: index 12 is out of bounds for axis 1 with size 12"
     ]
    }
   ],
   "source": [
    "dist_dict = ut.make_dist_dict(traj_df)#,smoothenpars={'smooth_par':0.05,'iters':50})\n",
    "\n",
    "\n",
    "'''\n",
    "Running the script \n",
    "'''\n",
    "worm = me.FakeWorm(dist_dict)\n",
    "alph_mouse = tab.Q_Alpha_Agent(worm,gamma=gamma,epsilon=epsilon,alpha=alpha)\n",
    "\n",
    "alpha_mouse_learned, rewards, eval_rewards = tab.learner(alph_mouse,worm,episodes=runtime)"
   ]
  },
  {
   "cell_type": "code",
   "execution_count": null,
   "metadata": {},
   "outputs": [],
   "source": [
    "# Note something's up with the environment or agent; keep getting out of index range errors"
   ]
  },
  {
   "cell_type": "markdown",
   "metadata": {},
   "source": [
    "# With binned body angle"
   ]
  },
  {
   "cell_type": "code",
   "execution_count": 13,
   "metadata": {},
   "outputs": [
    {
     "data": {
      "image/png": "[encoded data removed]",
      "text/plain": [
       "<Figure size 576x360 with 4 Axes>"
      ]
     },
     "metadata": {
      "needs_background": "light"
     },
     "output_type": "display_data"
    }
   ],
   "source": [
    "fig, ax = plt.subplots(1,2)\n",
    "fig.set_size_inches((8,5))\n",
    "for i in range(2):\n",
    "    im = ax[i].imshow(alph_mouse.Qtab[:,i].reshape(12,12))\n",
    "    fig.colorbar(im,ax=ax[i])"
   ]
  },
  {
   "cell_type": "code",
   "execution_count": 18,
   "metadata": {},
   "outputs": [
    {
     "data": {
      "text/plain": [
       "<matplotlib.colorbar.Colorbar at 0x26ba1144970>"
      ]
     },
     "execution_count": 18,
     "metadata": {},
     "output_type": "execute_result"
    },
    {
     "data": {
      "image/png": "[encoded data removed]",
      "text/plain": [
       "<Figure size 432x288 with 2 Axes>"
      ]
     },
     "metadata": {
      "needs_background": "light"
     },
     "output_type": "display_data"
    }
   ],
   "source": [
    "plt.imshow(alpha_mouse_learned.Qtab[:,1].reshape(12,12)-alpha_mouse_learned.Qtab[:,0].reshape(12,12))\n",
    "plt.colorbar()"
   ]
  },
  {
   "cell_type": "code",
   "execution_count": 5,
   "metadata": {
    "scrolled": false
   },
   "outputs": [
    {
     "data": {
      "image/png": "[encoded data removed]",
      "text/plain": [
       "<Figure size 576x360 with 4 Axes>"
      ]
     },
     "metadata": {
      "needs_background": "light"
     },
     "output_type": "display_data"
    }
   ],
   "source": [
    "fig, ax = plt.subplots(1,2)\n",
    "fig.set_size_inches((8,5))\n",
    "for i in range(2):\n",
    "    im = ax[i].imshow(alph_mouse.Qtab[:,i].reshape(12,12))\n",
    "    fig.colorbar(im,ax=ax[i])"
   ]
  },
  {
   "cell_type": "code",
   "execution_count": 8,
   "metadata": {},
   "outputs": [
    {
     "data": {
      "text/plain": [
       "<matplotlib.colorbar.Colorbar at 0x1b5e4954370>"
      ]
     },
     "execution_count": 8,
     "metadata": {},
     "output_type": "execute_result"
    },
    {
     "data": {
      "image/png": "[encoded data removed]",
      "text/plain": [
       "<Figure size 432x288 with 2 Axes>"
      ]
     },
     "metadata": {
      "needs_background": "light"
     },
     "output_type": "display_data"
    }
   ],
   "source": [
    "plt.imshow(alph_mouse.Qtab[:,1].reshape(12,12)-alph_mouse.Qtab[:,0].reshape(12,12))\n",
    "plt.colorbar()"
   ]
  },
  {
   "cell_type": "code",
   "execution_count": 5,
   "metadata": {},
   "outputs": [
    {
     "data": {
      "text/plain": [
       "(1, 12)"
      ]
     },
     "execution_count": 5,
     "metadata": {},
     "output_type": "execute_result"
    }
   ],
   "source": [
    "worm.grid2coords(worm.state)"
   ]
  },
  {
   "cell_type": "code",
   "execution_count": 6,
   "metadata": {},
   "outputs": [
    {
     "data": {
      "text/plain": [
       "array([-150,  180])"
      ]
     },
     "execution_count": 6,
     "metadata": {},
     "output_type": "execute_result"
    }
   ],
   "source": [
    "worm.state"
   ]
  },
  {
   "cell_type": "code",
   "execution_count": 8,
   "metadata": {},
   "outputs": [
    {
     "name": "stdout",
     "output_type": "stream",
     "text": [
      "[-180 -180]\n",
      "[-180 -150]\n",
      "[-180 -120]\n",
      "[-180  -90]\n",
      "[-180  -60]\n",
      "[-180  -30]\n",
      "[-180    0]\n",
      "[-180   30]\n",
      "[-180   60]\n",
      "[-180   90]\n",
      "[-180  120]\n",
      "[-180  150]\n",
      "[-150 -180]\n",
      "[-150 -150]\n",
      "[-150 -120]\n",
      "[-150  -90]\n",
      "[-150  -60]\n",
      "[-150  -30]\n",
      "[-150    0]\n",
      "[-150   30]\n",
      "[-150   60]\n",
      "[-150   90]\n",
      "[-150  120]\n",
      "[-150  150]\n",
      "[-120 -180]\n",
      "[-120 -150]\n",
      "[-120 -120]\n",
      "[-120  -90]\n",
      "[-120  -60]\n",
      "[-120  -30]\n",
      "[-120    0]\n",
      "[-120   30]\n",
      "[-120   60]\n",
      "[-120   90]\n",
      "[-120  120]\n",
      "[-120  150]\n",
      "[ -90 -180]\n",
      "[ -90 -150]\n",
      "[ -90 -120]\n",
      "[-90 -90]\n",
      "[-90 -60]\n",
      "[-90 -30]\n",
      "[-90   0]\n",
      "[-90  30]\n",
      "[-90  60]\n",
      "[-90  90]\n",
      "[-90 120]\n",
      "[-90 150]\n",
      "[ -60 -180]\n",
      "[ -60 -150]\n",
      "[ -60 -120]\n",
      "[-60 -90]\n",
      "[-60 -60]\n",
      "[-60 -30]\n",
      "[-60   0]\n",
      "[-60  30]\n",
      "[-60  60]\n",
      "[-60  90]\n",
      "[-60 120]\n",
      "[-60 150]\n",
      "[ -30 -180]\n",
      "[ -30 -150]\n",
      "[ -30 -120]\n",
      "[-30 -90]\n",
      "[-30 -60]\n",
      "[-30 -30]\n",
      "[-30   0]\n",
      "[-30  30]\n",
      "[-30  60]\n",
      "[-30  90]\n",
      "[-30 120]\n",
      "[-30 150]\n",
      "[   0 -180]\n",
      "[   0 -150]\n",
      "[   0 -120]\n",
      "[  0 -90]\n",
      "[  0 -60]\n",
      "[  0 -30]\n",
      "[0 0]\n",
      "[ 0 30]\n",
      "[ 0 60]\n",
      "[ 0 90]\n",
      "[  0 120]\n",
      "[  0 150]\n",
      "[  30 -180]\n",
      "[  30 -150]\n",
      "[  30 -120]\n",
      "[ 30 -90]\n",
      "[ 30 -60]\n",
      "[ 30 -30]\n",
      "[30  0]\n",
      "[30 30]\n",
      "[30 60]\n",
      "[30 90]\n",
      "[ 30 120]\n",
      "[ 30 150]\n",
      "[  60 -180]\n",
      "[  60 -150]\n",
      "[  60 -120]\n",
      "[ 60 -90]\n",
      "[ 60 -60]\n",
      "[ 60 -30]\n",
      "[60  0]\n",
      "[60 30]\n",
      "[60 60]\n",
      "[60 90]\n",
      "[ 60 120]\n",
      "[ 60 150]\n",
      "[  90 -180]\n",
      "[  90 -150]\n",
      "[  90 -120]\n",
      "[ 90 -90]\n",
      "[ 90 -60]\n",
      "[ 90 -30]\n",
      "[90  0]\n",
      "[90 30]\n",
      "[90 60]\n",
      "[90 90]\n",
      "[ 90 120]\n",
      "[ 90 150]\n",
      "[ 120 -180]\n",
      "[ 120 -150]\n",
      "[ 120 -120]\n",
      "[120 -90]\n",
      "[120 -60]\n",
      "[120 -30]\n",
      "[120   0]\n",
      "[120  30]\n",
      "[120  60]\n",
      "[120  90]\n",
      "[120 120]\n",
      "[120 150]\n",
      "[ 150 -180]\n",
      "[ 150 -150]\n",
      "[ 150 -120]\n",
      "[150 -90]\n",
      "[150 -60]\n",
      "[150 -30]\n",
      "[150   0]\n",
      "[150  30]\n",
      "[150  60]\n",
      "[150  90]\n",
      "[150 120]\n",
      "[150 150]\n"
     ]
    }
   ],
   "source": [
    "for i in range(144):\n",
    "    print(worm.obs2grid(i))"
   ]
  },
  {
   "cell_type": "code",
   "execution_count": 9,
   "metadata": {},
   "outputs": [
    {
     "data": {
      "text/plain": [
       "121"
      ]
     },
     "execution_count": 9,
     "metadata": {},
     "output_type": "execute_result"
    }
   ],
   "source": [
    "np.random.choice(144)"
   ]
  },
  {
   "cell_type": "code",
   "execution_count": null,
   "metadata": {},
   "outputs": [],
   "source": []
  }
 ],
 "metadata": {
  "kernelspec": {
   "display_name": "r919",
   "language": "python",
   "name": "r919"
  },
  "language_info": {
   "codemirror_mode": {
    "name": "ipython",
    "version": 3
   },
   "file_extension": ".py",
   "mimetype": "text/x-python",
   "name": "python",
   "nbconvert_exporter": "python",
   "pygments_lexer": "ipython3",
   "version": "3.8.5"
  }
 },
 "nbformat": 4,
 "nbformat_minor": 4
}
