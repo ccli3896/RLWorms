{
 "cells": [
  {
   "cell_type": "code",
   "execution_count": 1,
   "metadata": {},
   "outputs": [],
   "source": [
    "import numpy as np\n",
    "import pandas as pd\n",
    "import matplotlib.pyplot as plt\n",
    "import pickle"
   ]
  },
  {
   "cell_type": "code",
   "execution_count": 133,
   "metadata": {},
   "outputs": [],
   "source": [
    "def make_df(fnames, \n",
    "    old_frame=None, \n",
    "    reward_ahead=10, \n",
    "    timestep_gap=1, \n",
    "    prev_act_window=3, \n",
    "    jump_limit=100,\n",
    "    ):\n",
    "\n",
    "    '''\n",
    "    Takes a file and turns it into a trajectory dataframe.\n",
    "    Can add to old data.\n",
    "    Inputs:\n",
    "                old_frame: old df\n",
    "             reward_ahead: how many steps ahead to sum reward, for each table entry\n",
    "             timestep_gap: how data are sampled (e.g. =5 means only every fifth datapoint is kept)\n",
    "          prev_act_window: how many steps to look back to make sure all actions were 'on' or 'off'\n",
    "               jump_limit: data are processed to remove faulty points where worm loc has jumped really far.\n",
    "                           This is the maximum jump distance allowed before points are tossed.\n",
    "                     disc: discretization of angles\n",
    "\n",
    "    Output:\n",
    "        dataframe object with keys:\n",
    "            't', 'obs_b', 'obs_h', 'prev_actions', 'next_obs_b', 'next_obs_h', 'reward', 'loc'\n",
    "    '''\n",
    "    def add_ind_to_df(traj,df,i, reward_ahead, prev_act_window):\n",
    "        # Assumes data for angle observations go from -1 to 1. (not sure why)\n",
    "        ANG_BOUND = 180\n",
    "        return df.append({\n",
    "            't'           : traj['t'][i],\n",
    "            'obs_b'       : int(traj['obs'][i][0]*ANG_BOUND),\n",
    "            'obs_h'       : int(traj['obs'][i][1]*ANG_BOUND),\n",
    "            'prev_actions': sum(traj['action'][i-prev_act_window:i]), # Note does not include current action\n",
    "            'next_obs_b'  : int(traj['obs'][i+1][0]*ANG_BOUND),\n",
    "            'next_obs_h'  : int(traj['obs'][i+1][1]*ANG_BOUND),\n",
    "            'reward'      : sum(traj['reward'][i:i+reward_ahead]),\n",
    "            'loc'         : traj['loc'][i],\n",
    "        }, ignore_index=True)\n",
    "\n",
    "    if old_frame is None:\n",
    "        df = pd.DataFrame(columns = ['t', \n",
    "            'obs_b', 'obs_h', 'prev_actions', \n",
    "            'next_obs_b', 'next_obs_h', 'reward', 'loc'])\n",
    "    else:\n",
    "        df = old_frame\n",
    "\n",
    "    # For every file, loop through and remove problem points.\n",
    "    for fname in fnames:\n",
    "        newf = True\n",
    "        with open(fname, 'rb') as f:\n",
    "            traj = pickle.load(f)\n",
    "\n",
    "        for i in np.arange(prev_act_window,len(traj['t'])-reward_ahead,timestep_gap):\n",
    "            # For every timestep, check if the jump is reasonable and add to dataframe.\n",
    "            if newf:\n",
    "                if sum(traj['loc'][i])!=0:\n",
    "                    df = add_ind_to_df(traj,df,i,reward_ahead,prev_act_window)\n",
    "                    newf = False\n",
    "            elif np.sqrt(np.sum(np.square(df['loc'].iloc[-1]-traj['loc'][i]))) < jump_limit:\n",
    "                df = add_ind_to_df(traj,df,i,reward_ahead,prev_act_window)\n",
    "\n",
    "    return df"
   ]
  },
  {
   "cell_type": "code",
   "execution_count": 138,
   "metadata": {},
   "outputs": [],
   "source": [
    "fnames=[\n",
    "    # First worm\n",
    "#     'Data/traj12-11-2020_19-04-41.pkl', #none\n",
    "     'Data/traj12-11-2020_19-14-38.pkl', #none\n",
    "#     'Data/traj12-11-2020_19-24-30.pkl', #xlim 800\n",
    "#     'Data/traj12-11-2020_19-35-31.pkl', #none # Seems like an especially bad dataset. Actually ruined all the others\n",
    "\n",
    "#     # Second worm\n",
    "#     'Data/traj12-11-2020_19-55-19.pkl', #none\n",
    "#     'Data/traj12-11-2020_20-05-11.pkl', #none\n",
    "#     'Data/traj12-11-2020_20-15-17.pkl', #none\n",
    "#     'Data/traj12-11-2020_20-25-06.pkl', #xlim 1430\n",
    "\n",
    "#     # Third worm\n",
    "#     'Data/traj30-10-2020_18-14-00.pkl', #none\n",
    "#     'Data/traj30-10-2020_18-34-10.pkl', #none\n",
    "\n",
    "#     # Fourth worm\n",
    "#     'Data/traj02-11-2020_15-53-56.pkl', #none \n",
    "#     'Data/traj02-11-2020_16-14-45.pkl', #none \n",
    "\n",
    "#     # Fifth worm\n",
    "#     'Data/traj03-11-2020_14-46-45.pkl', #none\n",
    "#     'Data/traj03-11-2020_15-08-07.pkl', #none\n",
    "]\n",
    "\n",
    "traj_df = make_df(fnames, \n",
    "    old_frame=None, \n",
    "    reward_ahead=30, \n",
    "    timestep_gap=10, \n",
    "    prev_act_window=20, \n",
    "    jump_limit=100,\n",
    "    )"
   ]
  },
  {
   "cell_type": "code",
   "execution_count": 78,
   "metadata": {},
   "outputs": [],
   "source": [
    "#traj_df.to_pickle('./all_traj_df.pkl')"
   ]
  },
  {
   "cell_type": "code",
   "execution_count": 139,
   "metadata": {},
   "outputs": [
    {
     "data": {
      "text/plain": [
       "0       5\n",
       "1       5\n",
       "2      15\n",
       "3      10\n",
       "4       5\n",
       "       ..\n",
       "240    10\n",
       "241    15\n",
       "242    20\n",
       "243    15\n",
       "244     5\n",
       "Name: prev_actions, Length: 245, dtype: object"
      ]
     },
     "execution_count": 139,
     "metadata": {},
     "output_type": "execute_result"
    }
   ],
   "source": [
    "traj_df['prev_actions']"
   ]
  },
  {
   "cell_type": "code",
   "execution_count": 81,
   "metadata": {},
   "outputs": [],
   "source": [
    "locs = np.zeros((len(traj_df),2))\n",
    "for i in range(locs.shape[0]):\n",
    "    locs[i,:] = traj_df['loc'][i]"
   ]
  },
  {
   "cell_type": "code",
   "execution_count": 82,
   "metadata": {},
   "outputs": [
    {
     "data": {
      "text/plain": [
       "[<matplotlib.lines.Line2D at 0x1e4165a3f40>]"
      ]
     },
     "execution_count": 82,
     "metadata": {},
     "output_type": "execute_result"
    },
    {
     "data": {
      "image/png": "[encoded data removed]",
      "text/plain": [
       "<Figure size 432x288 with 1 Axes>"
      ]
     },
     "metadata": {
      "needs_background": "light"
     },
     "output_type": "display_data"
    }
   ],
   "source": [
    "plt.plot(locs[:,0],locs[:,1])"
   ]
  },
  {
   "cell_type": "code",
   "execution_count": 111,
   "metadata": {},
   "outputs": [],
   "source": [
    "traj_df.loc[traj_df['reward']>0,'reward'] = traj_df.loc[traj_df]"
   ]
  },
  {
   "cell_type": "code",
   "execution_count": 114,
   "metadata": {},
   "outputs": [],
   "source": [
    "traj_df[traj_df['reward']>0]['reward'] = np.zeros(len(traj_df[traj_df['reward']>0]['reward']))"
   ]
  },
  {
   "cell_type": "code",
   "execution_count": 142,
   "metadata": {},
   "outputs": [
    {
     "data": {
      "text/plain": [
       "0       7.755952\n",
       "1       8.750187\n",
       "2       8.215190\n",
       "3      11.022556\n",
       "4       9.831431\n",
       "         ...    \n",
       "240    21.503354\n",
       "241    17.190476\n",
       "242     9.406530\n",
       "243     7.204719\n",
       "244     4.727473\n",
       "Name: reward, Length: 127, dtype: float64"
      ]
     },
     "execution_count": 142,
     "metadata": {},
     "output_type": "execute_result"
    }
   ],
   "source": [
    "traj_df[traj_df['reward']>0]['reward']"
   ]
  },
  {
   "cell_type": "code",
   "execution_count": 151,
   "metadata": {},
   "outputs": [],
   "source": [
    "traj_df.loc[traj_df['reward']==0,'reward'] = traj_df[traj_df['reward']==0]+2"
   ]
  },
  {
   "cell_type": "code",
   "execution_count": 152,
   "metadata": {},
   "outputs": [
    {
     "data": {
      "text/plain": [
       "-1120.3930101889846"
      ]
     },
     "execution_count": 152,
     "metadata": {},
     "output_type": "execute_result"
    }
   ],
   "source": [
    "sum(traj_df['reward'])"
   ]
  },
  {
   "cell_type": "code",
   "execution_count": null,
   "metadata": {},
   "outputs": [],
   "source": []
  }
 ],
 "metadata": {
  "kernelspec": {
   "display_name": "r919",
   "language": "python",
   "name": "r919"
  },
  "language_info": {
   "codemirror_mode": {
    "name": "ipython",
    "version": 3
   },
   "file_extension": ".py",
   "mimetype": "text/x-python",
   "name": "python",
   "nbconvert_exporter": "python",
   "pygments_lexer": "ipython3",
   "version": "3.8.5"
  }
 },
 "nbformat": 4,
 "nbformat_minor": 4
}
