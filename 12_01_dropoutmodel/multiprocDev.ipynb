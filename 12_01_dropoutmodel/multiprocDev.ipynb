{
 "cells": [
  {
   "cell_type": "code",
   "execution_count": 1,
   "metadata": {},
   "outputs": [],
   "source": [
    "import multiprocessing\n",
    "import numpy as np\n",
    "import os\n",
    "import matplotlib.pyplot as plt\n",
    "\n",
    "import model_based_agent as mba \n",
    "import worm_env as we \n",
    "#import fake_worm as fw\n",
    "import utils as ut\n",
    "import tab_agents as tab\n",
    "from datetime import datetime "
   ]
  },
  {
   "cell_type": "code",
   "execution_count": 7,
   "metadata": {},
   "outputs": [
    {
     "name": "stdout",
     "output_type": "stream",
     "text": [
      "Warning: when changing pixelclock at runtime, you may need to update the fps and exposure parameters\n",
      "Warning: Specified fps (20.00) not in possible range: [7.40, 14.92]. fps has been set to 14.92.\n"
     ]
    }
   ],
   "source": [
    "folder = './Data/Reals'+datetime.now().strftime('%d-%m-%H-%M')\n",
    "fbase = folder+'/realworm_'+datetime.now().strftime('%d-%m-%H-%M')+'_'\n",
    "os.mkdir(folder)\n",
    "\n",
    "num_learners = 2\n",
    "collection_eps = 2\n",
    "\n",
    "def combine_learners(learners):\n",
    "    # Just outputs averaged Q tables, so output is shape [144,2]\n",
    "    output_shape = [144,2]\n",
    "    averaged = np.zeros(output_shape)\n",
    "    for lea in learners:\n",
    "        averaged += (1/len(learners))*lea.agent.Qtab  \n",
    "    return averaged\n",
    "\n",
    "def make_learner_list(dh, num_learners, worm_pars={'num_models':1, 'frac':.5}, **agentpars):\n",
    "    learners = []\n",
    "    for i in range(num_learners):\n",
    "        agent = tab.Q_Alpha_Agent(**agentpars)\n",
    "        learners.append(mba.Learner(agent, dh, 'a'+str(i), worm_pars=worm_pars))\n",
    "    return learners\n",
    "\n",
    "def main():\n",
    "    '''\n",
    "    At the end of this function, there will be files in a timestamped folder:\n",
    "    1. Saved trajectory combined with old\n",
    "    2. Saved individual trajectory files\n",
    "    3. Averaged agent from each each full worm episode\n",
    "    '''\n",
    "\n",
    "    # Start real worm environment\n",
    "    worm = we.ProcessedWorm(0,ep_len=10) \n",
    "    worm_agent = tab.Q_Alpha_Agent(gamma=0, epsilon=0.05, alpha=0) # Agent doesn't learn\n",
    "    # Start model environments and learners\n",
    "    dh = mba.DataHandler()\n",
    "    dh.load_df('./nogap_traj_df.pkl')\n",
    "    learners = make_learner_list(dh, num_learners, gamma=0.25, epsilon=0.05, alpha=0.01)\n",
    "    \n",
    "    eps_vector = np.ones(2)\n",
    "    eps_vector[::2] -= .95\n",
    "    for loop in range(collection_eps):\n",
    "        # Combining learners from previous run\n",
    "        worm_agent.Qtab = combine_learners(learners)\n",
    "        runner = mba.WormRunner(worm, worm_agent)\n",
    "\n",
    "        # Make new learner list based on newest data\n",
    "#         learners = make_learner_list(dh, num_learners, \n",
    "#                                gamma=0.25, epsilon=0.05, alpha=0.01, q_checkpoint=worm_agent.Qtab)\n",
    "        \n",
    "        # Start multiprocessing\n",
    "        manager = multiprocessing.Manager()\n",
    "        poison_queue = manager.Queue()\n",
    "        pool = multiprocessing.Pool()        \n",
    "        \n",
    "        # Run main functions: train agents and collect more data\n",
    "        fname = fbase+str(collection_eps)+'.pkl'\n",
    "#         lea_outs = []\n",
    "#         for lea in learners:\n",
    "#             print('learning')\n",
    "#             lea_outs.append(pool.apply_async(lea.learn, [], {'learn_limit':100}))\n",
    "        runner_out = pool.apply_async(runner.full_run, [2, fname], {'eps_vector':eps_vector,'poison_queue':None})\n",
    "        runner.close()\n",
    "        pool.close()\n",
    "        pool.join()\n",
    "        return runner_out\n",
    "        # Take new data and add to DataHandler. \n",
    "        dh.add_dict_to_df([fname])\n",
    "\n",
    "    runner.close()\n",
    "    # Save all new collected data plus old in one dataframe\n",
    "    dh.save_dfs(fbase+'total.pkl')\n",
    "    return lea_outs, runner_out\n",
    "    \n",
    "if __name__=='__main__':\n",
    "    lea_outs = main()"
   ]
  },
  {
   "cell_type": "code",
   "execution_count": 14,
   "metadata": {},
   "outputs": [
    {
     "name": "stdout",
     "output_type": "stream",
     "text": [
      "here\n",
      "closed\n"
     ]
    }
   ],
   "source": [
    "if __name__=='__main__':\n",
    "    #worm = we.ProcessedWorm(0,ep_len=10) \n",
    "    worm_agent = tab.Q_Alpha_Agent(gamma=0, epsilon=0.05, alpha=0) # Agent doesn't learn\n",
    "    runner = mba.WormRunner(worm_agent)\n",
    "    manager = multiprocessing.Manager()\n",
    "    poison_queue = manager.Queue()\n",
    "    pool = multiprocessing.Pool()  \n",
    "    print('here')\n",
    "    runner_out = pool.apply_async(runner.full_run, [2])\n",
    "    pool.close()\n",
    "    pool.join()\n",
    "    print('closed')\n",
    "\n",
    "    #worm.close()"
   ]
  },
  {
   "cell_type": "code",
   "execution_count": 15,
   "metadata": {},
   "outputs": [
    {
     "data": {
      "text/plain": [
       "True"
      ]
     },
     "execution_count": 15,
     "metadata": {},
     "output_type": "execute_result"
    }
   ],
   "source": [
    "runner_out.successful()"
   ]
  },
  {
   "cell_type": "code",
   "execution_count": 2,
   "metadata": {},
   "outputs": [],
   "source": [
    "import matplotlib.pyplot as plt"
   ]
  },
  {
   "cell_type": "code",
   "execution_count": 13,
   "metadata": {},
   "outputs": [],
   "source": [
    "worm.close()"
   ]
  },
  {
   "cell_type": "code",
   "execution_count": 16,
   "metadata": {
    "scrolled": true
   },
   "outputs": [
    {
     "data": {
      "text/plain": [
       "<matplotlib.image.AxesImage at 0x19bbdb55e80>"
      ]
     },
     "execution_count": 16,
     "metadata": {},
     "output_type": "execute_result"
    },
    {
     "data": {
      "image/png": "[encoded data removed]",
      "text/plain": [
       "<Figure size 432x288 with 1 Axes>"
      ]
     },
     "metadata": {
      "needs_background": "light"
     },
     "output_type": "display_data"
    }
   ],
   "source": [
    "plt.imshow(runner_out.get())"
   ]
  },
  {
   "cell_type": "code",
   "execution_count": 4,
   "metadata": {},
   "outputs": [
    {
     "ename": "uEyeException",
     "evalue": "Cannot open device",
     "output_type": "error",
     "traceback": [
      "\u001b[1;31m---------------------------------------------------------------------------\u001b[0m",
      "\u001b[1;31muEyeException\u001b[0m                             Traceback (most recent call last)",
      "\u001b[1;32m<ipython-input-4-3890decda0e7>\u001b[0m in \u001b[0;36m<module>\u001b[1;34m\u001b[0m\n\u001b[1;32m----> 1\u001b[1;33m \u001b[0mworm\u001b[0m \u001b[1;33m=\u001b[0m \u001b[0mwe\u001b[0m\u001b[1;33m.\u001b[0m\u001b[0mProcessedWorm\u001b[0m\u001b[1;33m(\u001b[0m\u001b[1;36m0\u001b[0m\u001b[1;33m)\u001b[0m\u001b[1;33m\u001b[0m\u001b[1;33m\u001b[0m\u001b[0m\n\u001b[0m",
      "\u001b[1;32m~\\Documents\\Research\\20_09_07_NewPC\\RLWorms\\12_01_dropoutmodel\\worm_env.py\u001b[0m in \u001b[0;36m__init__\u001b[1;34m(self, target, ep_len, ht_time, bg_time)\u001b[0m\n\u001b[0;32m     34\u001b[0m         \u001b[0mself\u001b[0m\u001b[1;33m.\u001b[0m\u001b[0mep_len\u001b[0m \u001b[1;33m=\u001b[0m \u001b[0mep_len\u001b[0m\u001b[1;33m\u001b[0m\u001b[1;33m\u001b[0m\u001b[0m\n\u001b[0;32m     35\u001b[0m         \u001b[0mself\u001b[0m\u001b[1;33m.\u001b[0m\u001b[0mtemplates\u001b[0m\u001b[1;33m,\u001b[0m \u001b[0mself\u001b[0m\u001b[1;33m.\u001b[0m\u001b[0mbodies\u001b[0m \u001b[1;33m=\u001b[0m \u001b[0mload_templates\u001b[0m\u001b[1;33m(\u001b[0m\u001b[1;33m)\u001b[0m\u001b[1;33m\u001b[0m\u001b[1;33m\u001b[0m\u001b[0m\n\u001b[1;32m---> 36\u001b[1;33m         \u001b[0mself\u001b[0m\u001b[1;33m.\u001b[0m\u001b[0mcam\u001b[0m\u001b[1;33m,\u001b[0m \u001b[0mself\u001b[0m\u001b[1;33m.\u001b[0m\u001b[0mtask\u001b[0m \u001b[1;33m=\u001b[0m \u001b[0minit_instruments\u001b[0m\u001b[1;33m(\u001b[0m\u001b[1;33m)\u001b[0m\u001b[1;33m\u001b[0m\u001b[1;33m\u001b[0m\u001b[0m\n\u001b[0m\u001b[0;32m     37\u001b[0m         \u001b[1;31m#self.bg = self.make_bgs()[0]\u001b[0m\u001b[1;33m\u001b[0m\u001b[1;33m\u001b[0m\u001b[1;33m\u001b[0m\u001b[0m\n\u001b[0;32m     38\u001b[0m \u001b[1;33m\u001b[0m\u001b[0m\n",
      "\u001b[1;32m~\\Documents\\Research\\20_09_07_NewPC\\RLWorms\\12_01_dropoutmodel\\improc.py\u001b[0m in \u001b[0;36minit_instruments\u001b[1;34m(pixelclock)\u001b[0m\n\u001b[0;32m     43\u001b[0m \u001b[1;33m\u001b[0m\u001b[0m\n\u001b[0;32m     44\u001b[0m     \u001b[0mcam\u001b[0m \u001b[1;33m=\u001b[0m \u001b[0mCamera\u001b[0m\u001b[1;33m(\u001b[0m\u001b[0mdevice_id\u001b[0m\u001b[1;33m=\u001b[0m\u001b[1;36m0\u001b[0m\u001b[1;33m,\u001b[0m\u001b[0mbuffer_count\u001b[0m\u001b[1;33m=\u001b[0m\u001b[1;36m3\u001b[0m\u001b[1;33m)\u001b[0m\u001b[1;33m\u001b[0m\u001b[1;33m\u001b[0m\u001b[0m\n\u001b[1;32m---> 45\u001b[1;33m     \u001b[0mcam\u001b[0m\u001b[1;33m.\u001b[0m\u001b[0minit\u001b[0m\u001b[1;33m(\u001b[0m\u001b[1;33m)\u001b[0m\u001b[1;33m\u001b[0m\u001b[1;33m\u001b[0m\u001b[0m\n\u001b[0m\u001b[0;32m     46\u001b[0m     \u001b[0mcam\u001b[0m\u001b[1;33m.\u001b[0m\u001b[0mset_colormode\u001b[0m\u001b[1;33m(\u001b[0m\u001b[0mueye\u001b[0m\u001b[1;33m.\u001b[0m\u001b[0mIS_CM_MONO8\u001b[0m\u001b[1;33m)\u001b[0m\u001b[1;33m\u001b[0m\u001b[1;33m\u001b[0m\u001b[0m\n\u001b[0;32m     47\u001b[0m     \u001b[0mcam\u001b[0m\u001b[1;33m.\u001b[0m\u001b[0mset_aoi\u001b[0m\u001b[1;33m(\u001b[0m\u001b[1;36m200\u001b[0m\u001b[1;33m,\u001b[0m\u001b[1;36m0\u001b[0m\u001b[1;33m,\u001b[0m\u001b[1;36m2160\u001b[0m\u001b[1;33m,\u001b[0m\u001b[1;36m1920\u001b[0m\u001b[1;33m)\u001b[0m \u001b[1;31m# Full range is wxh = (2560,1920)\u001b[0m\u001b[1;33m\u001b[0m\u001b[1;33m\u001b[0m\u001b[0m\n",
      "\u001b[1;32m~\\miniconda3\\envs\\rlkit\\lib\\site-packages\\pypyueye\\camera.py\u001b[0m in \u001b[0;36minit\u001b[1;34m(self)\u001b[0m\n\u001b[0;32m     87\u001b[0m         \u001b[1;32mif\u001b[0m \u001b[0mret\u001b[0m \u001b[1;33m!=\u001b[0m \u001b[0mueye\u001b[0m\u001b[1;33m.\u001b[0m\u001b[0mIS_SUCCESS\u001b[0m\u001b[1;33m:\u001b[0m\u001b[1;33m\u001b[0m\u001b[1;33m\u001b[0m\u001b[0m\n\u001b[0;32m     88\u001b[0m             \u001b[0mself\u001b[0m\u001b[1;33m.\u001b[0m\u001b[0mh_cam\u001b[0m \u001b[1;33m=\u001b[0m \u001b[1;32mNone\u001b[0m\u001b[1;33m\u001b[0m\u001b[1;33m\u001b[0m\u001b[0m\n\u001b[1;32m---> 89\u001b[1;33m             \u001b[1;32mraise\u001b[0m \u001b[0muEyeException\u001b[0m\u001b[1;33m(\u001b[0m\u001b[0mret\u001b[0m\u001b[1;33m)\u001b[0m\u001b[1;33m\u001b[0m\u001b[1;33m\u001b[0m\u001b[0m\n\u001b[0m\u001b[0;32m     90\u001b[0m         \u001b[1;32mreturn\u001b[0m \u001b[0mret\u001b[0m\u001b[1;33m\u001b[0m\u001b[1;33m\u001b[0m\u001b[0m\n\u001b[0;32m     91\u001b[0m \u001b[1;33m\u001b[0m\u001b[0m\n",
      "\u001b[1;31muEyeException\u001b[0m: Cannot open device"
     ]
    }
   ],
   "source": [
    "worm = we.ProcessedWorm(0)"
   ]
  },
  {
   "cell_type": "code",
   "execution_count": 7,
   "metadata": {},
   "outputs": [
    {
     "data": {
      "image/png": "[encoded data removed]",
      "text/plain": [
       "<Figure size 432x288 with 2 Axes>"
      ]
     },
     "metadata": {
      "needs_background": "light"
     },
     "output_type": "display_data"
    }
   ],
   "source": [
    "plt.imshow(worm.test_cam())\n",
    "plt.colorbar();"
   ]
  },
  {
   "cell_type": "code",
   "execution_count": 8,
   "metadata": {},
   "outputs": [],
   "source": [
    "worm.cam.exit()\n",
    "worm.task.close()"
   ]
  },
  {
   "cell_type": "code",
   "execution_count": 2,
   "metadata": {},
   "outputs": [
    {
     "name": "stdout",
     "output_type": "stream",
     "text": [
      "Warning: when changing pixelclock at runtime, you may need to update the fps and exposure parameters\n",
      "Warning: Specified fps (20.00) not in possible range: [7.40, 14.92]. fps has been set to 14.92.\n",
      "here\n",
      "closed\n"
     ]
    }
   ],
   "source": [
    "if __name__=='__main__':\n",
    "    worm = we.ProcessedWorm(0,ep_len=10) \n",
    "    worm_agent = tab.Q_Alpha_Agent(gamma=0, epsilon=0.05, alpha=0) # Agent doesn't learn\n",
    "    runner = mba.WormRunner(worm_agent)\n",
    "#     manager = multiprocessing.Manager()\n",
    "#     poison_queue = manager.Queue()\n",
    "    pool = ProcessPool()\n",
    "    print('here')\n",
    "    runner_out = pool.apipe(runner.full_run, 2,worm)\n",
    "    #runner.close()\n",
    "    print('closed')\n",
    "    pool.close()\n",
    "    pool.join()\n",
    "    worm.close()"
   ]
  },
  {
   "cell_type": "code",
   "execution_count": 1,
   "metadata": {},
   "outputs": [
    {
     "name": "stdout",
     "output_type": "stream",
     "text": [
      "Warning: when changing pixelclock at runtime, you may need to update the fps and exposure parameters\n",
      "Warning: Specified fps (20.00) not in possible range: [7.40, 14.92]. fps has been set to 14.92.\n",
      "learning\n",
      "learning\n",
      "learning\n",
      "learning\n",
      "learning\n",
      "No kwargs in add_dict_to_df\n",
      "learning\n",
      "learning\n",
      "learning\n",
      "learning\n",
      "learning\n",
      "19 sec \r"
     ]
    },
    {
     "name": "stderr",
     "output_type": "stream",
     "text": [
      "C:\\Users\\ccli3\\Documents\\Research\\20_09_07_NewPC\\RLWorms\\12_01_dropoutmodel\\improc.py:205: RuntimeWarning: invalid value encountered in longlong_scalars\n",
      "  centers.append(np.array([np.sum(np.arange(im_sz)*sumx) / np.sum(sumx), np.sum(np.arange(im_sz)*sumy) / np.sum(sumy)]))\n"
     ]
    },
    {
     "name": "stdout",
     "output_type": "stream",
     "text": [
      "No kwargs in add_dict_to_df\n",
      "learning\n",
      "learning\n",
      "learning\n",
      "learning\n",
      "learning\n",
      "No kwargs in add_dict_to_df\n",
      "learning\n",
      "learning\n",
      "learning\n",
      "learning\n",
      "learning\n",
      "No kwargs in add_dict_to_df\n",
      "learning\n",
      "learning\n",
      "learning\n",
      "learning\n",
      "learning\n",
      "No kwargs in add_dict_to_df\n",
      "learning\n",
      "learning\n",
      "learning\n",
      "learning\n",
      "learning\n",
      "No kwargs in add_dict_to_df\n"
     ]
    }
   ],
   "source": [
    "import multiprocessing \n",
    "import numpy as np\n",
    "import os\n",
    "\n",
    "import model_based_agent as mba \n",
    "import worm_env as we \n",
    "\n",
    "import utils as ut\n",
    "import tab_agents as tab\n",
    "from datetime import datetime \n",
    "\n",
    "folder = './Data/Reals'+datetime.now().strftime('%d-%m-%H-%M')\n",
    "fbase = folder+'/realworm_'\n",
    "if os.path.isdir(folder):\n",
    "    os.path.rmdir(folder)\n",
    "os.mkdir(folder)\n",
    "\n",
    "num_learners = 5\n",
    "collection_eps = 6\n",
    "gamma=.25\n",
    "epsilon=.05\n",
    "alpha=.01\n",
    "\n",
    "\n",
    "if __name__=='__main__':\n",
    "    \n",
    "    '''\n",
    "    At the end of this script, there will be files in a timestamped folder:\n",
    "    1. Saved trajectory combined with old ('..total.pkl')\n",
    "    2. Saved individual trajectory files ('..eval_start.pkl', '..[ep].pkl')\n",
    "    3. Averaged agent from each each full worm episode ('..[ep]_agent.pkl')\n",
    "    '''\n",
    "\n",
    "    # Start real worm environment\n",
    "    worm = we.ProcessedWorm(0,ep_len=1200,bg_time=20) \n",
    "    worm_agent = tab.Q_Alpha_Agent(gamma=0, epsilon=0.05, alpha=0) # Agent doesn't learn\n",
    "    # Start model environments and learners \n",
    "    dh = mba.DataHandler()\n",
    "    dh.load_df('./Data/Reals18-12-15-00/realworm_total.pkl')\n",
    "    lea_outs = []\n",
    "    learners = mba.make_learner_list(dh, num_learners, gamma=gamma, epsilon=epsilon, alpha=alpha)\n",
    "    \n",
    "    eps_vector = np.ones(6)\n",
    "    eps_vector[::2] -= .95\n",
    "    for loop in range(collection_eps):\n",
    "        fname = fbase+str(loop)+'.pkl'\n",
    "        \n",
    "        # Make new learner list based on newest data\n",
    "        learners = mba.make_learner_list(dh, num_learners, \n",
    "                                gamma=gamma, epsilon=epsilon, alpha=alpha, q_checkpoint=worm_agent.Qtab)\n",
    "\n",
    "        # Start multiprocessing\n",
    "        manager = multiprocessing.Manager()\n",
    "        poison_queue = manager.Queue()\n",
    "        pool = multiprocessing.Pool()\n",
    "        \n",
    "        # Run main functions: train agents and collect more data\n",
    "        lea_outs = []\n",
    "        for lea in learners:\n",
    "            print('learning')\n",
    "            lea_outs.append(pool.apply_async(lea.learn, [],{'learn_limit':1000}))\n",
    "        # Wait for them to finish\n",
    "        pool.close()\n",
    "        pool.join()\n",
    "        \n",
    "        # Combining learners from run\n",
    "        worm_agent.Qtab = mba.combine_learners(lea_outs)\n",
    "        worm_agent.save(fname[:-4]+'_agent.pkl')\n",
    "        runner = mba.WormRunner(worm_agent,worm)\n",
    "        runner.full_run(1, fname, eps_vector=eps_vector)\n",
    "        \n",
    "        # Take new data and add to DataHandler. \n",
    "        dh.add_dict_to_df([fname])\n",
    "        # Check if worm is tired\n",
    "        runner.check_if_tired(fname,active_for=.5)\n",
    "\n",
    "        \n",
    "    # Final saves and closes\n",
    "    worm_agent.Qtab = mba.combine_learners(lea_outs)\n",
    "    worm_agent.save(fbase+str(collection_eps)+'.pkl')\n",
    "    runner.close()\n",
    "    # Save all new collected data plus old in one dataframe\n",
    "    dh.save_dfs(fbase+'total.pkl')"
   ]
  },
  {
   "cell_type": "code",
   "execution_count": 3,
   "metadata": {},
   "outputs": [],
   "source": [
    "import matplotlib.pyplot as plt"
   ]
  },
  {
   "cell_type": "code",
   "execution_count": 8,
   "metadata": {},
   "outputs": [
    {
     "data": {
      "image/png": "[encoded data removed]",
      "text/plain": [
       "<Figure size 432x288 with 2 Axes>"
      ]
     },
     "metadata": {
      "needs_background": "light"
     },
     "output_type": "display_data"
    }
   ],
   "source": [
    "plt.imshow(learners[0].agent.Qtab[:,1].reshape(12,12))\n",
    "plt.colorbar();"
   ]
  },
  {
   "cell_type": "code",
   "execution_count": 11,
   "metadata": {},
   "outputs": [
    {
     "data": {
      "text/plain": [
       "(1000, 0.9705171698468558)"
      ]
     },
     "execution_count": 11,
     "metadata": {},
     "output_type": "execute_result"
    }
   ],
   "source": [
    "lea_outs[0].get()"
   ]
  },
  {
   "cell_type": "code",
   "execution_count": 2,
   "metadata": {},
   "outputs": [],
   "source": [
    "quit()"
   ]
  },
  {
   "cell_type": "code",
   "execution_count": 2,
   "metadata": {},
   "outputs": [],
   "source": [
    "runner.close()"
   ]
  },
  {
   "cell_type": "code",
   "execution_count": null,
   "metadata": {},
   "outputs": [],
   "source": []
  }
 ],
 "metadata": {
  "kernelspec": {
   "display_name": "rlkit",
   "language": "python",
   "name": "rlkit"
  },
  "language_info": {
   "codemirror_mode": {
    "name": "ipython",
    "version": 3
   },
   "file_extension": ".py",
   "mimetype": "text/x-python",
   "name": "python",
   "nbconvert_exporter": "python",
   "pygments_lexer": "ipython3",
   "version": "3.8.5"
  }
 },
 "nbformat": 4,
 "nbformat_minor": 4
}
