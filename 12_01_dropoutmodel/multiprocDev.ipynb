{
 "cells": [
  {
   "cell_type": "code",
   "execution_count": null,
   "metadata": {},
   "outputs": [],
   "source": []
  },
  {
   "cell_type": "code",
   "execution_count": 4,
   "metadata": {},
   "outputs": [
    {
     "name": "stdout",
     "output_type": "stream",
     "text": [
      "Warning: when changing pixelclock at runtime, you may need to update the fps and exposure parameters\n",
      "Warning: Specified fps (20.00) not in possible range: [7.40, 14.92]. fps has been set to 14.92.\n"
     ]
    },
    {
     "name": "stderr",
     "output_type": "stream",
     "text": [
      "C:\\Users\\ccli3\\miniconda3\\envs\\rlkit\\lib\\site-packages\\nidaqmx\\task.py:102: ResourceWarning: Task of name \"_unnamedTask<1>\" was not explicitly closed before it was destructed. Resources on the task device may still be reserved.\n",
      "  warnings.warn(\n"
     ]
    },
    {
     "name": "stdout",
     "output_type": "stream",
     "text": [
      "No kwargs\n",
      "No kwargs\n"
     ]
    }
   ],
   "source": [
    "import multiprocessing \n",
    "import numpy as np\n",
    "import os\n",
    "\n",
    "import model_based_agent as mba \n",
    "import worm_env as we \n",
    "#import fake_worm as fw\n",
    "import utils as ut\n",
    "import tab_agents as tab\n",
    "from datetime import datetime \n",
    "\n",
    "folder = './Data/Reals'+datetime.now().strftime('%d-%m-%H-%M')\n",
    "fbase = folder+'/realworm_'+datetime.now().strftime('%d-%m-%H-%M')+'_'\n",
    "os.mkdir(folder)\n",
    "\n",
    "num_learners = 2\n",
    "collection_eps = 2\n",
    "\n",
    "def combine_learners(learners):\n",
    "    # Just outputs averaged Q tables, so output is shape [144,2]\n",
    "    output_shape = [144,2]\n",
    "    averaged = np.zeros(output_shape)\n",
    "    for lea in learners:\n",
    "        averaged += (1/len(learners))*lea.agent.Qtab  \n",
    "    return averaged\n",
    "\n",
    "def make_learner_list(dh, num_learners, worm_pars={'num_models':1, 'frac':.5}, **agentpars):\n",
    "    learners = []\n",
    "    for i in range(num_learners):\n",
    "        agent = tab.Q_Alpha_Agent(**agentpars)\n",
    "        learners.append(mba.Learner(agent, dh, 'a'+str(i), worm_pars=worm_pars))\n",
    "    return learners\n",
    "\n",
    "def main():\n",
    "    '''\n",
    "    At the end of this function, there will be files in a timestamped folder:\n",
    "    1. Saved trajectory combined with old\n",
    "    2. Saved individual trajectory files\n",
    "    3. Averaged agent from each each full worm episode\n",
    "    '''\n",
    "\n",
    "    # Start real worm environment\n",
    "    worm = we.ProcessedWorm(0,ep_len=100) \n",
    "    worm_agent = tab.Q_Alpha_Agent(gamma=0, epsilon=0.05, alpha=0) # Agent doesn't learn\n",
    "    # Start model environments and learners\n",
    "    dh = mba.DataHandler()\n",
    "    dh.load_df('./nogap_traj_df.pkl')\n",
    "    learners = make_learner_list(dh, num_learners, gamma=0.25, epsilon=0.05, alpha=0.01)\n",
    "    \n",
    "    eps_vector = np.ones(2)\n",
    "    eps_vector[::2] -= .95\n",
    "    for loop in range(collection_eps):\n",
    "        # Combining learners from previous run\n",
    "        worm_agent.Qtab = combine_learners(learners)\n",
    "        runner = mba.WormRunner(worm, worm_agent)\n",
    "\n",
    "        # Make new learner list based on newest data\n",
    "        #learners = make_learner_list(dh, num_learners, \n",
    "        #                        gamma=0.25, epsilon=0.05, alpha=0.01, q_checkpoint=worm_agent.Qtab)\n",
    "        \n",
    "        # Run main functions: train agents and collect more data\n",
    "        fname = fbase+str(collection_eps)+'.pkl'\n",
    "        lea_outs = []\n",
    "#         for lea in learners:\n",
    "#             print('learning')\n",
    "#             lea_outs.append(lea.learn(learn_limit=500))\n",
    "        runner_out = runner.full_run(2, fname, eps_vector=eps_vector)\n",
    "        \n",
    "        # Take new data and add to DataHandler. \n",
    "        dh.add_dict_to_df([fname])\n",
    "\n",
    "    runner.close()\n",
    "    # Save all new collected data plus old in one dataframe\n",
    "    dh.save_dfs(fbase+'total.pkl')\n",
    "    return lea_outs, runner_out\n",
    "    \n",
    "if __name__=='__main__':\n",
    "    lea_outs, runner_out = main()"
   ]
  },
  {
   "cell_type": "code",
   "execution_count": 3,
   "metadata": {},
   "outputs": [
    {
     "data": {
      "text/plain": [
       "True"
      ]
     },
     "execution_count": 3,
     "metadata": {},
     "output_type": "execute_result"
    }
   ],
   "source": [
    "lea_outs[0].successful()"
   ]
  },
  {
   "cell_type": "code",
   "execution_count": 4,
   "metadata": {},
   "outputs": [
    {
     "data": {
      "text/plain": [
       "(10, 0.16832122020599793)"
      ]
     },
     "execution_count": 4,
     "metadata": {},
     "output_type": "execute_result"
    }
   ],
   "source": [
    "lea_outs[1].get()"
   ]
  },
  {
   "cell_type": "code",
   "execution_count": 5,
   "metadata": {},
   "outputs": [
    {
     "data": {
      "text/plain": [
       "(10, 0.27760339045855503)"
      ]
     },
     "execution_count": 5,
     "metadata": {},
     "output_type": "execute_result"
    }
   ],
   "source": [
    "lea_outs[0].get()"
   ]
  },
  {
   "cell_type": "code",
   "execution_count": 6,
   "metadata": {},
   "outputs": [],
   "source": [
    "import os\n",
    "os.mkdir('hi')"
   ]
  },
  {
   "cell_type": "code",
   "execution_count": 3,
   "metadata": {},
   "outputs": [],
   "source": [
    "dh = mba.DataHandler()\n",
    "dh.load_df('./nogap_traj_df.pkl')"
   ]
  },
  {
   "cell_type": "code",
   "execution_count": 4,
   "metadata": {},
   "outputs": [
    {
     "data": {
      "text/plain": [
       "{'reward_ahead': 10,\n",
       " 'timestep_gap': 1,\n",
       " 'prev_act_window': 3,\n",
       " 'jump_limit': 100}"
      ]
     },
     "execution_count": 4,
     "metadata": {},
     "output_type": "execute_result"
    }
   ],
   "source": [
    "dh.params"
   ]
  },
  {
   "cell_type": "code",
   "execution_count": null,
   "metadata": {},
   "outputs": [],
   "source": []
  }
 ],
 "metadata": {
  "kernelspec": {
   "display_name": "rlkit",
   "language": "python",
   "name": "rlkit"
  },
  "language_info": {
   "codemirror_mode": {
    "name": "ipython",
    "version": 3
   },
   "file_extension": ".py",
   "mimetype": "text/x-python",
   "name": "python",
   "nbconvert_exporter": "python",
   "pygments_lexer": "ipython3",
   "version": "3.8.5"
  }
 },
 "nbformat": 4,
 "nbformat_minor": 4
}
