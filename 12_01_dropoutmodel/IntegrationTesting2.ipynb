{
 "cells": [
  {
   "cell_type": "code",
   "execution_count": 1,
   "metadata": {},
   "outputs": [],
   "source": [
    "from multiprocessing import Pool\n",
    "import multiprocessing\n",
    "import worker\n",
    "from timeit import default_timer as timer"
   ]
  },
  {
   "cell_type": "code",
   "execution_count": 4,
   "metadata": {},
   "outputs": [
    {
     "data": {
      "text/plain": [
       "'__main__'"
      ]
     },
     "execution_count": 4,
     "metadata": {},
     "output_type": "execute_result"
    }
   ],
   "source": [
    "__name__"
   ]
  },
  {
   "cell_type": "code",
   "execution_count": 5,
   "metadata": {},
   "outputs": [
    {
     "name": "stdout",
     "output_type": "stream",
     "text": [
      "[0, 1, 4]\n"
     ]
    }
   ],
   "source": [
    "if __name__=='__main__':\n",
    "    num_processors = 4\n",
    "    p=Pool(processes = num_processors)\n",
    "    output = p.map(worker.worker, [i for i in range(0,3)])\n",
    "    print(output)"
   ]
  },
  {
   "cell_type": "code",
   "execution_count": 8,
   "metadata": {},
   "outputs": [
    {
     "data": {
      "text/plain": [
       "4"
      ]
     },
     "execution_count": 8,
     "metadata": {},
     "output_type": "execute_result"
    }
   ],
   "source": [
    "multiprocessing.cpu_count()"
   ]
  },
  {
   "cell_type": "code",
   "execution_count": 4,
   "metadata": {},
   "outputs": [
    {
     "name": "stdout",
     "output_type": "stream",
     "text": [
      "time for sequential sorting:  37.572133799999996\n",
      "time for parallel sorting:  17.4616884\n"
     ]
    }
   ],
   "source": [
    "#Create sizes for 3 arrays. \n",
    "sizes = [100 * 10**6 for i in range(0,3)] #Size of each array is 5 million here.\n",
    "#Applying the function sequentially\n",
    "tic = timer()\n",
    "[worker.createandsort(size) for size in sizes]\n",
    "tac = timer()\n",
    "print(\"time for sequential sorting: \", tac-tic)\n",
    "#Using multiprocessing\n",
    "if __name__ == \"__main__\":\n",
    "    pool = Pool(processes=3)\n",
    "    tic = timer()\n",
    "    pool.map(worker.createandsort,sizes)\n",
    "    tac = timer()\n",
    "    print(\"time for parallel sorting: \",tac-tic)"
   ]
  },
  {
   "cell_type": "code",
   "execution_count": 23,
   "metadata": {},
   "outputs": [],
   "source": [
    "import utils as ut\n",
    "import pickle"
   ]
  },
  {
   "cell_type": "code",
   "execution_count": 83,
   "metadata": {},
   "outputs": [],
   "source": [
    "class DataHandler():\n",
    "    # Takes output of worm trials and formats/stores for model and agent use.\n",
    "    # Tries to ensure that a matching parameters dictionary has been saved with each df. \n",
    "    def __init__(self):\n",
    "        self.clear_df()\n",
    "\n",
    "    def add_dict_to_df(self,fnames,**kwargs):\n",
    "        # Takes fnames as a list.\n",
    "        # kwargs are the arguments that would go to make_df() in utils.\n",
    "        # Can run this when self.df is empty or exists. If exists, then adds to existing df.\n",
    "        for key,val in kwargs.items():\n",
    "            self.params[key] = val \n",
    "        if len(kwargs)==0:\n",
    "            print('No kwargs')\n",
    "            kwargs = self.params \n",
    "        \n",
    "        self.df = ut.make_df(fnames, old_frame=self.df, **kwargs)\n",
    "\n",
    "    def add_df_to_df(self,fnames):\n",
    "        # Takes fnames as list\n",
    "        for fname in fnames:\n",
    "            with open(fname,'rb') as f:\n",
    "                self.df = self.df.append(pickle.load(f), ignore_index=True)\n",
    "\n",
    "    def load_df(self,fname):\n",
    "        with open(fname,'rb') as f:\n",
    "            self.df = pickle.load(f)\n",
    "        with open(fname[:-4]+'_params.pkl','rb') as f:\n",
    "            self.params = pickle.load(f) \n",
    "        \n",
    "    def clear_df(self):\n",
    "        self.df = None \n",
    "        self.params = {\n",
    "            'reward_ahead': None,\n",
    "            'timestep_gap': None,\n",
    "            'prev_act_window': None,\n",
    "            'jump_limit': None,\n",
    "        }\n",
    "\n",
    "    def save_dfs(self,fname):\n",
    "        self.df.to_pickle(fname) \n",
    "        with open(fname[:-4]+'_params.pkl','wb') as f:\n",
    "            pickle.dump(self.params, f)\n",
    "    \n",
    "    def __str__(self):\n",
    "        if self.df is None:\n",
    "            return f'No dataframe\\nParams are {self.params}'\n",
    "        return f'Len of dataframe is {len(self.df)}\\nParams are {self.params}'"
   ]
  },
  {
   "cell_type": "code",
   "execution_count": 84,
   "metadata": {},
   "outputs": [],
   "source": [
    "dh = DataHandler()"
   ]
  },
  {
   "cell_type": "code",
   "execution_count": 85,
   "metadata": {},
   "outputs": [],
   "source": [
    "dh.load_df('./tester.pkl')"
   ]
  },
  {
   "cell_type": "code",
   "execution_count": 86,
   "metadata": {},
   "outputs": [
    {
     "data": {
      "text/html": [
       "<div>\n",
       "<style scoped>\n",
       "    .dataframe tbody tr th:only-of-type {\n",
       "        vertical-align: middle;\n",
       "    }\n",
       "\n",
       "    .dataframe tbody tr th {\n",
       "        vertical-align: top;\n",
       "    }\n",
       "\n",
       "    .dataframe thead th {\n",
       "        text-align: right;\n",
       "    }\n",
       "</style>\n",
       "<table border=\"1\" class=\"dataframe\">\n",
       "  <thead>\n",
       "    <tr style=\"text-align: right;\">\n",
       "      <th></th>\n",
       "      <th>t</th>\n",
       "      <th>obs_b</th>\n",
       "      <th>obs_h</th>\n",
       "      <th>prev_actions</th>\n",
       "      <th>next_obs_b</th>\n",
       "      <th>next_obs_h</th>\n",
       "      <th>reward</th>\n",
       "      <th>loc</th>\n",
       "    </tr>\n",
       "  </thead>\n",
       "  <tbody>\n",
       "    <tr>\n",
       "      <th>0</th>\n",
       "      <td>0.953</td>\n",
       "      <td>30</td>\n",
       "      <td>60</td>\n",
       "      <td>3</td>\n",
       "      <td>-150</td>\n",
       "      <td>-120</td>\n",
       "      <td>-3.616162</td>\n",
       "      <td>[848.7272727272727, 1067.8181818181818]</td>\n",
       "    </tr>\n",
       "    <tr>\n",
       "      <th>1</th>\n",
       "      <td>1.140</td>\n",
       "      <td>-150</td>\n",
       "      <td>-120</td>\n",
       "      <td>3</td>\n",
       "      <td>30</td>\n",
       "      <td>-30</td>\n",
       "      <td>-0.737374</td>\n",
       "      <td>[848.3, 1068.0]</td>\n",
       "    </tr>\n",
       "    <tr>\n",
       "      <th>2</th>\n",
       "      <td>1.312</td>\n",
       "      <td>30</td>\n",
       "      <td>-30</td>\n",
       "      <td>3</td>\n",
       "      <td>150</td>\n",
       "      <td>-60</td>\n",
       "      <td>-1.857143</td>\n",
       "      <td>[848.25, 1068.0]</td>\n",
       "    </tr>\n",
       "    <tr>\n",
       "      <th>3</th>\n",
       "      <td>1.500</td>\n",
       "      <td>150</td>\n",
       "      <td>-60</td>\n",
       "      <td>2</td>\n",
       "      <td>150</td>\n",
       "      <td>-60</td>\n",
       "      <td>1.714286</td>\n",
       "      <td>[847.8333333333334, 1068.1666666666667]</td>\n",
       "    </tr>\n",
       "    <tr>\n",
       "      <th>4</th>\n",
       "      <td>1.672</td>\n",
       "      <td>150</td>\n",
       "      <td>-60</td>\n",
       "      <td>1</td>\n",
       "      <td>150</td>\n",
       "      <td>150</td>\n",
       "      <td>-0.033333</td>\n",
       "      <td>[848.0, 1068.125]</td>\n",
       "    </tr>\n",
       "    <tr>\n",
       "      <th>...</th>\n",
       "      <td>...</td>\n",
       "      <td>...</td>\n",
       "      <td>...</td>\n",
       "      <td>...</td>\n",
       "      <td>...</td>\n",
       "      <td>...</td>\n",
       "      <td>...</td>\n",
       "      <td>...</td>\n",
       "    </tr>\n",
       "    <tr>\n",
       "      <th>39805</th>\n",
       "      <td>90.953</td>\n",
       "      <td>-60</td>\n",
       "      <td>30</td>\n",
       "      <td>0</td>\n",
       "      <td>-60</td>\n",
       "      <td>0</td>\n",
       "      <td>4.704910</td>\n",
       "      <td>[814.4888888888889, 1163.388888888889]</td>\n",
       "    </tr>\n",
       "    <tr>\n",
       "      <th>39806</th>\n",
       "      <td>91.907</td>\n",
       "      <td>-60</td>\n",
       "      <td>-30</td>\n",
       "      <td>0</td>\n",
       "      <td>120</td>\n",
       "      <td>-30</td>\n",
       "      <td>5.685787</td>\n",
       "      <td>[818.0493827160494, 1161.0246913580247]</td>\n",
       "    </tr>\n",
       "    <tr>\n",
       "      <th>39807</th>\n",
       "      <td>92.860</td>\n",
       "      <td>120</td>\n",
       "      <td>-30</td>\n",
       "      <td>3</td>\n",
       "      <td>-60</td>\n",
       "      <td>60</td>\n",
       "      <td>7.252035</td>\n",
       "      <td>[821.0114942528736, 1158.528735632184]</td>\n",
       "    </tr>\n",
       "    <tr>\n",
       "      <th>39808</th>\n",
       "      <td>93.797</td>\n",
       "      <td>30</td>\n",
       "      <td>-30</td>\n",
       "      <td>0</td>\n",
       "      <td>30</td>\n",
       "      <td>-30</td>\n",
       "      <td>6.106920</td>\n",
       "      <td>[823.471264367816, 1154.0344827586207]</td>\n",
       "    </tr>\n",
       "    <tr>\n",
       "      <th>39809</th>\n",
       "      <td>94.766</td>\n",
       "      <td>-30</td>\n",
       "      <td>-60</td>\n",
       "      <td>3</td>\n",
       "      <td>-30</td>\n",
       "      <td>-60</td>\n",
       "      <td>5.030357</td>\n",
       "      <td>[825.1, 1151.2625]</td>\n",
       "    </tr>\n",
       "  </tbody>\n",
       "</table>\n",
       "<p>39810 rows × 8 columns</p>\n",
       "</div>"
      ],
      "text/plain": [
       "            t obs_b obs_h prev_actions next_obs_b next_obs_h    reward  \\\n",
       "0       0.953    30    60            3       -150       -120 -3.616162   \n",
       "1       1.140  -150  -120            3         30        -30 -0.737374   \n",
       "2       1.312    30   -30            3        150        -60 -1.857143   \n",
       "3       1.500   150   -60            2        150        -60  1.714286   \n",
       "4       1.672   150   -60            1        150        150 -0.033333   \n",
       "...       ...   ...   ...          ...        ...        ...       ...   \n",
       "39805  90.953   -60    30            0        -60          0  4.704910   \n",
       "39806  91.907   -60   -30            0        120        -30  5.685787   \n",
       "39807  92.860   120   -30            3        -60         60  7.252035   \n",
       "39808  93.797    30   -30            0         30        -30  6.106920   \n",
       "39809  94.766   -30   -60            3        -30        -60  5.030357   \n",
       "\n",
       "                                           loc  \n",
       "0      [848.7272727272727, 1067.8181818181818]  \n",
       "1                              [848.3, 1068.0]  \n",
       "2                             [848.25, 1068.0]  \n",
       "3      [847.8333333333334, 1068.1666666666667]  \n",
       "4                            [848.0, 1068.125]  \n",
       "...                                        ...  \n",
       "39805   [814.4888888888889, 1163.388888888889]  \n",
       "39806  [818.0493827160494, 1161.0246913580247]  \n",
       "39807   [821.0114942528736, 1158.528735632184]  \n",
       "39808   [823.471264367816, 1154.0344827586207]  \n",
       "39809                       [825.1, 1151.2625]  \n",
       "\n",
       "[39810 rows x 8 columns]"
      ]
     },
     "execution_count": 86,
     "metadata": {},
     "output_type": "execute_result"
    }
   ],
   "source": [
    "dh.df"
   ]
  },
  {
   "cell_type": "code",
   "execution_count": 78,
   "metadata": {},
   "outputs": [],
   "source": [
    "dh.add_dict_to_df(['./Data/traj02-11-2020_15-43-12.pkl'],timestep_gap=100)"
   ]
  },
  {
   "cell_type": "code",
   "execution_count": 87,
   "metadata": {},
   "outputs": [
    {
     "data": {
      "text/plain": [
       "39810"
      ]
     },
     "execution_count": 87,
     "metadata": {},
     "output_type": "execute_result"
    }
   ],
   "source": [
    "len(dh.df)"
   ]
  },
  {
   "cell_type": "code",
   "execution_count": 88,
   "metadata": {},
   "outputs": [
    {
     "name": "stdout",
     "output_type": "stream",
     "text": [
      "Len of df is 39810\n",
      "Params are {'reward_ahead': 10, 'timestep_gap': 100, 'prev_act_window': 3, 'jump_limit': 100}\n"
     ]
    }
   ],
   "source": [
    "print(dh)"
   ]
  },
  {
   "cell_type": "code",
   "execution_count": 59,
   "metadata": {},
   "outputs": [],
   "source": [
    "dh.save_dfs('tester.pkl')"
   ]
  },
  {
   "cell_type": "code",
   "execution_count": 89,
   "metadata": {},
   "outputs": [],
   "source": [
    "dh.clear_df()"
   ]
  },
  {
   "cell_type": "code",
   "execution_count": 90,
   "metadata": {},
   "outputs": [
    {
     "name": "stdout",
     "output_type": "stream",
     "text": [
      "No df\n",
      "Params are {'reward_ahead': None, 'timestep_gap': None, 'prev_act_window': None, 'jump_limit': None}\n"
     ]
    }
   ],
   "source": [
    "print(dh)"
   ]
  },
  {
   "cell_type": "code",
   "execution_count": 91,
   "metadata": {},
   "outputs": [
    {
     "data": {
      "text/plain": [
       "0"
      ]
     },
     "execution_count": 91,
     "metadata": {},
     "output_type": "execute_result"
    }
   ],
   "source": [
    "len([])"
   ]
  },
  {
   "cell_type": "code",
   "execution_count": null,
   "metadata": {},
   "outputs": [],
   "source": []
  }
 ],
 "metadata": {
  "kernelspec": {
   "display_name": "r919",
   "language": "python",
   "name": "r919"
  },
  "language_info": {
   "codemirror_mode": {
    "name": "ipython",
    "version": 3
   },
   "file_extension": ".py",
   "mimetype": "text/x-python",
   "name": "python",
   "nbconvert_exporter": "python",
   "pygments_lexer": "ipython3",
   "version": "3.8.5"
  }
 },
 "nbformat": 4,
 "nbformat_minor": 4
}
