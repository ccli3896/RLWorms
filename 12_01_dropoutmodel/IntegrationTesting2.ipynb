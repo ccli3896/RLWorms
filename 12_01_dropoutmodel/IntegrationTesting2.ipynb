{
 "cells": [
  {
   "cell_type": "code",
   "execution_count": 1,
   "metadata": {},
   "outputs": [],
   "source": [
    "from multiprocessing import Pool\n",
    "import multiprocessing\n",
    "import worker\n",
    "from timeit import default_timer as timer"
   ]
  },
  {
   "cell_type": "code",
   "execution_count": 2,
   "metadata": {},
   "outputs": [
    {
     "data": {
      "text/plain": [
       "'__main__'"
      ]
     },
     "execution_count": 2,
     "metadata": {},
     "output_type": "execute_result"
    }
   ],
   "source": [
    "__name__"
   ]
  },
  {
   "cell_type": "code",
   "execution_count": 25,
   "metadata": {},
   "outputs": [],
   "source": [
    "if __name__=='__main__':\n",
    "    num_processors = 4\n",
    "    p=Pool(processes = num_processors)\n",
    "    out = p.apply_async(worker.worker,[],{'x':532})"
   ]
  },
  {
   "cell_type": "code",
   "execution_count": 26,
   "metadata": {},
   "outputs": [
    {
     "data": {
      "text/plain": [
       "283024"
      ]
     },
     "execution_count": 26,
     "metadata": {},
     "output_type": "execute_result"
    }
   ],
   "source": [
    "out.get()"
   ]
  },
  {
   "cell_type": "code",
   "execution_count": 3,
   "metadata": {},
   "outputs": [
    {
     "data": {
      "text/plain": [
       "12"
      ]
     },
     "execution_count": 3,
     "metadata": {},
     "output_type": "execute_result"
    }
   ],
   "source": [
    "multiprocessing.cpu_count()"
   ]
  },
  {
   "cell_type": "code",
   "execution_count": 10,
   "metadata": {},
   "outputs": [
    {
     "name": "stdout",
     "output_type": "stream",
     "text": [
      "time for sequential sorting:  46.98313239999993\n",
      "time for parallel sorting:  6.80291950000003\n"
     ]
    }
   ],
   "source": [
    "#Create sizes for 3 arrays. \n",
    "sizes = [50 * 10**6 for i in range(10)] #Size of each array is 5 million here.\n",
    "#Applying the function sequentially\n",
    "tic = timer()\n",
    "[worker.createandsort(size) for size in sizes]\n",
    "tac = timer()\n",
    "print(\"time for sequential sorting: \", tac-tic)\n",
    "#Using multiprocessing\n",
    "if __name__ == \"__main__\":\n",
    "    pool = Pool(processes=10)\n",
    "    tic = timer()\n",
    "    pool.map(worker.createandsort,sizes)\n",
    "    tac = timer()\n",
    "    print(\"time for parallel sorting: \",tac-tic)"
   ]
  },
  {
   "cell_type": "code",
   "execution_count": 1,
   "metadata": {
    "collapsed": true
   },
   "outputs": [
    {
     "ename": "ImportError",
     "evalue": "could not find any library for ueye_api (DLL_PATH: unset)",
     "output_type": "error",
     "traceback": [
      "\u001b[1;31m---------------------------------------------------------------------------\u001b[0m",
      "\u001b[1;31mRuntimeError\u001b[0m                              Traceback (most recent call last)",
      "\u001b[1;32m~\\Miniconda3\\envs\\r919\\lib\\site-packages\\pyueye\\dll.py\u001b[0m in \u001b[0;36mload_dll\u001b[1;34m(libinfo, libnames, envname)\u001b[0m\n\u001b[0;32m    164\u001b[0m     \u001b[1;32mtry\u001b[0m\u001b[1;33m:\u001b[0m\u001b[1;33m\u001b[0m\u001b[1;33m\u001b[0m\u001b[0m\n\u001b[1;32m--> 165\u001b[1;33m         \u001b[0mdll\u001b[0m \u001b[1;33m=\u001b[0m \u001b[0mDLL\u001b[0m\u001b[1;33m(\u001b[0m\u001b[0mlibinfo\u001b[0m\u001b[1;33m,\u001b[0m \u001b[0mlibnames\u001b[0m\u001b[1;33m,\u001b[0m \u001b[0mos\u001b[0m\u001b[1;33m.\u001b[0m\u001b[0mgetenv\u001b[0m\u001b[1;33m(\u001b[0m\u001b[0menvname\u001b[0m\u001b[1;33m)\u001b[0m\u001b[1;33m)\u001b[0m\u001b[1;33m\u001b[0m\u001b[1;33m\u001b[0m\u001b[0m\n\u001b[0m\u001b[0;32m    166\u001b[0m     \u001b[1;32mexcept\u001b[0m \u001b[0mRuntimeError\u001b[0m \u001b[1;32mas\u001b[0m \u001b[0mexc\u001b[0m\u001b[1;33m:\u001b[0m\u001b[1;33m\u001b[0m\u001b[1;33m\u001b[0m\u001b[0m\n",
      "\u001b[1;32m~\\Miniconda3\\envs\\r919\\lib\\site-packages\\pyueye\\dll.py\u001b[0m in \u001b[0;36m__init__\u001b[1;34m(self, libinfo, libnames, path)\u001b[0m\n\u001b[0;32m     95\u001b[0m         \u001b[1;32mif\u001b[0m \u001b[1;32mnot\u001b[0m \u001b[0mfoundlibs\u001b[0m\u001b[1;33m:\u001b[0m\u001b[1;33m\u001b[0m\u001b[1;33m\u001b[0m\u001b[0m\n\u001b[1;32m---> 96\u001b[1;33m             \u001b[1;32mraise\u001b[0m \u001b[0mRuntimeError\u001b[0m\u001b[1;33m(\u001b[0m\u001b[1;34m\"could not find any library for {} ({})\"\u001b[0m\u001b[1;33m.\u001b[0m\u001b[0mformat\u001b[0m\u001b[1;33m(\u001b[0m\u001b[0mlibinfo\u001b[0m\u001b[1;33m,\u001b[0m \u001b[0mdllmsg\u001b[0m\u001b[1;33m)\u001b[0m\u001b[1;33m)\u001b[0m\u001b[1;33m\u001b[0m\u001b[1;33m\u001b[0m\u001b[0m\n\u001b[0m\u001b[0;32m     97\u001b[0m \u001b[1;33m\u001b[0m\u001b[0m\n",
      "\u001b[1;31mRuntimeError\u001b[0m: could not find any library for ueye_api (DLL_PATH: unset)",
      "\nDuring handling of the above exception, another exception occurred:\n",
      "\u001b[1;31mImportError\u001b[0m                               Traceback (most recent call last)",
      "\u001b[1;32m<ipython-input-1-40421613a1a1>\u001b[0m in \u001b[0;36m<module>\u001b[1;34m\u001b[0m\n\u001b[0;32m      1\u001b[0m \u001b[1;32mimport\u001b[0m \u001b[0mutils\u001b[0m \u001b[1;32mas\u001b[0m \u001b[0mut\u001b[0m\u001b[1;33m\u001b[0m\u001b[1;33m\u001b[0m\u001b[0m\n\u001b[0;32m      2\u001b[0m \u001b[1;32mimport\u001b[0m \u001b[0mpickle\u001b[0m\u001b[1;33m\u001b[0m\u001b[1;33m\u001b[0m\u001b[0m\n\u001b[1;32m----> 3\u001b[1;33m \u001b[1;32mimport\u001b[0m \u001b[0mmodel_based_agent\u001b[0m \u001b[1;32mas\u001b[0m \u001b[0mmba\u001b[0m\u001b[1;33m\u001b[0m\u001b[1;33m\u001b[0m\u001b[0m\n\u001b[0m",
      "\u001b[1;32m~\\Documents\\Research\\R_RamanathanLab\\20_09_07_Repo\\RLWorms\\12_01_dropoutmodel\\model_based_agent.py\u001b[0m in \u001b[0;36m<module>\u001b[1;34m\u001b[0m\n\u001b[0;32m      4\u001b[0m \u001b[1;32mimport\u001b[0m \u001b[0mensemble_mod_env\u001b[0m \u001b[1;32mas\u001b[0m \u001b[0meme\u001b[0m\u001b[1;33m\u001b[0m\u001b[1;33m\u001b[0m\u001b[0m\n\u001b[0;32m      5\u001b[0m \u001b[1;32mimport\u001b[0m \u001b[0mfake_worm\u001b[0m \u001b[1;32mas\u001b[0m \u001b[0mfw\u001b[0m\u001b[1;33m\u001b[0m\u001b[1;33m\u001b[0m\u001b[0m\n\u001b[1;32m----> 6\u001b[1;33m \u001b[1;32mimport\u001b[0m \u001b[0mworm_env\u001b[0m \u001b[1;32mas\u001b[0m \u001b[0mwe\u001b[0m\u001b[1;33m\u001b[0m\u001b[1;33m\u001b[0m\u001b[0m\n\u001b[0m\u001b[0;32m      7\u001b[0m \u001b[1;32mimport\u001b[0m \u001b[0mtab_agents\u001b[0m \u001b[1;32mas\u001b[0m \u001b[0mtab\u001b[0m\u001b[1;33m\u001b[0m\u001b[1;33m\u001b[0m\u001b[0m\n\u001b[0;32m      8\u001b[0m \u001b[1;33m\u001b[0m\u001b[0m\n",
      "\u001b[1;32m~\\Documents\\Research\\R_RamanathanLab\\20_09_07_Repo\\RLWorms\\12_01_dropoutmodel\\worm_env.py\u001b[0m in \u001b[0;36m<module>\u001b[1;34m\u001b[0m\n\u001b[0;32m      1\u001b[0m \u001b[1;32mimport\u001b[0m \u001b[0mgym\u001b[0m\u001b[1;33m\u001b[0m\u001b[1;33m\u001b[0m\u001b[0m\n\u001b[0;32m      2\u001b[0m \u001b[1;32mfrom\u001b[0m \u001b[0mgym\u001b[0m \u001b[1;32mimport\u001b[0m \u001b[0mspaces\u001b[0m\u001b[1;33m\u001b[0m\u001b[1;33m\u001b[0m\u001b[0m\n\u001b[1;32m----> 3\u001b[1;33m \u001b[1;32mfrom\u001b[0m \u001b[0mimproc\u001b[0m \u001b[1;32mimport\u001b[0m \u001b[1;33m*\u001b[0m\u001b[1;33m\u001b[0m\u001b[1;33m\u001b[0m\u001b[0m\n\u001b[0m\u001b[0;32m      4\u001b[0m \u001b[1;32mimport\u001b[0m \u001b[0mnumpy\u001b[0m \u001b[1;32mas\u001b[0m \u001b[0mnp\u001b[0m\u001b[1;33m\u001b[0m\u001b[1;33m\u001b[0m\u001b[0m\n\u001b[0;32m      5\u001b[0m \u001b[1;32mimport\u001b[0m \u001b[0mtime\u001b[0m\u001b[1;33m\u001b[0m\u001b[1;33m\u001b[0m\u001b[0m\n",
      "\u001b[1;32m~\\Documents\\Research\\R_RamanathanLab\\20_09_07_Repo\\RLWorms\\12_01_dropoutmodel\\improc.py\u001b[0m in \u001b[0;36m<module>\u001b[1;34m\u001b[0m\n\u001b[0;32m      6\u001b[0m \u001b[1;33m\u001b[0m\u001b[0m\n\u001b[0;32m      7\u001b[0m \u001b[1;32mimport\u001b[0m \u001b[0mnidaqmx\u001b[0m \u001b[1;31m# laser output\u001b[0m\u001b[1;33m\u001b[0m\u001b[1;33m\u001b[0m\u001b[0m\n\u001b[1;32m----> 8\u001b[1;33m \u001b[1;32mfrom\u001b[0m \u001b[0mpyueye\u001b[0m \u001b[1;32mimport\u001b[0m \u001b[0mueye\u001b[0m\u001b[1;33m\u001b[0m\u001b[1;33m\u001b[0m\u001b[0m\n\u001b[0m\u001b[0;32m      9\u001b[0m \u001b[1;32mfrom\u001b[0m \u001b[0mpypyueye\u001b[0m \u001b[1;32mimport\u001b[0m \u001b[0mCamera\u001b[0m\u001b[1;33m,\u001b[0m\u001b[0mutils\u001b[0m\u001b[1;33m\u001b[0m\u001b[1;33m\u001b[0m\u001b[0m\n\u001b[0;32m     10\u001b[0m \u001b[1;32mimport\u001b[0m \u001b[0mtime\u001b[0m \u001b[1;31m# delay within program\u001b[0m\u001b[1;33m\u001b[0m\u001b[1;33m\u001b[0m\u001b[0m\n",
      "\u001b[1;32m~\\Miniconda3\\envs\\r919\\lib\\site-packages\\pyueye\\__init__.py\u001b[0m in \u001b[0;36m<module>\u001b[1;34m\u001b[0m\n\u001b[0;32m     53\u001b[0m \u001b[0mlogging\u001b[0m\u001b[1;33m.\u001b[0m\u001b[0mgetLogger\u001b[0m\u001b[1;33m(\u001b[0m\u001b[0m__name__\u001b[0m\u001b[1;33m)\u001b[0m\u001b[1;33m.\u001b[0m\u001b[0maddHandler\u001b[0m\u001b[1;33m(\u001b[0m\u001b[0mNullHandler\u001b[0m\u001b[1;33m(\u001b[0m\u001b[1;33m)\u001b[0m\u001b[1;33m)\u001b[0m\u001b[1;33m\u001b[0m\u001b[1;33m\u001b[0m\u001b[0m\n\u001b[0;32m     54\u001b[0m \u001b[1;33m\u001b[0m\u001b[0m\n\u001b[1;32m---> 55\u001b[1;33m \u001b[1;32mfrom\u001b[0m \u001b[1;33m.\u001b[0m \u001b[1;32mimport\u001b[0m \u001b[0mueye\u001b[0m\u001b[1;33m\u001b[0m\u001b[1;33m\u001b[0m\u001b[0m\n\u001b[0m\u001b[0;32m     56\u001b[0m \u001b[1;33m\u001b[0m\u001b[0m\n\u001b[0;32m     57\u001b[0m \u001b[1;32mtry\u001b[0m\u001b[1;33m:\u001b[0m\u001b[1;33m\u001b[0m\u001b[1;33m\u001b[0m\u001b[0m\n",
      "\u001b[1;32m~\\Miniconda3\\envs\\r919\\lib\\site-packages\\pyueye\\ueye.py\u001b[0m in \u001b[0;36m<module>\u001b[1;34m\u001b[0m\n\u001b[0;32m     52\u001b[0m \u001b[1;32mfrom\u001b[0m \u001b[1;33m.\u001b[0m\u001b[0mdll\u001b[0m \u001b[1;32mimport\u001b[0m \u001b[0mload_dll\u001b[0m\u001b[1;33m\u001b[0m\u001b[1;33m\u001b[0m\u001b[0m\n\u001b[0;32m     53\u001b[0m \u001b[1;33m\u001b[0m\u001b[0m\n\u001b[1;32m---> 54\u001b[1;33m \u001b[0mget_dll_file\u001b[0m\u001b[1;33m,\u001b[0m \u001b[0m_bind\u001b[0m \u001b[1;33m=\u001b[0m \u001b[0mload_dll\u001b[0m\u001b[1;33m(\u001b[0m\u001b[1;34m\"ueye_api\"\u001b[0m\u001b[1;33m,\u001b[0m \u001b[1;33m[\u001b[0m\u001b[1;34m\"ueye_api_64\"\u001b[0m\u001b[1;33m,\u001b[0m \u001b[1;34m\"ueye_api\"\u001b[0m\u001b[1;33m]\u001b[0m\u001b[1;33m,\u001b[0m \u001b[1;34m\"PYUEYE_DLL_PATH\"\u001b[0m\u001b[1;33m)\u001b[0m\u001b[1;33m\u001b[0m\u001b[1;33m\u001b[0m\u001b[0m\n\u001b[0m\u001b[0;32m     55\u001b[0m \u001b[1;33m\u001b[0m\u001b[0m\n\u001b[0;32m     56\u001b[0m \u001b[0mlogger\u001b[0m \u001b[1;33m=\u001b[0m \u001b[0mlogging\u001b[0m\u001b[1;33m.\u001b[0m\u001b[0mgetLogger\u001b[0m\u001b[1;33m(\u001b[0m\u001b[0m__name__\u001b[0m\u001b[1;33m)\u001b[0m\u001b[1;33m\u001b[0m\u001b[1;33m\u001b[0m\u001b[0m\n",
      "\u001b[1;32m~\\Miniconda3\\envs\\r919\\lib\\site-packages\\pyueye\\dll.py\u001b[0m in \u001b[0;36mload_dll\u001b[1;34m(libinfo, libnames, envname)\u001b[0m\n\u001b[0;32m    165\u001b[0m         \u001b[0mdll\u001b[0m \u001b[1;33m=\u001b[0m \u001b[0mDLL\u001b[0m\u001b[1;33m(\u001b[0m\u001b[0mlibinfo\u001b[0m\u001b[1;33m,\u001b[0m \u001b[0mlibnames\u001b[0m\u001b[1;33m,\u001b[0m \u001b[0mos\u001b[0m\u001b[1;33m.\u001b[0m\u001b[0mgetenv\u001b[0m\u001b[1;33m(\u001b[0m\u001b[0menvname\u001b[0m\u001b[1;33m)\u001b[0m\u001b[1;33m)\u001b[0m\u001b[1;33m\u001b[0m\u001b[1;33m\u001b[0m\u001b[0m\n\u001b[0;32m    166\u001b[0m     \u001b[1;32mexcept\u001b[0m \u001b[0mRuntimeError\u001b[0m \u001b[1;32mas\u001b[0m \u001b[0mexc\u001b[0m\u001b[1;33m:\u001b[0m\u001b[1;33m\u001b[0m\u001b[1;33m\u001b[0m\u001b[0m\n\u001b[1;32m--> 167\u001b[1;33m         \u001b[1;32mraise\u001b[0m \u001b[0mImportError\u001b[0m\u001b[1;33m(\u001b[0m\u001b[0mexc\u001b[0m\u001b[1;33m)\u001b[0m\u001b[1;33m\u001b[0m\u001b[1;33m\u001b[0m\u001b[0m\n\u001b[0m\u001b[0;32m    168\u001b[0m \u001b[1;33m\u001b[0m\u001b[0m\n\u001b[0;32m    169\u001b[0m     \u001b[1;32mreturn\u001b[0m \u001b[0mdll\u001b[0m\u001b[1;33m.\u001b[0m\u001b[0mlibfile\u001b[0m\u001b[1;33m,\u001b[0m \u001b[0mdll\u001b[0m\u001b[1;33m.\u001b[0m\u001b[0mbind_function\u001b[0m\u001b[1;33m\u001b[0m\u001b[1;33m\u001b[0m\u001b[0m\n",
      "\u001b[1;31mImportError\u001b[0m: could not find any library for ueye_api (DLL_PATH: unset)"
     ]
    }
   ],
   "source": [
    "import utils as ut\n",
    "import pickle\n",
    "import model_based_agent as mba"
   ]
  },
  {
   "cell_type": "code",
   "execution_count": 83,
   "metadata": {},
   "outputs": [],
   "source": [
    "class DataHandler():\n",
    "    # Takes output of worm trials and formats/stores for model and agent use.\n",
    "    # Tries to ensure that a matching parameters dictionary has been saved with each df. \n",
    "    def __init__(self):\n",
    "        self.clear_df()\n",
    "\n",
    "    def add_dict_to_df(self,fnames,**kwargs):\n",
    "        # Takes fnames as a list.\n",
    "        # kwargs are the arguments that would go to make_df() in utils.\n",
    "        # Can run this when self.df is empty or exists. If exists, then adds to existing df.\n",
    "        for key,val in kwargs.items():\n",
    "            self.params[key] = val \n",
    "        if len(kwargs)==0:\n",
    "            print('No kwargs')\n",
    "            kwargs = self.params \n",
    "        \n",
    "        self.df = ut.make_df(fnames, old_frame=self.df, **kwargs)\n",
    "\n",
    "    def add_df_to_df(self,fnames):\n",
    "        # Takes fnames as list\n",
    "        for fname in fnames:\n",
    "            with open(fname,'rb') as f:\n",
    "                self.df = self.df.append(pickle.load(f), ignore_index=True)\n",
    "\n",
    "    def load_df(self,fname):\n",
    "        with open(fname,'rb') as f:\n",
    "            self.df = pickle.load(f)\n",
    "        with open(fname[:-4]+'_params.pkl','rb') as f:\n",
    "            self.params = pickle.load(f) \n",
    "        \n",
    "    def clear_df(self):\n",
    "        self.df = None \n",
    "        self.params = {\n",
    "            'reward_ahead': None,\n",
    "            'timestep_gap': None,\n",
    "            'prev_act_window': None,\n",
    "            'jump_limit': None,\n",
    "        }\n",
    "\n",
    "    def save_dfs(self,fname):\n",
    "        self.df.to_pickle(fname) \n",
    "        with open(fname[:-4]+'_params.pkl','wb') as f:\n",
    "            pickle.dump(self.params, f)\n",
    "    \n",
    "    def __str__(self):\n",
    "        if self.df is None:\n",
    "            return f'No dataframe\\nParams are {self.params}'\n",
    "        return f'Len of dataframe is {len(self.df)}\\nParams are {self.params}'"
   ]
  },
  {
   "cell_type": "code",
   "execution_count": 3,
   "metadata": {},
   "outputs": [
    {
     "ename": "NameError",
     "evalue": "name 'mba' is not defined",
     "output_type": "error",
     "traceback": [
      "\u001b[1;31m---------------------------------------------------------------------------\u001b[0m",
      "\u001b[1;31mNameError\u001b[0m                                 Traceback (most recent call last)",
      "\u001b[1;32m<ipython-input-3-eb96f837d54c>\u001b[0m in \u001b[0;36m<module>\u001b[1;34m\u001b[0m\n\u001b[1;32m----> 1\u001b[1;33m \u001b[0mdh\u001b[0m \u001b[1;33m=\u001b[0m \u001b[0mmba\u001b[0m\u001b[1;33m.\u001b[0m\u001b[0mDataHandler\u001b[0m\u001b[1;33m(\u001b[0m\u001b[1;33m)\u001b[0m\u001b[1;33m\u001b[0m\u001b[1;33m\u001b[0m\u001b[0m\n\u001b[0m",
      "\u001b[1;31mNameError\u001b[0m: name 'mba' is not defined"
     ]
    }
   ],
   "source": [
    "dh = mba.DataHandler()"
   ]
  },
  {
   "cell_type": "code",
   "execution_count": 85,
   "metadata": {},
   "outputs": [],
   "source": [
    "dh.load_df('./tester.pkl')"
   ]
  },
  {
   "cell_type": "code",
   "execution_count": 86,
   "metadata": {},
   "outputs": [
    {
     "data": {
      "text/html": [
       "<div>\n",
       "<style scoped>\n",
       "    .dataframe tbody tr th:only-of-type {\n",
       "        vertical-align: middle;\n",
       "    }\n",
       "\n",
       "    .dataframe tbody tr th {\n",
       "        vertical-align: top;\n",
       "    }\n",
       "\n",
       "    .dataframe thead th {\n",
       "        text-align: right;\n",
       "    }\n",
       "</style>\n",
       "<table border=\"1\" class=\"dataframe\">\n",
       "  <thead>\n",
       "    <tr style=\"text-align: right;\">\n",
       "      <th></th>\n",
       "      <th>t</th>\n",
       "      <th>obs_b</th>\n",
       "      <th>obs_h</th>\n",
       "      <th>prev_actions</th>\n",
       "      <th>next_obs_b</th>\n",
       "      <th>next_obs_h</th>\n",
       "      <th>reward</th>\n",
       "      <th>loc</th>\n",
       "    </tr>\n",
       "  </thead>\n",
       "  <tbody>\n",
       "    <tr>\n",
       "      <th>0</th>\n",
       "      <td>0.953</td>\n",
       "      <td>30</td>\n",
       "      <td>60</td>\n",
       "      <td>3</td>\n",
       "      <td>-150</td>\n",
       "      <td>-120</td>\n",
       "      <td>-3.616162</td>\n",
       "      <td>[848.7272727272727, 1067.8181818181818]</td>\n",
       "    </tr>\n",
       "    <tr>\n",
       "      <th>1</th>\n",
       "      <td>1.140</td>\n",
       "      <td>-150</td>\n",
       "      <td>-120</td>\n",
       "      <td>3</td>\n",
       "      <td>30</td>\n",
       "      <td>-30</td>\n",
       "      <td>-0.737374</td>\n",
       "      <td>[848.3, 1068.0]</td>\n",
       "    </tr>\n",
       "    <tr>\n",
       "      <th>2</th>\n",
       "      <td>1.312</td>\n",
       "      <td>30</td>\n",
       "      <td>-30</td>\n",
       "      <td>3</td>\n",
       "      <td>150</td>\n",
       "      <td>-60</td>\n",
       "      <td>-1.857143</td>\n",
       "      <td>[848.25, 1068.0]</td>\n",
       "    </tr>\n",
       "    <tr>\n",
       "      <th>3</th>\n",
       "      <td>1.500</td>\n",
       "      <td>150</td>\n",
       "      <td>-60</td>\n",
       "      <td>2</td>\n",
       "      <td>150</td>\n",
       "      <td>-60</td>\n",
       "      <td>1.714286</td>\n",
       "      <td>[847.8333333333334, 1068.1666666666667]</td>\n",
       "    </tr>\n",
       "    <tr>\n",
       "      <th>4</th>\n",
       "      <td>1.672</td>\n",
       "      <td>150</td>\n",
       "      <td>-60</td>\n",
       "      <td>1</td>\n",
       "      <td>150</td>\n",
       "      <td>150</td>\n",
       "      <td>-0.033333</td>\n",
       "      <td>[848.0, 1068.125]</td>\n",
       "    </tr>\n",
       "    <tr>\n",
       "      <th>...</th>\n",
       "      <td>...</td>\n",
       "      <td>...</td>\n",
       "      <td>...</td>\n",
       "      <td>...</td>\n",
       "      <td>...</td>\n",
       "      <td>...</td>\n",
       "      <td>...</td>\n",
       "      <td>...</td>\n",
       "    </tr>\n",
       "    <tr>\n",
       "      <th>39805</th>\n",
       "      <td>90.953</td>\n",
       "      <td>-60</td>\n",
       "      <td>30</td>\n",
       "      <td>0</td>\n",
       "      <td>-60</td>\n",
       "      <td>0</td>\n",
       "      <td>4.704910</td>\n",
       "      <td>[814.4888888888889, 1163.388888888889]</td>\n",
       "    </tr>\n",
       "    <tr>\n",
       "      <th>39806</th>\n",
       "      <td>91.907</td>\n",
       "      <td>-60</td>\n",
       "      <td>-30</td>\n",
       "      <td>0</td>\n",
       "      <td>120</td>\n",
       "      <td>-30</td>\n",
       "      <td>5.685787</td>\n",
       "      <td>[818.0493827160494, 1161.0246913580247]</td>\n",
       "    </tr>\n",
       "    <tr>\n",
       "      <th>39807</th>\n",
       "      <td>92.860</td>\n",
       "      <td>120</td>\n",
       "      <td>-30</td>\n",
       "      <td>3</td>\n",
       "      <td>-60</td>\n",
       "      <td>60</td>\n",
       "      <td>7.252035</td>\n",
       "      <td>[821.0114942528736, 1158.528735632184]</td>\n",
       "    </tr>\n",
       "    <tr>\n",
       "      <th>39808</th>\n",
       "      <td>93.797</td>\n",
       "      <td>30</td>\n",
       "      <td>-30</td>\n",
       "      <td>0</td>\n",
       "      <td>30</td>\n",
       "      <td>-30</td>\n",
       "      <td>6.106920</td>\n",
       "      <td>[823.471264367816, 1154.0344827586207]</td>\n",
       "    </tr>\n",
       "    <tr>\n",
       "      <th>39809</th>\n",
       "      <td>94.766</td>\n",
       "      <td>-30</td>\n",
       "      <td>-60</td>\n",
       "      <td>3</td>\n",
       "      <td>-30</td>\n",
       "      <td>-60</td>\n",
       "      <td>5.030357</td>\n",
       "      <td>[825.1, 1151.2625]</td>\n",
       "    </tr>\n",
       "  </tbody>\n",
       "</table>\n",
       "<p>39810 rows × 8 columns</p>\n",
       "</div>"
      ],
      "text/plain": [
       "            t obs_b obs_h prev_actions next_obs_b next_obs_h    reward  \\\n",
       "0       0.953    30    60            3       -150       -120 -3.616162   \n",
       "1       1.140  -150  -120            3         30        -30 -0.737374   \n",
       "2       1.312    30   -30            3        150        -60 -1.857143   \n",
       "3       1.500   150   -60            2        150        -60  1.714286   \n",
       "4       1.672   150   -60            1        150        150 -0.033333   \n",
       "...       ...   ...   ...          ...        ...        ...       ...   \n",
       "39805  90.953   -60    30            0        -60          0  4.704910   \n",
       "39806  91.907   -60   -30            0        120        -30  5.685787   \n",
       "39807  92.860   120   -30            3        -60         60  7.252035   \n",
       "39808  93.797    30   -30            0         30        -30  6.106920   \n",
       "39809  94.766   -30   -60            3        -30        -60  5.030357   \n",
       "\n",
       "                                           loc  \n",
       "0      [848.7272727272727, 1067.8181818181818]  \n",
       "1                              [848.3, 1068.0]  \n",
       "2                             [848.25, 1068.0]  \n",
       "3      [847.8333333333334, 1068.1666666666667]  \n",
       "4                            [848.0, 1068.125]  \n",
       "...                                        ...  \n",
       "39805   [814.4888888888889, 1163.388888888889]  \n",
       "39806  [818.0493827160494, 1161.0246913580247]  \n",
       "39807   [821.0114942528736, 1158.528735632184]  \n",
       "39808   [823.471264367816, 1154.0344827586207]  \n",
       "39809                       [825.1, 1151.2625]  \n",
       "\n",
       "[39810 rows x 8 columns]"
      ]
     },
     "execution_count": 86,
     "metadata": {},
     "output_type": "execute_result"
    }
   ],
   "source": [
    "dh.df"
   ]
  },
  {
   "cell_type": "code",
   "execution_count": 78,
   "metadata": {},
   "outputs": [],
   "source": [
    "dh.add_dict_to_df(['./Data/traj02-11-2020_15-43-12.pkl'],timestep_gap=100)"
   ]
  },
  {
   "cell_type": "code",
   "execution_count": 2,
   "metadata": {},
   "outputs": [],
   "source": [
    "dh = mba.DataHandler()\n",
    "dh.load_df('./nogap_traj_df.pkl')\n",
    "modset = eme.ModelSet(10,frac=.5)"
   ]
  },
  {
   "cell_type": "code",
   "execution_count": 3,
   "metadata": {},
   "outputs": [],
   "source": [
    "modset.make_models(dh, sm_pars={'lambda':.05,'iters':30})"
   ]
  },
  {
   "cell_type": "code",
   "execution_count": 4,
   "metadata": {},
   "outputs": [
    {
     "data": {
      "image/png": "[encoded data removed]",
      "text/plain": [
       "<Figure size 1152x360 with 20 Axes>"
      ]
     },
     "metadata": {
      "needs_background": "light"
     },
     "output_type": "display_data"
    }
   ],
   "source": [
    "fig,ax = plt.subplots(2,5)\n",
    "fig.set_size_inches((16,5))\n",
    "for i in range(10):\n",
    "    img = ax[i//5,i%5].imshow(modset.models[i]['reward_off'][:,:,0],vmin=-2,vmax=4)\n",
    "    fig.colorbar(img, ax=ax[i//5,i%5]);"
   ]
  },
  {
   "cell_type": "code",
   "execution_count": 5,
   "metadata": {},
   "outputs": [
    {
     "data": {
      "image/png": "[encoded data removed]",
      "text/plain": [
       "<Figure size 1152x360 with 20 Axes>"
      ]
     },
     "metadata": {
      "needs_background": "light"
     },
     "output_type": "display_data"
    }
   ],
   "source": [
    "fig,ax = plt.subplots(2,5)\n",
    "fig.set_size_inches((16,5))\n",
    "for i in range(10):\n",
    "    img = ax[i//5,i%5].imshow(modset.models[i]['body_off'][:,:,0])\n",
    "    fig.colorbar(img, ax=ax[i//5,i%5]);"
   ]
  },
  {
   "cell_type": "code",
   "execution_count": 6,
   "metadata": {},
   "outputs": [],
   "source": [
    "worm = eme.FakeWorm(modset)"
   ]
  },
  {
   "cell_type": "code",
   "execution_count": 22,
   "metadata": {},
   "outputs": [],
   "source": [
    "learner.save_agent('test_agent.pkl')\n",
    "learner.save_rewards('test_rewards.pkl')"
   ]
  },
  {
   "cell_type": "code",
   "execution_count": 2,
   "metadata": {},
   "outputs": [
    {
     "name": "stderr",
     "output_type": "stream",
     "text": [
      "C:\\Users\\ccli3\\Miniconda3\\envs\\r919\\lib\\site-packages\\gym\\logger.py:30: UserWarning: \u001b[33mWARN: Box bound precision lowered by casting to float32\u001b[0m\n",
      "  warnings.warn(colorize('%s: %s'%('WARN', msg % args), 'yellow'))\n"
     ]
    }
   ],
   "source": [
    "dh = mba.DataHandler()\n",
    "dh.load_df('./all_traj_df.pkl')\n",
    "\n",
    "agent = tab.Q_Alpha_Agent(gamma=0.5,epsilon=0.05,alpha=0.01)\n",
    "learner = mba.Learner(agent, dh, 'test', worm_pars={'num_models':1, 'frac':1})"
   ]
  },
  {
   "cell_type": "code",
   "execution_count": 4,
   "metadata": {},
   "outputs": [
    {
     "data": {
      "image/png": "[encoded data removed]",
      "text/plain": [
       "<Figure size 432x288 with 2 Axes>"
      ]
     },
     "metadata": {
      "needs_background": "light"
     },
     "output_type": "display_data"
    }
   ],
   "source": [
    "plt.imshow(learner.agent.Qtab[:,0].reshape(12,12))\n",
    "plt.colorbar();"
   ]
  },
  {
   "cell_type": "code",
   "execution_count": 47,
   "metadata": {},
   "outputs": [],
   "source": [
    "eval_r0=[]\n",
    "for i in range(50):\n",
    "    eval_r0.append(learner.eval_ep())"
   ]
  },
  {
   "cell_type": "code",
   "execution_count": 48,
   "metadata": {},
   "outputs": [
    {
     "name": "stdout",
     "output_type": "stream",
     "text": [
      "0.8177408855347631\n"
     ]
    },
    {
     "data": {
      "image/png": "[encoded data removed]",
      "text/plain": [
       "<Figure size 432x288 with 1 Axes>"
      ]
     },
     "metadata": {
      "needs_background": "light"
     },
     "output_type": "display_data"
    }
   ],
   "source": [
    "plt.plot(np.mean(eval_r0,axis=0))\n",
    "print(np.mean(eval_r0))"
   ]
  },
  {
   "cell_type": "code",
   "execution_count": 45,
   "metadata": {},
   "outputs": [
    {
     "name": "stdout",
     "output_type": "stream",
     "text": [
      "0.9074689871577069\n"
     ]
    },
    {
     "data": {
      "image/png": "[encoded data removed]",
      "text/plain": [
       "<Figure size 432x288 with 1 Axes>"
      ]
     },
     "metadata": {
      "needs_background": "light"
     },
     "output_type": "display_data"
    }
   ],
   "source": [
    "plt.plot(np.mean(eval_r0,axis=0))\n",
    "print(np.mean(eval_r0))"
   ]
  },
  {
   "cell_type": "code",
   "execution_count": 46,
   "metadata": {},
   "outputs": [],
   "source": [
    "learner.agent.resetq()\n",
    "learner.reset_reward_vecs()"
   ]
  },
  {
   "cell_type": "code",
   "execution_count": 3,
   "metadata": {},
   "outputs": [
    {
     "name": "stdout",
     "output_type": "stream",
     "text": [
      "Agent test is on ep 0\n",
      "Agent test is on ep 100\n",
      "Agent test is on ep 200\n",
      "Agent test is on ep 300\n",
      "Agent test is on ep 400\n",
      "Agent test is on ep 500\n",
      "Agent test is on ep 600\n",
      "Agent test is on ep 700\n",
      "Agent test is on ep 800\n",
      "Agent test is on ep 900\n"
     ]
    },
    {
     "data": {
      "text/plain": [
       "0.5128499249834279"
      ]
     },
     "execution_count": 3,
     "metadata": {},
     "output_type": "execute_result"
    }
   ],
   "source": [
    "learner.learn(learn_limit=1000)"
   ]
  },
  {
   "cell_type": "code",
   "execution_count": 8,
   "metadata": {
    "scrolled": true
   },
   "outputs": [
    {
     "data": {
      "image/png": "[encoded data removed]",
      "text/plain": [
       "<Figure size 432x288 with 2 Axes>"
      ]
     },
     "metadata": {
      "needs_background": "light"
     },
     "output_type": "display_data"
    }
   ],
   "source": [
    "plt.imshow(learner.agent.Qtab[:,1].reshape(12,12)-learner.agent.Qtab[:,0].reshape(12,12),vmin=-3,vmax=3)\n",
    "plt.colorbar();"
   ]
  },
  {
   "cell_type": "code",
   "execution_count": 5,
   "metadata": {
    "scrolled": true
   },
   "outputs": [
    {
     "data": {
      "image/png": "[encoded data removed]",
      "text/plain": [
       "<Figure size 432x288 with 2 Axes>"
      ]
     },
     "metadata": {
      "needs_background": "light"
     },
     "output_type": "display_data"
    }
   ],
   "source": [
    "plt.imshow(learner.agent.Qtab[:,1].reshape(12,12)-learner.agent.Qtab[:,0].reshape(12,12))\n",
    "plt.colorbar();"
   ]
  },
  {
   "cell_type": "code",
   "execution_count": 26,
   "metadata": {
    "scrolled": true
   },
   "outputs": [
    {
     "data": {
      "image/png": "[encoded data removed]",
      "text/plain": [
       "<Figure size 432x288 with 2 Axes>"
      ]
     },
     "metadata": {
      "needs_background": "light"
     },
     "output_type": "display_data"
    }
   ],
   "source": [
    "plt.imshow(learner.agent.Qtab[:,1].reshape(12,12)-learner.agent.Qtab[:,0].reshape(12,12),vmin=-3,vmax=3)\n",
    "plt.colorbar();"
   ]
  },
  {
   "cell_type": "code",
   "execution_count": 36,
   "metadata": {
    "scrolled": true
   },
   "outputs": [
    {
     "data": {
      "image/png": "[encoded data removed]",
      "text/plain": [
       "<Figure size 432x288 with 2 Axes>"
      ]
     },
     "metadata": {
      "needs_background": "light"
     },
     "output_type": "display_data"
    }
   ],
   "source": [
    "plt.imshow(learner.agent.Qtab[:,1].reshape(12,12)-learner.agent.Qtab[:,0].reshape(12,12),vmin=-3,vmax=3)\n",
    "plt.colorbar();"
   ]
  },
  {
   "cell_type": "code",
   "execution_count": 1,
   "metadata": {},
   "outputs": [],
   "source": [
    "import ensemble_mod_env as eme\n",
    "import model_based_agent as mba\n",
    "import numpy as np\n",
    "import utils as ut\n",
    "import matplotlib.pyplot as plt\n",
    "import tab_agents as tab\n",
    "import pickle\n",
    "import fake_worm as fw"
   ]
  },
  {
   "cell_type": "code",
   "execution_count": 2,
   "metadata": {},
   "outputs": [],
   "source": [
    "#learner.save_agent('test_ag.pkl')\n",
    "with open('test_ag.pkl','rb') as f:\n",
    "    agent = pickle.load(f)"
   ]
  },
  {
   "cell_type": "code",
   "execution_count": 4,
   "metadata": {},
   "outputs": [],
   "source": [
    "worm = fw.FakeWorm()\n",
    "runner = mba.WormRunner(worm, agent)"
   ]
  },
  {
   "cell_type": "code",
   "execution_count": 18,
   "metadata": {},
   "outputs": [],
   "source": [
    "runner.full_run(100,'testrun0.pkl',eps_vector=[1])"
   ]
  },
  {
   "cell_type": "code",
   "execution_count": 19,
   "metadata": {},
   "outputs": [],
   "source": [
    "with open('testrun0.pkl','rb') as f:\n",
    "    test = pickle.load(f)"
   ]
  },
  {
   "cell_type": "code",
   "execution_count": 20,
   "metadata": {},
   "outputs": [
    {
     "data": {
      "text/plain": [
       "-0.007939124532409155"
      ]
     },
     "execution_count": 20,
     "metadata": {},
     "output_type": "execute_result"
    }
   ],
   "source": [
    "np.mean(test['reward'])"
   ]
  },
  {
   "cell_type": "code",
   "execution_count": 7,
   "metadata": {},
   "outputs": [
    {
     "data": {
      "text/plain": [
       "0.46464547444971915"
      ]
     },
     "execution_count": 7,
     "metadata": {},
     "output_type": "execute_result"
    }
   ],
   "source": [
    "np.mean(test['reward'])"
   ]
  },
  {
   "cell_type": "code",
   "execution_count": 21,
   "metadata": {},
   "outputs": [],
   "source": [
    "x = np.zeros((15,2))\n",
    "y = np.zeros((15,2))+1\n",
    "xy = [x,y]\n",
    "\n",
    "averaged = np.zeros((15,2))\n",
    "for el in xy:\n",
    "    averaged += (1/len(xy))*el "
   ]
  },
  {
   "cell_type": "code",
   "execution_count": 22,
   "metadata": {},
   "outputs": [
    {
     "data": {
      "text/plain": [
       "array([[0.5, 0.5],\n",
       "       [0.5, 0.5],\n",
       "       [0.5, 0.5],\n",
       "       [0.5, 0.5],\n",
       "       [0.5, 0.5],\n",
       "       [0.5, 0.5],\n",
       "       [0.5, 0.5],\n",
       "       [0.5, 0.5],\n",
       "       [0.5, 0.5],\n",
       "       [0.5, 0.5],\n",
       "       [0.5, 0.5],\n",
       "       [0.5, 0.5],\n",
       "       [0.5, 0.5],\n",
       "       [0.5, 0.5],\n",
       "       [0.5, 0.5]])"
      ]
     },
     "execution_count": 22,
     "metadata": {},
     "output_type": "execute_result"
    }
   ],
   "source": [
    "averaged"
   ]
  },
  {
   "cell_type": "code",
   "execution_count": 23,
   "metadata": {},
   "outputs": [
    {
     "data": {
      "text/plain": [
       "'./Data/realworm_17-12-2020_13-48.pkl'"
      ]
     },
     "execution_count": 23,
     "metadata": {},
     "output_type": "execute_result"
    }
   ],
   "source": [
    "from datetime import datetime\n",
    "'./Data/realworm_'+datetime.now().strftime('%d-%m-%Y_%H-%M')+'.pkl'"
   ]
  },
  {
   "cell_type": "code",
   "execution_count": 26,
   "metadata": {},
   "outputs": [],
   "source": [
    "eps_vector = np.ones(10)\n",
    "eps_vector[::2] -= .95"
   ]
  },
  {
   "cell_type": "code",
   "execution_count": 27,
   "metadata": {},
   "outputs": [
    {
     "data": {
      "text/plain": [
       "array([0.05, 1.  , 0.05, 1.  , 0.05, 1.  , 0.05, 1.  , 0.05, 1.  ])"
      ]
     },
     "execution_count": 27,
     "metadata": {},
     "output_type": "execute_result"
    }
   ],
   "source": [
    "eps_vector"
   ]
  },
  {
   "cell_type": "code",
   "execution_count": null,
   "metadata": {},
   "outputs": [],
   "source": []
  }
 ],
 "metadata": {
  "kernelspec": {
   "display_name": "r919",
   "language": "python",
   "name": "r919"
  },
  "language_info": {
   "codemirror_mode": {
    "name": "ipython",
    "version": 3
   },
   "file_extension": ".py",
   "mimetype": "text/x-python",
   "name": "python",
   "nbconvert_exporter": "python",
   "pygments_lexer": "ipython3",
   "version": "3.8.5"
  }
 },
 "nbformat": 4,
 "nbformat_minor": 4
}
