{
 "cells": [
  {
   "cell_type": "markdown",
   "metadata": {},
   "source": [
    "TO DO TOMORROW.\n",
    "\n",
    "Run below block with worm. Check all the output files. Then write for fresh expts not based on already-collected dataframe. "
   ]
  },
  {
   "cell_type": "code",
   "execution_count": 1,
   "metadata": {},
   "outputs": [
    {
     "ename": "ModuleNotFoundError",
     "evalue": "No module named 'fake_worm'",
     "output_type": "error",
     "traceback": [
      "\u001b[1;31m---------------------------------------------------------------------------\u001b[0m",
      "\u001b[1;31mModuleNotFoundError\u001b[0m                       Traceback (most recent call last)",
      "\u001b[1;32m<ipython-input-1-14c4c0806410>\u001b[0m in \u001b[0;36m<module>\u001b[1;34m\u001b[0m\n\u001b[0;32m      3\u001b[0m \u001b[1;32mimport\u001b[0m \u001b[0mos\u001b[0m\u001b[1;33m\u001b[0m\u001b[1;33m\u001b[0m\u001b[0m\n\u001b[0;32m      4\u001b[0m \u001b[1;33m\u001b[0m\u001b[0m\n\u001b[1;32m----> 5\u001b[1;33m \u001b[1;32mimport\u001b[0m \u001b[0mmodel_based_agent\u001b[0m \u001b[1;32mas\u001b[0m \u001b[0mmba\u001b[0m\u001b[1;33m\u001b[0m\u001b[1;33m\u001b[0m\u001b[0m\n\u001b[0m\u001b[0;32m      6\u001b[0m \u001b[1;32mimport\u001b[0m \u001b[0mworm_env\u001b[0m \u001b[1;32mas\u001b[0m \u001b[0mwe\u001b[0m\u001b[1;33m\u001b[0m\u001b[1;33m\u001b[0m\u001b[0m\n\u001b[0;32m      7\u001b[0m \u001b[1;33m\u001b[0m\u001b[0m\n",
      "\u001b[1;32m~\\Documents\\Research\\20_09_07_NewPC\\RLWorms\\12_19_realworms\\model_based_agent.py\u001b[0m in \u001b[0;36m<module>\u001b[1;34m\u001b[0m\n\u001b[0;32m      3\u001b[0m \u001b[1;32mimport\u001b[0m \u001b[0mpickle\u001b[0m\u001b[1;33m\u001b[0m\u001b[1;33m\u001b[0m\u001b[0m\n\u001b[0;32m      4\u001b[0m \u001b[1;32mimport\u001b[0m \u001b[0mensemble_mod_env\u001b[0m \u001b[1;32mas\u001b[0m \u001b[0meme\u001b[0m\u001b[1;33m\u001b[0m\u001b[1;33m\u001b[0m\u001b[0m\n\u001b[1;32m----> 5\u001b[1;33m \u001b[1;32mimport\u001b[0m \u001b[0mfake_worm\u001b[0m \u001b[1;32mas\u001b[0m \u001b[0mfw\u001b[0m\u001b[1;33m\u001b[0m\u001b[1;33m\u001b[0m\u001b[0m\n\u001b[0m\u001b[0;32m      6\u001b[0m \u001b[1;32mimport\u001b[0m \u001b[0mworm_env\u001b[0m \u001b[1;32mas\u001b[0m \u001b[0mwe\u001b[0m\u001b[1;33m\u001b[0m\u001b[1;33m\u001b[0m\u001b[0m\n\u001b[0;32m      7\u001b[0m \u001b[1;32mimport\u001b[0m \u001b[0mtab_agents\u001b[0m \u001b[1;32mas\u001b[0m \u001b[0mtab\u001b[0m\u001b[1;33m\u001b[0m\u001b[1;33m\u001b[0m\u001b[0m\n",
      "\u001b[1;31mModuleNotFoundError\u001b[0m: No module named 'fake_worm'"
     ]
    }
   ],
   "source": [
    "import multiprocessing \n",
    "import numpy as np\n",
    "import os\n",
    "\n",
    "import model_based_agent as mba \n",
    "import worm_env as we \n",
    "\n",
    "import utils as ut\n",
    "import tab_agents as tab\n",
    "from datetime import datetime \n",
    "\n",
    "init_df = './nogap_traj_df.pkl'\n",
    "folder = './Data/Reals'+datetime.now().strftime('%d-%m-%H-%M')\n",
    "fbase = folder+'/realworm_'\n",
    "if os.path.isdir(folder):\n",
    "    os.rmdir(folder)\n",
    "os.mkdir(folder)\n",
    "\n",
    "num_learners = 2\n",
    "collection_eps = 2\n",
    "eps_vector = np.ones(collection_eps)\n",
    "eps_vector[::2] -= .95\n",
    "\n",
    "gamma=.25\n",
    "epsilon=.05\n",
    "alpha=.01\n",
    "\n",
    "\n",
    "if __name__=='__main__':\n",
    "    \n",
    "    '''\n",
    "    At the end of this script, there will be files in a timestamped folder:\n",
    "    1. Saved trajectory combined with old ('..total.pkl')\n",
    "    2. Saved individual trajectory files ('..eval_start.pkl', '..[ep].pkl')\n",
    "    3. Averaged agent from each each full worm episode ('..[ep]_agent.pkl')\n",
    "    '''\n",
    "\n",
    "    # Start real worm environment\n",
    "    worm = we.ProcessedWorm(0,ep_len=50,bg_time=3) \n",
    "    worm_agent = tab.Q_Alpha_Agent(gamma=0, epsilon=0.05, alpha=0) # Agent doesn't learn\n",
    "    # Start model environments and learners \n",
    "    dh = mba.DataHandler()\n",
    "    dh.load_df(init_df)\n",
    "    \n",
    "    for loop in range(collection_eps):\n",
    "        fname = fbase+str(loop)+'.pkl'\n",
    "        \n",
    "        # Make new learner list based on newest data\n",
    "        learners = mba.make_learner_list(num_learners, \n",
    "                                gamma=gamma, epsilon=epsilon, alpha=alpha, q_checkpoint=worm_agent.Qtab)\n",
    "        runner = mba.WormRunner(worm_agent,worm)\n",
    "        \n",
    "        \n",
    "        # Start multiprocessing\n",
    "        manager = multiprocessing.Manager()\n",
    "        poison_queue = manager.Queue()\n",
    "        pool = multiprocessing.Pool()\n",
    "        \n",
    "        # Run main functions: train agents and collect more data\n",
    "        lea_outs = []\n",
    "        print('learning')\n",
    "        for lea in learners:\n",
    "            lea_outs.append(pool.apply_async(lea.learn, [dh],{'poison_queue':poison_queue}))\n",
    "        runner_out = pool.apply_async(runner.full_run,[1,fname],\n",
    "                                      {'eps_vector':eps_vector,'eval_len':30,'poison_queue':poison_queue})\n",
    "        # Wait for them to finish\n",
    "        pool.close()\n",
    "        pool.join()\n",
    "        for lea_out in lea_outs:\n",
    "            if lea_out.successful() is False:\n",
    "                raise Exception('One learner failed')\n",
    "        if runner_out.successful() is False:\n",
    "            raise Exception('Runner failed')\n",
    "        \n",
    "        # Combining learners from run\n",
    "        worm_agent.Qtab = mba.combine_learners(lea_outs)\n",
    "        worm_agent.save(fname[:-4]+'_agent.pkl')\n",
    "        \n",
    "        # Take new data and add to DataHandler. \n",
    "        dh.add_dict_to_df([fname])\n",
    "        # Check if worm is tired\n",
    "        #runner.check_if_tired(fname,active_for=.25)\n",
    "\n",
    "        \n",
    "    # Final saves and closes\n",
    "    worm_agent.Qtab = mba.combine_learners(lea_outs)\n",
    "    worm_agent.save(fbase+str(collection_eps)+'_agent.pkl')\n",
    "    runner.close()\n",
    "    # Save all new collected data plus old in one dataframe\n",
    "    dh.save_dfs(fbase+'total.pkl')"
   ]
  },
  {
   "cell_type": "markdown",
   "metadata": {},
   "source": [
    "# This code is for collecting an initial dataframe"
   ]
  },
  {
   "cell_type": "code",
   "execution_count": 20,
   "metadata": {},
   "outputs": [
    {
     "name": "stdout",
     "output_type": "stream",
     "text": [
      "Warning: when changing pixelclock at runtime, you may need to update the fps and exposure parameters\n",
      "Warning: Specified fps (20.00) not in possible range: [7.40, 14.92]. fps has been set to 14.92.\n",
      "No worm \t\t\r"
     ]
    },
    {
     "name": "stderr",
     "output_type": "stream",
     "text": [
      "C:\\Users\\ccli3\\Documents\\Research\\20_09_07_NewPC\\RLWorms\\12_19_realworms\\improc.py:196: RuntimeWarning: invalid value encountered in longlong_scalars\n",
      "  centers.append(np.array([np.sum(np.arange(im_sz)*sumx) / np.sum(sumx), np.sum(np.arange(im_sz)*sumy) / np.sum(sumy)]))\n"
     ]
    },
    {
     "name": "stdout",
     "output_type": "stream",
     "text": [
      "No worm \t\t\r"
     ]
    }
   ],
   "source": [
    "import numpy as np\n",
    "import os\n",
    "\n",
    "import model_based_agent as mba \n",
    "import worm_env as we \n",
    "from datetime import datetime \n",
    "\n",
    "folder = './Data/Reals20-12-14-58' #'./Data/Reals'+datetime.now().strftime('%d-%m-%H-%M')\n",
    "fbase = folder+'/realworm_'\n",
    "\n",
    "# if os.path.isdir(folder):\n",
    "#     os.rmdir(folder)\n",
    "# os.mkdir(folder)\n",
    "\n",
    "# Start real worm environment\n",
    "worm = we.ProcessedWorm(0,ep_len=1200,bg_time=20) \n",
    "dh = mba.DataHandler()\n",
    "init_fname = fbase+'init_dict0.pkl'\n",
    "\n",
    "# 5 episodes with ep_len=1200 is about 20 minutes.\n",
    "mba.get_init_traj(init_fname, worm, 10, act_rate=3)\n",
    "dh.add_dict_to_df([init_fname],reward_ahead=10, \n",
    "                    timestep_gap=1, \n",
    "                    prev_act_window=1, \n",
    "                    jump_limit=100,)\n",
    "dh.save_dfs(fbase+'init_df0.pkl')\n"
   ]
  },
  {
   "cell_type": "code",
   "execution_count": 1,
   "metadata": {
    "scrolled": true
   },
   "outputs": [
    {
     "name": "stdout",
     "output_type": "stream",
     "text": [
      "Warning: when changing pixelclock at runtime, you may need to update the fps and exposure parameters\n",
      "Warning: Specified fps (20.00) not in possible range: [7.40, 14.92]. fps has been set to 14.92.\n"
     ]
    }
   ],
   "source": [
    "from improc import *\n",
    "cam,task = init_instruments()"
   ]
  },
  {
   "cell_type": "code",
   "execution_count": 2,
   "metadata": {},
   "outputs": [],
   "source": [
    "task.write(0)\n",
    "task.close()"
   ]
  },
  {
   "cell_type": "markdown",
   "metadata": {},
   "source": [
    "# Checking output section"
   ]
  },
  {
   "cell_type": "code",
   "execution_count": 21,
   "metadata": {},
   "outputs": [],
   "source": [
    "import pickle\n",
    "import matplotlib.pyplot as plt"
   ]
  },
  {
   "cell_type": "code",
   "execution_count": 27,
   "metadata": {},
   "outputs": [],
   "source": [
    "with open('./Data/Reals20-12-14-58/realworm_init_df0.pkl','rb') as f:\n",
    "    traj_df = pickle.load(f)"
   ]
  },
  {
   "cell_type": "code",
   "execution_count": 26,
   "metadata": {},
   "outputs": [
    {
     "data": {
      "text/plain": [
       "12000"
      ]
     },
     "execution_count": 26,
     "metadata": {},
     "output_type": "execute_result"
    }
   ],
   "source": [
    "len(traj_df['reward'])"
   ]
  },
  {
   "cell_type": "code",
   "execution_count": 29,
   "metadata": {},
   "outputs": [
    {
     "data": {
      "text/html": [
       "<div>\n",
       "<style scoped>\n",
       "    .dataframe tbody tr th:only-of-type {\n",
       "        vertical-align: middle;\n",
       "    }\n",
       "\n",
       "    .dataframe tbody tr th {\n",
       "        vertical-align: top;\n",
       "    }\n",
       "\n",
       "    .dataframe thead th {\n",
       "        text-align: right;\n",
       "    }\n",
       "</style>\n",
       "<table border=\"1\" class=\"dataframe\">\n",
       "  <thead>\n",
       "    <tr style=\"text-align: right;\">\n",
       "      <th></th>\n",
       "      <th>t</th>\n",
       "      <th>obs_b</th>\n",
       "      <th>obs_h</th>\n",
       "      <th>prev_actions</th>\n",
       "      <th>next_obs_b</th>\n",
       "      <th>next_obs_h</th>\n",
       "      <th>reward</th>\n",
       "      <th>loc</th>\n",
       "    </tr>\n",
       "  </thead>\n",
       "  <tbody>\n",
       "    <tr>\n",
       "      <th>0</th>\n",
       "      <td>0.546</td>\n",
       "      <td>60</td>\n",
       "      <td>30</td>\n",
       "      <td>1</td>\n",
       "      <td>60</td>\n",
       "      <td>30</td>\n",
       "      <td>0.380682</td>\n",
       "      <td>[995.0, 844.0]</td>\n",
       "    </tr>\n",
       "    <tr>\n",
       "      <th>1</th>\n",
       "      <td>0.718</td>\n",
       "      <td>60</td>\n",
       "      <td>30</td>\n",
       "      <td>1</td>\n",
       "      <td>60</td>\n",
       "      <td>30</td>\n",
       "      <td>0.529412</td>\n",
       "      <td>[995.25, 844.125]</td>\n",
       "    </tr>\n",
       "    <tr>\n",
       "      <th>2</th>\n",
       "      <td>0.906</td>\n",
       "      <td>60</td>\n",
       "      <td>30</td>\n",
       "      <td>1</td>\n",
       "      <td>60</td>\n",
       "      <td>60</td>\n",
       "      <td>0.654412</td>\n",
       "      <td>[994.2, 843.6666666666666]</td>\n",
       "    </tr>\n",
       "    <tr>\n",
       "      <th>3</th>\n",
       "      <td>1.093</td>\n",
       "      <td>60</td>\n",
       "      <td>60</td>\n",
       "      <td>0</td>\n",
       "      <td>60</td>\n",
       "      <td>30</td>\n",
       "      <td>0.416667</td>\n",
       "      <td>[994.1428571428571, 843.5]</td>\n",
       "    </tr>\n",
       "    <tr>\n",
       "      <th>4</th>\n",
       "      <td>1.281</td>\n",
       "      <td>60</td>\n",
       "      <td>30</td>\n",
       "      <td>0</td>\n",
       "      <td>60</td>\n",
       "      <td>30</td>\n",
       "      <td>0.166667</td>\n",
       "      <td>[994.3125, 843.5]</td>\n",
       "    </tr>\n",
       "    <tr>\n",
       "      <th>...</th>\n",
       "      <td>...</td>\n",
       "      <td>...</td>\n",
       "      <td>...</td>\n",
       "      <td>...</td>\n",
       "      <td>...</td>\n",
       "      <td>...</td>\n",
       "      <td>...</td>\n",
       "      <td>...</td>\n",
       "    </tr>\n",
       "    <tr>\n",
       "      <th>10898</th>\n",
       "      <td>212.438</td>\n",
       "      <td>30</td>\n",
       "      <td>30</td>\n",
       "      <td>1</td>\n",
       "      <td>30</td>\n",
       "      <td>30</td>\n",
       "      <td>0.979021</td>\n",
       "      <td>[955.2619047619048, 844.7619047619048]</td>\n",
       "    </tr>\n",
       "    <tr>\n",
       "      <th>10899</th>\n",
       "      <td>212.594</td>\n",
       "      <td>30</td>\n",
       "      <td>30</td>\n",
       "      <td>0</td>\n",
       "      <td>30</td>\n",
       "      <td>30</td>\n",
       "      <td>0.261905</td>\n",
       "      <td>[954.9024390243902, 844.9512195121952]</td>\n",
       "    </tr>\n",
       "    <tr>\n",
       "      <th>10900</th>\n",
       "      <td>212.781</td>\n",
       "      <td>30</td>\n",
       "      <td>30</td>\n",
       "      <td>0</td>\n",
       "      <td>30</td>\n",
       "      <td>30</td>\n",
       "      <td>-0.584740</td>\n",
       "      <td>[954.775, 845.15]</td>\n",
       "    </tr>\n",
       "    <tr>\n",
       "      <th>10901</th>\n",
       "      <td>212.953</td>\n",
       "      <td>30</td>\n",
       "      <td>30</td>\n",
       "      <td>0</td>\n",
       "      <td>30</td>\n",
       "      <td>30</td>\n",
       "      <td>-0.635256</td>\n",
       "      <td>[955.078947368421, 844.8421052631579]</td>\n",
       "    </tr>\n",
       "    <tr>\n",
       "      <th>10902</th>\n",
       "      <td>213.141</td>\n",
       "      <td>30</td>\n",
       "      <td>30</td>\n",
       "      <td>1</td>\n",
       "      <td>30</td>\n",
       "      <td>30</td>\n",
       "      <td>-0.408232</td>\n",
       "      <td>[954.675, 845.175]</td>\n",
       "    </tr>\n",
       "  </tbody>\n",
       "</table>\n",
       "<p>10903 rows × 8 columns</p>\n",
       "</div>"
      ],
      "text/plain": [
       "             t obs_b obs_h prev_actions next_obs_b next_obs_h    reward  \\\n",
       "0        0.546    60    30            1         60         30  0.380682   \n",
       "1        0.718    60    30            1         60         30  0.529412   \n",
       "2        0.906    60    30            1         60         60  0.654412   \n",
       "3        1.093    60    60            0         60         30  0.416667   \n",
       "4        1.281    60    30            0         60         30  0.166667   \n",
       "...        ...   ...   ...          ...        ...        ...       ...   \n",
       "10898  212.438    30    30            1         30         30  0.979021   \n",
       "10899  212.594    30    30            0         30         30  0.261905   \n",
       "10900  212.781    30    30            0         30         30 -0.584740   \n",
       "10901  212.953    30    30            0         30         30 -0.635256   \n",
       "10902  213.141    30    30            1         30         30 -0.408232   \n",
       "\n",
       "                                          loc  \n",
       "0                              [995.0, 844.0]  \n",
       "1                           [995.25, 844.125]  \n",
       "2                  [994.2, 843.6666666666666]  \n",
       "3                  [994.1428571428571, 843.5]  \n",
       "4                           [994.3125, 843.5]  \n",
       "...                                       ...  \n",
       "10898  [955.2619047619048, 844.7619047619048]  \n",
       "10899  [954.9024390243902, 844.9512195121952]  \n",
       "10900                       [954.775, 845.15]  \n",
       "10901   [955.078947368421, 844.8421052631579]  \n",
       "10902                      [954.675, 845.175]  \n",
       "\n",
       "[10903 rows x 8 columns]"
      ]
     },
     "execution_count": 29,
     "metadata": {},
     "output_type": "execute_result"
    }
   ],
   "source": [
    "traj_df"
   ]
  },
  {
   "cell_type": "code",
   "execution_count": 11,
   "metadata": {},
   "outputs": [],
   "source": [
    "dh = mba.DataHandler()\n",
    "dh.load_df('./Data/Reals20-12-14-28/realworm_init_df.pkl')"
   ]
  },
  {
   "cell_type": "code",
   "execution_count": 17,
   "metadata": {},
   "outputs": [],
   "source": [
    "learner = mba.Learner(worm_agent,'test',worm_pars={'num_models':1,'frac':1})"
   ]
  },
  {
   "cell_type": "code",
   "execution_count": 18,
   "metadata": {},
   "outputs": [],
   "source": [
    "learner.modset.make_models(dh,sm_pars={'lambda':.05,'iters':0})"
   ]
  },
  {
   "cell_type": "code",
   "execution_count": 20,
   "metadata": {},
   "outputs": [
    {
     "data": {
      "text/plain": [
       "<matplotlib.image.AxesImage at 0x215c0a0ba90>"
      ]
     },
     "execution_count": 20,
     "metadata": {},
     "output_type": "execute_result"
    },
    {
     "data": {
      "image/png": "[encoded data removed]",
      "text/plain": [
       "<Figure size 432x288 with 1 Axes>"
      ]
     },
     "metadata": {
      "needs_background": "light"
     },
     "output_type": "display_data"
    }
   ],
   "source": [
    "plt.imshow(learner.modset.models[0]['body_on'][:,:,0])"
   ]
  },
  {
   "cell_type": "code",
   "execution_count": 26,
   "metadata": {},
   "outputs": [
    {
     "data": {
      "text/plain": [
       "<matplotlib.image.AxesImage at 0x215c0ec8520>"
      ]
     },
     "execution_count": 26,
     "metadata": {},
     "output_type": "execute_result"
    },
    {
     "data": {
      "image/png": "[encoded data removed]",
      "text/plain": [
       "<Figure size 432x288 with 1 Axes>"
      ]
     },
     "metadata": {
      "needs_background": "light"
     },
     "output_type": "display_data"
    }
   ],
   "source": [
    "plt.imshow(learner.modset.models[0]['reward_on'][:,:,0])"
   ]
  },
  {
   "cell_type": "code",
   "execution_count": 4,
   "metadata": {},
   "outputs": [
    {
     "data": {
      "text/plain": [
       "<matplotlib.image.AxesImage at 0x1157ecdd3d0>"
      ]
     },
     "execution_count": 4,
     "metadata": {},
     "output_type": "execute_result"
    },
    {
     "data": {
      "image/png": "[encoded data removed]",
      "text/plain": [
       "<Figure size 432x288 with 1 Axes>"
      ]
     },
     "metadata": {
      "needs_background": "light"
     },
     "output_type": "display_data"
    }
   ],
   "source": [
    "plt.imshow(traj.Qtab[:,1].reshape(12,12))"
   ]
  },
  {
   "cell_type": "code",
   "execution_count": 7,
   "metadata": {},
   "outputs": [
    {
     "data": {
      "text/plain": [
       "<matplotlib.image.AxesImage at 0x1157f9f7f70>"
      ]
     },
     "execution_count": 7,
     "metadata": {},
     "output_type": "execute_result"
    },
    {
     "data": {
      "image/png": "[encoded data removed]",
      "text/plain": [
       "<Figure size 432x288 with 1 Axes>"
      ]
     },
     "metadata": {
      "needs_background": "light"
     },
     "output_type": "display_data"
    }
   ],
   "source": [
    "plt.imshow(traj.Qtab[:,1].reshape(12,12))"
   ]
  },
  {
   "cell_type": "code",
   "execution_count": 11,
   "metadata": {},
   "outputs": [
    {
     "data": {
      "text/plain": [
       "[<matplotlib.lines.Line2D at 0x1157f723700>]"
      ]
     },
     "execution_count": 11,
     "metadata": {},
     "output_type": "execute_result"
    },
    {
     "data": {
      "image/png": "[encoded data removed]",
      "text/plain": [
       "<Figure size 432x288 with 1 Axes>"
      ]
     },
     "metadata": {
      "needs_background": "light"
     },
     "output_type": "display_data"
    }
   ],
   "source": [
    "locs = np.zeros((len(traj['loc']),2))\n",
    "for i in range(len(traj['loc'])):\n",
    "    locs[i,:] = traj['loc'][i]\n",
    "plt.plot(locs[:,0],locs[:,1])"
   ]
  },
  {
   "cell_type": "code",
   "execution_count": null,
   "metadata": {},
   "outputs": [],
   "source": []
  }
 ],
 "metadata": {
  "kernelspec": {
   "display_name": "rlkit",
   "language": "python",
   "name": "rlkit"
  },
  "language_info": {
   "codemirror_mode": {
    "name": "ipython",
    "version": 3
   },
   "file_extension": ".py",
   "mimetype": "text/x-python",
   "name": "python",
   "nbconvert_exporter": "python",
   "pygments_lexer": "ipython3",
   "version": "3.8.5"
  }
 },
 "nbformat": 4,
 "nbformat_minor": 4
}
