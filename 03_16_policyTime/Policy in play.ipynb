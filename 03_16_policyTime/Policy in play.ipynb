{
 "cells": [
  {
   "cell_type": "code",
   "execution_count": 10,
   "metadata": {},
   "outputs": [],
   "source": [
    "import numpy as np\n",
    "import pandas as pd\n",
    "import pickle\n",
    "import matplotlib.pyplot as plt\n",
    "import os\n",
    "from datetime import datetime\n",
    "from scipy.stats import norm\n",
    "\n",
    "import utils as ut\n",
    "from improc import *\n",
    "import worm_env as we\n",
    "import policy_time as pt"
   ]
  },
  {
   "cell_type": "markdown",
   "metadata": {},
   "source": [
    "# R file: get_posterior_bart.R should be running simultaneously."
   ]
  },
  {
   "cell_type": "markdown",
   "metadata": {},
   "source": [
    "### First worm"
   ]
  },
  {
   "cell_type": "code",
   "execution_count": 2,
   "metadata": {},
   "outputs": [],
   "source": [
    "def gen_pol_collection(\n",
    "    worm_id, \n",
    "    \n",
    "    # All parameters below this should be same as in first_pol_collection() function.\n",
    "    folder, # Remember to make it first\n",
    "    worm_ep_len=60,\n",
    "    tot_eps=5,\n",
    "    base_sampling=None, # A vector of len(tot_eps) that says the fraction of time to sample a \n",
    "                        # state that isn't marked high-entropy. 1 means always sample (light on 50% of time)\n",
    "    samp_limit=1, # Proportion of time we want to sample. Goes from 0 to 1. A 1 means light is on 50% of time.\n",
    "    ):\n",
    "    \n",
    "    # Fixed parameters\n",
    "    params = {\n",
    "        'reward_ahead': 30,\n",
    "        'timestep_gap': 1,\n",
    "        'prev_act_window': 3,\n",
    "        'jump_limit': 100,\n",
    "    }\n",
    "    if base_sampling is None:\n",
    "        base_sampling = np.ones(tot_eps)\n",
    "    \n",
    "    # Load entropies and dataframe from previous run    \n",
    "    curr_ep = worm_id*tot_eps\n",
    "    dh = pt.DataHandler(params=params)\n",
    "    \n",
    "    if curr_ep==0:\n",
    "        # init pol \n",
    "        counts, ents = np.ones((12,12)), np.ones((12,12))\n",
    "    else:    \n",
    "        dh.load_df(f'{folder}df{curr_ep-1}.pkl')\n",
    "        ents = np.load(f'{folder}ents{curr_ep-1}.npy',allow_pickle=True)\n",
    "        counts = pt.get_counts(dh.df)\n",
    "    \n",
    "    worm = we.ProcessedWorm(0,ep_len=worm_ep_len)\n",
    "\n",
    "    for i,ep in enumerate(np.arange(tot_eps)+curr_ep):\n",
    "        # Create a list of states to search based on entropy and cutoff.\n",
    "        # Note that samp_limit*.5 is proportion of time light is on.\n",
    "        sampling_probs = pt.make_sprobs_cutoff(ents,samp_limit,counts,base_sampling[i])\n",
    "\n",
    "\n",
    "        # Get new data\n",
    "        fnames = []\n",
    "        fnames.append(f'{folder}traj{ep}.pkl')\n",
    "        pt.do_sampling_traj(sampling_probs, fnames[0], worm, 1, act_rate=3)\n",
    "\n",
    "\n",
    "        # Save for R in addition to old data \n",
    "        dh_n = pt.DataHandler(params=params)\n",
    "        dh_n.add_dict_to_df(fnames)\n",
    "        dh_n.df = dh_n.df.append(dh.df, ignore_index=True)\n",
    "        dh_n.save_dfs(f'{folder}df{ep}.pkl')\n",
    "        pt.save_for_R(dh_n.df, f'{folder}traj{ep}.npy')    \n",
    "        dh = dh_n\n",
    "\n",
    "\n",
    "        # Wait for R script to run\n",
    "        bart_f = f'{folder}sbart{ep}.npy'\n",
    "        while not os.path.exists(bart_f):\n",
    "            time.sleep(1)\n",
    "        # Get the probabilities and entropies \n",
    "        post = np.load(bart_f,allow_pickle=True)\n",
    "        probs, ents = pt.bart2pols(post)\n",
    "        np.save(f'{folder}probs{ep}.npy',probs,allow_pickle=True)\n",
    "        np.save(f'{folder}ents{ep}.npy',ents,allow_pickle=True)"
   ]
  },
  {
   "cell_type": "code",
   "execution_count": 5,
   "metadata": {},
   "outputs": [
    {
     "name": "stdout",
     "output_type": "stream",
     "text": [
      "Warning: when changing pixelclock at runtime, you may need to update the fps and exposure parameters\n",
      "Warning: Specified fps (20.00) not in possible range: [7.40, 14.92]. fps has been set to 14.92.\n",
      "Done resetting\t\n",
      "Saved as numpy for R\n",
      "Warning: when changing pixelclock at runtime, you may need to update the fps and exposure parameters\n",
      "Warning: Specified fps (20.00) not in possible range: [7.40, 14.92]. fps has been set to 14.92.\n",
      "Done resetting\t\n",
      "Saved as numpy for R\n",
      "Warning: when changing pixelclock at runtime, you may need to update the fps and exposure parameters\n",
      "Warning: Specified fps (20.00) not in possible range: [7.40, 14.92]. fps has been set to 14.92.\n",
      "Done resetting\t\n",
      "Saved as numpy for R\n",
      "Warning: when changing pixelclock at runtime, you may need to update the fps and exposure parameters\n",
      "Warning: Specified fps (20.00) not in possible range: [7.40, 14.92]. fps has been set to 14.92.\n",
      "Done resetting\t\n",
      "Saved as numpy for R\n",
      "Warning: when changing pixelclock at runtime, you may need to update the fps and exposure parameters\n",
      "Warning: Specified fps (20.00) not in possible range: [7.40, 14.92]. fps has been set to 14.92.\n",
      "Done resetting\t\n",
      "Saved as numpy for R\n"
     ]
    }
   ],
   "source": [
    "folder = './Data/03_08_0/'\n",
    "gen_pol_collection(5,folder,worm_ep_len=300,tot_eps=5)"
   ]
  },
  {
   "cell_type": "code",
   "execution_count": 18,
   "metadata": {},
   "outputs": [],
   "source": [
    "def f(**kwargs):\n",
    "    for key,val in kwargs.items():\n",
    "        print(key,val)"
   ]
  },
  {
   "cell_type": "code",
   "execution_count": 20,
   "metadata": {},
   "outputs": [
    {
     "name": "stdout",
     "output_type": "stream",
     "text": [
      "a 1\n",
      "b 2\n"
     ]
    }
   ],
   "source": [
    "f(a=1,b=2)"
   ]
  },
  {
   "cell_type": "code",
   "execution_count": 21,
   "metadata": {},
   "outputs": [],
   "source": [
    "args = {'a':1,'b':2}"
   ]
  },
  {
   "cell_type": "code",
   "execution_count": 25,
   "metadata": {},
   "outputs": [
    {
     "name": "stdout",
     "output_type": "stream",
     "text": [
      "a 1\n",
      "b 2\n"
     ]
    }
   ],
   "source": [
    "f(**args)"
   ]
  },
  {
   "cell_type": "code",
   "execution_count": 27,
   "metadata": {},
   "outputs": [],
   "source": [
    "if 3 in range(3): print('s')"
   ]
  },
  {
   "cell_type": "code",
   "execution_count": null,
   "metadata": {},
   "outputs": [],
   "source": []
  }
 ],
 "metadata": {
  "kernelspec": {
   "display_name": "r919",
   "language": "python",
   "name": "r919"
  },
  "language_info": {
   "codemirror_mode": {
    "name": "ipython",
    "version": 3
   },
   "file_extension": ".py",
   "mimetype": "text/x-python",
   "name": "python",
   "nbconvert_exporter": "python",
   "pygments_lexer": "ipython3",
   "version": "3.8.8"
  }
 },
 "nbformat": 4,
 "nbformat_minor": 4
}
