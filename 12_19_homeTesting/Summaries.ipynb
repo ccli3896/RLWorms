{
 "cells": [
  {
   "cell_type": "markdown",
   "metadata": {},
   "source": [
    "# 0. Multiprocessing improvements\n",
    "- Go over current intended workflow\n",
    "------------------------------------"
   ]
  },
  {
   "cell_type": "code",
   "execution_count": 1,
   "metadata": {},
   "outputs": [],
   "source": [
    "import multiprocessing \n",
    "import numpy as np\n",
    "import matplotlib.pyplot as plt\n",
    "import pandas as pd\n",
    "import os\n",
    "import copy\n",
    "\n",
    "import model_based_agent as mba \n",
    "import ensemble_mod_env as eme\n",
    "import utils as ut\n",
    "import tab_agents as tab\n",
    "\n",
    "from datetime import datetime "
   ]
  },
  {
   "cell_type": "markdown",
   "metadata": {},
   "source": [
    "------------\n",
    "# 1. Why image processing needs to be improved\n",
    "- Missing counts\n",
    "- HT switching\n",
    "- Multiple worms"
   ]
  },
  {
   "cell_type": "code",
   "execution_count": 2,
   "metadata": {},
   "outputs": [],
   "source": [
    "dh = mba.DataHandler()\n",
    "dh.load_df('ensemble_testing.pkl')"
   ]
  },
  {
   "cell_type": "code",
   "execution_count": 3,
   "metadata": {},
   "outputs": [
    {
     "data": {
      "text/plain": [
       "{'reward_ahead': 10,\n",
       " 'timestep_gap': 1,\n",
       " 'prev_act_window': 3,\n",
       " 'jump_limit': 100}"
      ]
     },
     "execution_count": 3,
     "metadata": {},
     "output_type": "execute_result"
    }
   ],
   "source": [
    "dh.params"
   ]
  },
  {
   "cell_type": "code",
   "execution_count": 3,
   "metadata": {},
   "outputs": [
    {
     "data": {
      "text/html": [
       "<div>\n",
       "<style scoped>\n",
       "    .dataframe tbody tr th:only-of-type {\n",
       "        vertical-align: middle;\n",
       "    }\n",
       "\n",
       "    .dataframe tbody tr th {\n",
       "        vertical-align: top;\n",
       "    }\n",
       "\n",
       "    .dataframe thead th {\n",
       "        text-align: right;\n",
       "    }\n",
       "</style>\n",
       "<table border=\"1\" class=\"dataframe\">\n",
       "  <thead>\n",
       "    <tr style=\"text-align: right;\">\n",
       "      <th></th>\n",
       "      <th>t</th>\n",
       "      <th>obs_b</th>\n",
       "      <th>obs_h</th>\n",
       "      <th>prev_actions</th>\n",
       "      <th>next_obs_b</th>\n",
       "      <th>next_obs_h</th>\n",
       "      <th>reward</th>\n",
       "      <th>loc</th>\n",
       "    </tr>\n",
       "  </thead>\n",
       "  <tbody>\n",
       "    <tr>\n",
       "      <th>0</th>\n",
       "      <td>0.953</td>\n",
       "      <td>30</td>\n",
       "      <td>60</td>\n",
       "      <td>3</td>\n",
       "      <td>-150</td>\n",
       "      <td>-120</td>\n",
       "      <td>-3.616162</td>\n",
       "      <td>[848.7272727272727, 1067.8181818181818]</td>\n",
       "    </tr>\n",
       "    <tr>\n",
       "      <th>1</th>\n",
       "      <td>1.140</td>\n",
       "      <td>-150</td>\n",
       "      <td>-120</td>\n",
       "      <td>3</td>\n",
       "      <td>30</td>\n",
       "      <td>-30</td>\n",
       "      <td>-0.737374</td>\n",
       "      <td>[848.3, 1068.0]</td>\n",
       "    </tr>\n",
       "    <tr>\n",
       "      <th>2</th>\n",
       "      <td>1.312</td>\n",
       "      <td>30</td>\n",
       "      <td>-30</td>\n",
       "      <td>3</td>\n",
       "      <td>150</td>\n",
       "      <td>-60</td>\n",
       "      <td>-1.857143</td>\n",
       "      <td>[848.25, 1068.0]</td>\n",
       "    </tr>\n",
       "    <tr>\n",
       "      <th>3</th>\n",
       "      <td>1.500</td>\n",
       "      <td>150</td>\n",
       "      <td>-60</td>\n",
       "      <td>2</td>\n",
       "      <td>150</td>\n",
       "      <td>-60</td>\n",
       "      <td>1.714286</td>\n",
       "      <td>[847.8333333333334, 1068.1666666666667]</td>\n",
       "    </tr>\n",
       "    <tr>\n",
       "      <th>4</th>\n",
       "      <td>1.672</td>\n",
       "      <td>150</td>\n",
       "      <td>-60</td>\n",
       "      <td>1</td>\n",
       "      <td>150</td>\n",
       "      <td>150</td>\n",
       "      <td>-0.033333</td>\n",
       "      <td>[848.0, 1068.125]</td>\n",
       "    </tr>\n",
       "    <tr>\n",
       "      <th>...</th>\n",
       "      <td>...</td>\n",
       "      <td>...</td>\n",
       "      <td>...</td>\n",
       "      <td>...</td>\n",
       "      <td>...</td>\n",
       "      <td>...</td>\n",
       "      <td>...</td>\n",
       "      <td>...</td>\n",
       "    </tr>\n",
       "    <tr>\n",
       "      <th>43902</th>\n",
       "      <td>218.109</td>\n",
       "      <td>30</td>\n",
       "      <td>60</td>\n",
       "      <td>3</td>\n",
       "      <td>-150</td>\n",
       "      <td>60</td>\n",
       "      <td>-7.254115</td>\n",
       "      <td>[1480.469387755102, 1080.8163265306123]</td>\n",
       "    </tr>\n",
       "    <tr>\n",
       "      <th>43903</th>\n",
       "      <td>218.312</td>\n",
       "      <td>-150</td>\n",
       "      <td>60</td>\n",
       "      <td>3</td>\n",
       "      <td>-150</td>\n",
       "      <td>0</td>\n",
       "      <td>-6.373234</td>\n",
       "      <td>[1480.7021276595744, 1080.6170212765958]</td>\n",
       "    </tr>\n",
       "    <tr>\n",
       "      <th>43904</th>\n",
       "      <td>218.484</td>\n",
       "      <td>-150</td>\n",
       "      <td>0</td>\n",
       "      <td>3</td>\n",
       "      <td>-150</td>\n",
       "      <td>0</td>\n",
       "      <td>-7.764628</td>\n",
       "      <td>[1479.842105263158, 1081.4736842105262]</td>\n",
       "    </tr>\n",
       "    <tr>\n",
       "      <th>43905</th>\n",
       "      <td>218.672</td>\n",
       "      <td>-150</td>\n",
       "      <td>0</td>\n",
       "      <td>3</td>\n",
       "      <td>-120</td>\n",
       "      <td>-60</td>\n",
       "      <td>-6.646453</td>\n",
       "      <td>[1478.9166666666667, 1082.4166666666667]</td>\n",
       "    </tr>\n",
       "    <tr>\n",
       "      <th>43906</th>\n",
       "      <td>218.875</td>\n",
       "      <td>-120</td>\n",
       "      <td>-60</td>\n",
       "      <td>3</td>\n",
       "      <td>-120</td>\n",
       "      <td>-60</td>\n",
       "      <td>-6.025362</td>\n",
       "      <td>[1477.3055555555557, 1083.9166666666667]</td>\n",
       "    </tr>\n",
       "  </tbody>\n",
       "</table>\n",
       "<p>43907 rows × 8 columns</p>\n",
       "</div>"
      ],
      "text/plain": [
       "             t obs_b obs_h prev_actions next_obs_b next_obs_h    reward  \\\n",
       "0        0.953    30    60            3       -150       -120 -3.616162   \n",
       "1        1.140  -150  -120            3         30        -30 -0.737374   \n",
       "2        1.312    30   -30            3        150        -60 -1.857143   \n",
       "3        1.500   150   -60            2        150        -60  1.714286   \n",
       "4        1.672   150   -60            1        150        150 -0.033333   \n",
       "...        ...   ...   ...          ...        ...        ...       ...   \n",
       "43902  218.109    30    60            3       -150         60 -7.254115   \n",
       "43903  218.312  -150    60            3       -150          0 -6.373234   \n",
       "43904  218.484  -150     0            3       -150          0 -7.764628   \n",
       "43905  218.672  -150     0            3       -120        -60 -6.646453   \n",
       "43906  218.875  -120   -60            3       -120        -60 -6.025362   \n",
       "\n",
       "                                            loc  \n",
       "0       [848.7272727272727, 1067.8181818181818]  \n",
       "1                               [848.3, 1068.0]  \n",
       "2                              [848.25, 1068.0]  \n",
       "3       [847.8333333333334, 1068.1666666666667]  \n",
       "4                             [848.0, 1068.125]  \n",
       "...                                         ...  \n",
       "43902   [1480.469387755102, 1080.8163265306123]  \n",
       "43903  [1480.7021276595744, 1080.6170212765958]  \n",
       "43904   [1479.842105263158, 1081.4736842105262]  \n",
       "43905  [1478.9166666666667, 1082.4166666666667]  \n",
       "43906  [1477.3055555555557, 1083.9166666666667]  \n",
       "\n",
       "[43907 rows x 8 columns]"
      ]
     },
     "execution_count": 3,
     "metadata": {},
     "output_type": "execute_result"
    }
   ],
   "source": [
    "dh.df"
   ]
  },
  {
   "cell_type": "code",
   "execution_count": 13,
   "metadata": {},
   "outputs": [
    {
     "data": {
      "image/png": "[encoded data removed]",
      "text/plain": [
       "<Figure size 360x360 with 2 Axes>"
      ]
     },
     "metadata": {
      "needs_background": "light"
     },
     "output_type": "display_data"
    }
   ],
   "source": [
    "counts = np.zeros((12,12))\n",
    "for ii,i in enumerate(np.arange(-180,180,30)):\n",
    "    for jj,j in enumerate(np.arange(-180,180,30)):\n",
    "        counts[ii,jj] = dh.df.query(f'obs_b=={i}&obs_h=={j}').size\n",
    "plt.figure(figsize=(5,5))\n",
    "plt.imshow(counts)\n",
    "plt.colorbar();\n",
    "plt.title('Observation counts')\n",
    "plt.axis('off')\n",
    "plt.ylabel('Body angle')\n",
    "plt.xlabel('Head angle');"
   ]
  },
  {
   "cell_type": "code",
   "execution_count": 22,
   "metadata": {},
   "outputs": [
    {
     "data": {
      "image/png": "[encoded data removed]",
      "text/plain": [
       "<Figure size 432x288 with 1 Axes>"
      ]
     },
     "metadata": {
      "needs_background": "light"
     },
     "output_type": "display_data"
    }
   ],
   "source": [
    "obs_b = dh.df['obs_b'].to_numpy()\n",
    "t = dh.df['t'].to_numpy()\n",
    "plt.plot(t[:200],obs_b[:200])\n",
    "plt.ylabel('Recorded body angle')\n",
    "plt.xlabel('Time (s)');\n",
    "plt.title('Seeing how bad HT tracking really is');\n",
    "plt.grid();"
   ]
  },
  {
   "cell_type": "markdown",
   "metadata": {},
   "source": [
    "-------------\n",
    "# 2. New smoothing method\n",
    "- Current method\n",
    "- Finding hyperparameters from grid search (NB ./RunMoreThings.ipynb)"
   ]
  },
  {
   "cell_type": "markdown",
   "metadata": {},
   "source": [
    "--------------\n",
    "# 3. Model trajectories\n",
    "- Common sense checks (./RunMoreThings.ipynb)\n",
    "- See how increasing amounts of data change the models, with various numbers of samples\n",
    "- State histograms"
   ]
  },
  {
   "cell_type": "code",
   "execution_count": 32,
   "metadata": {},
   "outputs": [],
   "source": [
    "bins = np.arange(13)\n",
    "inds = np.unravel_index(obss,(12,12))\n",
    "H,xedg,yedg = np.histogram2d(inds[0],inds[1], bins=(bins,bins))"
   ]
  },
  {
   "cell_type": "code",
   "execution_count": 34,
   "metadata": {
    "scrolled": true
   },
   "outputs": [
    {
     "data": {
      "image/png": "[encoded data removed]",
      "text/plain": [
       "<Figure size 432x288 with 2 Axes>"
      ]
     },
     "metadata": {
      "needs_background": "light"
     },
     "output_type": "display_data"
    }
   ],
   "source": [
    "plt.imshow(H)\n",
    "plt.colorbar();\n",
    "plt.xticks(np.arange(0,12,3),np.arange(-180,180,90))\n",
    "plt.yticks(np.arange(0,12,3),np.arange(-180,180,90))\n",
    "plt.ylabel('Body angle (deg)')\n",
    "plt.xlabel('Head angle (deg)');"
   ]
  },
  {
   "cell_type": "markdown",
   "metadata": {},
   "source": [
    "----------------\n",
    "# 4. Light penalty\n",
    "- Current method\n",
    "- Comparison to old training results (not well organized but NB ./RunThings.ipynb)"
   ]
  },
  {
   "cell_type": "code",
   "execution_count": 88,
   "metadata": {},
   "outputs": [],
   "source": [
    "def eval_ep(lea,eval_steps=200000):\n",
    "    obss = []\n",
    "    acts = []\n",
    "    rews = []\n",
    "    for i in range(eval_steps):\n",
    "        obs = lea.env._state\n",
    "        acts.append(lea.agent.eval_act(obs))\n",
    "        next_obs,rew,done,_ = lea.env.step(acts[-1])\n",
    "        obss.append(next_obs)\n",
    "        rews.append(rew)\n",
    "    return obss,acts,rews\n",
    "\n",
    "def plot_pol_and_qs(lea,vmin=-1,vmax=1):\n",
    "    fig,ax = plt.subplots(1,3)\n",
    "    fig.set_size_inches((12,2))\n",
    "    img = ax[0].imshow(np.sign(lea.agent.Qtab[:,1].reshape(12,12)-lea.agent.Qtab[:,0].reshape(12,12)))\n",
    "    fig.colorbar(img,ax=ax[0]);\n",
    "    ax[0].set_title('Current policy')\n",
    "    img = ax[1].imshow(lea.agent.Qtab[:,1].reshape(12,12),vmin=vmin,vmax=vmax)\n",
    "    fig.colorbar(img,ax=ax[1]);\n",
    "    ax[1].set_title('Light on Qtable')\n",
    "    img = ax[2].imshow(lea.agent.Qtab[:,0].reshape(12,12),vmin=vmin,vmax=vmax)\n",
    "    plt.colorbar(img,ax=ax[2])\n",
    "    ax[2].set_title('Light off Qtable')\n",
    "\n",
    "    [ax[i].axis('off') for i in range(3)];\n",
    "    \n",
    "def learn_ep(lea,l_steps=1000000,ep_len=100):\n",
    "    obss = []\n",
    "    acts = []\n",
    "    rews = []\n",
    "    for i in range(l_steps):\n",
    "        if i%ep_len==0:\n",
    "            learners[0].env.reset()\n",
    "        obs = learners[0].env._state\n",
    "        acts.append(learners[0].agent.act(obs))\n",
    "        next_obs,rew,done,_ = learners[0].env.step(acts[-1])\n",
    "        learners[0].agent.update(obs,acts[-1],next_obs,rew)\n",
    "        obss.append(next_obs)\n",
    "        rews.append(rew)\n",
    "    return obss,acts,rews"
   ]
  },
  {
   "cell_type": "code",
   "execution_count": 102,
   "metadata": {},
   "outputs": [
    {
     "name": "stdout",
     "output_type": "stream",
     "text": [
      "On model 0\n"
     ]
    }
   ],
   "source": [
    "num_learners = 5\n",
    "collection_eps = 1\n",
    "gamma=0.25\n",
    "epsilon=.5\n",
    "alpha=.001\n",
    "df_bound=-1\n",
    "learn_limit=5000\n",
    "frac=1\n",
    "\n",
    "qtabs = []\n",
    "worm_agent = tab.Q_Alpha_Agent(gamma=gamma, epsilon=epsilon, alpha=alpha) \n",
    "# Start model environments and learners \n",
    "dh = mba.DataHandler()\n",
    "dh.load_df('ensemble_testing.pkl')\n",
    "dh.df = dh.df[:df_bound]\n",
    "      \n",
    "# Make new learner list based on newest data\n",
    "learners = mba.make_learner_list(num_learners, worm_pars={'num_models':1, 'frac':frac},\n",
    "                        gamma=gamma, epsilon=epsilon, alpha=alpha, q_checkpoint=worm_agent.Qtab) \n",
    "\n",
    "learners[0].make_mod_and_env(dh,{'lambda':.1,'iters':10},)"
   ]
  },
  {
   "cell_type": "code",
   "execution_count": 90,
   "metadata": {},
   "outputs": [
    {
     "data": {
      "image/png": "[encoded data removed]",
      "text/plain": [
       "<Figure size 288x288 with 1 Axes>"
      ]
     },
     "metadata": {
      "needs_background": "light"
     },
     "output_type": "display_data"
    }
   ],
   "source": [
    "plt.figure(figsize=(4,4))\n",
    "plt.title('Sign of reward differences')\n",
    "rdiffs = np.sign(learners[0].modset.models[0]['reward_on'][:,:,0]-learners[0].modset.models[0]['reward_off'][:,:,0])\n",
    "plt.imshow(rdiffs)\n",
    "plt.xticks(np.arange(0,12,3),np.arange(-180,180,90))\n",
    "plt.yticks(np.arange(0,12,3),np.arange(-180,180,90))\n",
    "plt.ylabel('Body angle (deg)')\n",
    "plt.xlabel('Head angle (deg)');"
   ]
  },
  {
   "cell_type": "markdown",
   "metadata": {},
   "source": [
    "## Evaluation episode, random actions"
   ]
  },
  {
   "cell_type": "code",
   "execution_count": 44,
   "metadata": {},
   "outputs": [],
   "source": [
    "obss,acts,rews = eval_ep(learners[0])"
   ]
  },
  {
   "cell_type": "code",
   "execution_count": 46,
   "metadata": {},
   "outputs": [
    {
     "name": "stdout",
     "output_type": "stream",
     "text": [
      "From init, eval episode reward is 0.20924083111903136\n"
     ]
    }
   ],
   "source": [
    "print(f'From init, eval episode reward is {np.mean(rews)}')"
   ]
  },
  {
   "cell_type": "markdown",
   "metadata": {},
   "source": [
    "## Evaluation episode, actions based only on reward matrices"
   ]
  },
  {
   "cell_type": "code",
   "execution_count": 84,
   "metadata": {},
   "outputs": [],
   "source": [
    "learners[0].agent.Qtab[:,0] = np.zeros(144)\n",
    "learners[0].agent.Qtab[:,1] = np.sign(learners[0].modset.models[0]['reward_on'][:,:,0]-learners[0].modset.models[0]['reward_off'][:,:,0]).flatten()\n",
    "obss,acts,rews = eval_ep(learners[0])"
   ]
  },
  {
   "cell_type": "code",
   "execution_count": 85,
   "metadata": {},
   "outputs": [
    {
     "name": "stdout",
     "output_type": "stream",
     "text": [
      "Just given reward matrices, no learning, eval ep is 0.4737298958928716\n"
     ]
    },
    {
     "data": {
      "image/png": "[encoded data removed]",
      "text/plain": [
       "<Figure size 864x144 with 6 Axes>"
      ]
     },
     "metadata": {
      "needs_background": "light"
     },
     "output_type": "display_data"
    }
   ],
   "source": [
    "plot_pol_and_qs(learners[0])\n",
    "print(f'Just given reward matrices, no learning, eval ep is {np.mean(rews)}')"
   ]
  },
  {
   "cell_type": "markdown",
   "metadata": {},
   "source": [
    "## Learning"
   ]
  },
  {
   "cell_type": "markdown",
   "metadata": {},
   "source": [
    "#### Starting point"
   ]
  },
  {
   "cell_type": "code",
   "execution_count": 103,
   "metadata": {},
   "outputs": [],
   "source": [
    "obss,acts,rews = eval_ep(learners[0])"
   ]
  },
  {
   "cell_type": "code",
   "execution_count": 104,
   "metadata": {},
   "outputs": [
    {
     "name": "stdout",
     "output_type": "stream",
     "text": [
      "Eval ep is 0.24715848405574525\n"
     ]
    },
    {
     "data": {
      "image/png": "[encoded data removed]",
      "text/plain": [
       "<Figure size 864x144 with 6 Axes>"
      ]
     },
     "metadata": {
      "needs_background": "light"
     },
     "output_type": "display_data"
    }
   ],
   "source": [
    "plot_pol_and_qs(learners[0],vmin=0,vmax=2)\n",
    "print(f'Eval ep is {np.mean(rews)}')"
   ]
  },
  {
   "cell_type": "markdown",
   "metadata": {},
   "source": [
    "#### After 1mil steps ( < 1.5 min for 1 mil learning + .2 mil eval steps)"
   ]
  },
  {
   "cell_type": "code",
   "execution_count": 105,
   "metadata": {},
   "outputs": [],
   "source": [
    "obss,acts,rews = learn_ep(learners[0])\n",
    "obss,acts,rews = eval_ep(learners[0])"
   ]
  },
  {
   "cell_type": "code",
   "execution_count": 106,
   "metadata": {
    "scrolled": true
   },
   "outputs": [
    {
     "name": "stdout",
     "output_type": "stream",
     "text": [
      "1m learning steps, eval ep is 0.4563747726807795\n"
     ]
    },
    {
     "data": {
      "image/png": "[encoded data removed]",
      "text/plain": [
       "<Figure size 864x144 with 6 Axes>"
      ]
     },
     "metadata": {
      "needs_background": "light"
     },
     "output_type": "display_data"
    }
   ],
   "source": [
    "plot_pol_and_qs(learners[0],vmin=-1.5,vmax=1.5)\n",
    "print(f'1m learning steps, eval ep is {np.mean(rews)}')"
   ]
  },
  {
   "cell_type": "markdown",
   "metadata": {},
   "source": [
    "#### After 2mil steps"
   ]
  },
  {
   "cell_type": "code",
   "execution_count": 107,
   "metadata": {},
   "outputs": [],
   "source": [
    "obss,acts,rews = learn_ep(learners[0])\n",
    "obss,acts,rews = eval_ep(learners[0])"
   ]
  },
  {
   "cell_type": "code",
   "execution_count": 108,
   "metadata": {},
   "outputs": [
    {
     "name": "stdout",
     "output_type": "stream",
     "text": [
      "2m learning steps, eval ep is 0.45363238189820904\n"
     ]
    },
    {
     "data": {
      "image/png": "[encoded data removed]",
      "text/plain": [
       "<Figure size 864x144 with 6 Axes>"
      ]
     },
     "metadata": {
      "needs_background": "light"
     },
     "output_type": "display_data"
    }
   ],
   "source": [
    "plot_pol_and_qs(learners[0],vmin=-1.5,vmax=1.5)\n",
    "print(f'2m learning steps, eval ep is {np.mean(rews)}')"
   ]
  },
  {
   "cell_type": "markdown",
   "metadata": {},
   "source": [
    "#### After 3mil steps"
   ]
  },
  {
   "cell_type": "code",
   "execution_count": 109,
   "metadata": {},
   "outputs": [],
   "source": [
    "obss,acts,rews = learn_ep(learners[0])\n",
    "obss,acts,rews = eval_ep(learners[0])"
   ]
  },
  {
   "cell_type": "code",
   "execution_count": 110,
   "metadata": {
    "scrolled": true
   },
   "outputs": [
    {
     "name": "stdout",
     "output_type": "stream",
     "text": [
      "3m learning steps, eval ep is 0.4567496134030464\n"
     ]
    },
    {
     "data": {
      "image/png": "[encoded data removed]",
      "text/plain": [
       "<Figure size 864x144 with 6 Axes>"
      ]
     },
     "metadata": {
      "needs_background": "light"
     },
     "output_type": "display_data"
    }
   ],
   "source": [
    "plot_pol_and_qs(learners[0],vmin=-1.5,vmax=1.5)\n",
    "print(f'3m learning steps, eval ep is {np.mean(rews)}')"
   ]
  },
  {
   "cell_type": "markdown",
   "metadata": {},
   "source": [
    "#### Immediate next step: see how gamma affects learning "
   ]
  },
  {
   "cell_type": "markdown",
   "metadata": {},
   "source": [
    "----------------\n",
    "# 5. To dos:\n",
    "- **Currently using optimistic starts with epsilon greedy.**\n",
    "    - UCB (upper confidence bound)?\n",
    "    \n",
    "    \n",
    "- **What about reversals? Fixes:**\n",
    "    - Could do running checks instead of periodic ones (if worm has been going in opposite direction, for 5 s continuously, switch HT).\n",
    "    - Could ask Sean to implement in CNN by feeding multiple frames (fast but problem could be that decisions become more black-boxy)\n",
    "    \n",
    "    \n",
    "- **How to best use data?**\n",
    "    - Multiple models vs multiple agents\n",
    "    \n",
    "    \n",
    "- **Think about light penalty regularization**\n",
    "    - What other ways are there to penalize neuron activation? https://elifesciences.org/articles/27702 Given a behavior, neuron statistics stay consistent over long timescales (several months). Could tune activation regularizer for known neuron statistics"
   ]
  },
  {
   "cell_type": "code",
   "execution_count": null,
   "metadata": {},
   "outputs": [],
   "source": []
  }
 ],
 "metadata": {
  "kernelspec": {
   "display_name": "r919",
   "language": "python",
   "name": "r919"
  },
  "language_info": {
   "codemirror_mode": {
    "name": "ipython",
    "version": 3
   },
   "file_extension": ".py",
   "mimetype": "text/x-python",
   "name": "python",
   "nbconvert_exporter": "python",
   "pygments_lexer": "ipython3",
   "version": "3.8.5"
  }
 },
 "nbformat": 4,
 "nbformat_minor": 4
}
