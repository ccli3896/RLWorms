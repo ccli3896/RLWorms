{
 "cells": [
  {
   "cell_type": "code",
   "execution_count": 1,
   "metadata": {},
   "outputs": [],
   "source": [
    "import numpy as np\n",
    "import matplotlib.pyplot as plt\n",
    "import pandas as pd\n",
    "import pickle\n",
    "\n",
    "import model_based_agent as mba\n",
    "import tab_agents as tab"
   ]
  },
  {
   "cell_type": "code",
   "execution_count": 2,
   "metadata": {},
   "outputs": [],
   "source": [
    "'''\n",
    "At the end of this script, there will be files in a timestamped folder:\n",
    "1. Saved trajectory combined with old ('..total.pkl')\n",
    "2. Saved individual trajectory files ('..eval_start.pkl', '..[ep].pkl')\n",
    "3. Averaged agent from each each full worm episode ('..[ep]_agent.pkl')\n",
    "\n",
    "In folder from 12_01_dropoutmodel/Data:\n",
    "18-12-13-31 was a failed debugging trial\n",
    "18-12-13-49 empty plate debugging trial\n",
    "18-12-15-00 worm run from nogap_traj_df.pkl\n",
    "18-12-16-39 continuation of 15-00 above\n",
    "\n",
    "In folder 12_19_realworms/Data:\n",
    "First three are trials; last three are init collection\n",
    "19-12-18-26 test run w 50-step eps\n",
    "19-12-18-40 ''\n",
    "19-12-18-50 ''\n",
    "20-12-14-25\n",
    "20-12-14-28\n",
    "20-12-14-58\n",
    "'''\n",
    "fbase0 = './../12_01_dropoutmodel/Data/'\n",
    "fbase1 = './../12_19_realworms/Data/'\n"
   ]
  },
  {
   "cell_type": "code",
   "execution_count": 3,
   "metadata": {},
   "outputs": [],
   "source": [
    "trial = 'Reals18-12-15-00/realworm_'\n",
    "with open(fbase0+trial+'total_params.pkl','rb') as f:\n",
    "    pars = pickle.load(f)\n",
    "with open(fbase0+trial+'1_agent.pkl','rb') as f:\n",
    "    agt0 = pickle.load(f)\n",
    "with open(fbase0+trial+'5_agent.pkl','rb') as f:\n",
    "    agt1 = pickle.load(f)\n",
    "with open(fbase0+trial+'5.pkl','rb') as f:\n",
    "    traj = pickle.load(f)"
   ]
  },
  {
   "cell_type": "code",
   "execution_count": 73,
   "metadata": {},
   "outputs": [
    {
     "name": "stdout",
     "output_type": "stream",
     "text": [
      "1200\n",
      "{'reward_ahead': 10, 'timestep_gap': 1, 'prev_act_window': 3, 'jump_limit': 100}\n"
     ]
    }
   ],
   "source": [
    "print(len(traj['reward']))\n",
    "print(pars)"
   ]
  },
  {
   "cell_type": "code",
   "execution_count": 4,
   "metadata": {},
   "outputs": [
    {
     "data": {
      "image/png": "[encoded data removed]",
      "text/plain": [
       "<Figure size 432x288 with 4 Axes>"
      ]
     },
     "metadata": {
      "needs_background": "light"
     },
     "output_type": "display_data"
    }
   ],
   "source": [
    "fig,ax = plt.subplots(1,2)\n",
    "agt = agt0\n",
    "for i in range(2):\n",
    "    vmin = np.min(agt.Qtab)\n",
    "    vmax = np.max(agt.Qtab)\n",
    "    img = ax[i].imshow(agt.Qtab[:,i].reshape(12,12),vmin=vmin,vmax=vmax)\n",
    "    fig.colorbar(img,ax=ax[i])"
   ]
  },
  {
   "cell_type": "code",
   "execution_count": 5,
   "metadata": {},
   "outputs": [
    {
     "data": {
      "image/png": "[encoded data removed]",
      "text/plain": [
       "<Figure size 432x288 with 4 Axes>"
      ]
     },
     "metadata": {
      "needs_background": "light"
     },
     "output_type": "display_data"
    }
   ],
   "source": [
    "fig,ax = plt.subplots(1,2)\n",
    "agt = agt1\n",
    "for i in range(2):\n",
    "    vmin = np.min(agt.Qtab)\n",
    "    vmax = np.max(agt.Qtab)\n",
    "    img = ax[i].imshow(agt.Qtab[:,i].reshape(12,12),vmin=vmin,vmax=vmax)\n",
    "    fig.colorbar(img,ax=ax[i])"
   ]
  },
  {
   "cell_type": "code",
   "execution_count": 6,
   "metadata": {
    "scrolled": true
   },
   "outputs": [
    {
     "data": {
      "image/png": "[encoded data removed]",
      "text/plain": [
       "<Figure size 144x144 with 2 Axes>"
      ]
     },
     "metadata": {
      "needs_background": "light"
     },
     "output_type": "display_data"
    }
   ],
   "source": [
    "plt.figure(figsize=(2,2))\n",
    "plt.imshow((agt.Qtab[:,1]-agt.Qtab[:,0]).reshape(12,12))\n",
    "plt.colorbar();"
   ]
  },
  {
   "cell_type": "code",
   "execution_count": 27,
   "metadata": {},
   "outputs": [],
   "source": [
    "dict_names = [\n",
    "    # First worm\n",
    "    'Data/traj12-11-2020_19-04-41.pkl', #none\n",
    "    'Data/traj12-11-2020_19-14-38.pkl', #none\n",
    "    'Data/traj12-11-2020_19-24-30.pkl', #xlim 800\n",
    "    'Data/traj12-11-2020_19-35-31.pkl', #none # Seems like an especially bad dataset. Actually ruined all the others\n",
    "\n",
    "    # Second worm\n",
    "    'Data/traj12-11-2020_19-55-19.pkl', #none\n",
    "    'Data/traj12-11-2020_20-05-11.pkl', #none\n",
    "    'Data/traj12-11-2020_20-15-17.pkl', #none\n",
    "    'Data/traj12-11-2020_20-25-06.pkl', #xlim 1430\n",
    "\n",
    "    # Third worm\n",
    "    'Data/traj30-10-2020_18-14-00.pkl', #none\n",
    "    'Data/traj30-10-2020_18-34-10.pkl', #none\n",
    "\n",
    "    # Fourth worm\n",
    "    'Data/traj02-11-2020_15-53-56.pkl', #none \n",
    "    'Data/traj02-11-2020_16-14-45.pkl', #none \n",
    "\n",
    "    # Fifth worm\n",
    "    'Data/traj03-11-2020_14-46-45.pkl', #none\n",
    "    'Data/traj03-11-2020_15-08-07.pkl', #none\n",
    "]\n",
    "dict_names = ['./../10_30_model/'+dn for dn in dict_names]\n",
    "\n",
    "dh = mba.DataHandler()\n",
    "dh.add_dict_to_df(dict_names, \n",
    "                 reward_ahead=10,\n",
    "                 timestep_gap=3,\n",
    "                 prev_act_window=1,\n",
    "                 jump_limit=100)\n",
    "#dh.save_dfs('noprocs.pkl')"
   ]
  },
  {
   "cell_type": "code",
   "execution_count": 2,
   "metadata": {},
   "outputs": [],
   "source": [
    "dh = mba.DataHandler()\n",
    "dh.load_df('noprocs.pkl')"
   ]
  },
  {
   "cell_type": "markdown",
   "metadata": {},
   "source": [
    "1. Multiple models, individual agents\n",
    "2. Multiple models, agent seeds\n",
    "3. One model, agent seeds"
   ]
  },
  {
   "cell_type": "code",
   "execution_count": 13,
   "metadata": {},
   "outputs": [],
   "source": [
    "def test_agents(Qtab):\n",
    "    # Evaluation learner\n",
    "    agt = tab.Q_Alpha_Agent(gamma=.25,epsilon=0.01,alpha=0.01) \n",
    "        # The HPs shouldn't be used\n",
    "    agt.Qtab = Qtab\n",
    "    test_lnr = mba.Learner(agt, 'test_learner', worm_pars={'num_models':1,'frac':1},num_steps=1000,eval_steps=5000)\n",
    "    dh = mba.DataHandler()\n",
    "    dh.load_df('noprocs.pkl')\n",
    "    test_lnr.make_mod_and_env(dh)\n",
    "    return lnr.eval()\n",
    "\n",
    "def plot_qtabs(agt,vmin=None,vmax=None):\n",
    "    fig,ax = plt.subplots(1,2)\n",
    "    for i in range(2):\n",
    "        img = ax[i].imshow(agt.Qtab[:,i].reshape(12,12),vmin=vmin,vmax=vmax)\n",
    "        fig.colorbar(img,ax=ax[i])"
   ]
  },
  {
   "cell_type": "markdown",
   "metadata": {},
   "source": [
    "## 1. Multiple models, individual agents and then averaged."
   ]
  },
  {
   "cell_type": "code",
   "execution_count": 3,
   "metadata": {},
   "outputs": [
    {
     "name": "stdout",
     "output_type": "stream",
     "text": [
      "On model 0\n"
     ]
    }
   ],
   "source": [
    "agts = []\n",
    "agts.append(tab.Q_Alpha_Agent(\n",
    "    gamma=0.75,\n",
    "    epsilon=0.01,\n",
    "    alpha=0.01,))\n",
    "lnr = mba.Learner(agts[0],'noprocs',\n",
    "                 worm_pars={'num_models':1,'frac':1},\n",
    "                 num_steps=1000,\n",
    "                 eval_steps=1000)\n",
    "lnr.make_mod_and_env(dh)\n",
    "eval_r = np.mean([lnr.eval_ep() for i in range(50)])"
   ]
  },
  {
   "cell_type": "code",
   "execution_count": 4,
   "metadata": {},
   "outputs": [
    {
     "data": {
      "text/plain": [
       "0.060381139526208175"
      ]
     },
     "execution_count": 4,
     "metadata": {},
     "output_type": "execute_result"
    }
   ],
   "source": [
    "eval_r"
   ]
  },
  {
   "cell_type": "code",
   "execution_count": 5,
   "metadata": {},
   "outputs": [
    {
     "name": "stdout",
     "output_type": "stream",
     "text": [
      "0\n",
      "1\n",
      "2\n",
      "3\n",
      "4\n",
      "5\n",
      "6\n",
      "7\n",
      "8\n",
      "9\n",
      "10\n",
      "11\n",
      "12\n",
      "13\n",
      "14\n",
      "15\n",
      "16\n",
      "17\n",
      "18\n",
      "19\n"
     ]
    }
   ],
   "source": [
    "evals = []\n",
    "for i in range(20):\n",
    "    print(i)\n",
    "    Qtab = lnr.learn(dh,learn_limit=1000)\n",
    "    evals.append(np.mean([lnr.eval_ep() for i in range(50)]))"
   ]
  },
  {
   "cell_type": "code",
   "execution_count": 6,
   "metadata": {},
   "outputs": [
    {
     "data": {
      "text/plain": [
       "[<matplotlib.lines.Line2D at 0x1e756c40c10>]"
      ]
     },
     "execution_count": 6,
     "metadata": {},
     "output_type": "execute_result"
    },
    {
     "data": {
      "image/png": "[encoded data removed]",
      "text/plain": [
       "<Figure size 432x288 with 1 Axes>"
      ]
     },
     "metadata": {
      "needs_background": "light"
     },
     "output_type": "display_data"
    }
   ],
   "source": [
    "plt.plot(evals) #gamma .75, ep .01, alpha .01\n",
    "# started at .0603"
   ]
  },
  {
   "cell_type": "code",
   "execution_count": 11,
   "metadata": {},
   "outputs": [
    {
     "data": {
      "text/plain": [
       "[<matplotlib.lines.Line2D at 0x1f630e9ee20>]"
      ]
     },
     "execution_count": 11,
     "metadata": {},
     "output_type": "execute_result"
    },
    {
     "data": {
      "image/png": "[encoded data removed]",
      "text/plain": [
       "<Figure size 432x288 with 1 Axes>"
      ]
     },
     "metadata": {
      "needs_background": "light"
     },
     "output_type": "display_data"
    }
   ],
   "source": [
    "plt.plot(evals) #gamma 0, ep .01, alpha .01\n",
    "# started at .061"
   ]
  },
  {
   "cell_type": "code",
   "execution_count": 21,
   "metadata": {},
   "outputs": [
    {
     "data": {
      "image/png": "[encoded data removed]",
      "text/plain": [
       "<Figure size 432x288 with 4 Axes>"
      ]
     },
     "metadata": {
      "needs_background": "light"
     },
     "output_type": "display_data"
    }
   ],
   "source": [
    "plot_qtabs(agts[0],vmin=-.6,vmax=.6)"
   ]
  },
  {
   "cell_type": "code",
   "execution_count": 19,
   "metadata": {},
   "outputs": [
    {
     "data": {
      "image/png": "[encoded data removed]",
      "text/plain": [
       "<Figure size 432x288 with 2 Axes>"
      ]
     },
     "metadata": {
      "needs_background": "light"
     },
     "output_type": "display_data"
    }
   ],
   "source": [
    "plt.imshow((agts[0].Qtab[:,1]-agts[0].Qtab[:,0]).reshape(12,12),vmin=-.5,vmax=.5)\n",
    "plt.colorbar();"
   ]
  },
  {
   "cell_type": "code",
   "execution_count": 22,
   "metadata": {},
   "outputs": [],
   "source": [
    "def test_model(lnr):\n",
    "    # Tests det, random, known, on/off policies with a learner.\n",
    "    def det_pol(stt):\n",
    "        if stt==-1:\n",
    "            return 1\n",
    "        else:\n",
    "            return 0\n",
    "    def rand_pol(stt):\n",
    "        return np.random.choice(2)\n",
    "    def on_pol(stt):\n",
    "        return 1\n",
    "    def off_pol(stt):\n",
    "        return 0\n",
    "\n",
    "    def check_w_pol(lnr,pol):\n",
    "        # Checking model\n",
    "        rews = []\n",
    "        act=0\n",
    "        for n in range(100000):\n",
    "            obs,r,done,_ = lnr.env.step(act)\n",
    "            rews.append(r)\n",
    "            obs = lnr.env.obs2grid(obs)\n",
    "            stt = np.sign(obs[0]*obs[1])\n",
    "            act = pol(stt)\n",
    "        return np.mean(np.array(rews))\n",
    "    on_rew = check_w_pol(lnr,on_pol)\n",
    "    off_rew = check_w_pol(lnr,off_pol)\n",
    "    rand_rew = check_w_pol(lnr,rand_pol)\n",
    "    det_rew = check_w_pol(lnr,det_pol)\n",
    "    print(f'On: {on_rew}, Off: {off_rew},\\nRand: {rand_rew}, Det: {det_rew}')"
   ]
  },
  {
   "cell_type": "code",
   "execution_count": 26,
   "metadata": {},
   "outputs": [
    {
     "name": "stdout",
     "output_type": "stream",
     "text": [
      "On: 0.08552243508587153, Off: 0.044970008511628565,\n",
      "Rand: 0.062000246658720205, Det: 0.05802177868445361\n"
     ]
    }
   ],
   "source": [
    "test_model(lnr) # lookahead 30, timestep gap 15, prev act 3"
   ]
  },
  {
   "cell_type": "code",
   "execution_count": 28,
   "metadata": {},
   "outputs": [
    {
     "name": "stdout",
     "output_type": "stream",
     "text": [
      "On: 0.0803129595913852, Off: 0.04610856627533537,\n",
      "Rand: 0.06724538492705232, Det: 0.051951764797169224\n"
     ]
    }
   ],
   "source": [
    "test_model(lnr) # lookahead 10, timestep gap 3, prev act 1"
   ]
  },
  {
   "cell_type": "code",
   "execution_count": null,
   "metadata": {},
   "outputs": [],
   "source": []
  }
 ],
 "metadata": {
  "kernelspec": {
   "display_name": "rlkit",
   "language": "python",
   "name": "rlkit"
  },
  "language_info": {
   "codemirror_mode": {
    "name": "ipython",
    "version": 3
   },
   "file_extension": ".py",
   "mimetype": "text/x-python",
   "name": "python",
   "nbconvert_exporter": "python",
   "pygments_lexer": "ipython3",
   "version": "3.8.5"
  }
 },
 "nbformat": 4,
 "nbformat_minor": 4
}
