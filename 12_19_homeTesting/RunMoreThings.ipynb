{
 "cells": [
  {
   "cell_type": "code",
   "execution_count": 1,
   "metadata": {},
   "outputs": [],
   "source": [
    "# Comparing using some data vs all data when not much has been collected yet.\n",
    "# Goal is to choose between many sampled models or one model with many agents."
   ]
  },
  {
   "cell_type": "code",
   "execution_count": 2,
   "metadata": {},
   "outputs": [],
   "source": [
    "import multiprocessing \n",
    "import numpy as np\n",
    "import matplotlib.pyplot as plt\n",
    "import pandas as pd\n",
    "import os\n",
    "import copy\n",
    "\n",
    "import model_based_agent as mba \n",
    "import ensemble_mod_env as eme\n",
    "import utils as ut\n",
    "import tab_agents as tab\n",
    "\n",
    "from datetime import datetime "
   ]
  },
  {
   "cell_type": "code",
   "execution_count": 16,
   "metadata": {},
   "outputs": [],
   "source": [
    "def plot_qtabs(agt,vmin=None,vmax=None):\n",
    "    fig,ax = plt.subplots(1,2)\n",
    "    for i in range(2):\n",
    "        img = ax[i].imshow(agt.Qtab[:,i].reshape(12,12),vmin=vmin,vmax=vmax)\n",
    "        fig.colorbar(img,ax=ax[i])"
   ]
  },
  {
   "cell_type": "code",
   "execution_count": 18,
   "metadata": {},
   "outputs": [
    {
     "name": "stdout",
     "output_type": "stream",
     "text": [
      "learning\n",
      "learning\n",
      "learning\n",
      "learning\n",
      "learning\n"
     ]
    }
   ],
   "source": [
    "num_learners = 5\n",
    "collection_eps = 5\n",
    "\n",
    "gamma=.25\n",
    "epsilon=.05\n",
    "alpha=.01\n",
    "init_df = 'ensemble_testing.pkl'\n",
    "qtabs = []\n",
    "\n",
    "if __name__=='__main__':\n",
    "    \n",
    "    '''\n",
    "    Runs parallel learners and joins them afterward\n",
    "    '''\n",
    "\n",
    "    worm_agent = tab.Q_Alpha_Agent(gamma=gamma, epsilon=epsilon, alpha=alpha) # Agent doesn't learn\n",
    "    # Start model environments and learners \n",
    "    dh = mba.DataHandler()\n",
    "    dh.load_df(init_df)\n",
    "    dh.df = dh.df[:2000]\n",
    "    \n",
    "    for loop in range(collection_eps):        \n",
    "        # Make new learner list based on newest data\n",
    "        learners = mba.make_learner_list(num_learners, worm_pars={'num_models':1, 'frac':1},\n",
    "                                gamma=gamma, epsilon=epsilon, alpha=alpha, q_checkpoint=worm_agent.Qtab)        \n",
    "        \n",
    "        # Start multiprocessing\n",
    "        manager = multiprocessing.Manager()\n",
    "        poison_queue = manager.Queue()\n",
    "        pool = multiprocessing.Pool()\n",
    "        \n",
    "        # Run main functions: train agents and collect more data\n",
    "        lea_outs = []\n",
    "        print('learning')\n",
    "        for lea in learners:\n",
    "            lea_outs.append(pool.apply_async(lea.learn, [dh],{'learn_limit':1000}))\n",
    "        # Wait for them to finish\n",
    "        pool.close()\n",
    "        pool.join()\n",
    "        for lea_out in lea_outs:\n",
    "            if lea_out.successful() is False:\n",
    "                raise Exception('One learner failed')\n",
    "        \n",
    "        # Combining learners from run\n",
    "        worm_agent.Qtab = mba.combine_learners(lea_outs)\n",
    "        qtabs.append(worm_agent.Qtab.reshape((12,12,2)))"
   ]
  },
  {
   "cell_type": "code",
   "execution_count": 19,
   "metadata": {},
   "outputs": [
    {
     "data": {
      "image/png": "[encoded data removed]",
      "text/plain": [
       "<Figure size 432x288 with 4 Axes>"
      ]
     },
     "metadata": {
      "needs_background": "light"
     },
     "output_type": "display_data"
    }
   ],
   "source": [
    "plot_qtabs(worm_agent)"
   ]
  },
  {
   "cell_type": "code",
   "execution_count": 13,
   "metadata": {},
   "outputs": [],
   "source": [
    "num_learners = 1\n",
    "collection_eps = 1\n",
    "\n",
    "gamma=.25\n",
    "epsilon=.05\n",
    "alpha=.01\n",
    "init_df = 'ensemble_testing.pkl'\n",
    "qtabs = []\n",
    "\n",
    "\n",
    "worm_agent = tab.Q_Alpha_Agent(gamma=gamma, epsilon=epsilon, alpha=alpha) # Agent doesn't learn\n",
    "# Start model environments and learners \n",
    "dh = mba.DataHandler()\n",
    "dh.load_df(init_df)\n",
    "dh.df = dh.df\n",
    "    \n",
    "# for loop in range(collection_eps):        \n",
    "#     # Make new learner list based on newest data\n",
    "#     learners = mba.make_learner_list(num_learners, worm_pars={'num_models':1, 'frac':1},\n",
    "#                             gamma=gamma, epsilon=epsilon, alpha=alpha, q_checkpoint=worm_agent.Qtab)        \n",
    "#     print('learning')\n",
    "#     for lea in learners:\n",
    "#         lea.learn(dh,learn_limit=100)"
   ]
  },
  {
   "cell_type": "code",
   "execution_count": 13,
   "metadata": {},
   "outputs": [
    {
     "name": "stdout",
     "output_type": "stream",
     "text": [
      "On model 0\n"
     ]
    }
   ],
   "source": [
    "mset = eme.ModelSet(1,frac=1)\n",
    "mset.make_models(dh,{'lambda':.05,'iters':30})"
   ]
  },
  {
   "cell_type": "code",
   "execution_count": 14,
   "metadata": {},
   "outputs": [
    {
     "name": "stdout",
     "output_type": "stream",
     "text": [
      "Ob: -180 -180: 0\n",
      "Ob: -180 -150: 0\n",
      "Ob: -180 -120: 0\n",
      "Ob: -180 -90: 0\n",
      "Ob: -180 -60: 0\n",
      "Ob: -180 -30: 0\n",
      "Ob: -180 0: 0\n",
      "Ob: -180 30: 0\n",
      "Ob: -180 60: 0\n",
      "Ob: -180 90: 0\n",
      "Ob: -180 120: 0\n",
      "Ob: -180 150: 0\n",
      "Ob: -150 -180: 0\n",
      "Ob: -150 -150: 0\n",
      "Ob: -150 -120: 3\n",
      "Ob: -150 -90: 3\n",
      "Ob: -150 -60: 8\n",
      "Ob: -150 -30: 43\n",
      "Ob: -150 0: 25\n",
      "Ob: -150 30: 15\n",
      "Ob: -150 60: 37\n",
      "Ob: -150 90: 0\n",
      "Ob: -150 120: 0\n",
      "Ob: -150 150: 0\n",
      "Ob: -120 -180: 2\n",
      "Ob: -120 -150: 3\n",
      "Ob: -120 -120: 0\n",
      "Ob: -120 -90: 0\n",
      "Ob: -120 -60: 12\n",
      "Ob: -120 -30: 11\n",
      "Ob: -120 0: 3\n",
      "Ob: -120 30: 4\n",
      "Ob: -120 60: 3\n",
      "Ob: -120 90: 5\n",
      "Ob: -120 120: 1\n",
      "Ob: -120 150: 0\n",
      "Ob: -90 -180: 0\n",
      "Ob: -90 -150: 0\n",
      "Ob: -90 -120: 0\n",
      "Ob: -90 -90: 0\n",
      "Ob: -90 -60: 0\n",
      "Ob: -90 -30: 0\n",
      "Ob: -90 0: 0\n",
      "Ob: -90 30: 0\n",
      "Ob: -90 60: 0\n",
      "Ob: -90 90: 2\n",
      "Ob: -90 120: 0\n",
      "Ob: -90 150: 0\n",
      "Ob: -60 -180: 0\n",
      "Ob: -60 -150: 0\n",
      "Ob: -60 -120: 0\n",
      "Ob: -60 -90: 3\n",
      "Ob: -60 -60: 1\n",
      "Ob: -60 -30: 23\n",
      "Ob: -60 0: 32\n",
      "Ob: -60 30: 28\n",
      "Ob: -60 60: 32\n",
      "Ob: -60 90: 1\n",
      "Ob: -60 120: 1\n",
      "Ob: -60 150: 0\n",
      "Ob: -30 -180: 0\n",
      "Ob: -30 -150: 3\n",
      "Ob: -30 -120: 5\n",
      "Ob: -30 -90: 6\n",
      "Ob: -30 -60: 50\n",
      "Ob: -30 -30: 22\n",
      "Ob: -30 0: 14\n",
      "Ob: -30 30: 78\n",
      "Ob: -30 60: 12\n",
      "Ob: -30 90: 6\n",
      "Ob: -30 120: 3\n",
      "Ob: -30 150: 0\n",
      "Ob: 0 -180: 0\n",
      "Ob: 0 -150: 0\n",
      "Ob: 0 -120: 0\n",
      "Ob: 0 -90: 0\n",
      "Ob: 0 -60: 0\n",
      "Ob: 0 -30: 0\n",
      "Ob: 0 0: 1\n",
      "Ob: 0 30: 0\n",
      "Ob: 0 60: 0\n",
      "Ob: 0 90: 0\n",
      "Ob: 0 120: 0\n",
      "Ob: 0 150: 0\n",
      "Ob: 30 -180: 10\n",
      "Ob: 30 -150: 3\n",
      "Ob: 30 -120: 1\n",
      "Ob: 30 -90: 3\n",
      "Ob: 30 -60: 12\n",
      "Ob: 30 -30: 201\n",
      "Ob: 30 0: 90\n",
      "Ob: 30 30: 80\n",
      "Ob: 30 60: 83\n",
      "Ob: 30 90: 6\n",
      "Ob: 30 120: 3\n",
      "Ob: 30 150: 7\n",
      "Ob: 60 -180: 0\n",
      "Ob: 60 -150: 1\n",
      "Ob: 60 -120: 3\n",
      "Ob: 60 -90: 1\n",
      "Ob: 60 -60: 45\n",
      "Ob: 60 -30: 85\n",
      "Ob: 60 0: 56\n",
      "Ob: 60 30: 142\n",
      "Ob: 60 60: 11\n",
      "Ob: 60 90: 1\n",
      "Ob: 60 120: 1\n",
      "Ob: 60 150: 3\n",
      "Ob: 90 -180: 0\n",
      "Ob: 90 -150: 0\n",
      "Ob: 90 -120: 0\n",
      "Ob: 90 -90: 1\n",
      "Ob: 90 -60: 0\n",
      "Ob: 90 -30: 1\n",
      "Ob: 90 0: 63\n",
      "Ob: 90 30: 5\n",
      "Ob: 90 60: 3\n",
      "Ob: 90 90: 1\n",
      "Ob: 90 120: 0\n",
      "Ob: 90 150: 0\n",
      "Ob: 120 -180: 0\n",
      "Ob: 120 -150: 0\n",
      "Ob: 120 -120: 4\n",
      "Ob: 120 -90: 12\n",
      "Ob: 120 -60: 24\n",
      "Ob: 120 -30: 223\n",
      "Ob: 120 0: 56\n",
      "Ob: 120 30: 39\n",
      "Ob: 120 60: 61\n",
      "Ob: 120 90: 2\n",
      "Ob: 120 120: 0\n",
      "Ob: 120 150: 0\n",
      "Ob: 150 -180: 0\n",
      "Ob: 150 -150: 0\n",
      "Ob: 150 -120: 0\n",
      "Ob: 150 -90: 0\n",
      "Ob: 150 -60: 65\n",
      "Ob: 150 -30: 15\n",
      "Ob: 150 0: 8\n",
      "Ob: 150 30: 24\n",
      "Ob: 150 60: 6\n",
      "Ob: 150 90: 1\n",
      "Ob: 150 120: 30\n",
      "Ob: 150 150: 7\n"
     ]
    }
   ],
   "source": [
    "for ob in np.arange(-180,180,30):\n",
    "    for obh in np.arange(-180,180,30):\n",
    "        print(f\"Ob: {ob} {obh}: {len(dh.df.query('obs_b=='+str(ob)+'& obs_h=='+str(obh)))}\")"
   ]
  },
  {
   "cell_type": "code",
   "execution_count": 36,
   "metadata": {},
   "outputs": [
    {
     "name": "stdout",
     "output_type": "stream",
     "text": [
      "Ob: -180 150: 29\n",
      "Ob: -150 150: 5910\n",
      "Ob: -120 150: 4693\n",
      "Ob: -90 150: 41\n",
      "Ob: -60 150: 6331\n",
      "Ob: -30 150: 4361\n",
      "Ob: 0 150: 46\n",
      "Ob: 30 150: 6933\n",
      "Ob: 60 150: 4936\n",
      "Ob: 90 150: 87\n",
      "Ob: 120 150: 6362\n",
      "Ob: 150 150: 4178\n"
     ]
    }
   ],
   "source": [
    "for ob in np.arange(-180,180,30):\n",
    "    print(f\"Ob: {ob} {obh}: {len(dh.df.query('obs_b=='+str(ob)))}\")"
   ]
  },
  {
   "cell_type": "code",
   "execution_count": 7,
   "metadata": {},
   "outputs": [
    {
     "ename": "IndexError",
     "evalue": "list index out of range",
     "output_type": "error",
     "traceback": [
      "\u001b[1;31m---------------------------------------------------------------------------\u001b[0m",
      "\u001b[1;31mIndexError\u001b[0m                                Traceback (most recent call last)",
      "\u001b[1;32m<ipython-input-7-fe0b12b3b14a>\u001b[0m in \u001b[0;36m<module>\u001b[1;34m\u001b[0m\n\u001b[0;32m      1\u001b[0m \u001b[0mplt\u001b[0m\u001b[1;33m.\u001b[0m\u001b[0mfigure\u001b[0m\u001b[1;33m(\u001b[0m\u001b[0mfigsize\u001b[0m\u001b[1;33m=\u001b[0m\u001b[1;33m(\u001b[0m\u001b[1;36m3\u001b[0m\u001b[1;33m,\u001b[0m\u001b[1;36m3\u001b[0m\u001b[1;33m)\u001b[0m\u001b[1;33m)\u001b[0m\u001b[1;33m\u001b[0m\u001b[1;33m\u001b[0m\u001b[0m\n\u001b[1;32m----> 2\u001b[1;33m \u001b[0mplt\u001b[0m\u001b[1;33m.\u001b[0m\u001b[0mimshow\u001b[0m\u001b[1;33m(\u001b[0m\u001b[0mlearners\u001b[0m\u001b[1;33m[\u001b[0m\u001b[1;36m0\u001b[0m\u001b[1;33m]\u001b[0m\u001b[1;33m.\u001b[0m\u001b[0mmodset\u001b[0m\u001b[1;33m.\u001b[0m\u001b[0mmodels\u001b[0m\u001b[1;33m[\u001b[0m\u001b[1;36m0\u001b[0m\u001b[1;33m]\u001b[0m\u001b[1;33m[\u001b[0m\u001b[1;34m'reward_on'\u001b[0m\u001b[1;33m]\u001b[0m\u001b[1;33m[\u001b[0m\u001b[1;33m:\u001b[0m\u001b[1;33m,\u001b[0m\u001b[1;33m:\u001b[0m\u001b[1;33m,\u001b[0m\u001b[1;36m0\u001b[0m\u001b[1;33m]\u001b[0m\u001b[1;33m)\u001b[0m\u001b[1;33m\u001b[0m\u001b[1;33m\u001b[0m\u001b[0m\n\u001b[0m\u001b[0;32m      3\u001b[0m \u001b[0mplt\u001b[0m\u001b[1;33m.\u001b[0m\u001b[0mcolorbar\u001b[0m\u001b[1;33m(\u001b[0m\u001b[1;33m)\u001b[0m\u001b[1;33m;\u001b[0m\u001b[1;33m\u001b[0m\u001b[1;33m\u001b[0m\u001b[0m\n",
      "\u001b[1;31mIndexError\u001b[0m: list index out of range"
     ]
    },
    {
     "data": {
      "text/plain": [
       "<Figure size 216x216 with 0 Axes>"
      ]
     },
     "metadata": {},
     "output_type": "display_data"
    }
   ],
   "source": [
    "plt.figure(figsize=(3,3))\n",
    "plt.imshow(learners[0].modset.models[0]['reward_on'][:,:,0])\n",
    "plt.colorbar();"
   ]
  },
  {
   "cell_type": "code",
   "execution_count": 12,
   "metadata": {},
   "outputs": [
    {
     "data": {
      "text/plain": [
       "[]"
      ]
     },
     "execution_count": 12,
     "metadata": {},
     "output_type": "execute_result"
    }
   ],
   "source": [
    "learners[0].modset.models"
   ]
  },
  {
   "cell_type": "code",
   "execution_count": 27,
   "metadata": {},
   "outputs": [
    {
     "data": {
      "image/png": "[encoded data removed]",
      "text/plain": [
       "<Figure size 216x216 with 2 Axes>"
      ]
     },
     "metadata": {
      "needs_background": "light"
     },
     "output_type": "display_data"
    }
   ],
   "source": [
    "plt.figure(figsize=(3,3))\n",
    "plt.imshow(mset.models[0]['reward_on'][:,:,0])\n",
    "plt.colorbar();"
   ]
  },
  {
   "cell_type": "code",
   "execution_count": 28,
   "metadata": {},
   "outputs": [
    {
     "data": {
      "image/png": "[encoded data removed]",
      "text/plain": [
       "<Figure size 216x216 with 2 Axes>"
      ]
     },
     "metadata": {
      "needs_background": "light"
     },
     "output_type": "display_data"
    }
   ],
   "source": [
    "plt.figure(figsize=(3,3))\n",
    "plt.imshow(mset.models[0]['reward_off'][:,:,0])\n",
    "plt.colorbar();"
   ]
  },
  {
   "cell_type": "code",
   "execution_count": 30,
   "metadata": {},
   "outputs": [
    {
     "data": {
      "image/png": "[encoded data removed]",
      "text/plain": [
       "<Figure size 216x216 with 2 Axes>"
      ]
     },
     "metadata": {
      "needs_background": "light"
     },
     "output_type": "display_data"
    }
   ],
   "source": [
    "plt.figure(figsize=(3,3))\n",
    "plt.imshow(mset.models[0]['reward_off'][:,:,0])\n",
    "plt.colorbar();"
   ]
  },
  {
   "cell_type": "code",
   "execution_count": 15,
   "metadata": {},
   "outputs": [
    {
     "data": {
      "image/png": "[encoded data removed]",
      "text/plain": [
       "<Figure size 432x288 with 2 Axes>"
      ]
     },
     "metadata": {
      "needs_background": "light"
     },
     "output_type": "display_data"
    }
   ],
   "source": [
    "plt.imshow(np.sign(-1+mset.models[0]['reward_on'][:,:,0]-mset.models[0]['reward_off'][:,:,0]))\n",
    "plt.colorbar();"
   ]
  },
  {
   "cell_type": "code",
   "execution_count": 35,
   "metadata": {},
   "outputs": [],
   "source": [
    "def smoothen_dev(matrix,counts,ang,smooth_par=.05,iters=30,wraparound=True,diagonals=True): \n",
    "    # matrix is in form [12,12]\n",
    "    # counts is [12,12].\n",
    "    # ang is bool, True if angle matrix\n",
    "    # Will start with a simple weighted average between nearest neighbors and diagonals.\n",
    "    #\n",
    "    # Derivation for procedure in CL's nb page 81\n",
    "    \n",
    "    if np.array_equal(matrix,counts):\n",
    "        count_version = True\n",
    "    else:\n",
    "        count_version = False\n",
    "        \n",
    "    if not np.all(counts):\n",
    "        counts+=1\n",
    "    # So the shapes start out right before looping \n",
    "    matrix = make_wraparound(matrix, ang, wraparound=True)\n",
    "    counts = make_wraparound(counts, False, wraparound=True)\n",
    "    if ang:\n",
    "        buffer=180\n",
    "    else:\n",
    "        buffer=None\n",
    "    \n",
    "    for it in range(iters):\n",
    "        matrix = make_wraparound(matrix[1:-1,1:-1], ang, wraparound=True)\n",
    "        tempmat = np.copy(matrix) # Now tempmat and matrix are the same extended size\n",
    "        rows,cols = np.array(matrix.shape)-2 \n",
    "\n",
    "        # Loops through each matrix element and weights changes by counts\n",
    "        for i in np.arange(rows)+1:\n",
    "            for j in np.arange(cols)+1:\n",
    "                neighs = wrap_correct(get_neighbors(matrix,(i,j)), ref=matrix[i,j], buffer=buffer)\n",
    "                neigh_counts = get_neighbors(counts,(i,j))\n",
    "                prod_nn = np.sum(np.multiply(neigh_counts, neighs))\n",
    "                c_nn = np.sum(neigh_counts)\n",
    "                \n",
    "                if diagonals:\n",
    "                    # Diagonal entries (scaled by 1/sqrt(2))\n",
    "                    neighs_d = wrap_correct(get_diags(matrix,(i,j)), ref=matrix[i,j], buffer=buffer)\n",
    "                    neigh_counts_d = get_diags(counts,(i,j))\n",
    "                    prod_d = np.sum(np.multiply(neigh_counts_d, neighs_d))\n",
    "                    c_d = np.sum(neigh_counts_d)\n",
    "                    \n",
    "                    mu = (prod_nn/c_nn + prod_d/(np.sqrt(2)*c_d)) / (1+np.sqrt(2))\n",
    "                    alpha = 1/(1+(4*counts[i,j]*(1+np.sqrt(2)))/(c_nn+c_d))\n",
    "                    \n",
    "                else:\n",
    "                    mu = prod_nn/c_nn\n",
    "                    alpha = 1/(1+(4*counts[i,j]/c_nn))\n",
    "                    \n",
    "                tempmat[i,j] = tempmat[i,j] + smooth_par*alpha*(mu - tempmat[i,j])\n",
    "            \n",
    "                \n",
    "        # After tempmat is updated, set reference matrix to be the same\n",
    "        # This way updates within one iteration don't get included in the same iteration\n",
    "        matrix = np.copy(tempmat)\n",
    "        if not count_version:\n",
    "            counts = smoothen_dev(counts,counts,False,smooth_par=smooth_par,iters=1)\n",
    "    \n",
    "    return wrap_correct(matrix[1:-1,1:-1], buffer=buffer)"
   ]
  },
  {
   "cell_type": "code",
   "execution_count": 108,
   "metadata": {},
   "outputs": [],
   "source": [
    "def make_dist_dict(df, sm_pars=None,\n",
    "    prev_act_window=3,\n",
    "    cut_reversals=True):\n",
    "    # Makes a dictionary of distributions using trajectory statistics.\n",
    "    # sm_pars is a dict of form {'lambda': .05, 'iters': 30}\n",
    "    #     If None, then no smoothing.\n",
    "    # cut_reversals is a boolean\n",
    "\n",
    "    traj_on = df.query('prev_actions=='+str(prev_act_window))\n",
    "    traj_off = df.query('prev_actions==0')\n",
    "\n",
    "    r_on, b_on, h_on, count_on = make_stat_mats(traj_on, cut_reversals=cut_reversals)\n",
    "    r_off, b_off, h_off, count_off = make_stat_mats(traj_off, cut_reversals=cut_reversals)\n",
    "\n",
    "    all_mats = [r_on,b_on,h_on,r_off,b_off,h_off]\n",
    "    counts = [count_on,count_off]\n",
    "\n",
    "    for i in range(len(all_mats)):\n",
    "        for j in range(2):\n",
    "            if j==1 or i==0 or i==3:\n",
    "                ang_par = False\n",
    "            else:\n",
    "                ang_par = True\n",
    "            all_mats[i][:,:,j] = lin_interp_mat(all_mats[i][:,:,j], ang_par)\n",
    "            \n",
    "            if sm_pars is not None:\n",
    "                all_mats[i][:,:,j] = smoothen(all_mats[i][:,:,j], \n",
    "                                                counts[i//3], ang_par, \n",
    "                                                smooth_par=sm_pars['lambda'], iters=sm_pars['iters'])\n",
    "\n",
    "    dist_dict = {\n",
    "        'body_on': b_on,\n",
    "        'body_off': b_off,\n",
    "        'head_on': h_on,\n",
    "        'head_off': h_off,\n",
    "        'reward_on': r_on,\n",
    "        'reward_off': r_off,\n",
    "    }    \n",
    "    return dist_dict, counts\n",
    "\n",
    "def add_to_traj(trajectory,info):\n",
    "    # appends each key in info to the corresponding key in trajectory.\n",
    "    # If trajectory is empty, returns trajectory as copy of info but with each element as list\n",
    "    # so it can be appended to in the future.\n",
    "\n",
    "    if trajectory:\n",
    "        for k in info.keys():\n",
    "            trajectory[k].append(info[k])\n",
    "    else:\n",
    "        for k in info.keys():\n",
    "            trajectory[k] = [info[k]]\n",
    "\n",
    "def make_stat_mats(df, cut_reversals=True):\n",
    "    # This version should have an option to check HT switches so I can test.\n",
    "    # Inner func does most of the work querying for each obs.\n",
    "    # cut_reversals is True if body angle switches happen. Note that it does cut both incorrect\n",
    "    #   switches and correct ones.\n",
    "    # Returns everything at once: \n",
    "    #   r_mat[12,12,2], b_mat[12,12,2], h_mat[12,12,2], counts[12,12].\n",
    "\n",
    "    def get_stats_angs(df, obs, cut_reversals=True):\n",
    "        # Gets mean and var of df values that match obs, centered on obs\n",
    "        # Remove points where HT orientation switched\n",
    "        # Returns r_stats, b_stats, h_stats, count. The first three are tuples [mu,var].\n",
    "\n",
    "        if cut_reversals:\n",
    "            backwards = obs[0]-180\n",
    "            if backwards < -180:\n",
    "                backwards += 360\n",
    "        else:\n",
    "            backwards = 1e5\n",
    "\n",
    "        df_d = dict(zip(df.columns,range(len(df.columns))))\n",
    "        series = df.query('obs_b=='+str(obs[0])+'& obs_h=='+str(obs[1])+\n",
    "            '& next_obs_b!='+str(backwards)).copy()\n",
    "        series.iloc[:,df_d['next_obs_b']] = wrap_correct(series['next_obs_b'].to_numpy(),ref=series['obs_b'].to_numpy(),buffer=180)\n",
    "        series.iloc[:,df_d['next_obs_h']] = wrap_correct(series['next_obs_h'].to_numpy(),ref=series['obs_h'].to_numpy(),buffer=180)\n",
    "\n",
    "        # Handles case for one sample (initialize)\n",
    "        r_sts,b_sts,h_sts,count = [np.nan,np.nan],[np.nan,np.nan],[np.nan,np.nan],0\n",
    "        if series.size > 0:    \n",
    "            r_sts[0],b_sts[0],h_sts[0] = wrap_correct(series['reward'].mean(),buffer=None), \\\n",
    "                                            wrap_correct(series['next_obs_b'].mean(),buffer=180), \\\n",
    "                                            wrap_correct(series['next_obs_h'].mean(),buffer=180)\n",
    "            if series.size > 1:\n",
    "                r_sts[1],b_sts[1],h_sts[1] = series['reward'].var(), \\\n",
    "                                                series['next_obs_b'].var(), \\\n",
    "                                                series['next_obs_h'].var()\n",
    "        return r_sts,b_sts,h_sts,series.size\n",
    "\n",
    "\n",
    "    r_mat = np.zeros((12,12,2)) + np.nan \n",
    "    b_mat = np.zeros((12,12,2)) + np.nan \n",
    "    h_mat = np.zeros((12,12,2)) + np.nan \n",
    "    counts = np.zeros((12,12))\n",
    "\n",
    "    for i,theta_b in enumerate(np.arange(-180,180,30)):\n",
    "        for j,theta_h in enumerate(np.arange(-180,180,30)):\n",
    "            r_sts,b_sts,h_sts,counts[i,j] = get_stats_angs(df,[theta_b,theta_h])\n",
    "            r_mat[i,j,:] = r_sts\n",
    "            b_mat[i,j,:] = b_sts\n",
    "            h_mat[i,j,:] = h_sts\n",
    "\n",
    "    return r_mat, b_mat, h_mat, counts\n",
    "\n",
    "'''\n",
    "Matrix regularizers: interpolation and smoothing\n",
    "'''\n",
    "def lin_interp_mat(mat,ang,wraparound=True):\n",
    "    # Fills in NaNs in matrix by linear interpolation. \n",
    "    # ang is a boolean (True if data are for angles)\n",
    "    # Only considers nearest neighbors (no diagonals).\n",
    "    # Fills in NaNs from most neighbors to least neighbors.\n",
    "    # wraparound extends matrix in all four directions. \n",
    "    if ang:\n",
    "        buffer=180\n",
    "    else:\n",
    "        buffer=1e6\n",
    "\n",
    "    mat = make_wraparound(mat,ang,wraparound=wraparound)\n",
    "\n",
    "    # Find nans in relevant matrix section\n",
    "    nan_inds = np.argwhere(np.isnan(mat[1:-1,1:-1])) + 1\n",
    "        # add 1 because need index for extended matrix\n",
    "    \n",
    "    neighbor_lim = 3\n",
    "    while nan_inds.size>0: \n",
    "        candidates = 0\n",
    "        for ind in nan_inds:\n",
    "            neighbors = get_neighbors(mat,ind)\n",
    "            if sum(~np.isnan(neighbors)) >= neighbor_lim:\n",
    "                mat[ind[0],ind[1]] = np.mean(wrap_correct(neighbors[~np.isnan(neighbors)], ref=min(neighbors), buffer=buffer))\n",
    "                candidates+=1\n",
    "        if candidates==0:\n",
    "            neighbor_lim-=1\n",
    "        nan_inds = np.argwhere(np.isnan(mat[1:-1,1:-1])) + 1\n",
    "\n",
    "    return wrap_correct(mat[1:-1,1:-1],buffer=buffer)\n",
    "\n",
    "def smoothen(matrix,counts,ang,smooth_par=.05,iters=30,wraparound=True,diagonals=True): \n",
    "    # matrix is in form [12,12]\n",
    "    # counts is [12,12].\n",
    "    # ang is bool, True if angle matrix\n",
    "    # Will start with a simple weighted average between nearest neighbors and diagonals.\n",
    "    #\n",
    "    # Derivation for procedure in CL's nb page 81\n",
    "    \n",
    "    if np.array_equal(matrix,counts):\n",
    "        count_version = True\n",
    "    else:\n",
    "        count_version = False\n",
    "        \n",
    "    if not np.all(counts):\n",
    "        counts+=1\n",
    "    # So the shapes start out right before looping \n",
    "    matrix = make_wraparound(matrix, ang, wraparound=True)\n",
    "    counts = make_wraparound(counts, False, wraparound=True)\n",
    "    if ang:\n",
    "        buffer=180\n",
    "    else:\n",
    "        buffer=None\n",
    "    \n",
    "    for it in range(iters):\n",
    "        matrix = make_wraparound(matrix[1:-1,1:-1], ang, wraparound=True)\n",
    "        tempmat = np.copy(matrix) # Now tempmat and matrix are the same extended size\n",
    "        rows,cols = np.array(matrix.shape)-2 \n",
    "\n",
    "        # Loops through each matrix element and weights changes by counts\n",
    "        for i in np.arange(rows)+1:\n",
    "            for j in np.arange(cols)+1:\n",
    "                neighs = wrap_correct(get_neighbors(matrix,(i,j)), ref=matrix[i,j], buffer=buffer)\n",
    "                neigh_counts = get_neighbors(counts,(i,j))\n",
    "                prod_nn = np.sum(np.multiply(neigh_counts, neighs))\n",
    "                c_nn = np.sum(neigh_counts)\n",
    "                \n",
    "                if diagonals:\n",
    "                    # Diagonal entries (scaled by 1/sqrt(2))\n",
    "                    neighs_d = wrap_correct(get_diags(matrix,(i,j)), ref=matrix[i,j], buffer=buffer)\n",
    "                    neigh_counts_d = get_diags(counts,(i,j))\n",
    "                    prod_d = np.sum(np.multiply(neigh_counts_d, neighs_d))\n",
    "                    c_d = np.sum(neigh_counts_d)\n",
    "                    \n",
    "                    mu = (prod_nn/c_nn + prod_d/(np.sqrt(2)*c_d)) / (1+np.sqrt(2))\n",
    "                    alpha = 1/(1+(4*counts[i,j]*(1+np.sqrt(2)))/(c_nn+c_d))\n",
    "                    \n",
    "                else:\n",
    "                    mu = prod_nn/c_nn\n",
    "                    alpha = 1/(1+(4*counts[i,j]/c_nn))\n",
    "                    \n",
    "                tempmat[i,j] = tempmat[i,j] + smooth_par*alpha*(mu - tempmat[i,j])\n",
    "            \n",
    "                \n",
    "        # After tempmat is updated, set reference matrix to be the same\n",
    "        # This way updates within one iteration don't get included in the same iteration\n",
    "        matrix = np.copy(tempmat)\n",
    "        if not count_version:\n",
    "            counts = smoothen(counts,counts,False,smooth_par=smooth_par,iters=1)\n",
    "    \n",
    "    return wrap_correct(matrix[1:-1,1:-1], buffer=buffer)\n",
    "\n",
    "'''\n",
    "Small funcs and utils\n",
    "'''\n",
    "def wrap_correct(arr_orig,ref=0,buffer=180):\n",
    "    # Takes angles and translates them to +/-buffer around ref.\n",
    "    # For things like std, use large buffer so it doesn't change\n",
    "    # If both arrays, send each element through this function.\n",
    "    if buffer is None:\n",
    "        return arr_orig\n",
    "    \n",
    "    if hasattr(arr_orig,\"__len__\"):\n",
    "        arr = arr_orig.copy()\n",
    "        if hasattr(ref,\"__len__\"):\n",
    "            for i in range(len(arr)):\n",
    "                arr[i] = wrap_correct(arr[i],ref=ref[i],buffer=buffer)\n",
    "        # If only arr is an array\n",
    "        else:\n",
    "            arr[arr<ref-buffer]+=buffer*2\n",
    "            arr[arr>=ref+buffer]-=buffer*2\n",
    "            if len(arr[arr<ref-buffer])>0 or len(arr[arr>=ref+buffer])>0:\n",
    "                arr = wrap_correct(arr,ref=ref,buffer=buffer)\n",
    "    else:\n",
    "        arr = arr_orig\n",
    "        if arr<ref-buffer:\n",
    "            arr+=buffer*2\n",
    "            if arr<ref-buffer:\n",
    "                arr = wrap_correct(arr,ref=ref,buffer=buffer)\n",
    "        elif arr>=ref+buffer:\n",
    "            arr-=buffer*2\n",
    "            if arr>=ref+buffer:\n",
    "                arr = wrap_correct(arr,ref=ref,buffer=buffer)\n",
    "    return arr\n",
    "        \n",
    "def make_wraparound(mat,ang,wraparound=True):\n",
    "    # Expands matrix for wraparound interpolation\n",
    "    # If matrix is angle values, set ang=True.\n",
    "    mat_new = np.zeros((np.array(mat.shape)+2)) + np.nan\n",
    "    mat_new[1:-1,1:-1] = mat\n",
    "    if ang:\n",
    "        buffer=180\n",
    "    else:\n",
    "        buffer=None\n",
    "\n",
    "    if wraparound:\n",
    "        # diagonals\n",
    "        mat_new[0,0] = wrap_correct(mat[-1,-1], ref=mat[0,0], buffer=buffer)\n",
    "        mat_new[0,-1] = wrap_correct(mat[-1,0], ref=mat[0,-1], buffer=buffer)\n",
    "        mat_new[-1,0] = wrap_correct(mat[0,-1], ref=mat[-1,0], buffer=buffer)\n",
    "        mat_new[-1,-1] = wrap_correct(mat[0,0], ref=mat[-1,-1], buffer=buffer)\n",
    "        # adjacents\n",
    "        mat_new[0,1:-1] = wrap_correct(mat[-1,:], ref=mat[0,:], buffer=buffer)\n",
    "        mat_new[-1,1:-1] = wrap_correct(mat[0,:], ref=mat[-1,:], buffer=buffer)\n",
    "        mat_new[1:-1,0] = wrap_correct(mat[:,-1], ref=mat[:,0], buffer=buffer)\n",
    "        mat_new[1:-1,-1] = wrap_correct(mat[:,0], ref=mat[:,-1], buffer=buffer)\n",
    "    return mat_new\n",
    "\n",
    "def get_neighbors(mat,i):\n",
    "    # Makes array of four neighbors around mat[index]\n",
    "    # index is a pair\n",
    "    return np.array([mat[i[0],i[1]-1], mat[i[0],i[1]+1], mat[i[0]-1,i[1]], mat[i[0]+1,i[1]]])\n",
    "\n",
    "def get_diags(mat,i):\n",
    "    return np.array([mat[i[0]-1,i[1]-1], mat[i[0]-1,i[1]+1], mat[i[0]+1,i[1]-1], mat[i[0]+1,i[1]+1]])\n",
    "\n",
    "def myround(x, base=30):\n",
    "    return base * round(x/base)"
   ]
  },
  {
   "cell_type": "code",
   "execution_count": 14,
   "metadata": {
    "scrolled": true
   },
   "outputs": [
    {
     "data": {
      "text/html": [
       "<div>\n",
       "<style scoped>\n",
       "    .dataframe tbody tr th:only-of-type {\n",
       "        vertical-align: middle;\n",
       "    }\n",
       "\n",
       "    .dataframe tbody tr th {\n",
       "        vertical-align: top;\n",
       "    }\n",
       "\n",
       "    .dataframe thead th {\n",
       "        text-align: right;\n",
       "    }\n",
       "</style>\n",
       "<table border=\"1\" class=\"dataframe\">\n",
       "  <thead>\n",
       "    <tr style=\"text-align: right;\">\n",
       "      <th></th>\n",
       "      <th>t</th>\n",
       "      <th>obs_b</th>\n",
       "      <th>obs_h</th>\n",
       "      <th>prev_actions</th>\n",
       "      <th>next_obs_b</th>\n",
       "      <th>next_obs_h</th>\n",
       "      <th>reward</th>\n",
       "      <th>loc</th>\n",
       "    </tr>\n",
       "  </thead>\n",
       "  <tbody>\n",
       "    <tr>\n",
       "      <th>0</th>\n",
       "      <td>0.953</td>\n",
       "      <td>30</td>\n",
       "      <td>60</td>\n",
       "      <td>3</td>\n",
       "      <td>-150</td>\n",
       "      <td>-120</td>\n",
       "      <td>-3.616162</td>\n",
       "      <td>[848.7272727272727, 1067.8181818181818]</td>\n",
       "    </tr>\n",
       "    <tr>\n",
       "      <th>1</th>\n",
       "      <td>1.140</td>\n",
       "      <td>-150</td>\n",
       "      <td>-120</td>\n",
       "      <td>3</td>\n",
       "      <td>30</td>\n",
       "      <td>-30</td>\n",
       "      <td>-0.737374</td>\n",
       "      <td>[848.3, 1068.0]</td>\n",
       "    </tr>\n",
       "    <tr>\n",
       "      <th>2</th>\n",
       "      <td>1.312</td>\n",
       "      <td>30</td>\n",
       "      <td>-30</td>\n",
       "      <td>3</td>\n",
       "      <td>150</td>\n",
       "      <td>-60</td>\n",
       "      <td>-1.857143</td>\n",
       "      <td>[848.25, 1068.0]</td>\n",
       "    </tr>\n",
       "    <tr>\n",
       "      <th>3</th>\n",
       "      <td>1.500</td>\n",
       "      <td>150</td>\n",
       "      <td>-60</td>\n",
       "      <td>2</td>\n",
       "      <td>150</td>\n",
       "      <td>-60</td>\n",
       "      <td>1.714286</td>\n",
       "      <td>[847.8333333333334, 1068.1666666666667]</td>\n",
       "    </tr>\n",
       "    <tr>\n",
       "      <th>4</th>\n",
       "      <td>1.672</td>\n",
       "      <td>150</td>\n",
       "      <td>-60</td>\n",
       "      <td>1</td>\n",
       "      <td>150</td>\n",
       "      <td>150</td>\n",
       "      <td>-0.033333</td>\n",
       "      <td>[848.0, 1068.125]</td>\n",
       "    </tr>\n",
       "    <tr>\n",
       "      <th>...</th>\n",
       "      <td>...</td>\n",
       "      <td>...</td>\n",
       "      <td>...</td>\n",
       "      <td>...</td>\n",
       "      <td>...</td>\n",
       "      <td>...</td>\n",
       "      <td>...</td>\n",
       "      <td>...</td>\n",
       "    </tr>\n",
       "    <tr>\n",
       "      <th>43902</th>\n",
       "      <td>218.109</td>\n",
       "      <td>30</td>\n",
       "      <td>60</td>\n",
       "      <td>3</td>\n",
       "      <td>-150</td>\n",
       "      <td>60</td>\n",
       "      <td>-7.254115</td>\n",
       "      <td>[1480.469387755102, 1080.8163265306123]</td>\n",
       "    </tr>\n",
       "    <tr>\n",
       "      <th>43903</th>\n",
       "      <td>218.312</td>\n",
       "      <td>-150</td>\n",
       "      <td>60</td>\n",
       "      <td>3</td>\n",
       "      <td>-150</td>\n",
       "      <td>0</td>\n",
       "      <td>-6.373234</td>\n",
       "      <td>[1480.7021276595744, 1080.6170212765958]</td>\n",
       "    </tr>\n",
       "    <tr>\n",
       "      <th>43904</th>\n",
       "      <td>218.484</td>\n",
       "      <td>-150</td>\n",
       "      <td>0</td>\n",
       "      <td>3</td>\n",
       "      <td>-150</td>\n",
       "      <td>0</td>\n",
       "      <td>-7.764628</td>\n",
       "      <td>[1479.842105263158, 1081.4736842105262]</td>\n",
       "    </tr>\n",
       "    <tr>\n",
       "      <th>43905</th>\n",
       "      <td>218.672</td>\n",
       "      <td>-150</td>\n",
       "      <td>0</td>\n",
       "      <td>3</td>\n",
       "      <td>-120</td>\n",
       "      <td>-60</td>\n",
       "      <td>-6.646453</td>\n",
       "      <td>[1478.9166666666667, 1082.4166666666667]</td>\n",
       "    </tr>\n",
       "    <tr>\n",
       "      <th>43906</th>\n",
       "      <td>218.875</td>\n",
       "      <td>-120</td>\n",
       "      <td>-60</td>\n",
       "      <td>3</td>\n",
       "      <td>-120</td>\n",
       "      <td>-60</td>\n",
       "      <td>-6.025362</td>\n",
       "      <td>[1477.3055555555557, 1083.9166666666667]</td>\n",
       "    </tr>\n",
       "  </tbody>\n",
       "</table>\n",
       "<p>43907 rows × 8 columns</p>\n",
       "</div>"
      ],
      "text/plain": [
       "             t obs_b obs_h prev_actions next_obs_b next_obs_h    reward  \\\n",
       "0        0.953    30    60            3       -150       -120 -3.616162   \n",
       "1        1.140  -150  -120            3         30        -30 -0.737374   \n",
       "2        1.312    30   -30            3        150        -60 -1.857143   \n",
       "3        1.500   150   -60            2        150        -60  1.714286   \n",
       "4        1.672   150   -60            1        150        150 -0.033333   \n",
       "...        ...   ...   ...          ...        ...        ...       ...   \n",
       "43902  218.109    30    60            3       -150         60 -7.254115   \n",
       "43903  218.312  -150    60            3       -150          0 -6.373234   \n",
       "43904  218.484  -150     0            3       -150          0 -7.764628   \n",
       "43905  218.672  -150     0            3       -120        -60 -6.646453   \n",
       "43906  218.875  -120   -60            3       -120        -60 -6.025362   \n",
       "\n",
       "                                            loc  \n",
       "0       [848.7272727272727, 1067.8181818181818]  \n",
       "1                               [848.3, 1068.0]  \n",
       "2                              [848.25, 1068.0]  \n",
       "3       [847.8333333333334, 1068.1666666666667]  \n",
       "4                             [848.0, 1068.125]  \n",
       "...                                         ...  \n",
       "43902   [1480.469387755102, 1080.8163265306123]  \n",
       "43903  [1480.7021276595744, 1080.6170212765958]  \n",
       "43904   [1479.842105263158, 1081.4736842105262]  \n",
       "43905  [1478.9166666666667, 1082.4166666666667]  \n",
       "43906  [1477.3055555555557, 1083.9166666666667]  \n",
       "\n",
       "[43907 rows x 8 columns]"
      ]
     },
     "execution_count": 14,
     "metadata": {},
     "output_type": "execute_result"
    }
   ],
   "source": [
    "dh.df"
   ]
  },
  {
   "cell_type": "code",
   "execution_count": 115,
   "metadata": {},
   "outputs": [],
   "source": [
    "dd,counts0 = make_dist_dict(dh.df,sm_pars={'lambda':.5,'iters':20})"
   ]
  },
  {
   "cell_type": "code",
   "execution_count": 116,
   "metadata": {},
   "outputs": [
    {
     "data": {
      "image/png": "[encoded data removed]",
      "text/plain": [
       "<Figure size 216x216 with 2 Axes>"
      ]
     },
     "metadata": {
      "needs_background": "light"
     },
     "output_type": "display_data"
    }
   ],
   "source": [
    "plt.figure(figsize=(3,3))\n",
    "plt.imshow(np.sign(dd['reward_on'][:,:,0]-dd['reward_off'][:,:,0]-.15))\n",
    "plt.colorbar();"
   ]
  },
  {
   "cell_type": "code",
   "execution_count": 117,
   "metadata": {},
   "outputs": [
    {
     "data": {
      "text/plain": [
       "<matplotlib.colorbar.Colorbar at 0x1f54197a460>"
      ]
     },
     "execution_count": 117,
     "metadata": {},
     "output_type": "execute_result"
    },
    {
     "data": {
      "image/png": "[encoded data removed]",
      "text/plain": [
       "<Figure size 432x288 with 4 Axes>"
      ]
     },
     "metadata": {
      "needs_background": "light"
     },
     "output_type": "display_data"
    }
   ],
   "source": [
    "fig,ax = plt.subplots(1,2)\n",
    "img=ax[0].imshow(dd['reward_off'][:,:,0])\n",
    "fig.colorbar(img,ax=ax[0])\n",
    "ax[1].imshow(dd['reward_on'][:,:,0])\n",
    "fig.colorbar(img,ax=ax[1])"
   ]
  },
  {
   "cell_type": "code",
   "execution_count": 78,
   "metadata": {},
   "outputs": [
    {
     "data": {
      "image/png": "[encoded data removed]",
      "text/plain": [
       "<Figure size 216x216 with 2 Axes>"
      ]
     },
     "metadata": {
      "needs_background": "light"
     },
     "output_type": "display_data"
    }
   ],
   "source": [
    "plt.figure(figsize=(3,3))\n",
    "plt.imshow(np.sign(dd['reward_on'][:,:,0]-dd['reward_off'][:,:,0]-.15))\n",
    "plt.colorbar();"
   ]
  },
  {
   "cell_type": "code",
   "execution_count": 72,
   "metadata": {},
   "outputs": [
    {
     "data": {
      "text/plain": [
       "<matplotlib.colorbar.Colorbar at 0x1f53db44af0>"
      ]
     },
     "execution_count": 72,
     "metadata": {},
     "output_type": "execute_result"
    },
    {
     "data": {
      "image/png": "[encoded data removed]",
      "text/plain": [
       "<Figure size 432x288 with 4 Axes>"
      ]
     },
     "metadata": {
      "needs_background": "light"
     },
     "output_type": "display_data"
    }
   ],
   "source": [
    "fig,ax = plt.subplots(1,2)\n",
    "img=ax[0].imshow(dd['reward_off'][:,:,0])\n",
    "fig.colorbar(img,ax=ax[0])\n",
    "ax[1].imshow(dd['reward_on'][:,:,0])\n",
    "fig.colorbar(img,ax=ax[1])"
   ]
  },
  {
   "cell_type": "code",
   "execution_count": 84,
   "metadata": {},
   "outputs": [
    {
     "data": {
      "image/png": "[encoded data removed]",
      "text/plain": [
       "<Figure size 216x216 with 2 Axes>"
      ]
     },
     "metadata": {
      "needs_background": "light"
     },
     "output_type": "display_data"
    }
   ],
   "source": [
    "plt.figure(figsize=(3,3))\n",
    "plt.imshow(np.sign(dd['reward_on'][:,:,0]-dd['reward_off'][:,:,0]-.4))\n",
    "plt.colorbar();"
   ]
  },
  {
   "cell_type": "code",
   "execution_count": 81,
   "metadata": {},
   "outputs": [
    {
     "data": {
      "text/plain": [
       "<matplotlib.colorbar.Colorbar at 0x1f540fd8580>"
      ]
     },
     "execution_count": 81,
     "metadata": {},
     "output_type": "execute_result"
    },
    {
     "data": {
      "image/png": "[encoded data removed]",
      "text/plain": [
       "<Figure size 432x288 with 4 Axes>"
      ]
     },
     "metadata": {
      "needs_background": "light"
     },
     "output_type": "display_data"
    }
   ],
   "source": [
    "fig,ax = plt.subplots(1,2)\n",
    "img=ax[0].imshow(dd['reward_off'][:,:,0])\n",
    "fig.colorbar(img,ax=ax[0])\n",
    "ax[1].imshow(dd['reward_on'][:,:,0])\n",
    "fig.colorbar(img,ax=ax[1])"
   ]
  },
  {
   "cell_type": "code",
   "execution_count": 67,
   "metadata": {},
   "outputs": [
    {
     "data": {
      "text/plain": [
       "<matplotlib.colorbar.Colorbar at 0x1f53d98ab20>"
      ]
     },
     "execution_count": 67,
     "metadata": {},
     "output_type": "execute_result"
    },
    {
     "data": {
      "image/png": "[encoded data removed]",
      "text/plain": [
       "<Figure size 432x288 with 4 Axes>"
      ]
     },
     "metadata": {
      "needs_background": "light"
     },
     "output_type": "display_data"
    }
   ],
   "source": [
    "fig,ax = plt.subplots(1,2)\n",
    "img=ax[0].imshow(dd['reward_off'][:,:,0])\n",
    "fig.colorbar(img,ax=ax[0])\n",
    "ax[1].imshow(dd['reward_on'][:,:,0])\n",
    "fig.colorbar(img,ax=ax[1])"
   ]
  },
  {
   "cell_type": "code",
   "execution_count": 68,
   "metadata": {},
   "outputs": [
    {
     "data": {
      "image/png": "[encoded data removed]",
      "text/plain": [
       "<Figure size 216x216 with 2 Axes>"
      ]
     },
     "metadata": {
      "needs_background": "light"
     },
     "output_type": "display_data"
    }
   ],
   "source": [
    "plt.figure(figsize=(3,3))\n",
    "plt.imshow(counts0[0])\n",
    "plt.colorbar();"
   ]
  },
  {
   "cell_type": "code",
   "execution_count": 63,
   "metadata": {},
   "outputs": [
    {
     "data": {
      "image/png": "[encoded data removed]",
      "text/plain": [
       "<Figure size 216x216 with 2 Axes>"
      ]
     },
     "metadata": {
      "needs_background": "light"
     },
     "output_type": "display_data"
    }
   ],
   "source": [
    "plt.figure(figsize=(3,3))\n",
    "plt.imshow(dd['reward_off'][:,:,0])\n",
    "plt.colorbar();"
   ]
  },
  {
   "cell_type": "code",
   "execution_count": 38,
   "metadata": {},
   "outputs": [
    {
     "data": {
      "image/png": "[encoded data removed]",
      "text/plain": [
       "<Figure size 432x288 with 2 Axes>"
      ]
     },
     "metadata": {
      "needs_background": "light"
     },
     "output_type": "display_data"
    }
   ],
   "source": [
    "plt.imshow(counts0[0])\n",
    "plt.colorbar();"
   ]
  },
  {
   "cell_type": "code",
   "execution_count": null,
   "metadata": {},
   "outputs": [],
   "source": []
  }
 ],
 "metadata": {
  "kernelspec": {
   "display_name": "r919",
   "language": "python",
   "name": "r919"
  },
  "language_info": {
   "codemirror_mode": {
    "name": "ipython",
    "version": 3
   },
   "file_extension": ".py",
   "mimetype": "text/x-python",
   "name": "python",
   "nbconvert_exporter": "python",
   "pygments_lexer": "ipython3",
   "version": "3.8.5"
  }
 },
 "nbformat": 4,
 "nbformat_minor": 4
}
