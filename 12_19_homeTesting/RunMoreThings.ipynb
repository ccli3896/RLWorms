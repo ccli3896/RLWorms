{
 "cells": [
  {
   "cell_type": "code",
   "execution_count": 1,
   "metadata": {},
   "outputs": [],
   "source": [
    "# Comparing using some data vs all data when not much has been collected yet.\n",
    "# Goal is to choose between many sampled models or one model with many agents."
   ]
  },
  {
   "cell_type": "code",
   "execution_count": 3,
   "metadata": {},
   "outputs": [],
   "source": [
    "import multiprocessing \n",
    "import numpy as np\n",
    "import matplotlib.pyplot as plt\n",
    "import pandas as pd\n",
    "import os\n",
    "import copy\n",
    "\n",
    "import model_based_agent as mba \n",
    "import utils as ut\n",
    "import tab_agents as tab\n",
    "\n",
    "from datetime import datetime "
   ]
  },
  {
   "cell_type": "code",
   "execution_count": 13,
   "metadata": {},
   "outputs": [],
   "source": [
    "def plot_qtabs(agt,vmin=None,vmax=None):\n",
    "    fig,ax = plt.subplots(1,2)\n",
    "    for i in range(2):\n",
    "        img = ax[i].imshow(agt.Qtab[:,i].reshape(12,12),vmin=vmin,vmax=vmax)\n",
    "        fig.colorbar(img,ax=ax[i])"
   ]
  },
  {
   "cell_type": "code",
   "execution_count": 11,
   "metadata": {},
   "outputs": [
    {
     "name": "stdout",
     "output_type": "stream",
     "text": [
      "learning\n"
     ]
    },
    {
     "ename": "Exception",
     "evalue": "One learner failed",
     "output_type": "error",
     "traceback": [
      "\u001b[1;31m------------------------------------------------------------------------\u001b[0m",
      "\u001b[1;31mException\u001b[0m                              Traceback (most recent call last)",
      "\u001b[1;32m<ipython-input-11-a55472da9c76>\u001b[0m in \u001b[0;36m<module>\u001b[1;34m\u001b[0m\n\u001b[0;32m     40\u001b[0m         \u001b[1;32mfor\u001b[0m \u001b[0mlea_out\u001b[0m \u001b[1;32min\u001b[0m \u001b[0mlea_outs\u001b[0m\u001b[1;33m:\u001b[0m\u001b[1;33m\u001b[0m\u001b[1;33m\u001b[0m\u001b[0m\n\u001b[0;32m     41\u001b[0m             \u001b[1;32mif\u001b[0m \u001b[0mlea_out\u001b[0m\u001b[1;33m.\u001b[0m\u001b[0msuccessful\u001b[0m\u001b[1;33m(\u001b[0m\u001b[1;33m)\u001b[0m \u001b[1;32mis\u001b[0m \u001b[1;32mFalse\u001b[0m\u001b[1;33m:\u001b[0m\u001b[1;33m\u001b[0m\u001b[1;33m\u001b[0m\u001b[0m\n\u001b[1;32m---> 42\u001b[1;33m                 \u001b[1;32mraise\u001b[0m \u001b[0mException\u001b[0m\u001b[1;33m(\u001b[0m\u001b[1;34m'One learner failed'\u001b[0m\u001b[1;33m)\u001b[0m\u001b[1;33m\u001b[0m\u001b[1;33m\u001b[0m\u001b[0m\n\u001b[0m\u001b[0;32m     43\u001b[0m \u001b[1;33m\u001b[0m\u001b[0m\n\u001b[0;32m     44\u001b[0m         \u001b[1;31m# Combining learners from run\u001b[0m\u001b[1;33m\u001b[0m\u001b[1;33m\u001b[0m\u001b[1;33m\u001b[0m\u001b[0m\n",
      "\u001b[1;31mException\u001b[0m: One learner failed"
     ]
    }
   ],
   "source": [
    "num_learners = 10\n",
    "collection_eps = 10\n",
    "\n",
    "gamma=.25\n",
    "epsilon=.05\n",
    "alpha=.01\n",
    "init_df = 'ensemble_testing.pkl'\n",
    "qtabs = []\n",
    "\n",
    "if __name__=='__main__':\n",
    "    \n",
    "    '''\n",
    "    Runs parallel learners and joins them afterward\n",
    "    '''\n",
    "\n",
    "    worm_agent = tab.Q_Alpha_Agent(gamma=gamma, epsilon=epsilon, alpha=alpha) # Agent doesn't learn\n",
    "    # Start model environments and learners \n",
    "    dh = mba.DataHandler()\n",
    "    dh.load_df(init_df)\n",
    "    dh.df = dh.df[:2000]\n",
    "    \n",
    "    for loop in range(collection_eps):        \n",
    "        # Make new learner list based on newest data\n",
    "        learners = mba.make_learner_list(num_learners, worm_pars={'num_models':1, 'frac':1},\n",
    "                                gamma=gamma, epsilon=epsilon, alpha=alpha, q_checkpoint=worm_agent.Qtab)        \n",
    "        \n",
    "        # Start multiprocessing\n",
    "        manager = multiprocessing.Manager()\n",
    "        poison_queue = manager.Queue()\n",
    "        pool = multiprocessing.Pool()\n",
    "        \n",
    "        # Run main functions: train agents and collect more data\n",
    "        lea_outs = []\n",
    "        print('learning')\n",
    "        for lea in learners:\n",
    "            lea_outs.append(pool.apply_async(lea.learn, [dh],{'learn_limit':100}))\n",
    "        # Wait for them to finish\n",
    "        pool.close()\n",
    "        pool.join()\n",
    "        for lea_out in lea_outs:\n",
    "            if lea_out.successful() is False:\n",
    "                raise Exception('One learner failed')\n",
    "        \n",
    "        # Combining learners from run\n",
    "        worm_agent.Qtab = mba.combine_learners(lea_outs)\n",
    "        qtabs.append(worm_agent.Qtab.reshape((12,12,2)))"
   ]
  },
  {
   "cell_type": "code",
   "execution_count": null,
   "metadata": {},
   "outputs": [],
   "source": []
  }
 ],
 "metadata": {
  "kernelspec": {
   "display_name": "rlkit",
   "language": "python",
   "name": "rlkit"
  },
  "language_info": {
   "codemirror_mode": {
    "name": "ipython",
    "version": 3
   },
   "file_extension": ".py",
   "mimetype": "text/x-python",
   "name": "python",
   "nbconvert_exporter": "python",
   "pygments_lexer": "ipython3",
   "version": "3.8.5"
  }
 },
 "nbformat": 4,
 "nbformat_minor": 4
}
