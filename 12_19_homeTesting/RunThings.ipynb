{
 "cells": [
  {
   "cell_type": "code",
   "execution_count": 1,
   "metadata": {},
   "outputs": [],
   "source": [
    "import numpy as np\n",
    "import matplotlib.pyplot as plt\n",
    "import pandas as pd\n",
    "import pickle\n",
    "\n",
    "import model_based_agent as mba\n",
    "import tab_agents as tab"
   ]
  },
  {
   "cell_type": "code",
   "execution_count": 2,
   "metadata": {},
   "outputs": [],
   "source": [
    "'''\n",
    "At the end of this script, there will be files in a timestamped folder:\n",
    "1. Saved trajectory combined with old ('..total.pkl')\n",
    "2. Saved individual trajectory files ('..eval_start.pkl', '..[ep].pkl')\n",
    "3. Averaged agent from each each full worm episode ('..[ep]_agent.pkl')\n",
    "\n",
    "In folder from 12_01_dropoutmodel/Data:\n",
    "18-12-13-31 was a failed debugging trial\n",
    "18-12-13-49 empty plate debugging trial\n",
    "18-12-15-00 worm run from nogap_traj_df.pkl\n",
    "18-12-16-39 continuation of 15-00 above\n",
    "\n",
    "In folder 12_19_realworms/Data:\n",
    "First three are trials; last three are init collection\n",
    "19-12-18-26 test run w 50-step eps\n",
    "19-12-18-40 ''\n",
    "19-12-18-50 ''\n",
    "20-12-14-25\n",
    "20-12-14-28\n",
    "20-12-14-58\n",
    "'''\n",
    "fbase0 = './../12_01_dropoutmodel/Data/'\n",
    "fbase1 = './../12_19_realworms/Data/'\n"
   ]
  },
  {
   "cell_type": "code",
   "execution_count": 3,
   "metadata": {},
   "outputs": [],
   "source": [
    "trial = 'Reals18-12-15-00/realworm_'\n",
    "with open(fbase0+trial+'total_params.pkl','rb') as f:\n",
    "    pars = pickle.load(f)\n",
    "with open(fbase0+trial+'1_agent.pkl','rb') as f:\n",
    "    agt0 = pickle.load(f)\n",
    "with open(fbase0+trial+'5_agent.pkl','rb') as f:\n",
    "    agt1 = pickle.load(f)\n",
    "with open(fbase0+trial+'5.pkl','rb') as f:\n",
    "    traj = pickle.load(f)"
   ]
  },
  {
   "cell_type": "code",
   "execution_count": 73,
   "metadata": {},
   "outputs": [
    {
     "name": "stdout",
     "output_type": "stream",
     "text": [
      "1200\n",
      "{'reward_ahead': 10, 'timestep_gap': 1, 'prev_act_window': 3, 'jump_limit': 100}\n"
     ]
    }
   ],
   "source": [
    "print(len(traj['reward']))\n",
    "print(pars)"
   ]
  },
  {
   "cell_type": "code",
   "execution_count": 4,
   "metadata": {},
   "outputs": [
    {
     "data": {
      "image/png": "[encoded data removed]",
      "text/plain": [
       "<Figure size 432x288 with 4 Axes>"
      ]
     },
     "metadata": {
      "needs_background": "light"
     },
     "output_type": "display_data"
    }
   ],
   "source": [
    "fig,ax = plt.subplots(1,2)\n",
    "agt = agt0\n",
    "for i in range(2):\n",
    "    vmin = np.min(agt.Qtab)\n",
    "    vmax = np.max(agt.Qtab)\n",
    "    img = ax[i].imshow(agt.Qtab[:,i].reshape(12,12),vmin=vmin,vmax=vmax)\n",
    "    fig.colorbar(img,ax=ax[i])"
   ]
  },
  {
   "cell_type": "code",
   "execution_count": 5,
   "metadata": {},
   "outputs": [
    {
     "data": {
      "image/png": "[encoded data removed]",
      "text/plain": [
       "<Figure size 432x288 with 4 Axes>"
      ]
     },
     "metadata": {
      "needs_background": "light"
     },
     "output_type": "display_data"
    }
   ],
   "source": [
    "fig,ax = plt.subplots(1,2)\n",
    "agt = agt1\n",
    "for i in range(2):\n",
    "    vmin = np.min(agt.Qtab)\n",
    "    vmax = np.max(agt.Qtab)\n",
    "    img = ax[i].imshow(agt.Qtab[:,i].reshape(12,12),vmin=vmin,vmax=vmax)\n",
    "    fig.colorbar(img,ax=ax[i])"
   ]
  },
  {
   "cell_type": "code",
   "execution_count": 6,
   "metadata": {
    "scrolled": true
   },
   "outputs": [
    {
     "data": {
      "image/png": "[encoded data removed]",
      "text/plain": [
       "<Figure size 144x144 with 2 Axes>"
      ]
     },
     "metadata": {
      "needs_background": "light"
     },
     "output_type": "display_data"
    }
   ],
   "source": [
    "plt.figure(figsize=(2,2))\n",
    "plt.imshow((agt.Qtab[:,1]-agt.Qtab[:,0]).reshape(12,12))\n",
    "plt.colorbar();"
   ]
  },
  {
   "cell_type": "code",
   "execution_count": 10,
   "metadata": {},
   "outputs": [],
   "source": [
    "dict_names = [\n",
    "    # First worm\n",
    "    'Data/traj12-11-2020_19-04-41.pkl', #none\n",
    "    'Data/traj12-11-2020_19-14-38.pkl', #none\n",
    "    'Data/traj12-11-2020_19-24-30.pkl', #xlim 800\n",
    "    'Data/traj12-11-2020_19-35-31.pkl', #none # Seems like an especially bad dataset. Actually ruined all the others\n",
    "\n",
    "    # Second worm\n",
    "    'Data/traj12-11-2020_19-55-19.pkl', #none\n",
    "    'Data/traj12-11-2020_20-05-11.pkl', #none\n",
    "    'Data/traj12-11-2020_20-15-17.pkl', #none\n",
    "    'Data/traj12-11-2020_20-25-06.pkl', #xlim 1430\n",
    "\n",
    "    # Third worm\n",
    "    'Data/traj30-10-2020_18-14-00.pkl', #none\n",
    "    'Data/traj30-10-2020_18-34-10.pkl', #none\n",
    "\n",
    "    # Fourth worm\n",
    "    'Data/traj02-11-2020_15-53-56.pkl', #none \n",
    "    'Data/traj02-11-2020_16-14-45.pkl', #none \n",
    "\n",
    "    # Fifth worm\n",
    "    'Data/traj03-11-2020_14-46-45.pkl', #none\n",
    "    'Data/traj03-11-2020_15-08-07.pkl', #none\n",
    "]\n",
    "dict_names = ['./../10_30_model/'+dn for dn in dict_names]\n",
    "\n",
    "dh = mba.DataHandler()\n",
    "dh.add_dict_to_df(dict_names, \n",
    "                 reward_ahead=1,\n",
    "                 timestep_gap=1,\n",
    "                 prev_act_window=1,\n",
    "                 jump_limit=100)\n",
    "dh.save_dfs('noprocs.pkl')"
   ]
  },
  {
   "cell_type": "code",
   "execution_count": 2,
   "metadata": {},
   "outputs": [],
   "source": [
    "dh = mba.DataHandler()\n",
    "dh.load_df('noprocs.pkl')"
   ]
  },
  {
   "cell_type": "code",
   "execution_count": 3,
   "metadata": {},
   "outputs": [
    {
     "data": {
      "text/plain": [
       "[<matplotlib.lines.Line2D at 0x180ef5dc190>]"
      ]
     },
     "execution_count": 3,
     "metadata": {},
     "output_type": "execute_result"
    },
    {
     "data": {
      "image/png": "[encoded data removed]",
      "text/plain": [
       "<Figure size 432x288 with 1 Axes>"
      ]
     },
     "metadata": {
      "needs_background": "light"
     },
     "output_type": "display_data"
    }
   ],
   "source": [
    "locs = np.zeros((9798,2))\n",
    "for i in range(9798):\n",
    "    locs[i,:] = dh.df['loc'][i]\n",
    "plt.plot(locs[:,0],locs[:,1])"
   ]
  },
  {
   "cell_type": "code",
   "execution_count": 16,
   "metadata": {},
   "outputs": [
    {
     "name": "stdout",
     "output_type": "stream",
     "text": [
      "On model 0\n",
      "On model 1\n",
      "On model 2\n",
      "On model 3\n",
      "On model 4\n",
      "On model 5\n",
      "On model 6\n",
      "On model 7\n",
      "On model 8\n",
      "On model 9\n"
     ]
    }
   ],
   "source": [
    "agt = tab.Q_Alpha_Agent(\n",
    "    gamma=.5,\n",
    "    epsilon=0.05,\n",
    "    alpha=0.005,)\n",
    "lnr = mba.Learner(agt,'noprocs',\n",
    "                 worm_pars={'num_models':10,'frac':.5},\n",
    "                 num_steps=1000,\n",
    "                 eval_steps=1000)\n",
    "lnr.make_mod_and_env(dh)\n",
    "eval_r = lnr.eval_ep()"
   ]
  },
  {
   "cell_type": "code",
   "execution_count": 17,
   "metadata": {},
   "outputs": [
    {
     "data": {
      "text/plain": [
       "0.08786076035351223"
      ]
     },
     "execution_count": 17,
     "metadata": {},
     "output_type": "execute_result"
    }
   ],
   "source": [
    "np.mean(eval_r)"
   ]
  },
  {
   "cell_type": "code",
   "execution_count": 18,
   "metadata": {},
   "outputs": [],
   "source": [
    "evals = []\n",
    "for i in range(10):\n",
    "    print(i)\n",
    "    Qtab = lnr.learn(dh,learn_limit=1000)\n",
    "    evals.append(np.mean(lnr.eval_ep()))"
   ]
  },
  {
   "cell_type": "code",
   "execution_count": 19,
   "metadata": {},
   "outputs": [
    {
     "data": {
      "text/plain": [
       "[<matplotlib.lines.Line2D at 0x18093775670>]"
      ]
     },
     "execution_count": 19,
     "metadata": {},
     "output_type": "execute_result"
    },
    {
     "data": {
      "image/png": "[encoded data removed]",
      "text/plain": [
       "<Figure size 432x288 with 1 Axes>"
      ]
     },
     "metadata": {
      "needs_background": "light"
     },
     "output_type": "display_data"
    }
   ],
   "source": [
    "plt.plot(evals)"
   ]
  },
  {
   "cell_type": "markdown",
   "metadata": {},
   "source": [
    "What am I trying to do right now? \n",
    "Want to know if ensembles help at all. \n",
    "To test this, train agents separately on models.\n",
    "Want to know how reward_ahead and prev_act_window affect learning.\n",
    "Also how amount of data changes results. \n",
    "The output I'd want is "
   ]
  }
 ],
 "metadata": {
  "kernelspec": {
   "display_name": "r919",
   "language": "python",
   "name": "r919"
  },
  "language_info": {
   "codemirror_mode": {
    "name": "ipython",
    "version": 3
   },
   "file_extension": ".py",
   "mimetype": "text/x-python",
   "name": "python",
   "nbconvert_exporter": "python",
   "pygments_lexer": "ipython3",
   "version": "3.8.5"
  }
 },
 "nbformat": 4,
 "nbformat_minor": 4
}
