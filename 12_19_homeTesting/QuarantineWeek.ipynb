{
 "cells": [
  {
   "cell_type": "code",
   "execution_count": 1,
   "metadata": {},
   "outputs": [],
   "source": [
    "import multiprocessing \n",
    "import numpy as np\n",
    "import matplotlib.pyplot as plt\n",
    "import pandas as pd\n",
    "import os\n",
    "import copy\n",
    "\n",
    "import model_based_agent as mba \n",
    "import ensemble_mod_env as eme\n",
    "import utils as ut\n",
    "import tab_agents as tab\n",
    "\n",
    "from datetime import datetime \n",
    "\n",
    "import multiDrafts as md"
   ]
  },
  {
   "cell_type": "code",
   "execution_count": 2,
   "metadata": {},
   "outputs": [],
   "source": [
    "def one_learner(\n",
    "    num_learners = 1,\n",
    "    collection_eps = 1,\n",
    "    gamma=0.25,\n",
    "    epsilon=.5,\n",
    "    alpha=.001,\n",
    "    df_bound=-1,\n",
    "    frac=1,\n",
    "):\n",
    "\n",
    "    qtabs = []\n",
    "    # Start model environments and learners \n",
    "    dh = mba.DataHandler()\n",
    "    dh.load_df('ensemble_testing.pkl')\n",
    "    dh.df = dh.df[:df_bound]\n",
    "\n",
    "    # Make new learner list based on newest data\n",
    "    learners = mba.make_learner_list(num_learners, worm_pars={'num_models':1, 'frac':frac},\n",
    "                            gamma=gamma, epsilon=epsilon, alpha=alpha)  \n",
    "    return learners[0],dh\n",
    "\n",
    "def multiproc_sampled_models(\n",
    "    num_learners = 10,\n",
    "    collection_eps = 20,\n",
    "    gamma=.25,\n",
    "    epsilon=.5,\n",
    "    alpha=.001,\n",
    "    df_bound=-1,\n",
    "    learn_limit=50000,\n",
    "    frac=.5,\n",
    "    init_df = 'ensemble_testing.pkl',\n",
    "):\n",
    "    '''\n",
    "    Runs parallel learners and joins them afterward\n",
    "    '''\n",
    "    qtabs = []\n",
    "    worm_agent = tab.Q_Alpha_Agent(gamma=gamma, epsilon=epsilon, alpha=alpha) # Agent doesn't learn\n",
    "    # Start model environments and learners \n",
    "    dh = mba.DataHandler()\n",
    "    dh.load_df(init_df)\n",
    "    dh.df = dh.df[:df_bound]\n",
    "    \n",
    "    for loop in range(collection_eps):        \n",
    "        # Make new learner list based on newest data\n",
    "        learners = mba.make_learner_list(num_learners, worm_pars={'num_models':1, 'frac':frac},\n",
    "                                gamma=gamma, epsilon=epsilon, alpha=alpha, \n",
    "                                q_checkpoint=worm_agent.Qtab,\n",
    "                                )        \n",
    "        \n",
    "        # Start multiprocessing\n",
    "        #manager = multiprocessing.Manager()\n",
    "        #poison_queue = manager.Queue()\n",
    "        pool = multiprocessing.Pool()\n",
    "        \n",
    "        # Run main functions: train agents and collect more data\n",
    "        lea_outs = []\n",
    "        print(loop)\n",
    "        for lea in learners:\n",
    "            lea_outs.append(pool.apply_async(lea.learn, [dh],{'learn_limit':learn_limit}))\n",
    "        # Wait for them to finish\n",
    "        pool.close()\n",
    "        pool.join()\n",
    "        for lea_out in lea_outs:\n",
    "            if lea_out.successful() is False:\n",
    "                raise Exception('One learner failed')\n",
    "        \n",
    "        # Combining learners from run\n",
    "        worm_agent.Qtab = mba.combine_learners(lea_outs)\n",
    "        qtabs.append(worm_agent.Qtab.reshape((12,12,2)))\n",
    "    return qtabs\n",
    "\n",
    "def eval_ep(lea,eval_steps=200000):\n",
    "    obss = []\n",
    "    acts = []\n",
    "    rews = []\n",
    "    for i in range(eval_steps):\n",
    "        obs = lea.env._state\n",
    "        acts.append(lea.agent.eval_act(obs))\n",
    "        next_obs,rew,done,_ = lea.env.step(acts[-1])\n",
    "        obss.append(next_obs)\n",
    "        rews.append(rew)\n",
    "    return obss,acts,rews\n",
    "\n",
    "def plot_pol_and_qs(lea,vmin=-1,vmax=1):\n",
    "    fig,ax = plt.subplots(1,3)\n",
    "    fig.set_size_inches((12,2))\n",
    "    img = ax[0].imshow(np.sign(lea.agent.Qtab[:,1].reshape(12,12)-lea.agent.Qtab[:,0].reshape(12,12)))\n",
    "    fig.colorbar(img,ax=ax[0]);\n",
    "    ax[0].set_title('Current policy')\n",
    "    img = ax[1].imshow(lea.agent.Qtab[:,1].reshape(12,12),vmin=vmin,vmax=vmax)\n",
    "    fig.colorbar(img,ax=ax[1]);\n",
    "    ax[1].set_title('Light on Qtable')\n",
    "    img = ax[2].imshow(lea.agent.Qtab[:,0].reshape(12,12),vmin=vmin,vmax=vmax)\n",
    "    plt.colorbar(img,ax=ax[2])\n",
    "    ax[2].set_title('Light off Qtable')\n",
    "\n",
    "    [ax[i].axis('off') for i in range(3)];\n",
    "    \n",
    "def learn_ep(lea,l_steps=1000000,ep_len=100):\n",
    "    obss = []\n",
    "    acts = []\n",
    "    rews = []\n",
    "    for i in range(l_steps):\n",
    "        if i%ep_len==0:\n",
    "            lea.env.reset()\n",
    "        obs = lea.env._state\n",
    "        acts.append(lea.agent.act(obs))\n",
    "        next_obs,rew,done,_ = lea.env.step(acts[-1])\n",
    "        lea.agent.update(obs,acts[-1],next_obs,rew)\n",
    "        obss.append(next_obs)\n",
    "        rews.append(rew)\n",
    "    return obss,acts,rews"
   ]
  },
  {
   "cell_type": "markdown",
   "metadata": {},
   "source": [
    "# 0. Baselines for one model; make sure everything works"
   ]
  },
  {
   "cell_type": "markdown",
   "metadata": {},
   "source": [
    "### With frac=.5 "
   ]
  },
  {
   "cell_type": "code",
   "execution_count": 3,
   "metadata": {},
   "outputs": [
    {
     "name": "stdout",
     "output_type": "stream",
     "text": [
      "On model 0\n",
      "Penalty 0.6632711783135059\n"
     ]
    }
   ],
   "source": [
    "learner,dh = one_learner(frac=.5)\n",
    "learner.make_mod_and_env(dh,{'lambda':.1,'iters':10},)"
   ]
  },
  {
   "cell_type": "markdown",
   "metadata": {},
   "source": [
    "#### Eval ep, random actions"
   ]
  },
  {
   "cell_type": "code",
   "execution_count": 4,
   "metadata": {},
   "outputs": [
    {
     "name": "stdout",
     "output_type": "stream",
     "text": [
      "From init, eval episode reward is 0.23279650575269217\n"
     ]
    }
   ],
   "source": [
    "obss,acts,rews = eval_ep(learner)\n",
    "print(f'From init, eval episode reward is {np.mean(rews)}')"
   ]
  },
  {
   "cell_type": "markdown",
   "metadata": {},
   "source": [
    "#### Eval ep, actions from reward mat"
   ]
  },
  {
   "cell_type": "code",
   "execution_count": 5,
   "metadata": {},
   "outputs": [],
   "source": [
    "learner.agent.Qtab[:,0] = np.zeros(144)\n",
    "learner.agent.Qtab[:,1] = np.sign(learner.modset.models[0]['reward_on'][:,:,0]-learner.modset.models[0]['reward_off'][:,:,0]).flatten()\n",
    "obss,acts,rews = eval_ep(learner)"
   ]
  },
  {
   "cell_type": "code",
   "execution_count": 6,
   "metadata": {},
   "outputs": [
    {
     "name": "stdout",
     "output_type": "stream",
     "text": [
      "Just given reward matrices, no learning, eval ep is 0.493115744684715\n"
     ]
    },
    {
     "data": {
      "image/png": "[encoded data removed]",
      "text/plain": [
       "<Figure size 864x144 with 6 Axes>"
      ]
     },
     "metadata": {
      "needs_background": "light"
     },
     "output_type": "display_data"
    }
   ],
   "source": [
    "plot_pol_and_qs(learner)\n",
    "print(f'Just given reward matrices, no learning, eval ep is {np.mean(rews)}')"
   ]
  },
  {
   "cell_type": "markdown",
   "metadata": {},
   "source": [
    "#### Learning eps"
   ]
  },
  {
   "cell_type": "code",
   "execution_count": 7,
   "metadata": {},
   "outputs": [
    {
     "name": "stdout",
     "output_type": "stream",
     "text": [
      "Eval ep is 0.2394102670034026\n"
     ]
    },
    {
     "data": {
      "image/png": "[encoded data removed]",
      "text/plain": [
       "<Figure size 864x144 with 6 Axes>"
      ]
     },
     "metadata": {
      "needs_background": "light"
     },
     "output_type": "display_data"
    }
   ],
   "source": [
    "learner.agent.resetq()\n",
    "obss,acts,rews = eval_ep(learner)\n",
    "plot_pol_and_qs(learner,vmin=0,vmax=2)\n",
    "print(f'Eval ep is {np.mean(rews)}')"
   ]
  },
  {
   "cell_type": "code",
   "execution_count": 8,
   "metadata": {},
   "outputs": [
    {
     "name": "stdout",
     "output_type": "stream",
     "text": [
      "1m learning steps, eval ep is 0.46115855863549476\n"
     ]
    },
    {
     "data": {
      "image/png": "[encoded data removed]",
      "text/plain": [
       "<Figure size 864x144 with 6 Axes>"
      ]
     },
     "metadata": {
      "needs_background": "light"
     },
     "output_type": "display_data"
    }
   ],
   "source": [
    "obss,acts,rews = learn_ep(learner)\n",
    "obss,acts,rews = eval_ep(learner)\n",
    "plot_pol_and_qs(learner,vmin=-1.5,vmax=1.5)\n",
    "print(f'1m learning steps, eval ep is {np.mean(rews)}')"
   ]
  },
  {
   "cell_type": "code",
   "execution_count": 9,
   "metadata": {},
   "outputs": [
    {
     "name": "stdout",
     "output_type": "stream",
     "text": [
      "2m learning steps, eval ep is 0.4773322436953505\n"
     ]
    },
    {
     "data": {
      "image/png": "[encoded data removed]",
      "text/plain": [
       "<Figure size 864x144 with 6 Axes>"
      ]
     },
     "metadata": {
      "needs_background": "light"
     },
     "output_type": "display_data"
    }
   ],
   "source": [
    "obss,acts,rews = learn_ep(learner)\n",
    "obss,acts,rews = eval_ep(learner)\n",
    "plot_pol_and_qs(learner,vmin=-1.5,vmax=1.5)\n",
    "print(f'2m learning steps, eval ep is {np.mean(rews)}')"
   ]
  },
  {
   "cell_type": "code",
   "execution_count": 10,
   "metadata": {},
   "outputs": [
    {
     "name": "stdout",
     "output_type": "stream",
     "text": [
      "3m learning steps, eval ep is 0.5037681856193543\n"
     ]
    },
    {
     "data": {
      "image/png": "[encoded data removed]",
      "text/plain": [
       "<Figure size 864x144 with 6 Axes>"
      ]
     },
     "metadata": {
      "needs_background": "light"
     },
     "output_type": "display_data"
    }
   ],
   "source": [
    "obss,acts,rews = learn_ep(learner)\n",
    "obss,acts,rews = eval_ep(learner)\n",
    "plot_pol_and_qs(learner,vmin=-1.5,vmax=1.5)\n",
    "print(f'3m learning steps, eval ep is {np.mean(rews)}')"
   ]
  },
  {
   "cell_type": "markdown",
   "metadata": {},
   "source": [
    "### With frac=1"
   ]
  },
  {
   "cell_type": "code",
   "execution_count": 11,
   "metadata": {},
   "outputs": [
    {
     "name": "stdout",
     "output_type": "stream",
     "text": [
      "On model 0\n",
      "Penalty 0.6387606454371175\n"
     ]
    }
   ],
   "source": [
    "learner,dh = one_learner(frac=1)\n",
    "learner.make_mod_and_env(dh,{'lambda':.1,'iters':10},)"
   ]
  },
  {
   "cell_type": "markdown",
   "metadata": {},
   "source": [
    "#### Eval ep, random actions"
   ]
  },
  {
   "cell_type": "code",
   "execution_count": 12,
   "metadata": {},
   "outputs": [
    {
     "name": "stdout",
     "output_type": "stream",
     "text": [
      "From init, eval episode reward is 0.30966701788358786\n"
     ]
    }
   ],
   "source": [
    "obss,acts,rews = eval_ep(learner)\n",
    "print(f'From init, eval episode reward is {np.mean(rews)}')"
   ]
  },
  {
   "cell_type": "markdown",
   "metadata": {},
   "source": [
    "#### Eval ep, actions from reward mat"
   ]
  },
  {
   "cell_type": "code",
   "execution_count": 13,
   "metadata": {},
   "outputs": [],
   "source": [
    "learner.agent.Qtab[:,0] = np.zeros(144)\n",
    "learner.agent.Qtab[:,1] = np.sign(learner.modset.models[0]['reward_on'][:,:,0]-learner.modset.models[0]['reward_off'][:,:,0]).flatten()\n",
    "obss,acts,rews = eval_ep(learner)"
   ]
  },
  {
   "cell_type": "code",
   "execution_count": 14,
   "metadata": {},
   "outputs": [
    {
     "name": "stdout",
     "output_type": "stream",
     "text": [
      "Just given reward matrices, no learning, eval ep is 0.4837078230992999\n"
     ]
    },
    {
     "data": {
      "image/png": "[encoded data removed]",
      "text/plain": [
       "<Figure size 864x144 with 6 Axes>"
      ]
     },
     "metadata": {
      "needs_background": "light"
     },
     "output_type": "display_data"
    }
   ],
   "source": [
    "plot_pol_and_qs(learner)\n",
    "print(f'Just given reward matrices, no learning, eval ep is {np.mean(rews)}')"
   ]
  },
  {
   "cell_type": "markdown",
   "metadata": {},
   "source": [
    "#### Learning eps"
   ]
  },
  {
   "cell_type": "code",
   "execution_count": 15,
   "metadata": {},
   "outputs": [
    {
     "name": "stdout",
     "output_type": "stream",
     "text": [
      "Eval ep is 0.2898095425088867\n"
     ]
    },
    {
     "data": {
      "image/png": "[encoded data removed]",
      "text/plain": [
       "<Figure size 864x144 with 6 Axes>"
      ]
     },
     "metadata": {
      "needs_background": "light"
     },
     "output_type": "display_data"
    }
   ],
   "source": [
    "learner.agent.resetq()\n",
    "obss,acts,rews = eval_ep(learner)\n",
    "plot_pol_and_qs(learner,vmin=0,vmax=2)\n",
    "print(f'Eval ep is {np.mean(rews)}')"
   ]
  },
  {
   "cell_type": "code",
   "execution_count": 16,
   "metadata": {},
   "outputs": [
    {
     "name": "stdout",
     "output_type": "stream",
     "text": [
      "1m learning steps, eval ep is 0.4665499993438702\n"
     ]
    },
    {
     "data": {
      "image/png": "[encoded data removed]",
      "text/plain": [
       "<Figure size 864x144 with 6 Axes>"
      ]
     },
     "metadata": {
      "needs_background": "light"
     },
     "output_type": "display_data"
    }
   ],
   "source": [
    "obss,acts,rews = learn_ep(learner)\n",
    "obss,acts,rews = eval_ep(learner)\n",
    "plot_pol_and_qs(learner,vmin=-1.5,vmax=1.5)\n",
    "print(f'1m learning steps, eval ep is {np.mean(rews)}')"
   ]
  },
  {
   "cell_type": "code",
   "execution_count": 17,
   "metadata": {},
   "outputs": [
    {
     "name": "stdout",
     "output_type": "stream",
     "text": [
      "2m learning steps, eval ep is 0.47235856762473866\n"
     ]
    },
    {
     "data": {
      "image/png": "[encoded data removed]",
      "text/plain": [
       "<Figure size 864x144 with 6 Axes>"
      ]
     },
     "metadata": {
      "needs_background": "light"
     },
     "output_type": "display_data"
    }
   ],
   "source": [
    "obss,acts,rews = learn_ep(learner)\n",
    "obss,acts,rews = eval_ep(learner)\n",
    "plot_pol_and_qs(learner,vmin=-1.5,vmax=1.5)\n",
    "print(f'2m learning steps, eval ep is {np.mean(rews)}')"
   ]
  },
  {
   "cell_type": "markdown",
   "metadata": {},
   "source": [
    "# 1. All data with partial models vs full models, averaged"
   ]
  },
  {
   "cell_type": "code",
   "execution_count": 18,
   "metadata": {
    "collapsed": true
   },
   "outputs": [
    {
     "name": "stdout",
     "output_type": "stream",
     "text": [
      "0\n",
      "1\n",
      "2\n",
      "3\n",
      "4\n",
      "5\n",
      "6\n",
      "7\n",
      "8\n",
      "9\n",
      "10\n",
      "11\n",
      "12\n",
      "13\n",
      "14\n",
      "15\n",
      "16\n",
      "17\n",
      "18\n",
      "19\n",
      "0\n",
      "1\n",
      "2\n",
      "3\n",
      "4\n",
      "5\n",
      "6\n",
      "7\n",
      "8\n",
      "9\n",
      "10\n",
      "11\n",
      "12\n",
      "13\n",
      "14\n",
      "15\n",
      "16\n",
      "17\n",
      "18\n",
      "19\n",
      "0\n",
      "1\n",
      "2\n",
      "3\n",
      "4\n",
      "5\n",
      "6\n",
      "7\n",
      "8\n",
      "9\n",
      "10\n",
      "11\n",
      "12\n",
      "13\n",
      "14\n",
      "15\n",
      "16\n",
      "17\n",
      "18\n",
      "19\n",
      "0\n",
      "1\n",
      "2\n",
      "3\n",
      "4\n",
      "5\n",
      "6\n",
      "7\n",
      "8\n",
      "9\n",
      "10\n",
      "11\n",
      "12\n",
      "13\n",
      "14\n",
      "15\n",
      "16\n",
      "17\n",
      "18\n",
      "19\n",
      "0\n",
      "1\n",
      "2\n",
      "3\n",
      "4\n",
      "5\n",
      "6\n",
      "7\n",
      "8\n",
      "9\n",
      "10\n",
      "11\n",
      "12\n",
      "13\n",
      "14\n",
      "15\n",
      "16\n",
      "17\n",
      "18\n",
      "19\n",
      "0\n",
      "1\n",
      "2\n",
      "3\n",
      "4\n",
      "5\n",
      "6\n",
      "7\n",
      "8\n",
      "9\n",
      "10\n",
      "11\n",
      "12\n",
      "13\n",
      "14\n",
      "15\n",
      "16\n",
      "17\n",
      "18\n",
      "19\n",
      "0\n",
      "1\n",
      "2\n",
      "3\n",
      "4\n",
      "5\n",
      "6\n",
      "7\n",
      "8\n",
      "9\n",
      "10\n",
      "11\n",
      "12\n",
      "13\n",
      "14\n",
      "15\n",
      "16\n",
      "17\n",
      "18\n",
      "19\n",
      "0\n",
      "1\n",
      "2\n",
      "3\n",
      "4\n",
      "5\n",
      "6\n",
      "7\n",
      "8\n",
      "9\n",
      "10\n",
      "11\n",
      "12\n",
      "13\n",
      "14\n",
      "15\n",
      "16\n",
      "17\n",
      "18\n",
      "19\n",
      "0\n",
      "1\n",
      "2\n",
      "3\n",
      "4\n",
      "5\n",
      "6\n",
      "7\n",
      "8\n",
      "9\n",
      "10\n",
      "11\n",
      "12\n",
      "13\n",
      "14\n",
      "15\n",
      "16\n",
      "17\n",
      "18\n",
      "19\n",
      "0\n",
      "1\n",
      "2\n",
      "3\n",
      "4\n",
      "5\n",
      "6\n",
      "7\n",
      "8\n",
      "9\n",
      "10\n",
      "11\n",
      "12\n",
      "13\n",
      "14\n",
      "15\n",
      "16\n",
      "17\n",
      "18\n",
      "19\n"
     ]
    }
   ],
   "source": [
    "qtabs = []\n",
    "fracs = [.5,1]\n",
    "for f in fracs:\n",
    "    for i in range(5):\n",
    "        qtabs.append(multiproc_sampled_models(\n",
    "        num_learners = 10,\n",
    "        collection_eps = 20,\n",
    "        gamma=.25,\n",
    "        epsilon=.5,\n",
    "        alpha=.001,\n",
    "        df_bound=-1,\n",
    "        learn_limit=50000,\n",
    "        frac=f, # Only variable that was changed between 1a and 1b\n",
    "    ))"
   ]
  },
  {
   "cell_type": "code",
   "execution_count": 19,
   "metadata": {
    "collapsed": true
   },
   "outputs": [
    {
     "name": "stdout",
     "output_type": "stream",
     "text": [
      "On model 0\n",
      "Penalty 0.6387606454371175\n",
      "0\n",
      "1\n",
      "2\n",
      "3\n",
      "4\n",
      "5\n",
      "6\n",
      "7\n",
      "8\n",
      "9\n",
      "10\n",
      "11\n",
      "12\n",
      "13\n",
      "14\n",
      "15\n",
      "16\n",
      "17\n",
      "18\n",
      "19\n",
      "0\n",
      "1\n",
      "2\n",
      "3\n",
      "4\n",
      "5\n",
      "6\n",
      "7\n",
      "8\n",
      "9\n",
      "10\n",
      "11\n",
      "12\n",
      "13\n",
      "14\n",
      "15\n",
      "16\n",
      "17\n",
      "18\n",
      "19\n",
      "0\n",
      "1\n",
      "2\n",
      "3\n",
      "4\n",
      "5\n",
      "6\n",
      "7\n",
      "8\n",
      "9\n",
      "10\n",
      "11\n",
      "12\n",
      "13\n",
      "14\n",
      "15\n",
      "16\n",
      "17\n",
      "18\n",
      "19\n",
      "0\n",
      "1\n",
      "2\n",
      "3\n",
      "4\n",
      "5\n",
      "6\n",
      "7\n",
      "8\n",
      "9\n",
      "10\n",
      "11\n",
      "12\n",
      "13\n",
      "14\n",
      "15\n",
      "16\n",
      "17\n",
      "18\n",
      "19\n",
      "0\n",
      "1\n",
      "2\n",
      "3\n",
      "4\n",
      "5\n",
      "6\n",
      "7\n",
      "8\n",
      "9\n",
      "10\n",
      "11\n",
      "12\n",
      "13\n",
      "14\n",
      "15\n",
      "16\n",
      "17\n",
      "18\n",
      "19\n",
      "0\n",
      "1\n",
      "2\n",
      "3\n",
      "4\n",
      "5\n",
      "6\n",
      "7\n",
      "8\n",
      "9\n",
      "10\n",
      "11\n",
      "12\n",
      "13\n",
      "14\n",
      "15\n",
      "16\n",
      "17\n",
      "18\n",
      "19\n",
      "0\n",
      "1\n",
      "2\n",
      "3\n",
      "4\n",
      "5\n",
      "6\n",
      "7\n",
      "8\n",
      "9\n",
      "10\n",
      "11\n",
      "12\n",
      "13\n",
      "14\n",
      "15\n",
      "16\n",
      "17\n",
      "18\n",
      "19\n",
      "0\n",
      "1\n",
      "2\n",
      "3\n",
      "4\n",
      "5\n",
      "6\n",
      "7\n",
      "8\n",
      "9\n",
      "10\n",
      "11\n",
      "12\n",
      "13\n",
      "14\n",
      "15\n",
      "16\n",
      "17\n",
      "18\n",
      "19\n",
      "0\n",
      "1\n",
      "2\n",
      "3\n",
      "4\n",
      "5\n",
      "6\n",
      "7\n",
      "8\n",
      "9\n",
      "10\n",
      "11\n",
      "12\n",
      "13\n",
      "14\n",
      "15\n",
      "16\n",
      "17\n",
      "18\n",
      "19\n",
      "0\n",
      "1\n",
      "2\n",
      "3\n",
      "4\n",
      "5\n",
      "6\n",
      "7\n",
      "8\n",
      "9\n",
      "10\n",
      "11\n",
      "12\n",
      "13\n",
      "14\n",
      "15\n",
      "16\n",
      "17\n",
      "18\n",
      "19\n"
     ]
    }
   ],
   "source": [
    "scores = []\n",
    "learner,dh = one_learner(frac=1)\n",
    "learner.make_mod_and_env(dh,{'lambda':.1,'iters':10},)\n",
    "for qtset in qtabs:\n",
    "    for i,qt in enumerate(qtset):\n",
    "        print(i)\n",
    "        learner.agent.Qtab = qt.reshape((144,2))\n",
    "        obss,acts,rews = eval_ep(learner)\n",
    "        scores.append(np.mean(rews))"
   ]
  },
  {
   "cell_type": "markdown",
   "metadata": {},
   "source": [
    "### Plots for everything"
   ]
  },
  {
   "cell_type": "code",
   "execution_count": 20,
   "metadata": {},
   "outputs": [],
   "source": [
    "scores_list = [[] for _ in range(10)]\n",
    "for i in range(10):\n",
    "    scores_list[i] = scores[i*20:i*20+20]\n",
    "partials = np.mean(scores_list[:5],axis=0)\n",
    "fulls = np.mean(scores_list[5:],axis=0)\n",
    "partials_s = np.std(scores_list[:5],axis=0)\n",
    "fulls_s = np.std(scores_list[5:],axis=0)"
   ]
  },
  {
   "cell_type": "code",
   "execution_count": 21,
   "metadata": {},
   "outputs": [
    {
     "data": {
      "image/png": "[encoded data removed]",
      "text/plain": [
       "<Figure size 432x288 with 1 Axes>"
      ]
     },
     "metadata": {
      "needs_background": "light"
     },
     "output_type": "display_data"
    }
   ],
   "source": [
    "plt.errorbar(np.arange(20),partials,yerr=partials_s)\n",
    "plt.errorbar(np.arange(20),fulls,yerr=fulls_s)\n",
    "plt.ylabel('Average reward per step')\n",
    "plt.xlabel('Learning steps')\n",
    "plt.xticks(np.arange(0,21,5),np.arange(0,21,5)*50000);\n",
    "plt.title('All data model performance')\n",
    "plt.legend(['Partial models, averaged','Full models, multiple agents, averaged'])\n",
    "plt.grid();"
   ]
  },
  {
   "cell_type": "markdown",
   "metadata": {},
   "source": [
    "# 2. Partial data"
   ]
  },
  {
   "cell_type": "markdown",
   "metadata": {},
   "source": [
    "## a. First, try reward-only."
   ]
  },
  {
   "cell_type": "code",
   "execution_count": 7,
   "metadata": {
    "collapsed": true
   },
   "outputs": [
    {
     "name": "stdout",
     "output_type": "stream",
     "text": [
      "On model 0\n",
      "Penalty 1.3361008439277549\n",
      "On model 0\n",
      "Penalty 0.6387606454371175\n",
      "On model 0\n",
      "Penalty 0.7910633691056539\n",
      "On model 0\n",
      "Penalty 0.6387606454371175\n",
      "On model 0\n",
      "Penalty 0.7841632852884368\n",
      "On model 0\n",
      "Penalty 0.6387606454371175\n",
      "On model 0\n",
      "Penalty 0.654260860303365\n",
      "On model 0\n",
      "Penalty 0.6387606454371175\n",
      "On model 0\n",
      "Penalty 0.49982802958365824\n",
      "On model 0\n",
      "Penalty 0.6387606454371175\n",
      "On model 0\n",
      "Penalty 0.4974787738116292\n",
      "On model 0\n",
      "Penalty 0.6387606454371177\n"
     ]
    }
   ],
   "source": [
    "f = 1\n",
    "samps_df = [5000,10000,15000,20000,25000,30000]\n",
    "\n",
    "# First get reward matrix-based performance.\n",
    "all_no_learn = []\n",
    "all_no_learn_pol = []\n",
    "\n",
    "for s in samps_df:\n",
    "    perf,q_diffs = md.no_learn_performance(s,f)\n",
    "    all_no_learn.append(perf)\n",
    "    all_no_learn_pol.append(q_diffs)"
   ]
  },
  {
   "cell_type": "code",
   "execution_count": 8,
   "metadata": {},
   "outputs": [
    {
     "data": {
      "image/png": "[encoded data removed]",
      "text/plain": [
       "<Figure size 432x288 with 1 Axes>"
      ]
     },
     "metadata": {
      "needs_background": "light"
     },
     "output_type": "display_data"
    }
   ],
   "source": [
    "plt.plot(all_no_learn)\n",
    "plt.title('Performance on full model, reward-only')\n",
    "plt.xticks(range(6),np.arange(5000,30001,5000))\n",
    "plt.ylabel('Average reward per step')\n",
    "plt.xlabel('Number of datapoints used');\n",
    "plt.grid();"
   ]
  },
  {
   "cell_type": "code",
   "execution_count": 9,
   "metadata": {},
   "outputs": [
    {
     "data": {
      "image/png": "[encoded data removed]",
      "text/plain": [
       "<Figure size 864x144 with 12 Axes>"
      ]
     },
     "metadata": {
      "needs_background": "light"
     },
     "output_type": "display_data"
    }
   ],
   "source": [
    "fig,ax = plt.subplots(1,6)\n",
    "fig.set_size_inches((12,2))\n",
    "for i,samp in enumerate(samps_df):\n",
    "    img = ax[i].imshow(all_no_learn_pol[i],vmin=-2,vmax=2)\n",
    "    fig.colorbar(img,ax=ax[i])\n",
    "    ax[i].set_title(f'{samp} samples')\n",
    "    ax[i].axis('off')"
   ]
  },
  {
   "cell_type": "code",
   "execution_count": 10,
   "metadata": {},
   "outputs": [
    {
     "data": {
      "image/png": "[encoded data removed]",
      "text/plain": [
       "<Figure size 864x144 with 12 Axes>"
      ]
     },
     "metadata": {
      "needs_background": "light"
     },
     "output_type": "display_data"
    }
   ],
   "source": [
    "fig,ax = plt.subplots(1,6)\n",
    "fig.set_size_inches((12,2))\n",
    "for i,samp in enumerate(samps_df):\n",
    "    img = ax[i].imshow(np.sign(all_no_learn_pol[i]),vmin=0,vmax=1)\n",
    "    fig.colorbar(img,ax=ax[i])\n",
    "    ax[i].set_title(f'{samp} samples')\n",
    "    ax[i].axis('off')"
   ]
  },
  {
   "cell_type": "code",
   "execution_count": 11,
   "metadata": {},
   "outputs": [],
   "source": [
    "f = .5\n",
    "samps_df = [5000,10000,15000,20000,25000,30000]\n",
    "trials = 10\n",
    "\n",
    "half_no_learn = []\n",
    "half_no_learn_pol = []\n",
    "# Run main functions: train agents and collect more data\n",
    "for i,s in enumerate(samps_df):\n",
    "    pool = multiprocessing.Pool()\n",
    "    lea_outs = []\n",
    "    for _ in range(trials):\n",
    "        lea_outs.append(pool.apply_async(md.no_learn_performance, [s,f]))\n",
    "    # Wait for them to finish\n",
    "    pool.close()\n",
    "    pool.join()\n",
    "    for lea_out in lea_outs:\n",
    "        if lea_out.successful() is False:\n",
    "            raise Exception('One learner failed')\n",
    "\n",
    "    for ii,lea_out in enumerate(lea_outs):\n",
    "        perf,q_diffs = lea_out.get()\n",
    "        if ii==0:\n",
    "            half_no_learn.append(perf/trials)\n",
    "            half_no_learn_pol.append(q_diffs/trials)\n",
    "        else:\n",
    "            half_no_learn[i] += perf/trials\n",
    "            half_no_learn_pol[i] += q_diffs/trials"
   ]
  },
  {
   "cell_type": "code",
   "execution_count": 12,
   "metadata": {},
   "outputs": [
    {
     "data": {
      "image/png": "[encoded data removed]",
      "text/plain": [
       "<Figure size 432x288 with 1 Axes>"
      ]
     },
     "metadata": {
      "needs_background": "light"
     },
     "output_type": "display_data"
    }
   ],
   "source": [
    "plt.plot(all_no_learn,label='Full model')\n",
    "plt.plot(half_no_learn,label='Half model, ten')\n",
    "plt.title('Performance, reward-only')\n",
    "plt.xticks(range(6),np.arange(5000,30001,5000))\n",
    "plt.ylabel('Average reward per step')\n",
    "plt.xlabel('Number of datapoints used');\n",
    "plt.legend();\n",
    "\n",
    "plt.grid();"
   ]
  },
  {
   "cell_type": "code",
   "execution_count": 13,
   "metadata": {},
   "outputs": [
    {
     "data": {
      "image/png": "[encoded data removed]",
      "text/plain": [
       "<Figure size 864x144 with 12 Axes>"
      ]
     },
     "metadata": {
      "needs_background": "light"
     },
     "output_type": "display_data"
    }
   ],
   "source": [
    "fig,ax = plt.subplots(1,6)\n",
    "fig.set_size_inches((12,2))\n",
    "for i,samp in enumerate(samps_df):\n",
    "    img = ax[i].imshow(half_no_learn_pol[i],vmin=-2,vmax=2)\n",
    "    fig.colorbar(img,ax=ax[i])\n",
    "    ax[i].set_title(f'{samp} samples')\n",
    "    ax[i].axis('off')"
   ]
  },
  {
   "cell_type": "code",
   "execution_count": 14,
   "metadata": {},
   "outputs": [
    {
     "data": {
      "image/png": "[encoded data removed]",
      "text/plain": [
       "<Figure size 864x144 with 12 Axes>"
      ]
     },
     "metadata": {
      "needs_background": "light"
     },
     "output_type": "display_data"
    }
   ],
   "source": [
    "fig,ax = plt.subplots(1,6)\n",
    "fig.set_size_inches((12,2))\n",
    "for i,samp in enumerate(samps_df):\n",
    "    img = ax[i].imshow(np.sign(half_no_learn_pol[i]),vmin=0,vmax=1)\n",
    "    fig.colorbar(img,ax=ax[i])\n",
    "    ax[i].set_title(f'{samp} samples')\n",
    "    ax[i].axis('off')"
   ]
  },
  {
   "cell_type": "markdown",
   "metadata": {},
   "source": [
    "## b. With learning"
   ]
  },
  {
   "cell_type": "code",
   "execution_count": null,
   "metadata": {},
   "outputs": [],
   "source": []
  }
 ],
 "metadata": {
  "kernelspec": {
   "display_name": "rlkit",
   "language": "python",
   "name": "rlkit"
  },
  "language_info": {
   "codemirror_mode": {
    "name": "ipython",
    "version": 3
   },
   "file_extension": ".py",
   "mimetype": "text/x-python",
   "name": "python",
   "nbconvert_exporter": "python",
   "pygments_lexer": "ipython3",
   "version": "3.8.5"
  }
 },
 "nbformat": 4,
 "nbformat_minor": 4
}
